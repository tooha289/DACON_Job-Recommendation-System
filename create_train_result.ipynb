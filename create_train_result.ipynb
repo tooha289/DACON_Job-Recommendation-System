{
 "cells": [
  {
   "cell_type": "code",
   "execution_count": 2,
   "id": "639cc44e-f02b-4853-bed5-596756444d46",
   "metadata": {
    "tags": []
   },
   "outputs": [],
   "source": [
    "import os\n",
    "import numpy as np\n",
    "import pandas as pd\n",
    "\n",
    "from sklearn.model_selection import train_test_split"
   ]
  },
  {
   "cell_type": "code",
   "execution_count": 3,
   "id": "e208ff46-0db2-4f34-aa32-0ef3a46507ed",
   "metadata": {
    "tags": []
   },
   "outputs": [],
   "source": [
    "FILE_PATH = './data'\n",
    "SAVE_PATH = './data'"
   ]
  },
  {
   "cell_type": "markdown",
   "id": "0eb24d4f-5ccc-476f-90c7-64447af8397e",
   "metadata": {},
   "source": [
    "# [훈련 데이터 생성]"
   ]
  },
  {
   "cell_type": "markdown",
   "id": "db3c2e93-d7c6-437d-8d40-8a45cb4e9d93",
   "metadata": {},
   "source": [
    "## apply_train 파일 로드"
   ]
  },
  {
   "cell_type": "code",
   "execution_count": 4,
   "id": "9de9b36b-b635-4a9e-bfc7-7510a088e927",
   "metadata": {
    "tags": []
   },
   "outputs": [
    {
     "data": {
      "text/html": [
       "<div>\n",
       "<style scoped>\n",
       "    .dataframe tbody tr th:only-of-type {\n",
       "        vertical-align: middle;\n",
       "    }\n",
       "\n",
       "    .dataframe tbody tr th {\n",
       "        vertical-align: top;\n",
       "    }\n",
       "\n",
       "    .dataframe thead th {\n",
       "        text-align: right;\n",
       "    }\n",
       "</style>\n",
       "<table border=\"1\" class=\"dataframe\">\n",
       "  <thead>\n",
       "    <tr style=\"text-align: right;\">\n",
       "      <th></th>\n",
       "      <th>resume_seq</th>\n",
       "      <th>recruitment_seq</th>\n",
       "    </tr>\n",
       "  </thead>\n",
       "  <tbody>\n",
       "    <tr>\n",
       "      <th>0</th>\n",
       "      <td>U05833</td>\n",
       "      <td>R03838</td>\n",
       "    </tr>\n",
       "    <tr>\n",
       "      <th>1</th>\n",
       "      <td>U06456</td>\n",
       "      <td>R02144</td>\n",
       "    </tr>\n",
       "    <tr>\n",
       "      <th>2</th>\n",
       "      <td>U07807</td>\n",
       "      <td>R01877</td>\n",
       "    </tr>\n",
       "    <tr>\n",
       "      <th>3</th>\n",
       "      <td>U04842</td>\n",
       "      <td>R02463</td>\n",
       "    </tr>\n",
       "    <tr>\n",
       "      <th>4</th>\n",
       "      <td>U08336</td>\n",
       "      <td>R00112</td>\n",
       "    </tr>\n",
       "  </tbody>\n",
       "</table>\n",
       "</div>"
      ],
      "text/plain": [
       "  resume_seq recruitment_seq\n",
       "0     U05833          R03838\n",
       "1     U06456          R02144\n",
       "2     U07807          R01877\n",
       "3     U04842          R02463\n",
       "4     U08336          R00112"
      ]
     },
     "execution_count": 4,
     "metadata": {},
     "output_type": "execute_result"
    }
   ],
   "source": [
    "apply = pd.read_csv(f'{FILE_PATH}/apply_train.csv')\n",
    "apply.head()"
   ]
  },
  {
   "cell_type": "markdown",
   "id": "564b6722-25a2-4e0e-a749-ce84ef3979ce",
   "metadata": {},
   "source": [
    "## 딕셔너리 치환 (인코딩, 디코딩)"
   ]
  },
  {
   "cell_type": "markdown",
   "id": "8415f4ec-9aa2-4ab4-824b-9eb2cb268560",
   "metadata": {},
   "source": [
    "### Resume 딕셔너리 생성"
   ]
  },
  {
   "cell_type": "code",
   "execution_count": 5,
   "id": "33d5fd9e-e0a0-42e0-87bb-4c42a3350cc7",
   "metadata": {
    "tags": []
   },
   "outputs": [],
   "source": [
    "resume_2_idx = { res : i for i, res in enumerate(apply['resume_seq'].unique())}\n",
    "idx_2_resume = { i : res for res, i in resume_2_idx.items()}"
   ]
  },
  {
   "cell_type": "markdown",
   "id": "38d5f9aa-950f-4b1b-9b08-94639f6f0e52",
   "metadata": {},
   "source": [
    "### Recruitment 딕셔너리 생성"
   ]
  },
  {
   "cell_type": "code",
   "execution_count": 6,
   "id": "b254888a-dcbe-4622-929e-8dc4a165beac",
   "metadata": {
    "tags": []
   },
   "outputs": [],
   "source": [
    "recruitment_2_idx = { rec : i for i, rec in enumerate(apply['recruitment_seq'].unique())}\n",
    "idx_2_recruitment = { i : rec for rec, i in recruitment_2_idx.items()}"
   ]
  },
  {
   "cell_type": "markdown",
   "id": "a206c7e3-9d37-48ca-be31-c24d97cb4d59",
   "metadata": {},
   "source": [
    "## idx 인코딩 작업"
   ]
  },
  {
   "cell_type": "code",
   "execution_count": 7,
   "id": "0d16d2b2-0b3a-46cf-a16d-a789ddffbe57",
   "metadata": {
    "tags": []
   },
   "outputs": [],
   "source": [
    "apply['resume_idx'] = apply['resume_seq'].apply(lambda x : resume_2_idx[x])\n",
    "apply['recruitment_idx'] = apply['recruitment_seq'].apply(lambda x : recruitment_2_idx[x])"
   ]
  },
  {
   "cell_type": "code",
   "execution_count": 8,
   "id": "ddcac6a4-889e-4696-b217-b803134e53b8",
   "metadata": {
    "tags": []
   },
   "outputs": [
    {
     "data": {
      "text/html": [
       "<div>\n",
       "<style scoped>\n",
       "    .dataframe tbody tr th:only-of-type {\n",
       "        vertical-align: middle;\n",
       "    }\n",
       "\n",
       "    .dataframe tbody tr th {\n",
       "        vertical-align: top;\n",
       "    }\n",
       "\n",
       "    .dataframe thead th {\n",
       "        text-align: right;\n",
       "    }\n",
       "</style>\n",
       "<table border=\"1\" class=\"dataframe\">\n",
       "  <thead>\n",
       "    <tr style=\"text-align: right;\">\n",
       "      <th></th>\n",
       "      <th>resume_seq</th>\n",
       "      <th>recruitment_seq</th>\n",
       "      <th>resume_idx</th>\n",
       "      <th>recruitment_idx</th>\n",
       "    </tr>\n",
       "  </thead>\n",
       "  <tbody>\n",
       "    <tr>\n",
       "      <th>0</th>\n",
       "      <td>U05833</td>\n",
       "      <td>R03838</td>\n",
       "      <td>0</td>\n",
       "      <td>0</td>\n",
       "    </tr>\n",
       "    <tr>\n",
       "      <th>1</th>\n",
       "      <td>U06456</td>\n",
       "      <td>R02144</td>\n",
       "      <td>1</td>\n",
       "      <td>1</td>\n",
       "    </tr>\n",
       "    <tr>\n",
       "      <th>2</th>\n",
       "      <td>U07807</td>\n",
       "      <td>R01877</td>\n",
       "      <td>2</td>\n",
       "      <td>2</td>\n",
       "    </tr>\n",
       "    <tr>\n",
       "      <th>3</th>\n",
       "      <td>U04842</td>\n",
       "      <td>R02463</td>\n",
       "      <td>3</td>\n",
       "      <td>3</td>\n",
       "    </tr>\n",
       "    <tr>\n",
       "      <th>4</th>\n",
       "      <td>U08336</td>\n",
       "      <td>R00112</td>\n",
       "      <td>4</td>\n",
       "      <td>4</td>\n",
       "    </tr>\n",
       "  </tbody>\n",
       "</table>\n",
       "</div>"
      ],
      "text/plain": [
       "  resume_seq recruitment_seq  resume_idx  recruitment_idx\n",
       "0     U05833          R03838           0                0\n",
       "1     U06456          R02144           1                1\n",
       "2     U07807          R01877           2                2\n",
       "3     U04842          R02463           3                3\n",
       "4     U08336          R00112           4                4"
      ]
     },
     "execution_count": 8,
     "metadata": {},
     "output_type": "execute_result"
    }
   ],
   "source": [
    "apply.head()"
   ]
  },
  {
   "cell_type": "markdown",
   "id": "9dab4f5c-80f7-410b-b540-2fbf1fe8c14c",
   "metadata": {},
   "source": [
    "## train, test split"
   ]
  },
  {
   "cell_type": "markdown",
   "id": "407b27e6-b609-4e56-a396-5431c9d3952a",
   "metadata": {},
   "source": [
    "### 각 RESUME 별 TEST 1개"
   ]
  },
  {
   "cell_type": "code",
   "execution_count": 9,
   "id": "20225c69-ed2e-49fe-8fc4-76c3d0be1bbb",
   "metadata": {},
   "outputs": [],
   "source": [
    "# train, test = [], []\n",
    "# apply_train_groupby = apply.groupby('resume_idx')['recruitment_idx'].apply(list)\n",
    "# for uid, iids in zip(apply_train_groupby.index.tolist(), apply_train_groupby.values.tolist()):\n",
    "#     for iid in iids[:-1]:\n",
    "#         train.append([uid,iid])\n",
    "#     test.append([uid, iids[-1]])"
   ]
  },
  {
   "cell_type": "code",
   "execution_count": 10,
   "id": "48c4fccf-9994-489a-a29f-4e8a03a557af",
   "metadata": {},
   "outputs": [],
   "source": [
    "# train = pd.DataFrame(train, columns=['resume_idx', 'recruitment_idx'])\n",
    "# test = pd.DataFrame(test, columns=['resume_idx', 'recruitment_idx'])"
   ]
  },
  {
   "cell_type": "markdown",
   "id": "a1b8c24f-ba66-4461-a66c-2281dde2e1b8",
   "metadata": {},
   "source": [
    "### train_test_split(0.35)"
   ]
  },
  {
   "cell_type": "code",
   "execution_count": 11,
   "id": "91549c35-aa50-48bb-b6c0-a04935f05712",
   "metadata": {},
   "outputs": [],
   "source": [
    "train, test = train_test_split(apply, test_size=0.35, stratify=apply['resume_idx'], random_state=42)"
   ]
  },
  {
   "cell_type": "markdown",
   "id": "b6ed0dd8-d598-46a1-8c67-ff0e2815ca68",
   "metadata": {},
   "source": [
    "## 훈련 데이터 생성"
   ]
  },
  {
   "cell_type": "code",
   "execution_count": 12,
   "id": "8493e6a1-14ac-4877-be02-1d8690ecf84c",
   "metadata": {
    "tags": []
   },
   "outputs": [
    {
     "data": {
      "text/html": [
       "<div>\n",
       "<style scoped>\n",
       "    .dataframe tbody tr th:only-of-type {\n",
       "        vertical-align: middle;\n",
       "    }\n",
       "\n",
       "    .dataframe tbody tr th {\n",
       "        vertical-align: top;\n",
       "    }\n",
       "\n",
       "    .dataframe thead th {\n",
       "        text-align: right;\n",
       "    }\n",
       "</style>\n",
       "<table border=\"1\" class=\"dataframe\">\n",
       "  <thead>\n",
       "    <tr style=\"text-align: right;\">\n",
       "      <th></th>\n",
       "      <th>resume_idx</th>\n",
       "      <th>recruitment_idx</th>\n",
       "    </tr>\n",
       "  </thead>\n",
       "  <tbody>\n",
       "    <tr>\n",
       "      <th>0</th>\n",
       "      <td>0</td>\n",
       "      <td>0 996 6499</td>\n",
       "    </tr>\n",
       "    <tr>\n",
       "      <th>1</th>\n",
       "      <td>1</td>\n",
       "      <td>5352 3262 2645 2174 1 4663 1804 1927 1871</td>\n",
       "    </tr>\n",
       "    <tr>\n",
       "      <th>2</th>\n",
       "      <td>2</td>\n",
       "      <td>6527 3926 2 4100 3986</td>\n",
       "    </tr>\n",
       "    <tr>\n",
       "      <th>3</th>\n",
       "      <td>3</td>\n",
       "      <td>5787 3 3852 4715</td>\n",
       "    </tr>\n",
       "    <tr>\n",
       "      <th>4</th>\n",
       "      <td>4</td>\n",
       "      <td>4 3596</td>\n",
       "    </tr>\n",
       "  </tbody>\n",
       "</table>\n",
       "</div>"
      ],
      "text/plain": [
       "   resume_idx                            recruitment_idx\n",
       "0           0                                 0 996 6499\n",
       "1           1  5352 3262 2645 2174 1 4663 1804 1927 1871\n",
       "2           2                      6527 3926 2 4100 3986\n",
       "3           3                           5787 3 3852 4715\n",
       "4           4                                     4 3596"
      ]
     },
     "execution_count": 12,
     "metadata": {},
     "output_type": "execute_result"
    }
   ],
   "source": [
    "train = train.groupby('resume_idx')['recruitment_idx'].agg(list).reset_index()\n",
    "train = train['recruitment_idx'].apply(lambda x: ' '.join(map(str,x))).to_frame().reset_index()\n",
    "train = train.rename(columns={'index': 'resume_idx'})\n",
    "train.head()"
   ]
  },
  {
   "cell_type": "code",
   "execution_count": 13,
   "id": "410ee0c1-2318-4988-ab85-4f16d7986647",
   "metadata": {},
   "outputs": [
    {
     "data": {
      "text/html": [
       "<div>\n",
       "<style scoped>\n",
       "    .dataframe tbody tr th:only-of-type {\n",
       "        vertical-align: middle;\n",
       "    }\n",
       "\n",
       "    .dataframe tbody tr th {\n",
       "        vertical-align: top;\n",
       "    }\n",
       "\n",
       "    .dataframe thead th {\n",
       "        text-align: right;\n",
       "    }\n",
       "</style>\n",
       "<table border=\"1\" class=\"dataframe\">\n",
       "  <thead>\n",
       "    <tr style=\"text-align: right;\">\n",
       "      <th></th>\n",
       "      <th>resume_idx</th>\n",
       "      <th>recruitment_idx</th>\n",
       "    </tr>\n",
       "  </thead>\n",
       "  <tbody>\n",
       "    <tr>\n",
       "      <th>0</th>\n",
       "      <td>0</td>\n",
       "      <td>5621</td>\n",
       "    </tr>\n",
       "    <tr>\n",
       "      <th>1</th>\n",
       "      <td>1</td>\n",
       "      <td>5607 5413 1064 1507</td>\n",
       "    </tr>\n",
       "    <tr>\n",
       "      <th>2</th>\n",
       "      <td>2</td>\n",
       "      <td>1019 4016</td>\n",
       "    </tr>\n",
       "    <tr>\n",
       "      <th>3</th>\n",
       "      <td>3</td>\n",
       "      <td>2022 1029</td>\n",
       "    </tr>\n",
       "    <tr>\n",
       "      <th>4</th>\n",
       "      <td>4</td>\n",
       "      <td>3575</td>\n",
       "    </tr>\n",
       "  </tbody>\n",
       "</table>\n",
       "</div>"
      ],
      "text/plain": [
       "   resume_idx      recruitment_idx\n",
       "0           0                 5621\n",
       "1           1  5607 5413 1064 1507\n",
       "2           2            1019 4016\n",
       "3           3            2022 1029\n",
       "4           4                 3575"
      ]
     },
     "execution_count": 13,
     "metadata": {},
     "output_type": "execute_result"
    }
   ],
   "source": [
    "test = test.groupby('resume_idx')['recruitment_idx'].agg(list).reset_index()\n",
    "test = test['recruitment_idx'].apply(lambda x: ' '.join(map(str,x))).to_frame().reset_index()\n",
    "test = test.rename(columns={'index': 'resume_idx'})\n",
    "test.head()"
   ]
  },
  {
   "cell_type": "markdown",
   "id": "9cb25452-825f-4198-8571-3f2ad49415c7",
   "metadata": {},
   "source": [
    "## 모델 별 훈련데이터 저장"
   ]
  },
  {
   "cell_type": "code",
   "execution_count": 14,
   "id": "b0db2446-4755-4d8f-873c-932c80a191ca",
   "metadata": {
    "tags": []
   },
   "outputs": [
    {
     "name": "stdout",
     "output_type": "stream",
     "text": [
      "폴더가 생성되었습니다: ./BSPM/data/JOB_2_42/\n",
      "폴더가 생성되었습니다: ./LT-OCF/data/JOB_2_42/\n",
      "폴더가 생성되었습니다: ./CF/data/JOB_2_42/\n"
     ]
    }
   ],
   "source": [
    "FOLDER_NAME = \"JOB_2_42\"\n",
    "BSPM_SAVE_PATH = f\"./BSPM/data/{FOLDER_NAME}/\"\n",
    "LTOCF_SAVE_PATH = f\"./LT-OCF/data/{FOLDER_NAME}/\"\n",
    "CF_SAVE_PATH = f\"./CF/data/{FOLDER_NAME}/\"\n",
    "\n",
    "# 폴더가 존재하지 않으면 생성\n",
    "for path in [BSPM_SAVE_PATH, LTOCF_SAVE_PATH, CF_SAVE_PATH]:\n",
    "    if not os.path.exists(path):\n",
    "        os.makedirs(path)\n",
    "        print(f\"폴더가 생성되었습니다: {path}\")\n",
    "    else:\n",
    "        print(f\"폴더가 이미 존재합니다: {path}\")\n",
    "\n",
    "np.savetxt(f'{BSPM_SAVE_PATH}train.txt', train.values, fmt='%s')\n",
    "np.savetxt(f'{BSPM_SAVE_PATH}test.txt', test.values, fmt='%s')\n",
    "\n",
    "np.savetxt(f'{LTOCF_SAVE_PATH}train.txt', train.values, fmt='%s')\n",
    "np.savetxt(f'{LTOCF_SAVE_PATH}test.txt', test.values, fmt='%s')\n",
    "\n",
    "np.savetxt(f'{CF_SAVE_PATH}train.txt', train.values, fmt='%s')\n",
    "np.savetxt(f'{CF_SAVE_PATH}test.txt', test.values, fmt='%s')"
   ]
  },
  {
   "cell_type": "markdown",
   "id": "e027bb1d-a120-4e30-b0d9-ae9535172014",
   "metadata": {
    "tags": []
   },
   "source": [
    "# [모델별 학습]"
   ]
  },
  {
   "cell_type": "markdown",
   "id": "759df581-cd27-4a0c-9b79-ed46761b3fbd",
   "metadata": {},
   "source": [
    "* 각 모델 실행 시 마다 커널을 재시작 해줍니다."
   ]
  },
  {
   "cell_type": "markdown",
   "id": "30f6be97-b678-4f3c-9a72-375bde0998d5",
   "metadata": {
    "tags": []
   },
   "source": [
    "## BSPM"
   ]
  },
  {
   "cell_type": "code",
   "execution_count": null,
   "id": "0e5584e0-2ff3-4bdd-9f8b-d476387b3ae1",
   "metadata": {
    "tags": []
   },
   "outputs": [],
   "source": [
    "os._exit(00)"
   ]
  },
  {
   "cell_type": "code",
   "execution_count": 1,
   "id": "6fe46d87-9049-4577-ad62-201645340c0d",
   "metadata": {
    "tags": []
   },
   "outputs": [],
   "source": [
    "import os\n",
    "ROOT_PATH = os.getcwd()\n",
    "RELATIVE_BSPM_PATH = \"./BSPM/bspm\""
   ]
  },
  {
   "cell_type": "code",
   "execution_count": 2,
   "id": "b07ec52c-3ee3-4469-8a70-2769b3817887",
   "metadata": {
    "tags": []
   },
   "outputs": [
    {
     "name": "stdout",
     "output_type": "stream",
     "text": [
      "현재 작업 경로: C:\\Users\\medici\\DACON_Job-Recommendation-System-1\n",
      "변경된 작업 경로: C:\\Users\\medici\\DACON_Job-Recommendation-System-1\\BSPM\\bspm\n"
     ]
    }
   ],
   "source": [
    "# Root 작업 경로로 변경\n",
    "os.chdir(ROOT_PATH)\n",
    "\n",
    "# 현재 작업 경로 출력\n",
    "print(\"현재 작업 경로:\", os.getcwd())\n",
    "\n",
    "# 상대 경로를 절대 경로로 변환\n",
    "absolute_path = os.path.abspath(RELATIVE_BSPM_PATH)\n",
    "\n",
    "# 작업 경로 변경\n",
    "os.chdir(absolute_path)\n",
    "\n",
    "# 변경된 작업 경로 출력\n",
    "print(\"변경된 작업 경로:\", os.getcwd())"
   ]
  },
  {
   "cell_type": "markdown",
   "id": "fba5e209-2fe7-49da-bab1-68c147dd8110",
   "metadata": {
    "tags": []
   },
   "source": [
    "* seed(default: 2020)"
   ]
  },
  {
   "cell_type": "code",
   "execution_count": 3,
   "id": "2cee3251-76f5-40a1-9dbe-631138f1c0a4",
   "metadata": {
    "tags": []
   },
   "outputs": [
    {
     "name": "stdout",
     "output_type": "stream",
     "text": [
      "\n",
      "██████╗ ███████╗██████╗ ███╗   ███╗\n",
      "██╔══██╗██╔════╝██╔══██╗████╗ ████║\n",
      "██████╔╝███████╗██████╔╝██╔████╔██║\n",
      "██╔══██╗╚════██║██╔═══╝ ██║╚██╔╝██║\n",
      "██████╔╝███████║██║     ██║ ╚═╝ ██║\n",
      "╚═════╝ ╚══════╝╚═╝     ╚═╝     ╚═╝\n",
      "\n",
      "\u001b[0;30;43mCpp extension not loaded\u001b[0m\n",
      ">>SEED: 2020\n",
      "\u001b[0;30;43mloading [../data/JOB_1]\u001b[0m\n",
      "# of user: 8482\n",
      "# of item: 6695\n",
      "49464 interactions for training\n",
      "8482 interactions for testing\n",
      "JOB_1 Sparsity : 0.0010204097804796487\n",
      "JOB_1 is ready to go\n",
      "===========config================\n",
      "{'A_n_fold': 100,\n",
      " 'A_split': False,\n",
      " 'K_b': 1,\n",
      " 'K_idl': 1,\n",
      " 'K_s': 1,\n",
      " 'T_b': 1,\n",
      " 'T_idl': 1,\n",
      " 'T_s': 3.5,\n",
      " 'bigdata': False,\n",
      " 'bpr_batch_size': 2048,\n",
      " 'dataset': 'JOB_1',\n",
      " 'decay': 0.0001,\n",
      " 'device': device(type='cuda', index=0),\n",
      " 'dropout': 0,\n",
      " 'factor_dim': 960,\n",
      " 'final_sharpening': True,\n",
      " 'idl_beta': 0.3,\n",
      " 'keep_prob': 0.6,\n",
      " 'latent_dim_rec': 64,\n",
      " 'lightGCN_n_layers': 3,\n",
      " 'lr': 0.001,\n",
      " 'multicore': 0,\n",
      " 'pretrain': 0,\n",
      " 'sharpening_off': False,\n",
      " 'solver_blr': 'euler',\n",
      " 'solver_idl': 'euler',\n",
      " 'solver_shr': 'rk4',\n",
      " 't_point_combination': False,\n",
      " 'test_u_batch_size': 100}\n",
      "cores for test: 6\n",
      "comment: lgn\n",
      "tensorboard: 1\n",
      "LOAD: 0\n",
      "Weight path: ./checkpoints\n",
      "Test Topks: [20]\n",
      "using bpr loss\n",
      "===========end===================\n",
      "\u001b[0;30;43muse NORMAL distribution initilizer\u001b[0m\n",
      "loading adjacency matrix\n",
      "successfully loaded...\n",
      "don't split the matrix\n",
      "lgn is already to go(dropout:0)\n",
      "load and save to C:\\Users\\medici\\DACON_Job-Recommendation-System-1\\BSPM\\code\\checkpoints\\lgn-JOB_1-3-64.pth.tar\n",
      "\u001b[0;30;43m[TEST]\u001b[0m\n",
      "IDL: euler, BLR: euler, SHR: rk4\n",
      "IDL factor_dim:  960\n",
      "IDL $\\beta$:  0.3\n",
      "idl time:  tensor([0., 1.])\n",
      "blur time:  tensor([0., 1.])\n",
      "sharpen time:  tensor([0.0000, 3.5000])\n",
      "final_sharpening:  True\n",
      "sharpening off:  False\n",
      "t_point_combination:  False\n",
      "training time for BSPM 330.8328242301941\n",
      "{'precision': array([0.01330465]), 'recall': array([0.2660929]), 'ndcg': array([0.11358733])}\n"
     ]
    }
   ],
   "source": [
    "%run main.py --dataset=\"JOB_1\" --topks=\"[20]\" --simple_model=\"bspm\" --solver_shr=\"rk4\" \\\n",
    "--K_s=1 --T_s=3.5 --final_sharpening=True --idl_beta=0.3 --factor_dim=960"
   ]
  },
  {
   "cell_type": "markdown",
   "id": "23f5023a-17e7-4074-a6e8-b4159cf45a08",
   "metadata": {
    "tags": []
   },
   "source": [
    "## LT-OCF"
   ]
  },
  {
   "cell_type": "code",
   "execution_count": null,
   "id": "4778440c-87c3-4684-9aa8-e712b57e5c75",
   "metadata": {
    "tags": []
   },
   "outputs": [],
   "source": [
    "os._exit(00)"
   ]
  },
  {
   "cell_type": "code",
   "execution_count": 15,
   "id": "0d7b36b9-ab27-44c6-b86f-b36954b6c1c6",
   "metadata": {
    "tags": []
   },
   "outputs": [],
   "source": [
    "import os\n",
    "ROOT_PATH = os.getcwd()\n",
    "RELATIVE_LTOCF_PATH = \"./LT-OCF/code\""
   ]
  },
  {
   "cell_type": "code",
   "execution_count": 16,
   "id": "0fa55aa0-a3a1-4e59-83f4-8b731e36c9e0",
   "metadata": {
    "tags": []
   },
   "outputs": [
    {
     "name": "stdout",
     "output_type": "stream",
     "text": [
      "현재 작업 경로: C:\\Users\\medici\\DACON_Job-Recommendation-System-1\n",
      "변경된 작업 경로: C:\\Users\\medici\\DACON_Job-Recommendation-System-1\\LT-OCF\\code\n"
     ]
    }
   ],
   "source": [
    "# Root 작업 경로로 변경\n",
    "os.chdir(ROOT_PATH)\n",
    "\n",
    "# 현재 작업 경로 출력\n",
    "print(\"현재 작업 경로:\", os.getcwd())\n",
    "\n",
    "# 상대 경로를 절대 경로로 변환\n",
    "absolute_path = os.path.abspath(RELATIVE_LTOCF_PATH)\n",
    "\n",
    "# 작업 경로 변경\n",
    "os.chdir(absolute_path)\n",
    "\n",
    "# 변경된 작업 경로 출력\n",
    "print(\"변경된 작업 경로:\", os.getcwd())"
   ]
  },
  {
   "cell_type": "markdown",
   "id": "406a65f3-e5d3-4faf-85fa-505a889845fc",
   "metadata": {
    "tags": []
   },
   "source": [
    "* seed(default: 2020)"
   ]
  },
  {
   "cell_type": "code",
   "execution_count": 18,
   "id": "80511aad-d078-46cf-a62d-3fbd561aee22",
   "metadata": {
    "tags": []
   },
   "outputs": [
    {
     "name": "stdout",
     "output_type": "stream",
     "text": [
      ">>SEED: 2020\n",
      "\u001b[0;30;43muse NORMAL distribution initilizer\u001b[0m\n",
      "loading adjacency matrix\n",
      "lgn is already to go(dropout:0)\n",
      "load and save to C:\\Users\\medici\\DACON_Job-Recommendation-System-1\\LT-OCF\\code\\pretrain\\ltocf\n",
      "Train time: 1.6641s\n",
      "EPOCH[1/120] loss0.40770-|Sample:0.00|\n",
      "Train time: 1.4482s\n",
      "EPOCH[2/120] loss0.25317-|Sample:0.02|\n",
      "Train time: 1.5050s\n",
      "EPOCH[3/120] loss0.13217-|Sample:0.01|\n",
      "Train time: 1.4977s\n",
      "EPOCH[4/120] loss0.08131-|Sample:0.00|\n",
      "Train time: 1.4625s\n",
      "EPOCH[5/120] loss0.06010-|Sample:0.00|\n",
      "Train time: 1.4632s\n",
      "EPOCH[6/120] loss0.04780-|Sample:0.01|\n",
      "Train time: 1.4632s\n",
      "EPOCH[7/120] loss0.03976-|Sample:0.01|\n",
      "Train time: 1.4470s\n",
      "EPOCH[8/120] loss0.03664-|Sample:0.00|\n",
      "Train time: 1.4559s\n",
      "EPOCH[9/120] loss0.03161-|Sample:0.02|\n",
      "Train time: 1.4778s\n",
      "EPOCH[10/120] loss0.02889-|Sample:0.00|\n",
      "Train time: 1.4681s\n",
      "EPOCH[11/120] loss0.02692-|Sample:0.02|\n",
      "Train time: 1.4457s\n",
      "EPOCH[12/120] loss0.02411-|Sample:0.00|\n",
      "Train time: 1.4623s\n",
      "EPOCH[13/120] loss0.02433-|Sample:0.00|\n",
      "Train time: 1.4774s\n",
      "EPOCH[14/120] loss0.02188-|Sample:0.00|\n",
      "Train time: 1.4587s\n",
      "EPOCH[15/120] loss0.02133-|Sample:0.02|\n",
      "Train time: 1.4853s\n",
      "EPOCH[16/120] loss0.02026-|Sample:0.01|\n",
      "Train time: 1.4717s\n",
      "EPOCH[17/120] loss0.01698-|Sample:0.02|\n",
      "Train time: 1.4685s\n",
      "EPOCH[18/120] loss0.01655-|Sample:0.00|\n",
      "Train time: 1.4750s\n",
      "EPOCH[19/120] loss0.01554-|Sample:0.00|\n",
      "Train time: 1.4742s\n",
      "EPOCH[20/120] loss0.01599-|Sample:0.00|\n",
      "Train time: 1.4881s\n",
      "EPOCH[21/120] loss0.01458-|Sample:0.00|\n",
      "Train time: 1.4773s\n",
      "EPOCH[22/120] loss0.01368-|Sample:0.00|\n",
      "Train time: 1.4787s\n",
      "EPOCH[23/120] loss0.01380-|Sample:0.00|\n",
      "Train time: 1.4787s\n",
      "EPOCH[24/120] loss0.01260-|Sample:0.00|\n",
      "Train time: 1.4774s\n",
      "EPOCH[25/120] loss0.01281-|Sample:0.00|\n",
      "Train time: 1.4834s\n",
      "EPOCH[26/120] loss0.01288-|Sample:0.00|\n",
      "Train time: 1.4783s\n",
      "EPOCH[27/120] loss0.01249-|Sample:0.02|\n",
      "Train time: 1.4746s\n",
      "EPOCH[28/120] loss0.01053-|Sample:0.02|\n",
      "Train time: 1.4812s\n",
      "EPOCH[29/120] loss0.01216-|Sample:0.00|\n",
      "Train time: 1.4874s\n",
      "EPOCH[30/120] loss0.01031-|Sample:0.00|\n",
      "Train time: 1.4865s\n",
      "EPOCH[31/120] loss0.01024-|Sample:0.00|\n",
      "Train time: 1.4787s\n",
      "EPOCH[32/120] loss0.00931-|Sample:0.01|\n",
      "Train time: 1.4803s\n",
      "EPOCH[33/120] loss0.00948-|Sample:0.00|\n",
      "Train time: 1.4822s\n",
      "EPOCH[34/120] loss0.00906-|Sample:0.02|\n",
      "Train time: 1.4884s\n",
      "EPOCH[35/120] loss0.00850-|Sample:0.00|\n",
      "Train time: 1.4883s\n",
      "EPOCH[36/120] loss0.00852-|Sample:0.00|\n",
      "Train time: 1.4751s\n",
      "EPOCH[37/120] loss0.00764-|Sample:0.02|\n",
      "Train time: 1.4791s\n",
      "EPOCH[38/120] loss0.00802-|Sample:0.00|\n",
      "Train time: 1.4810s\n",
      "EPOCH[39/120] loss0.00785-|Sample:0.00|\n",
      "Train time: 1.4798s\n",
      "EPOCH[40/120] loss0.00761-|Sample:0.00|\n",
      "Train time: 1.4869s\n",
      "EPOCH[41/120] loss0.00745-|Sample:0.00|\n",
      "Train time: 1.4872s\n",
      "EPOCH[42/120] loss0.00695-|Sample:0.00|\n",
      "Train time: 1.4824s\n",
      "EPOCH[43/120] loss0.00806-|Sample:0.02|\n",
      "Train time: 1.4859s\n",
      "EPOCH[44/120] loss0.00727-|Sample:0.00|\n",
      "Train time: 1.4866s\n",
      "EPOCH[45/120] loss0.00735-|Sample:0.00|\n",
      "Train time: 1.4847s\n",
      "EPOCH[46/120] loss0.00717-|Sample:0.00|\n",
      "Train time: 1.4896s\n",
      "EPOCH[47/120] loss0.00750-|Sample:0.00|\n",
      "Train time: 1.4881s\n",
      "EPOCH[48/120] loss0.00610-|Sample:0.00|\n",
      "Train time: 1.4855s\n",
      "EPOCH[49/120] loss0.00620-|Sample:0.00|\n",
      "Train time: 1.4882s\n",
      "EPOCH[50/120] loss0.00675-|Sample:0.02|\n",
      "Train time: 1.4877s\n",
      "EPOCH[51/120] loss0.00649-|Sample:0.00|\n",
      "Train time: 1.4782s\n",
      "EPOCH[52/120] loss0.00615-|Sample:0.00|\n",
      "Train time: 1.5264s\n",
      "EPOCH[53/120] loss0.00678-|Sample:0.00|\n",
      "Train time: 1.4889s\n",
      "EPOCH[54/120] loss0.00556-|Sample:0.00|\n",
      "Train time: 1.4871s\n",
      "EPOCH[55/120] loss0.00558-|Sample:0.00|\n",
      "Train time: 1.5028s\n",
      "EPOCH[56/120] loss0.00560-|Sample:0.00|\n",
      "Train time: 1.4889s\n",
      "EPOCH[57/120] loss0.00568-|Sample:0.00|\n",
      "Train time: 1.4840s\n",
      "EPOCH[58/120] loss0.00557-|Sample:0.00|\n",
      "Train time: 1.4872s\n",
      "EPOCH[59/120] loss0.00570-|Sample:0.00|\n",
      "Train time: 1.5098s\n",
      "EPOCH[60/120] loss0.00563-|Sample:0.00|\n",
      "Train time: 1.4807s\n",
      "EPOCH[61/120] loss0.00533-|Sample:0.00|\n",
      "Train time: 1.5087s\n",
      "EPOCH[62/120] loss0.00520-|Sample:0.00|\n",
      "Train time: 1.4869s\n",
      "EPOCH[63/120] loss0.00535-|Sample:0.01|\n",
      "Train time: 1.4872s\n",
      "EPOCH[64/120] loss0.00549-|Sample:0.01|\n",
      "Train time: 1.5004s\n",
      "EPOCH[65/120] loss0.00528-|Sample:0.02|\n",
      "Train time: 1.5031s\n",
      "EPOCH[66/120] loss0.00481-|Sample:0.01|\n",
      "Train time: 1.5003s\n",
      "EPOCH[67/120] loss0.00452-|Sample:0.00|\n",
      "Train time: 1.4917s\n",
      "EPOCH[68/120] loss0.00498-|Sample:0.02|\n",
      "Train time: 1.5022s\n",
      "EPOCH[69/120] loss0.00466-|Sample:0.00|\n",
      "Train time: 1.5029s\n",
      "EPOCH[70/120] loss0.00455-|Sample:0.02|\n",
      "Train time: 1.4818s\n",
      "EPOCH[71/120] loss0.00416-|Sample:0.00|\n",
      "Train time: 1.5189s\n",
      "EPOCH[72/120] loss0.00460-|Sample:0.00|\n",
      "Train time: 1.5485s\n",
      "EPOCH[73/120] loss0.00483-|Sample:0.01|\n",
      "Train time: 1.5088s\n",
      "EPOCH[74/120] loss0.00452-|Sample:0.02|\n",
      "Train time: 1.5124s\n",
      "EPOCH[75/120] loss0.00466-|Sample:0.00|\n",
      "Train time: 1.5072s\n",
      "EPOCH[76/120] loss0.00420-|Sample:0.01|\n",
      "Train time: 1.4946s\n",
      "EPOCH[77/120] loss0.00406-|Sample:0.00|\n",
      "Train time: 1.4825s\n",
      "EPOCH[78/120] loss0.00428-|Sample:0.01|\n",
      "Train time: 1.5201s\n",
      "EPOCH[79/120] loss0.00388-|Sample:0.00|\n",
      "Train time: 1.5035s\n",
      "EPOCH[80/120] loss0.00456-|Sample:0.01|\n",
      "Train time: 1.4844s\n",
      "EPOCH[81/120] loss0.00468-|Sample:0.01|\n",
      "Train time: 1.4938s\n",
      "EPOCH[82/120] loss0.00382-|Sample:0.01|\n",
      "Train time: 1.4868s\n",
      "EPOCH[83/120] loss0.00442-|Sample:0.00|\n",
      "Train time: 1.4845s\n",
      "EPOCH[84/120] loss0.00408-|Sample:0.00|\n",
      "Train time: 1.4697s\n",
      "EPOCH[85/120] loss0.00358-|Sample:0.00|\n",
      "Train time: 1.5044s\n",
      "EPOCH[86/120] loss0.00453-|Sample:0.00|\n",
      "Train time: 1.5067s\n",
      "EPOCH[87/120] loss0.00401-|Sample:0.01|\n",
      "Train time: 1.5258s\n",
      "EPOCH[88/120] loss0.00378-|Sample:0.00|\n",
      "Train time: 1.4938s\n",
      "EPOCH[89/120] loss0.00331-|Sample:0.01|\n",
      "Train time: 1.4862s\n",
      "EPOCH[90/120] loss0.00429-|Sample:0.00|\n",
      "Train time: 1.4899s\n",
      "EPOCH[91/120] loss0.00382-|Sample:0.00|\n",
      "Train time: 1.4795s\n",
      "EPOCH[92/120] loss0.00380-|Sample:0.01|\n",
      "Train time: 1.4938s\n",
      "EPOCH[93/120] loss0.00371-|Sample:0.01|\n",
      "Train time: 1.4832s\n",
      "EPOCH[94/120] loss0.00348-|Sample:0.00|\n",
      "Train time: 1.4988s\n",
      "EPOCH[95/120] loss0.00382-|Sample:0.01|\n",
      "Train time: 1.4957s\n",
      "EPOCH[96/120] loss0.00354-|Sample:0.00|\n",
      "Train time: 1.4936s\n",
      "EPOCH[97/120] loss0.00360-|Sample:0.01|\n",
      "Train time: 1.4658s\n",
      "EPOCH[98/120] loss0.00319-|Sample:0.00|\n",
      "Train time: 1.4763s\n",
      "EPOCH[99/120] loss0.00353-|Sample:0.01|\n",
      "Train time: 1.5065s\n",
      "EPOCH[100/120] loss0.00322-|Sample:0.02|\n",
      "Train time: 1.5326s\n",
      "EPOCH[101/120] loss0.00357-|Sample:0.01|\n",
      "Train time: 1.5146s\n",
      "EPOCH[102/120] loss0.00362-|Sample:0.01|\n",
      "Train time: 1.4995s\n",
      "EPOCH[103/120] loss0.00332-|Sample:0.01|\n",
      "Train time: 1.5227s\n",
      "EPOCH[104/120] loss0.00309-|Sample:0.01|\n",
      "Train time: 1.4962s\n",
      "EPOCH[105/120] loss0.00314-|Sample:0.00|\n",
      "Train time: 1.4934s\n",
      "EPOCH[106/120] loss0.00351-|Sample:0.00|\n",
      "Train time: 1.4946s\n",
      "EPOCH[107/120] loss0.00301-|Sample:0.00|\n",
      "Train time: 1.4927s\n",
      "EPOCH[108/120] loss0.00290-|Sample:0.00|\n",
      "Train time: 1.4878s\n",
      "EPOCH[109/120] loss0.00311-|Sample:0.00|\n",
      "Train time: 1.4937s\n",
      "EPOCH[110/120] loss0.00319-|Sample:0.00|\n",
      "Train time: 1.4895s\n",
      "EPOCH[111/120] loss0.00318-|Sample:0.00|\n",
      "Train time: 1.4821s\n",
      "EPOCH[112/120] loss0.00333-|Sample:0.00|\n",
      "Train time: 1.4808s\n",
      "EPOCH[113/120] loss0.00312-|Sample:0.02|\n",
      "Train time: 1.4865s\n",
      "EPOCH[114/120] loss0.00333-|Sample:0.01|\n",
      "Train time: 1.4819s\n",
      "EPOCH[115/120] loss0.00316-|Sample:0.01|\n",
      "Train time: 1.4674s\n",
      "EPOCH[116/120] loss0.00287-|Sample:0.00|\n",
      "Train time: 1.5149s\n",
      "EPOCH[117/120] loss0.00338-|Sample:0.00|\n",
      "Train time: 1.4815s\n",
      "EPOCH[118/120] loss0.00320-|Sample:0.01|\n",
      "Train time: 1.4906s\n",
      "EPOCH[119/120] loss0.00344-|Sample:0.00|\n",
      "Train time: 1.4941s\n",
      "EPOCH[120/120] loss0.00297-|Sample:0.00|\n",
      "Train time: 1.4871s\n",
      "EPOCH[121/120] loss0.00266-|Sample:0.00|\n"
     ]
    }
   ],
   "source": [
    "%run main.py --dataset=\"JOB_1\" --model=\"ltocf\" --solver=\"rk4\" --adjoint=False \\\n",
    "--K=4 --learnable_time=False --dual_res=False --lr=1e-3 --lr_time=1e-3 \\\n",
    "--decay=1e-4 --topks=\"[20]\" --tensorboard=1 --gpuid=0 \\\n",
    "--epochs=250 --layer=2 --recdim=360 --bpr_batch=2048 --pretrain=0"
   ]
  },
  {
   "cell_type": "markdown",
   "id": "9f52c1bf-fb52-4c09-b594-3d17f7e4253a",
   "metadata": {
    "tags": []
   },
   "source": [
    "## CF"
   ]
  },
  {
   "cell_type": "code",
   "execution_count": null,
   "id": "cb2f7024-0caf-43a3-8786-922e2359d832",
   "metadata": {
    "tags": []
   },
   "outputs": [],
   "source": [
    "os._exit(0)"
   ]
  },
  {
   "cell_type": "code",
   "execution_count": 13,
   "id": "431f6cea-56cd-488d-b10f-9b94094d5e8a",
   "metadata": {
    "tags": []
   },
   "outputs": [],
   "source": [
    "import os\n",
    "ROOT_PATH = os.getcwd()\n",
    "RELATIVE_CF_PATH = \"./CF/cf\""
   ]
  },
  {
   "cell_type": "code",
   "execution_count": 14,
   "id": "0190971b-07c5-4c83-9186-891231cf981a",
   "metadata": {
    "tags": []
   },
   "outputs": [
    {
     "name": "stdout",
     "output_type": "stream",
     "text": [
      "현재 작업 경로: C:\\Users\\medici\\DACON_Job-Recommendation-System-1\n",
      "변경된 작업 경로: C:\\Users\\medici\\DACON_Job-Recommendation-System-1\\CF\\cf\n"
     ]
    }
   ],
   "source": [
    "# Root 작업 경로로 변경\n",
    "os.chdir(ROOT_PATH)\n",
    "\n",
    "# 현재 작업 경로 출력\n",
    "print(\"현재 작업 경로:\", os.getcwd())\n",
    "\n",
    "# 상대 경로를 절대 경로로 변환\n",
    "absolute_path = os.path.abspath(RELATIVE_CF_PATH)\n",
    "\n",
    "# 작업 경로 변경\n",
    "os.chdir(absolute_path)\n",
    "\n",
    "# 변경된 작업 경로 출력\n",
    "print(\"변경된 작업 경로:\", os.getcwd())"
   ]
  },
  {
   "cell_type": "code",
   "execution_count": 15,
   "id": "24b36ff0-0846-4204-a174-f299a929ebfb",
   "metadata": {
    "tags": []
   },
   "outputs": [
    {
     "name": "stdout",
     "output_type": "stream",
     "text": [
      "\n",
      "[gamma] '0.2', [similarity] 'pearson'\n",
      "\n",
      "reading data...\n",
      "measuring similarity of users...\n",
      "measuring user-based recommendations...\n",
      "measuring similarity of items...\n"
     ]
    },
    {
     "name": "stderr",
     "output_type": "stream",
     "text": [
      "C:\\Users\\medici\\DACON_Job-Recommendation-System-1\\CF\\cf\\similarities.py:143: RuntimeWarning: invalid value encountered in true_divide\n",
      "  B = np.nan_to_num((coo-np.multiply.outer(k, k)/N)/np.nan_to_num(np.multiply.outer(np.sum((M-k/N)**2, axis = 0)**0.5,np.sum((M-k/N)**2, axis = 0)**0.5)))\n"
     ]
    },
    {
     "name": "stdout",
     "output_type": "stream",
     "text": [
      "measuring item-based recommendations...\n"
     ]
    },
    {
     "name": "stderr",
     "output_type": "stream",
     "text": [
      "C:\\Users\\medici\\DACON_Job-Recommendation-System-1\\CF\\cf\\main.py:63: RuntimeWarning: invalid value encountered in true_divide\n",
      "  rec_i = np.nan_to_num(np.dot(M,B)/np.sum(abs(B), axis=0))\n"
     ]
    },
    {
     "name": "stdout",
     "output_type": "stream",
     "text": [
      "measuring final model recommendations...\n",
      "measuring performance of final model...\n",
      "\n",
      "[final model]\n",
      "recall@20: 0.28048\n",
      "\n",
      "--------------------------------------------------------------------------------\n",
      "Total Time: 16.73 seconds\n"
     ]
    }
   ],
   "source": [
    "%run main.py --dataset=\"JOB_1\" --test=\"test\" --gamma=0.2 --similarity=\"pearson\""
   ]
  },
  {
   "cell_type": "code",
   "execution_count": null,
   "id": "1b77572f-1923-4f49-a833-7f25fe868cb6",
   "metadata": {},
   "outputs": [],
   "source": []
  }
 ],
 "metadata": {
  "kernelspec": {
   "display_name": "Python 3 (ipykernel)",
   "language": "python",
   "name": "python3"
  },
  "language_info": {
   "codemirror_mode": {
    "name": "ipython",
    "version": 3
   },
   "file_extension": ".py",
   "mimetype": "text/x-python",
   "name": "python",
   "nbconvert_exporter": "python",
   "pygments_lexer": "ipython3",
   "version": "3.9.18"
  }
 },
 "nbformat": 4,
 "nbformat_minor": 5
}

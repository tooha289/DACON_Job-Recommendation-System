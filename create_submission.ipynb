{
 "cells": [
  {
   "cell_type": "code",
   "execution_count": 1,
   "id": "1fb8e3e4-7493-4ba7-9a07-1be7504f076c",
   "metadata": {},
   "outputs": [],
   "source": [
    "%run ./functions/submission.py"
   ]
  },
  {
   "cell_type": "markdown",
   "id": "1816266a-6f3d-4c4f-abbf-ecea183cc91f",
   "metadata": {},
   "source": [
    "# 디코딩 딕셔너리 로드"
   ]
  },
  {
   "cell_type": "code",
   "execution_count": 4,
   "id": "1caf3441-7036-4c51-b3a3-2556728b0a06",
   "metadata": {
    "tags": []
   },
   "outputs": [],
   "source": [
    "DATA_PATH = './data/'"
   ]
  },
  {
   "cell_type": "code",
   "execution_count": 5,
   "id": "9ede8082-97df-4310-95f5-5593e5c96695",
   "metadata": {
    "tags": []
   },
   "outputs": [],
   "source": [
    "resume_decode = pd.read_csv(f\"{DATA_PATH}idx_2_resume.txt\", delimiter=\" \", header=None)\n",
    "resume_decode = resume_decode.set_index(0).to_dict()[1]"
   ]
  },
  {
   "cell_type": "code",
   "execution_count": 6,
   "id": "e96eef71-03f7-433a-bf46-1689854e17d6",
   "metadata": {
    "tags": []
   },
   "outputs": [],
   "source": [
    "recruitment_decode = pd.read_csv(f\"{DATA_PATH}/idx_2_recruitment.txt\", delimiter=\" \", header=None)\n",
    "recruitment_decode = recruitment_decode.set_index(0).to_dict()[1]"
   ]
  },
  {
   "cell_type": "markdown",
   "id": "1dd1011f-455c-48b5-962d-83853fbbc257",
   "metadata": {},
   "source": [
    "# 제출결과 생성"
   ]
  },
  {
   "cell_type": "markdown",
   "id": "f5a462fb-0029-464c-9d56-f222d27177ab",
   "metadata": {},
   "source": [
    "## CF"
   ]
  },
  {
   "cell_type": "code",
   "execution_count": 20,
   "id": "edaabbbe-3232-43dc-b8a8-73bd07477fe1",
   "metadata": {},
   "outputs": [],
   "source": [
    "CF_FOLDER_PATH = './CF/results/'\n",
    "cf_rating_idx = pd.read_csv(f'{CF_FOLDER_PATH}pred_idx_JOB.txt', delimiter=' ', header=None)"
   ]
  },
  {
   "cell_type": "code",
   "execution_count": 21,
   "id": "fff1ec35-3a86-4c1b-895a-95ae8efa7022",
   "metadata": {
    "scrolled": true
   },
   "outputs": [
    {
     "data": {
      "text/html": [
       "<div>\n",
       "<style scoped>\n",
       "    .dataframe tbody tr th:only-of-type {\n",
       "        vertical-align: middle;\n",
       "    }\n",
       "\n",
       "    .dataframe tbody tr th {\n",
       "        vertical-align: top;\n",
       "    }\n",
       "\n",
       "    .dataframe thead th {\n",
       "        text-align: right;\n",
       "    }\n",
       "</style>\n",
       "<table border=\"1\" class=\"dataframe\">\n",
       "  <thead>\n",
       "    <tr style=\"text-align: right;\">\n",
       "      <th></th>\n",
       "      <th>resume_seq</th>\n",
       "      <th>recruitment_seq</th>\n",
       "    </tr>\n",
       "  </thead>\n",
       "  <tbody>\n",
       "    <tr>\n",
       "      <th>0</th>\n",
       "      <td>U05833</td>\n",
       "      <td>R00585</td>\n",
       "    </tr>\n",
       "    <tr>\n",
       "      <th>8482</th>\n",
       "      <td>U05833</td>\n",
       "      <td>R01455</td>\n",
       "    </tr>\n",
       "    <tr>\n",
       "      <th>16964</th>\n",
       "      <td>U05833</td>\n",
       "      <td>R03943</td>\n",
       "    </tr>\n",
       "    <tr>\n",
       "      <th>25446</th>\n",
       "      <td>U05833</td>\n",
       "      <td>R00304</td>\n",
       "    </tr>\n",
       "    <tr>\n",
       "      <th>33928</th>\n",
       "      <td>U05833</td>\n",
       "      <td>R04100</td>\n",
       "    </tr>\n",
       "    <tr>\n",
       "      <th>...</th>\n",
       "      <td>...</td>\n",
       "      <td>...</td>\n",
       "    </tr>\n",
       "    <tr>\n",
       "      <th>8481</th>\n",
       "      <td>U05310</td>\n",
       "      <td>R05742</td>\n",
       "    </tr>\n",
       "    <tr>\n",
       "      <th>16963</th>\n",
       "      <td>U05310</td>\n",
       "      <td>R01690</td>\n",
       "    </tr>\n",
       "    <tr>\n",
       "      <th>25445</th>\n",
       "      <td>U05310</td>\n",
       "      <td>R06681</td>\n",
       "    </tr>\n",
       "    <tr>\n",
       "      <th>33927</th>\n",
       "      <td>U05310</td>\n",
       "      <td>R00780</td>\n",
       "    </tr>\n",
       "    <tr>\n",
       "      <th>42409</th>\n",
       "      <td>U05310</td>\n",
       "      <td>R00226</td>\n",
       "    </tr>\n",
       "  </tbody>\n",
       "</table>\n",
       "<p>42410 rows × 2 columns</p>\n",
       "</div>"
      ],
      "text/plain": [
       "      resume_seq recruitment_seq\n",
       "0         U05833          R00585\n",
       "8482      U05833          R01455\n",
       "16964     U05833          R03943\n",
       "25446     U05833          R00304\n",
       "33928     U05833          R04100\n",
       "...          ...             ...\n",
       "8481      U05310          R05742\n",
       "16963     U05310          R01690\n",
       "25445     U05310          R06681\n",
       "33927     U05310          R00780\n",
       "42409     U05310          R00226\n",
       "\n",
       "[42410 rows x 2 columns]"
      ]
     },
     "execution_count": 21,
     "metadata": {},
     "output_type": "execute_result"
    }
   ],
   "source": [
    "create_submission(cf_rating_idx, resume_decode, recruitment_decode)"
   ]
  },
  {
   "cell_type": "markdown",
   "id": "597b8064-040f-4e46-9c0b-c151f1728148",
   "metadata": {},
   "source": [
    "## BSPM"
   ]
  },
  {
   "cell_type": "code",
   "execution_count": 156,
   "id": "54788b77-b7fd-4b9b-b3b4-5fc9cce938d4",
   "metadata": {},
   "outputs": [],
   "source": [
    "BSPM_FOLDER_PATH = './BSPM/results/tmp/'\n",
    "bspm_rating_idx = pd.read_csv(f'{BSPM_FOLDER_PATH}rating_JOB_960.txt', delimiter=' ', header=None)\n",
    "bspm_idx = pd.read_csv(f'{BSPM_FOLDER_PATH}user_JOB_960.txt', delimiter=' ', header=None)\n",
    "bspm_result = pd.concat([bspm_idx, bspm_rating_idx], axis=1)\n",
    "bspm_result.columns = range(bspm_result.shape[1])"
   ]
  },
  {
   "cell_type": "code",
   "execution_count": 157,
   "id": "b70d542d-fc52-45e6-ade1-2a9f1be70bf8",
   "metadata": {},
   "outputs": [],
   "source": [
    "bspm_5 = create_submission(bspm_result, resume_decode, recruitment_decode)"
   ]
  },
  {
   "cell_type": "code",
   "execution_count": 152,
   "id": "2006e0f2-618b-4d41-a9ce-ba5b8766a6be",
   "metadata": {},
   "outputs": [],
   "source": [
    "BSPM_FOLDER_PATH = './BSPM/results/'\n",
    "bspm_rating_idx = pd.read_csv(f'{BSPM_FOLDER_PATH}rating_JOB_960.txt', delimiter=' ', header=None)\n",
    "bspm_idx = pd.read_csv(f'{BSPM_FOLDER_PATH}user_JOB_960.txt', delimiter=' ', header=None)\n",
    "bspm_result = pd.concat([bspm_idx, bspm_rating_idx], axis=1)\n",
    "bspm_result.columns = range(bspm_result.shape[1])"
   ]
  },
  {
   "cell_type": "code",
   "execution_count": 153,
   "id": "b007fab9-8bab-4a12-8a85-c3c34363b124",
   "metadata": {},
   "outputs": [
    {
     "data": {
      "text/html": [
       "<div>\n",
       "<style scoped>\n",
       "    .dataframe tbody tr th:only-of-type {\n",
       "        vertical-align: middle;\n",
       "    }\n",
       "\n",
       "    .dataframe tbody tr th {\n",
       "        vertical-align: top;\n",
       "    }\n",
       "\n",
       "    .dataframe thead th {\n",
       "        text-align: right;\n",
       "    }\n",
       "</style>\n",
       "<table border=\"1\" class=\"dataframe\">\n",
       "  <thead>\n",
       "    <tr style=\"text-align: right;\">\n",
       "      <th></th>\n",
       "      <th>resume_seq</th>\n",
       "      <th>recruitment_seq</th>\n",
       "    </tr>\n",
       "  </thead>\n",
       "  <tbody>\n",
       "    <tr>\n",
       "      <th>0</th>\n",
       "      <td>U05833</td>\n",
       "      <td>R00585</td>\n",
       "    </tr>\n",
       "    <tr>\n",
       "      <th>8482</th>\n",
       "      <td>U05833</td>\n",
       "      <td>R01455</td>\n",
       "    </tr>\n",
       "    <tr>\n",
       "      <th>16964</th>\n",
       "      <td>U05833</td>\n",
       "      <td>R05199</td>\n",
       "    </tr>\n",
       "    <tr>\n",
       "      <th>25446</th>\n",
       "      <td>U05833</td>\n",
       "      <td>R03943</td>\n",
       "    </tr>\n",
       "    <tr>\n",
       "      <th>33928</th>\n",
       "      <td>U05833</td>\n",
       "      <td>R02439</td>\n",
       "    </tr>\n",
       "    <tr>\n",
       "      <th>1</th>\n",
       "      <td>U06456</td>\n",
       "      <td>R00014</td>\n",
       "    </tr>\n",
       "    <tr>\n",
       "      <th>8483</th>\n",
       "      <td>U06456</td>\n",
       "      <td>R00615</td>\n",
       "    </tr>\n",
       "    <tr>\n",
       "      <th>16965</th>\n",
       "      <td>U06456</td>\n",
       "      <td>R03611</td>\n",
       "    </tr>\n",
       "    <tr>\n",
       "      <th>25447</th>\n",
       "      <td>U06456</td>\n",
       "      <td>R01383</td>\n",
       "    </tr>\n",
       "    <tr>\n",
       "      <th>33929</th>\n",
       "      <td>U06456</td>\n",
       "      <td>R05156</td>\n",
       "    </tr>\n",
       "  </tbody>\n",
       "</table>\n",
       "</div>"
      ],
      "text/plain": [
       "      resume_seq recruitment_seq\n",
       "0         U05833          R00585\n",
       "8482      U05833          R01455\n",
       "16964     U05833          R05199\n",
       "25446     U05833          R03943\n",
       "33928     U05833          R02439\n",
       "1         U06456          R00014\n",
       "8483      U06456          R00615\n",
       "16965     U06456          R03611\n",
       "25447     U06456          R01383\n",
       "33929     U06456          R05156"
      ]
     },
     "execution_count": 153,
     "metadata": {},
     "output_type": "execute_result"
    }
   ],
   "source": [
    "bspm_20 = create_submission(bspm_result, resume_decode, recruitment_decode)\n",
    "bspm_20.head(10)"
   ]
  },
  {
   "cell_type": "code",
   "execution_count": 154,
   "id": "08cd7146-9617-43ef-a973-82f2c730b4f8",
   "metadata": {},
   "outputs": [],
   "source": [
    "%run ./functions/metric.py"
   ]
  },
  {
   "cell_type": "code",
   "execution_count": 158,
   "id": "4f5f3bc6-1de4-4f51-87b9-24e128df2185",
   "metadata": {},
   "outputs": [
    {
     "data": {
      "text/plain": [
       "1.0"
      ]
     },
     "execution_count": 158,
     "metadata": {},
     "output_type": "execute_result"
    }
   ],
   "source": [
    "recall5_dacon(bspm_20, bspm_5)"
   ]
  },
  {
   "cell_type": "code",
   "execution_count": 159,
   "id": "4e5d8f4e-12f2-45e8-a9bc-cd108e144318",
   "metadata": {},
   "outputs": [],
   "source": [
    "bspm_20.to_csv('bspm960.csv', index=False)"
   ]
  },
  {
   "cell_type": "markdown",
   "id": "b08647a5-a210-425a-b020-b2184f9c0290",
   "metadata": {},
   "source": [
    "## LTOCF"
   ]
  },
  {
   "cell_type": "code",
   "execution_count": 141,
   "id": "e1be4af6-e9ac-4881-a9dc-cdb3d5bcc83f",
   "metadata": {},
   "outputs": [],
   "source": [
    "LTOCF_FOLDER_PATH = './LT-OCF/results/tmp/'\n",
    "ltocf_rating_idx = pd.read_csv(f'{LTOCF_FOLDER_PATH}rating_JOB_360_0.0030__319.txt', delimiter=' ', header=None)\n",
    "ltocf_idx = pd.read_csv(f'{LTOCF_FOLDER_PATH}user_JOB_360_0.0030__319.txt', delimiter=' ', header=None)\n",
    "ltocf_result = pd.concat([ltocf_idx, ltocf_rating_idx], axis=1)\n",
    "ltocf_result.columns = range(ltocf_result.shape[1])"
   ]
  },
  {
   "cell_type": "code",
   "execution_count": 145,
   "id": "b6181d8c-1d04-4838-a5ca-e72581b35d32",
   "metadata": {},
   "outputs": [
    {
     "data": {
      "text/html": [
       "<div>\n",
       "<style scoped>\n",
       "    .dataframe tbody tr th:only-of-type {\n",
       "        vertical-align: middle;\n",
       "    }\n",
       "\n",
       "    .dataframe tbody tr th {\n",
       "        vertical-align: top;\n",
       "    }\n",
       "\n",
       "    .dataframe thead th {\n",
       "        text-align: right;\n",
       "    }\n",
       "</style>\n",
       "<table border=\"1\" class=\"dataframe\">\n",
       "  <thead>\n",
       "    <tr style=\"text-align: right;\">\n",
       "      <th></th>\n",
       "      <th>resume_seq</th>\n",
       "      <th>recruitment_seq</th>\n",
       "    </tr>\n",
       "  </thead>\n",
       "  <tbody>\n",
       "    <tr>\n",
       "      <th>0</th>\n",
       "      <td>U05833</td>\n",
       "      <td>R00585</td>\n",
       "    </tr>\n",
       "    <tr>\n",
       "      <th>8482</th>\n",
       "      <td>U05833</td>\n",
       "      <td>R03943</td>\n",
       "    </tr>\n",
       "    <tr>\n",
       "      <th>16964</th>\n",
       "      <td>U05833</td>\n",
       "      <td>R02130</td>\n",
       "    </tr>\n",
       "    <tr>\n",
       "      <th>25446</th>\n",
       "      <td>U05833</td>\n",
       "      <td>R05895</td>\n",
       "    </tr>\n",
       "    <tr>\n",
       "      <th>33928</th>\n",
       "      <td>U05833</td>\n",
       "      <td>R01455</td>\n",
       "    </tr>\n",
       "    <tr>\n",
       "      <th>1</th>\n",
       "      <td>U06456</td>\n",
       "      <td>R01383</td>\n",
       "    </tr>\n",
       "    <tr>\n",
       "      <th>8483</th>\n",
       "      <td>U06456</td>\n",
       "      <td>R00014</td>\n",
       "    </tr>\n",
       "    <tr>\n",
       "      <th>16965</th>\n",
       "      <td>U06456</td>\n",
       "      <td>R04767</td>\n",
       "    </tr>\n",
       "    <tr>\n",
       "      <th>25447</th>\n",
       "      <td>U06456</td>\n",
       "      <td>R03064</td>\n",
       "    </tr>\n",
       "    <tr>\n",
       "      <th>33929</th>\n",
       "      <td>U06456</td>\n",
       "      <td>R04027</td>\n",
       "    </tr>\n",
       "  </tbody>\n",
       "</table>\n",
       "</div>"
      ],
      "text/plain": [
       "      resume_seq recruitment_seq\n",
       "0         U05833          R00585\n",
       "8482      U05833          R03943\n",
       "16964     U05833          R02130\n",
       "25446     U05833          R05895\n",
       "33928     U05833          R01455\n",
       "1         U06456          R01383\n",
       "8483      U06456          R00014\n",
       "16965     U06456          R04767\n",
       "25447     U06456          R03064\n",
       "33929     U06456          R04027"
      ]
     },
     "execution_count": 145,
     "metadata": {},
     "output_type": "execute_result"
    }
   ],
   "source": [
    "sbm_ltocf = create_submission(ltocf_result, resume_decode, recruitment_decode)\n",
    "sbm_ltocf.head(10)"
   ]
  },
  {
   "cell_type": "code",
   "execution_count": 148,
   "id": "9d256cab-8cf8-4bda-af73-5df01a1276f1",
   "metadata": {},
   "outputs": [],
   "source": [
    "sbm_ltocf.sort_values('resume_seq').to_csv('ltocf360_319.csv', index=False)"
   ]
  }
 ],
 "metadata": {
  "kernelspec": {
   "display_name": "Python 3 (ipykernel)",
   "language": "python",
   "name": "python3"
  },
  "language_info": {
   "codemirror_mode": {
    "name": "ipython",
    "version": 3
   },
   "file_extension": ".py",
   "mimetype": "text/x-python",
   "name": "python",
   "nbconvert_exporter": "python",
   "pygments_lexer": "ipython3",
   "version": "3.9.18"
  }
 },
 "nbformat": 4,
 "nbformat_minor": 5
}

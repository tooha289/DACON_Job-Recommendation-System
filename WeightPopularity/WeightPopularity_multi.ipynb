{
 "cells": [
  {
   "cell_type": "code",
   "execution_count": 1,
   "id": "4f7c7a72-8a8e-4c52-a10b-b2c581585542",
   "metadata": {
    "tags": []
   },
   "outputs": [],
   "source": [
    "# !pip install --upgrade git+https://github.com/tooha289/DataAnalysisLibrary.git"
   ]
  },
  {
   "cell_type": "code",
   "execution_count": 2,
   "id": "12f76315-8fdc-44c4-9bf2-04502cf288f8",
   "metadata": {
    "tags": []
   },
   "outputs": [],
   "source": [
    "from tqdm import tqdm\n",
    "import os\n",
    "import numpy as np\n",
    "import pandas as pd\n",
    "import matplotlib.pyplot as plt\n",
    "import seaborn as sns\n",
    "from sklearn.model_selection import train_test_split\n",
    "from sklearn.preprocessing import MinMaxScaler, StandardScaler\n",
    "from scipy.stats import chi2_contingency\n",
    "from DataAnalysis import eda\n",
    "\n",
    "from matplotlib import font_manager"
   ]
  },
  {
   "cell_type": "code",
   "execution_count": 3,
   "id": "008b04de-1d73-4224-9c7d-d65d9468f55b",
   "metadata": {},
   "outputs": [],
   "source": [
    "pd.set_option('display.max_rows', 500)"
   ]
  },
  {
   "cell_type": "code",
   "execution_count": 4,
   "id": "41e31f1d-83a4-49e0-af10-039a392cf4ff",
   "metadata": {},
   "outputs": [],
   "source": [
    "font_path = \"C:/Windows/Fonts/malgun.ttf\"\n",
    "font_family = font_manager.FontProperties(fname=font_path).get_name()\n",
    "plt.rcParams[\"font.family\"] = font_family\n",
    "plt.rcParams[\"axes.unicode_minus\"] = False"
   ]
  },
  {
   "cell_type": "code",
   "execution_count": 5,
   "id": "e9602f68-419d-4b22-9644-5c653496b429",
   "metadata": {},
   "outputs": [
    {
     "name": "stdout",
     "output_type": "stream",
     "text": [
      "폴더가 이미 존재합니다: ./recalls/\n"
     ]
    }
   ],
   "source": [
    "# 폴더가 존재하지 않으면 생성\n",
    "RECALL_PATH = './recalls/'\n",
    "for path in [RECALL_PATH]:\n",
    "    if not os.path.exists(path):\n",
    "        os.makedirs(path)\n",
    "        print(f\"폴더가 생성되었습니다: {path}\")\n",
    "    else:\n",
    "        print(f\"폴더가 이미 존재합니다: {path}\")"
   ]
  },
  {
   "cell_type": "markdown",
   "id": "9a30d48f-546a-4eb7-a26e-3d1e0c9d841c",
   "metadata": {},
   "source": [
    "# 데이터 load"
   ]
  },
  {
   "cell_type": "code",
   "execution_count": 6,
   "id": "d495c001-69f7-4d27-aa6b-12c8a86b2b81",
   "metadata": {},
   "outputs": [],
   "source": [
    "resume = pd.read_csv(\"../data/resume.csv\")\n",
    "recruitment = pd.read_csv(\"../data/recruitment.csv\")\n",
    "apply = pd.read_csv(\"../data/apply_train.csv\")"
   ]
  },
  {
   "cell_type": "markdown",
   "id": "283b3636-657f-49f7-9b09-0ed351e528ea",
   "metadata": {},
   "source": [
    "# 전처리"
   ]
  },
  {
   "cell_type": "code",
   "execution_count": 7,
   "id": "0f2d8e70-7353-4279-b88e-2c72439f95fd",
   "metadata": {},
   "outputs": [],
   "source": [
    "used_cols = ['resume_seq', 'degree', 'job_code_seq1']\n",
    "resume = resume[used_cols]\n",
    "\n",
    "used_cols = ['recruitment_seq', 'address_seq1', 'education', 'major_task', 'qualifications']\n",
    "recruitment = recruitment[used_cols]"
   ]
  },
  {
   "cell_type": "markdown",
   "id": "ca06c838-0364-4d5f-b01b-3035683293df",
   "metadata": {},
   "source": [
    "## address_seq1의 na값을 0으로 처리"
   ]
  },
  {
   "cell_type": "code",
   "execution_count": 8,
   "id": "dc697c8a-bd07-4f7d-b2b3-2a722c25712a",
   "metadata": {},
   "outputs": [
    {
     "data": {
      "text/plain": [
       "array([ 3., 20.,  5.,  9., 11.,  1., nan, 13.,  2.])"
      ]
     },
     "execution_count": 8,
     "metadata": {},
     "output_type": "execute_result"
    }
   ],
   "source": [
    "recruitment['address_seq1'].unique()"
   ]
  },
  {
   "cell_type": "code",
   "execution_count": 9,
   "id": "cbaba2e3-06f7-48af-93f1-beac91437203",
   "metadata": {},
   "outputs": [],
   "source": [
    "recruitment = recruitment.fillna({'address_seq1':3}, axis=0)"
   ]
  },
  {
   "cell_type": "markdown",
   "id": "fed2c337-d8e0-4e86-aebf-a91278717b75",
   "metadata": {},
   "source": [
    "## 타입 변경"
   ]
  },
  {
   "cell_type": "code",
   "execution_count": 10,
   "id": "bee3f1be-f8ac-47ec-ad86-bc4fa424fbd0",
   "metadata": {},
   "outputs": [],
   "source": [
    "res_categorical_cols = ['degree', 'job_code_seq1']\n",
    "rec_categorical_cols = ['address_seq1', 'education', 'major_task', 'qualifications']\n",
    "resume[res_categorical_cols] = resume[res_categorical_cols].astype('category')\n",
    "recruitment[rec_categorical_cols] = recruitment[rec_categorical_cols].astype('category')"
   ]
  },
  {
   "cell_type": "code",
   "execution_count": 11,
   "id": "656b15f8-ceee-4258-b4c2-36f18f8f5ea4",
   "metadata": {},
   "outputs": [
    {
     "name": "stdout",
     "output_type": "stream",
     "text": [
      "<class 'pandas.core.frame.DataFrame'>\n",
      "RangeIndex: 6695 entries, 0 to 6694\n",
      "Data columns (total 5 columns):\n",
      " #   Column           Non-Null Count  Dtype   \n",
      "---  ------           --------------  -----   \n",
      " 0   recruitment_seq  6695 non-null   object  \n",
      " 1   address_seq1     6695 non-null   category\n",
      " 2   education        6695 non-null   category\n",
      " 3   major_task       6695 non-null   category\n",
      " 4   qualifications   6695 non-null   category\n",
      "dtypes: category(4), object(1)\n",
      "memory usage: 79.6+ KB\n"
     ]
    }
   ],
   "source": [
    "recruitment.info()"
   ]
  },
  {
   "cell_type": "markdown",
   "id": "259455fa-ef26-4fef-9845-210eb6335bac",
   "metadata": {},
   "source": [
    "## 데이터 병합"
   ]
  },
  {
   "cell_type": "code",
   "execution_count": 12,
   "id": "98de19b0-387a-43e6-859f-bdb5d27b90ed",
   "metadata": {},
   "outputs": [
    {
     "name": "stdout",
     "output_type": "stream",
     "text": [
      "<class 'pandas.core.frame.DataFrame'>\n",
      "Int64Index: 57946 entries, 0 to 57945\n",
      "Data columns (total 4 columns):\n",
      " #   Column           Non-Null Count  Dtype   \n",
      "---  ------           --------------  -----   \n",
      " 0   resume_seq       57946 non-null  object  \n",
      " 1   degree           57946 non-null  category\n",
      " 2   job_code_seq1    57946 non-null  category\n",
      " 3   recruitment_seq  57946 non-null  object  \n",
      "dtypes: category(2), object(2)\n",
      "memory usage: 1.4+ MB\n"
     ]
    }
   ],
   "source": [
    "merged_df = resume.merge(apply, how='inner', left_on = 'resume_seq', right_on ='resume_seq')\n",
    "merged_df.info()"
   ]
  },
  {
   "cell_type": "code",
   "execution_count": 13,
   "id": "ac22da81-32ad-4cd8-b20a-22a78e9c8436",
   "metadata": {},
   "outputs": [
    {
     "name": "stdout",
     "output_type": "stream",
     "text": [
      "<class 'pandas.core.frame.DataFrame'>\n",
      "Int64Index: 57946 entries, 0 to 57945\n",
      "Data columns (total 8 columns):\n",
      " #   Column           Non-Null Count  Dtype   \n",
      "---  ------           --------------  -----   \n",
      " 0   resume_seq       57946 non-null  object  \n",
      " 1   degree           57946 non-null  category\n",
      " 2   job_code_seq1    57946 non-null  category\n",
      " 3   recruitment_seq  57946 non-null  object  \n",
      " 4   address_seq1     57946 non-null  category\n",
      " 5   education        57946 non-null  category\n",
      " 6   major_task       57946 non-null  category\n",
      " 7   qualifications   57946 non-null  category\n",
      "dtypes: category(6), object(2)\n",
      "memory usage: 1.7+ MB\n"
     ]
    }
   ],
   "source": [
    "merged_df = merged_df.merge(recruitment, how='inner', left_on = 'recruitment_seq', right_on ='recruitment_seq')\n",
    "merged_df.info()"
   ]
  },
  {
   "cell_type": "markdown",
   "id": "929acdb9-c2da-41c9-a929-19692dd2de5c",
   "metadata": {},
   "source": [
    "## 함수 정의"
   ]
  },
  {
   "cell_type": "code",
   "execution_count": 44,
   "id": "14cec810-3d5a-43ab-9985-d2ac2d701ca8",
   "metadata": {},
   "outputs": [],
   "source": [
    "# eda function\n",
    "%run ../functions/eda.py\n",
    "# metric function\n",
    "%run ../functions/metric.py\n",
    "# submission function\n",
    "%run ../functions/submission.py"
   ]
  },
  {
   "cell_type": "markdown",
   "id": "fbe4e9c9-471b-4994-846f-566259b0f9c7",
   "metadata": {},
   "source": [
    "# 인기도 가중치"
   ]
  },
  {
   "cell_type": "code",
   "execution_count": 15,
   "id": "4b039f03-eb4a-4ccb-b411-aeb587b959d5",
   "metadata": {},
   "outputs": [],
   "source": [
    "mms = MinMaxScaler()\n",
    "stds = StandardScaler()"
   ]
  },
  {
   "cell_type": "markdown",
   "id": "e482a22c-91cc-4c9a-9ab5-5fedeb5052f8",
   "metadata": {},
   "source": [
    "# 모델 결과 생성"
   ]
  },
  {
   "cell_type": "markdown",
   "id": "1d1939a2-a690-4a7d-9527-014588eff482",
   "metadata": {},
   "source": [
    "## idx 디코딩"
   ]
  },
  {
   "cell_type": "markdown",
   "id": "cc6a0235-1690-4504-b996-7f10d2d13a66",
   "metadata": {},
   "source": [
    "### 디코딩 딕셔너리 로드"
   ]
  },
  {
   "cell_type": "code",
   "execution_count": 16,
   "id": "3dd41947-8a49-46d9-a69d-7da07b60ff56",
   "metadata": {
    "tags": []
   },
   "outputs": [],
   "source": [
    "DATA_PATH = '../data/'"
   ]
  },
  {
   "cell_type": "code",
   "execution_count": 17,
   "id": "693caca9-395c-4db0-a281-f4afefb680f1",
   "metadata": {
    "tags": []
   },
   "outputs": [],
   "source": [
    "resume_decode = pd.read_csv(f\"{DATA_PATH}idx_2_resume.txt\", delimiter=\" \", header=None)\n",
    "resume_decode = resume_decode.set_index(0).to_dict()[1]"
   ]
  },
  {
   "cell_type": "code",
   "execution_count": 18,
   "id": "4542bd87-d797-46e2-902a-fb50125652db",
   "metadata": {
    "tags": []
   },
   "outputs": [],
   "source": [
    "recruitment_decode = pd.read_csv(f\"{DATA_PATH}/idx_2_recruitment.txt\", delimiter=\" \", header=None)\n",
    "recruitment_decode = recruitment_decode.set_index(0).to_dict()[1]"
   ]
  },
  {
   "cell_type": "markdown",
   "id": "23b893a3-b178-4372-b747-986e289e2a05",
   "metadata": {
    "tags": []
   },
   "source": [
    "## CF 모델"
   ]
  },
  {
   "cell_type": "code",
   "execution_count": 19,
   "id": "1a2c90fe-c182-4d8d-8579-05eb4d89a9b4",
   "metadata": {},
   "outputs": [],
   "source": [
    "DATA_SET = \"JOB\""
   ]
  },
  {
   "cell_type": "code",
   "execution_count": 20,
   "id": "b867c9d9-aa23-4389-bcfe-2b805de16d07",
   "metadata": {},
   "outputs": [],
   "source": [
    "CF_FOLDER_PATH = '../CF/results/'\n",
    "cf_proba = pd.read_csv(f'{CF_FOLDER_PATH}pred_prob_{DATA_SET}.txt', delimiter=' ', header=None)\n",
    "cf_rating_idx = pd.read_csv(f'{CF_FOLDER_PATH}pred_idx_{DATA_SET}.txt', delimiter=' ', header=None)"
   ]
  },
  {
   "cell_type": "code",
   "execution_count": 21,
   "id": "62e90426-429d-481b-868d-796d47056dba",
   "metadata": {},
   "outputs": [
    {
     "data": {
      "text/html": [
       "<div>\n",
       "<style scoped>\n",
       "    .dataframe tbody tr th:only-of-type {\n",
       "        vertical-align: middle;\n",
       "    }\n",
       "\n",
       "    .dataframe tbody tr th {\n",
       "        vertical-align: top;\n",
       "    }\n",
       "\n",
       "    .dataframe thead th {\n",
       "        text-align: right;\n",
       "    }\n",
       "</style>\n",
       "<table border=\"1\" class=\"dataframe\">\n",
       "  <thead>\n",
       "    <tr style=\"text-align: right;\">\n",
       "      <th></th>\n",
       "      <th>resume_idx</th>\n",
       "      <th>recruitment_idx</th>\n",
       "      <th>cf_score</th>\n",
       "    </tr>\n",
       "  </thead>\n",
       "  <tbody>\n",
       "    <tr>\n",
       "      <th>0</th>\n",
       "      <td>0</td>\n",
       "      <td>357</td>\n",
       "      <td>1.000000</td>\n",
       "    </tr>\n",
       "    <tr>\n",
       "      <th>1</th>\n",
       "      <td>0</td>\n",
       "      <td>2832</td>\n",
       "      <td>0.838635</td>\n",
       "    </tr>\n",
       "    <tr>\n",
       "      <th>2</th>\n",
       "      <td>0</td>\n",
       "      <td>156</td>\n",
       "      <td>0.731138</td>\n",
       "    </tr>\n",
       "    <tr>\n",
       "      <th>3</th>\n",
       "      <td>0</td>\n",
       "      <td>5164</td>\n",
       "      <td>0.700984</td>\n",
       "    </tr>\n",
       "    <tr>\n",
       "      <th>4</th>\n",
       "      <td>0</td>\n",
       "      <td>4670</td>\n",
       "      <td>0.672044</td>\n",
       "    </tr>\n",
       "    <tr>\n",
       "      <th>5</th>\n",
       "      <td>0</td>\n",
       "      <td>6228</td>\n",
       "      <td>0.596687</td>\n",
       "    </tr>\n",
       "    <tr>\n",
       "      <th>6</th>\n",
       "      <td>0</td>\n",
       "      <td>3641</td>\n",
       "      <td>0.567364</td>\n",
       "    </tr>\n",
       "    <tr>\n",
       "      <th>7</th>\n",
       "      <td>0</td>\n",
       "      <td>4675</td>\n",
       "      <td>0.560605</td>\n",
       "    </tr>\n",
       "    <tr>\n",
       "      <th>8</th>\n",
       "      <td>0</td>\n",
       "      <td>1965</td>\n",
       "      <td>0.547928</td>\n",
       "    </tr>\n",
       "    <tr>\n",
       "      <th>9</th>\n",
       "      <td>0</td>\n",
       "      <td>3349</td>\n",
       "      <td>0.529323</td>\n",
       "    </tr>\n",
       "    <tr>\n",
       "      <th>10</th>\n",
       "      <td>0</td>\n",
       "      <td>161</td>\n",
       "      <td>0.518527</td>\n",
       "    </tr>\n",
       "    <tr>\n",
       "      <th>11</th>\n",
       "      <td>0</td>\n",
       "      <td>5097</td>\n",
       "      <td>0.518098</td>\n",
       "    </tr>\n",
       "    <tr>\n",
       "      <th>12</th>\n",
       "      <td>0</td>\n",
       "      <td>2576</td>\n",
       "      <td>0.508563</td>\n",
       "    </tr>\n",
       "    <tr>\n",
       "      <th>13</th>\n",
       "      <td>0</td>\n",
       "      <td>2415</td>\n",
       "      <td>0.505786</td>\n",
       "    </tr>\n",
       "    <tr>\n",
       "      <th>14</th>\n",
       "      <td>0</td>\n",
       "      <td>4050</td>\n",
       "      <td>0.495820</td>\n",
       "    </tr>\n",
       "    <tr>\n",
       "      <th>15</th>\n",
       "      <td>0</td>\n",
       "      <td>974</td>\n",
       "      <td>0.453572</td>\n",
       "    </tr>\n",
       "    <tr>\n",
       "      <th>16</th>\n",
       "      <td>0</td>\n",
       "      <td>5450</td>\n",
       "      <td>0.447291</td>\n",
       "    </tr>\n",
       "    <tr>\n",
       "      <th>17</th>\n",
       "      <td>0</td>\n",
       "      <td>5032</td>\n",
       "      <td>0.438754</td>\n",
       "    </tr>\n",
       "    <tr>\n",
       "      <th>18</th>\n",
       "      <td>0</td>\n",
       "      <td>4415</td>\n",
       "      <td>0.410012</td>\n",
       "    </tr>\n",
       "    <tr>\n",
       "      <th>19</th>\n",
       "      <td>0</td>\n",
       "      <td>1653</td>\n",
       "      <td>0.402680</td>\n",
       "    </tr>\n",
       "  </tbody>\n",
       "</table>\n",
       "</div>"
      ],
      "text/plain": [
       "    resume_idx  recruitment_idx  cf_score\n",
       "0            0              357  1.000000\n",
       "1            0             2832  0.838635\n",
       "2            0              156  0.731138\n",
       "3            0             5164  0.700984\n",
       "4            0             4670  0.672044\n",
       "5            0             6228  0.596687\n",
       "6            0             3641  0.567364\n",
       "7            0             4675  0.560605\n",
       "8            0             1965  0.547928\n",
       "9            0             3349  0.529323\n",
       "10           0              161  0.518527\n",
       "11           0             5097  0.518098\n",
       "12           0             2576  0.508563\n",
       "13           0             2415  0.505786\n",
       "14           0             4050  0.495820\n",
       "15           0              974  0.453572\n",
       "16           0             5450  0.447291\n",
       "17           0             5032  0.438754\n",
       "18           0             4415  0.410012\n",
       "19           0             1653  0.402680"
      ]
     },
     "execution_count": 21,
     "metadata": {},
     "output_type": "execute_result"
    }
   ],
   "source": [
    "cf_score = create_score_dataframe(cf_proba, cf_rating_idx, \"cf\")\n",
    "cf_score.head(20)"
   ]
  },
  {
   "cell_type": "markdown",
   "id": "551099e1-2200-4162-8a97-966757060357",
   "metadata": {
    "tags": []
   },
   "source": [
    "## LTOCF 모델"
   ]
  },
  {
   "cell_type": "code",
   "execution_count": 22,
   "id": "4589ff70-dc0a-4eb2-ae9d-b9402045788a",
   "metadata": {},
   "outputs": [],
   "source": [
    "LTOCF_FOLDER_PATH = '../LT-OCF/results/'\n",
    "LTOCF_FILE_NAME = 'JOB_360_0.0030__319'"
   ]
  },
  {
   "cell_type": "code",
   "execution_count": 23,
   "id": "99372897-a869-4912-9e1f-a3f42a9a657a",
   "metadata": {},
   "outputs": [],
   "source": [
    "lt_proba = pd.read_csv(f'{LTOCF_FOLDER_PATH}proba_{LTOCF_FILE_NAME}.txt', delimiter=' ', header=None)\n",
    "lt_rating_idx= pd.read_csv(f'{LTOCF_FOLDER_PATH}rating_{LTOCF_FILE_NAME}.txt', delimiter=' ', header=None)\n",
    "lt_user = pd.read_csv(f'{LTOCF_FOLDER_PATH}user_{LTOCF_FILE_NAME}.txt', delimiter=' ', header=None)"
   ]
  },
  {
   "cell_type": "code",
   "execution_count": 24,
   "id": "a55c8336-92a2-4603-8e1a-f8fddf4e26bf",
   "metadata": {},
   "outputs": [],
   "source": [
    "lt_proba_df = pd.concat([lt_user, lt_proba], axis=1)\n",
    "lt_idx_df = pd.concat([lt_user, lt_rating_idx], axis=1)"
   ]
  },
  {
   "cell_type": "code",
   "execution_count": 25,
   "id": "8896ea46-cfee-4e49-9db7-fbf92898e195",
   "metadata": {},
   "outputs": [
    {
     "data": {
      "text/html": [
       "<div>\n",
       "<style scoped>\n",
       "    .dataframe tbody tr th:only-of-type {\n",
       "        vertical-align: middle;\n",
       "    }\n",
       "\n",
       "    .dataframe tbody tr th {\n",
       "        vertical-align: top;\n",
       "    }\n",
       "\n",
       "    .dataframe thead th {\n",
       "        text-align: right;\n",
       "    }\n",
       "</style>\n",
       "<table border=\"1\" class=\"dataframe\">\n",
       "  <thead>\n",
       "    <tr style=\"text-align: right;\">\n",
       "      <th></th>\n",
       "      <th>resume_idx</th>\n",
       "      <th>recruitment_idx</th>\n",
       "      <th>ltocf_score</th>\n",
       "    </tr>\n",
       "  </thead>\n",
       "  <tbody>\n",
       "    <tr>\n",
       "      <th>0</th>\n",
       "      <td>0</td>\n",
       "      <td>357</td>\n",
       "      <td>0.999983</td>\n",
       "    </tr>\n",
       "    <tr>\n",
       "      <th>1</th>\n",
       "      <td>0</td>\n",
       "      <td>156</td>\n",
       "      <td>0.999955</td>\n",
       "    </tr>\n",
       "    <tr>\n",
       "      <th>2</th>\n",
       "      <td>0</td>\n",
       "      <td>1965</td>\n",
       "      <td>0.999934</td>\n",
       "    </tr>\n",
       "    <tr>\n",
       "      <th>3</th>\n",
       "      <td>0</td>\n",
       "      <td>1030</td>\n",
       "      <td>0.999892</td>\n",
       "    </tr>\n",
       "    <tr>\n",
       "      <th>4</th>\n",
       "      <td>0</td>\n",
       "      <td>2832</td>\n",
       "      <td>0.999884</td>\n",
       "    </tr>\n",
       "  </tbody>\n",
       "</table>\n",
       "</div>"
      ],
      "text/plain": [
       "   resume_idx  recruitment_idx  ltocf_score\n",
       "0           0              357     0.999983\n",
       "1           0              156     0.999955\n",
       "2           0             1965     0.999934\n",
       "3           0             1030     0.999892\n",
       "4           0             2832     0.999884"
      ]
     },
     "execution_count": 25,
     "metadata": {},
     "output_type": "execute_result"
    }
   ],
   "source": [
    "ltocf_score = create_score_dataframe(lt_proba_df, lt_idx_df, \"ltocf\")\n",
    "ltocf_score.head()"
   ]
  },
  {
   "cell_type": "code",
   "execution_count": 26,
   "id": "1bf2888c-0d19-4c4e-b120-37e0a2fdb44b",
   "metadata": {},
   "outputs": [],
   "source": [
    "lt_idx_df.columns = range(lt_idx_df.shape[1])"
   ]
  },
  {
   "cell_type": "markdown",
   "id": "ad245084-2ca4-4ff0-90e6-89262d64caab",
   "metadata": {},
   "source": [
    "# 모델 결과 + 인기도 가중치"
   ]
  },
  {
   "cell_type": "code",
   "execution_count": 27,
   "id": "f64a28be-62a3-4ea8-ae45-bcea217e77e7",
   "metadata": {},
   "outputs": [],
   "source": [
    "def create_weight_df(origin_df, popularity_df, target_cols, grouping_col, limit_ratio=0.005):\n",
    "    merged_df = popularity_df.copy()\n",
    "    weight_dfs = []\n",
    "    for target_col in target_cols:\n",
    "        _, ratio_df_hue_ratio = calculate_ratio_df_with_hue(origin_df, target_col, grouping_col, limit_ratio)\n",
    "\n",
    "        weight_df = ratio_df_hue_ratio.iloc[:-1, :-1].reset_index()\n",
    "        weight_df = weight_df.melt(id_vars=target_col, var_name=grouping_col, value_name=f'{target_col}_weight')\n",
    "        weight_dfs.append(weight_df)\n",
    "        \n",
    "        merged_df = merged_df.merge(weight_df, how='inner', on=[grouping_col, target_col])\n",
    "    return merged_df, weight_dfs"
   ]
  },
  {
   "cell_type": "markdown",
   "id": "d8d1fee8-61f0-47ec-a878-34b71e75b144",
   "metadata": {},
   "source": [
    "## CF 인기도 가중치 적용"
   ]
  },
  {
   "cell_type": "code",
   "execution_count": 28,
   "id": "6f177c1c-8e42-4028-870d-c90761b1c59f",
   "metadata": {},
   "outputs": [
    {
     "data": {
      "text/html": [
       "<div>\n",
       "<style scoped>\n",
       "    .dataframe tbody tr th:only-of-type {\n",
       "        vertical-align: middle;\n",
       "    }\n",
       "\n",
       "    .dataframe tbody tr th {\n",
       "        vertical-align: top;\n",
       "    }\n",
       "\n",
       "    .dataframe thead th {\n",
       "        text-align: right;\n",
       "    }\n",
       "</style>\n",
       "<table border=\"1\" class=\"dataframe\">\n",
       "  <thead>\n",
       "    <tr style=\"text-align: right;\">\n",
       "      <th></th>\n",
       "      <th>resume_idx</th>\n",
       "      <th>recruitment_idx</th>\n",
       "      <th>cf_score</th>\n",
       "      <th>resume_seq</th>\n",
       "      <th>recruitment_seq</th>\n",
       "    </tr>\n",
       "  </thead>\n",
       "  <tbody>\n",
       "    <tr>\n",
       "      <th>0</th>\n",
       "      <td>0</td>\n",
       "      <td>357</td>\n",
       "      <td>1.000000</td>\n",
       "      <td>U05833</td>\n",
       "      <td>R00585</td>\n",
       "    </tr>\n",
       "    <tr>\n",
       "      <th>1</th>\n",
       "      <td>0</td>\n",
       "      <td>2832</td>\n",
       "      <td>0.838635</td>\n",
       "      <td>U05833</td>\n",
       "      <td>R01455</td>\n",
       "    </tr>\n",
       "    <tr>\n",
       "      <th>2</th>\n",
       "      <td>0</td>\n",
       "      <td>156</td>\n",
       "      <td>0.731138</td>\n",
       "      <td>U05833</td>\n",
       "      <td>R03943</td>\n",
       "    </tr>\n",
       "    <tr>\n",
       "      <th>3</th>\n",
       "      <td>0</td>\n",
       "      <td>5164</td>\n",
       "      <td>0.700984</td>\n",
       "      <td>U05833</td>\n",
       "      <td>R00304</td>\n",
       "    </tr>\n",
       "    <tr>\n",
       "      <th>4</th>\n",
       "      <td>0</td>\n",
       "      <td>4670</td>\n",
       "      <td>0.672044</td>\n",
       "      <td>U05833</td>\n",
       "      <td>R04100</td>\n",
       "    </tr>\n",
       "  </tbody>\n",
       "</table>\n",
       "</div>"
      ],
      "text/plain": [
       "   resume_idx  recruitment_idx  cf_score resume_seq recruitment_seq\n",
       "0           0              357  1.000000     U05833          R00585\n",
       "1           0             2832  0.838635     U05833          R01455\n",
       "2           0              156  0.731138     U05833          R03943\n",
       "3           0             5164  0.700984     U05833          R00304\n",
       "4           0             4670  0.672044     U05833          R04100"
      ]
     },
     "execution_count": 28,
     "metadata": {},
     "output_type": "execute_result"
    }
   ],
   "source": [
    "cf_score['resume_seq'] = cf_score['resume_idx'].apply(lambda x: resume_decode[x])\n",
    "cf_score['recruitment_seq'] = cf_score['recruitment_idx'].apply(lambda x: recruitment_decode[x])\n",
    "cf_score.head()"
   ]
  },
  {
   "cell_type": "code",
   "execution_count": 29,
   "id": "ea785cd4-aedb-4c84-b64a-f88870275cf2",
   "metadata": {},
   "outputs": [
    {
     "name": "stdout",
     "output_type": "stream",
     "text": [
      "<class 'pandas.core.frame.DataFrame'>\n",
      "Int64Index: 169640 entries, 0 to 169639\n",
      "Data columns (total 7 columns):\n",
      " #   Column           Non-Null Count   Dtype   \n",
      "---  ------           --------------   -----   \n",
      " 0   resume_idx       169640 non-null  int64   \n",
      " 1   recruitment_idx  169640 non-null  int64   \n",
      " 2   cf_score         169640 non-null  float64 \n",
      " 3   resume_seq       169640 non-null  object  \n",
      " 4   recruitment_seq  169640 non-null  object  \n",
      " 5   degree           169640 non-null  category\n",
      " 6   job_code_seq1    169640 non-null  category\n",
      "dtypes: category(2), float64(1), int64(2), object(2)\n",
      "memory usage: 8.1+ MB\n"
     ]
    }
   ],
   "source": [
    "cf_score = cf_score.merge(resume, how='inner', on='resume_seq')\n",
    "cf_score.info()"
   ]
  },
  {
   "cell_type": "markdown",
   "id": "3337abf6-340a-4ff0-a13f-58c08d1f76df",
   "metadata": {},
   "source": [
    "### job_code_seq1"
   ]
  },
  {
   "cell_type": "markdown",
   "id": "3aa6c4f8-7af8-4109-bff4-64e15afc35ff",
   "metadata": {},
   "source": [
    "#### recruitment_feature : job_code_seq1 가중치"
   ]
  },
  {
   "cell_type": "code",
   "execution_count": 30,
   "id": "5d272065-d451-45d9-85dd-d7d3699a371d",
   "metadata": {},
   "outputs": [],
   "source": [
    "cf_score_weight = cf_score.merge(recruitment, how='inner', on='recruitment_seq')\n",
    "cf_job_weight, weight_dfs = create_weight_df(merged_df, cf_score_weight, ['address_seq1', 'education',\n",
    "                                                      'major_task', 'qualifications'], 'job_code_seq1', limit_ratio=0)"
   ]
  },
  {
   "cell_type": "code",
   "execution_count": 31,
   "id": "cd06a627-9aa8-4951-9780-44c08a77f691",
   "metadata": {},
   "outputs": [
    {
     "data": {
      "text/plain": [
       "Index(['address_seq1_weight', 'education_weight', 'major_task_weight',\n",
       "       'qualifications_weight'],\n",
       "      dtype='object')"
      ]
     },
     "execution_count": 31,
     "metadata": {},
     "output_type": "execute_result"
    }
   ],
   "source": [
    "weight_columns = cf_job_weight.filter(like=\"_weight\").columns\n",
    "weight_columns"
   ]
  },
  {
   "cell_type": "code",
   "execution_count": 32,
   "id": "f9bf8845-519b-4829-af7f-2756555bc465",
   "metadata": {},
   "outputs": [],
   "source": [
    "cf_job_weight['sqrt_weight_sum'] = cf_job_weight[weight_columns].apply(np.sqrt).sum(axis=1)"
   ]
  },
  {
   "cell_type": "code",
   "execution_count": 33,
   "id": "45276e21-b774-4e13-b01c-29a810cbe5e7",
   "metadata": {},
   "outputs": [],
   "source": [
    "cf_job_weight['s_sqrt_weight_sum'] = cf_job_weight.groupby('resume_idx')['sqrt_weight_sum'].transform(\n",
    "    lambda x: (mms.fit_transform(x.values.reshape(-1,1))).reshape(-1))\n",
    "cf_job_weight['scf_score'] = cf_job_weight.groupby('resume_idx')['cf_score'].transform(\n",
    "    lambda x: (mms.fit_transform(x.values.reshape(-1,1))).reshape(-1))"
   ]
  },
  {
   "cell_type": "markdown",
   "id": "896ca5f7-b592-4623-ac43-b363bb989712",
   "metadata": {},
   "source": [
    "#### RECALL 계산"
   ]
  },
  {
   "cell_type": "markdown",
   "id": "89dad201-761e-4fcf-a4ae-91762cd94e61",
   "metadata": {},
   "source": [
    "##### 가중치 인기도"
   ]
  },
  {
   "cell_type": "code",
   "execution_count": 45,
   "id": "dd91b2ae-8f3c-4a48-aa01-c7f2b6ad3150",
   "metadata": {},
   "outputs": [
    {
     "name": "stdout",
     "output_type": "stream",
     "text": [
      "0.92 : 0.08\n",
      "1.00 : 0.00\n"
     ]
    }
   ],
   "source": [
    "weight_scores = create_ensemble_submission_2col(cf_job_weight,\n",
    "                                                'scf_score', 's_sqrt_weight_sum',\n",
    "                                                start=92, end=101, step=8)"
   ]
  },
  {
   "cell_type": "code",
   "execution_count": 46,
   "id": "291970ac-53dd-4b31-ad1c-3e8ac9618610",
   "metadata": {},
   "outputs": [],
   "source": [
    "ratio= '0.92_0.08'"
   ]
  },
  {
   "cell_type": "code",
   "execution_count": 47,
   "id": "94825387-1d82-412f-b139-2c6a07c0c55c",
   "metadata": {},
   "outputs": [
    {
     "data": {
      "text/plain": [
       "0.9545390238151671"
      ]
     },
     "execution_count": 47,
     "metadata": {},
     "output_type": "execute_result"
    }
   ],
   "source": [
    "calculate_precision_at_k_dacon(weight_scores[ratio], weight_scores['1.00_0.00'], 5)"
   ]
  },
  {
   "cell_type": "code",
   "execution_count": 49,
   "id": "6acea23c-a94b-42de-8e49-c22fcbdf8a82",
   "metadata": {},
   "outputs": [],
   "source": [
    "weight_scores[ratio].to_csv(f'{RECALL_PATH}/weighted_{DATA_SET}_{ratio}.csv', index=False)"
   ]
  }
 ],
 "metadata": {
  "kernelspec": {
   "display_name": "Python 3 (ipykernel)",
   "language": "python",
   "name": "python3"
  },
  "language_info": {
   "codemirror_mode": {
    "name": "ipython",
    "version": 3
   },
   "file_extension": ".py",
   "mimetype": "text/x-python",
   "name": "python",
   "nbconvert_exporter": "python",
   "pygments_lexer": "ipython3",
   "version": "3.9.18"
  }
 },
 "nbformat": 4,
 "nbformat_minor": 5
}

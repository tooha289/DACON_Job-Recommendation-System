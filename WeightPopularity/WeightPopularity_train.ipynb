{
 "cells": [
  {
   "cell_type": "code",
   "execution_count": 1,
   "id": "4f7c7a72-8a8e-4c52-a10b-b2c581585542",
   "metadata": {
    "tags": []
   },
   "outputs": [],
   "source": [
    "# !pip install --upgrade git+https://github.com/tooha289/DataAnalysisLibrary.git"
   ]
  },
  {
   "cell_type": "code",
   "execution_count": 5,
   "id": "12f76315-8fdc-44c4-9bf2-04502cf288f8",
   "metadata": {
    "tags": []
   },
   "outputs": [],
   "source": [
    "from tqdm import tqdm\n",
    "import os\n",
    "import numpy as np\n",
    "import pandas as pd\n",
    "import matplotlib.pyplot as plt\n",
    "import seaborn as sns\n",
    "from sklearn.model_selection import train_test_split\n",
    "from sklearn.preprocessing import MinMaxScaler, StandardScaler\n",
    "from scipy.stats import chi2_contingency\n",
    "from DataAnalysis import eda\n",
    "\n",
    "from matplotlib import font_manager"
   ]
  },
  {
   "cell_type": "code",
   "execution_count": 6,
   "id": "008b04de-1d73-4224-9c7d-d65d9468f55b",
   "metadata": {},
   "outputs": [],
   "source": [
    "pd.set_option('display.max_rows', 500)"
   ]
  },
  {
   "cell_type": "code",
   "execution_count": 7,
   "id": "41e31f1d-83a4-49e0-af10-039a392cf4ff",
   "metadata": {},
   "outputs": [],
   "source": [
    "font_path = \"C:/Windows/Fonts/malgun.ttf\"\n",
    "font_family = font_manager.FontProperties(fname=font_path).get_name()\n",
    "plt.rcParams[\"font.family\"] = font_family\n",
    "plt.rcParams[\"axes.unicode_minus\"] = False"
   ]
  },
  {
   "cell_type": "code",
   "execution_count": 8,
   "id": "e9602f68-419d-4b22-9644-5c653496b429",
   "metadata": {},
   "outputs": [
    {
     "name": "stdout",
     "output_type": "stream",
     "text": [
      "폴더가 이미 존재합니다: ./recalls/\n"
     ]
    }
   ],
   "source": [
    "# 폴더가 존재하지 않으면 생성\n",
    "RECALL_PATH = './recalls/'\n",
    "for path in [RECALL_PATH]:\n",
    "    if not os.path.exists(path):\n",
    "        os.makedirs(path)\n",
    "        print(f\"폴더가 생성되었습니다: {path}\")\n",
    "    else:\n",
    "        print(f\"폴더가 이미 존재합니다: {path}\")"
   ]
  },
  {
   "cell_type": "markdown",
   "id": "9a30d48f-546a-4eb7-a26e-3d1e0c9d841c",
   "metadata": {},
   "source": [
    "# 데이터 load"
   ]
  },
  {
   "cell_type": "code",
   "execution_count": 10,
   "id": "d495c001-69f7-4d27-aa6b-12c8a86b2b81",
   "metadata": {},
   "outputs": [],
   "source": [
    "resume = pd.read_csv(\"../data/resume.csv\")\n",
    "recruitment = pd.read_csv(\"../data/recruitment.csv\")\n",
    "apply = pd.read_csv(\"../data/apply_train.csv\")"
   ]
  },
  {
   "cell_type": "markdown",
   "id": "30531254-2d02-4419-a625-90dd4f4fa167",
   "metadata": {},
   "source": [
    "## train_test 분리"
   ]
  },
  {
   "cell_type": "code",
   "execution_count": 11,
   "id": "6fcf3bb1-b94f-43aa-a121-34d7190fbda3",
   "metadata": {},
   "outputs": [],
   "source": [
    "train, test = [], []\n",
    "apply_train_groupby = apply.groupby('resume_seq')['recruitment_seq'].apply(list)\n",
    "for uid, iids in zip(apply_train_groupby.index.tolist(), apply_train_groupby.values.tolist()):\n",
    "    for iid in iids[:-1]:\n",
    "        train.append([uid,iid])\n",
    "    test.append([uid, iids[-1]])"
   ]
  },
  {
   "cell_type": "code",
   "execution_count": 12,
   "id": "3a3f1b61-d5a1-4c72-93e5-665820d6ce22",
   "metadata": {},
   "outputs": [],
   "source": [
    "apply = pd.DataFrame(train, columns=['resume_seq', 'recruitment_seq'])\n",
    "test = pd.DataFrame(test, columns=['resume_seq', 'recruitment_seq'])"
   ]
  },
  {
   "cell_type": "markdown",
   "id": "283b3636-657f-49f7-9b09-0ed351e528ea",
   "metadata": {},
   "source": [
    "# 전처리"
   ]
  },
  {
   "cell_type": "code",
   "execution_count": 13,
   "id": "0f2d8e70-7353-4279-b88e-2c72439f95fd",
   "metadata": {},
   "outputs": [],
   "source": [
    "used_cols = ['resume_seq', 'degree', 'job_code_seq1']\n",
    "resume = resume[used_cols]\n",
    "\n",
    "used_cols = ['recruitment_seq', 'address_seq1', 'education', 'major_task', 'qualifications']\n",
    "recruitment = recruitment[used_cols]"
   ]
  },
  {
   "cell_type": "markdown",
   "id": "ca06c838-0364-4d5f-b01b-3035683293df",
   "metadata": {},
   "source": [
    "## address_seq1의 na값을 0으로 처리"
   ]
  },
  {
   "cell_type": "code",
   "execution_count": 14,
   "id": "dc697c8a-bd07-4f7d-b2b3-2a722c25712a",
   "metadata": {},
   "outputs": [
    {
     "data": {
      "text/plain": [
       "array([ 3., 20.,  5.,  9., 11.,  1., nan, 13.,  2.])"
      ]
     },
     "execution_count": 14,
     "metadata": {},
     "output_type": "execute_result"
    }
   ],
   "source": [
    "recruitment['address_seq1'].unique()"
   ]
  },
  {
   "cell_type": "code",
   "execution_count": 15,
   "id": "cbaba2e3-06f7-48af-93f1-beac91437203",
   "metadata": {},
   "outputs": [],
   "source": [
    "recruitment = recruitment.fillna({'address_seq1':3}, axis=0)"
   ]
  },
  {
   "cell_type": "markdown",
   "id": "fed2c337-d8e0-4e86-aebf-a91278717b75",
   "metadata": {},
   "source": [
    "## 타입 변경"
   ]
  },
  {
   "cell_type": "code",
   "execution_count": 16,
   "id": "bee3f1be-f8ac-47ec-ad86-bc4fa424fbd0",
   "metadata": {},
   "outputs": [],
   "source": [
    "res_categorical_cols = ['degree', 'job_code_seq1']\n",
    "rec_categorical_cols = ['address_seq1', 'education', 'major_task', 'qualifications']\n",
    "resume[res_categorical_cols] = resume[res_categorical_cols].astype('category')\n",
    "recruitment[rec_categorical_cols] = recruitment[rec_categorical_cols].astype('category')"
   ]
  },
  {
   "cell_type": "code",
   "execution_count": 17,
   "id": "656b15f8-ceee-4258-b4c2-36f18f8f5ea4",
   "metadata": {},
   "outputs": [
    {
     "name": "stdout",
     "output_type": "stream",
     "text": [
      "<class 'pandas.core.frame.DataFrame'>\n",
      "RangeIndex: 6695 entries, 0 to 6694\n",
      "Data columns (total 5 columns):\n",
      " #   Column           Non-Null Count  Dtype   \n",
      "---  ------           --------------  -----   \n",
      " 0   recruitment_seq  6695 non-null   object  \n",
      " 1   address_seq1     6695 non-null   category\n",
      " 2   education        6695 non-null   category\n",
      " 3   major_task       6695 non-null   category\n",
      " 4   qualifications   6695 non-null   category\n",
      "dtypes: category(4), object(1)\n",
      "memory usage: 79.6+ KB\n"
     ]
    }
   ],
   "source": [
    "recruitment.info()"
   ]
  },
  {
   "cell_type": "markdown",
   "id": "259455fa-ef26-4fef-9845-210eb6335bac",
   "metadata": {},
   "source": [
    "## 데이터 병합"
   ]
  },
  {
   "cell_type": "code",
   "execution_count": 18,
   "id": "98de19b0-387a-43e6-859f-bdb5d27b90ed",
   "metadata": {},
   "outputs": [
    {
     "name": "stdout",
     "output_type": "stream",
     "text": [
      "<class 'pandas.core.frame.DataFrame'>\n",
      "Int64Index: 49464 entries, 0 to 49463\n",
      "Data columns (total 4 columns):\n",
      " #   Column           Non-Null Count  Dtype   \n",
      "---  ------           --------------  -----   \n",
      " 0   resume_seq       49464 non-null  object  \n",
      " 1   degree           49464 non-null  category\n",
      " 2   job_code_seq1    49464 non-null  category\n",
      " 3   recruitment_seq  49464 non-null  object  \n",
      "dtypes: category(2), object(2)\n",
      "memory usage: 1.2+ MB\n"
     ]
    }
   ],
   "source": [
    "merged_df = resume.merge(apply, how='inner', left_on = 'resume_seq', right_on ='resume_seq')\n",
    "merged_df.info()"
   ]
  },
  {
   "cell_type": "code",
   "execution_count": 19,
   "id": "ac22da81-32ad-4cd8-b20a-22a78e9c8436",
   "metadata": {},
   "outputs": [
    {
     "name": "stdout",
     "output_type": "stream",
     "text": [
      "<class 'pandas.core.frame.DataFrame'>\n",
      "Int64Index: 49464 entries, 0 to 49463\n",
      "Data columns (total 8 columns):\n",
      " #   Column           Non-Null Count  Dtype   \n",
      "---  ------           --------------  -----   \n",
      " 0   resume_seq       49464 non-null  object  \n",
      " 1   degree           49464 non-null  category\n",
      " 2   job_code_seq1    49464 non-null  category\n",
      " 3   recruitment_seq  49464 non-null  object  \n",
      " 4   address_seq1     49464 non-null  category\n",
      " 5   education        49464 non-null  category\n",
      " 6   major_task       49464 non-null  category\n",
      " 7   qualifications   49464 non-null  category\n",
      "dtypes: category(6), object(2)\n",
      "memory usage: 1.4+ MB\n"
     ]
    }
   ],
   "source": [
    "merged_df = merged_df.merge(recruitment, how='inner', left_on = 'recruitment_seq', right_on ='recruitment_seq')\n",
    "merged_df.info()"
   ]
  },
  {
   "cell_type": "markdown",
   "id": "72d0021b-d9e2-4434-8fce-0490171845e1",
   "metadata": {},
   "source": [
    "# EDA"
   ]
  },
  {
   "cell_type": "code",
   "execution_count": 20,
   "id": "0a9a854e-8272-4839-b5d9-d8ffec21ef88",
   "metadata": {},
   "outputs": [],
   "source": [
    "dav = eda.DataAnalysisVisualizer()"
   ]
  },
  {
   "cell_type": "markdown",
   "id": "929acdb9-c2da-41c9-a929-19692dd2de5c",
   "metadata": {},
   "source": [
    "## 함수 정의"
   ]
  },
  {
   "cell_type": "code",
   "execution_count": 22,
   "id": "14cec810-3d5a-43ab-9985-d2ac2d701ca8",
   "metadata": {},
   "outputs": [],
   "source": [
    "# eda function\n",
    "%run ../functions/eda.py\n",
    "# metric function\n",
    "%run ../functions/metric.py\n",
    "# submission function\n",
    "%run ../functions/submission.py"
   ]
  },
  {
   "cell_type": "markdown",
   "id": "29ac26da-c1ac-42e0-b865-5bd97ffe0b45",
   "metadata": {},
   "source": [
    "## degree 분석"
   ]
  },
  {
   "cell_type": "code",
   "execution_count": 23,
   "id": "03c1884f-e2d6-4d77-923a-16e7bde001c8",
   "metadata": {},
   "outputs": [
    {
     "data": {
      "image/png": "[encoded data removed]",
      "text/plain": [
       "<Figure size 800x400 with 1 Axes>"
      ]
     },
     "metadata": {},
     "output_type": "display_data"
    }
   ],
   "source": [
    "dav.draw_countplot(merged_df, ['degree'], figsize=(8,4))"
   ]
  },
  {
   "cell_type": "code",
   "execution_count": 214,
   "id": "df91a2dd-d73e-4c61-94d6-5fc08efcf410",
   "metadata": {},
   "outputs": [],
   "source": [
    "# 전체 공고의 0.5% = 289.73\n",
    "limit_ratio = 0.005"
   ]
  },
  {
   "cell_type": "markdown",
   "id": "cda20f09-8987-439a-bb2b-9e450197caf6",
   "metadata": {},
   "source": [
    "### degree : address_seq1"
   ]
  },
  {
   "cell_type": "code",
   "execution_count": 215,
   "id": "50bc5675-785d-456c-81fa-8fc888acacad",
   "metadata": {},
   "outputs": [],
   "source": [
    "count_df = create_count_dataframe(merged_df, 'address_seq1', 'degree')\n",
    "ratio_df_hue, ratio_df_hue_ratio = calculate_ratio_df_with_hue(merged_df, 'address_seq1', 'degree', limit_ratio)"
   ]
  },
  {
   "cell_type": "code",
   "execution_count": 216,
   "id": "6c682330-4ec9-447b-a881-5db924d3d05a",
   "metadata": {},
   "outputs": [
    {
     "data": {
      "text/html": [
       "<div>\n",
       "<style scoped>\n",
       "    .dataframe tbody tr th:only-of-type {\n",
       "        vertical-align: middle;\n",
       "    }\n",
       "\n",
       "    .dataframe tbody tr th {\n",
       "        vertical-align: top;\n",
       "    }\n",
       "\n",
       "    .dataframe thead th {\n",
       "        text-align: right;\n",
       "    }\n",
       "</style>\n",
       "<table border=\"1\" class=\"dataframe\">\n",
       "  <thead>\n",
       "    <tr style=\"text-align: right;\">\n",
       "      <th>degree</th>\n",
       "      <th>2</th>\n",
       "      <th>3</th>\n",
       "      <th>4</th>\n",
       "      <th>5</th>\n",
       "      <th>6</th>\n",
       "      <th>Total</th>\n",
       "    </tr>\n",
       "    <tr>\n",
       "      <th>address_seq1</th>\n",
       "      <th></th>\n",
       "      <th></th>\n",
       "      <th></th>\n",
       "      <th></th>\n",
       "      <th></th>\n",
       "      <th></th>\n",
       "    </tr>\n",
       "  </thead>\n",
       "  <tbody>\n",
       "    <tr>\n",
       "      <th>1.0</th>\n",
       "      <td>3</td>\n",
       "      <td>3</td>\n",
       "      <td>16</td>\n",
       "      <td>0</td>\n",
       "      <td>0</td>\n",
       "      <td>22</td>\n",
       "    </tr>\n",
       "    <tr>\n",
       "      <th>2.0</th>\n",
       "      <td>0</td>\n",
       "      <td>2</td>\n",
       "      <td>3</td>\n",
       "      <td>0</td>\n",
       "      <td>0</td>\n",
       "      <td>5</td>\n",
       "    </tr>\n",
       "    <tr>\n",
       "      <th>3.0</th>\n",
       "      <td>1440</td>\n",
       "      <td>2972</td>\n",
       "      <td>41768</td>\n",
       "      <td>1796</td>\n",
       "      <td>44</td>\n",
       "      <td>48020</td>\n",
       "    </tr>\n",
       "    <tr>\n",
       "      <th>5.0</th>\n",
       "      <td>31</td>\n",
       "      <td>85</td>\n",
       "      <td>1109</td>\n",
       "      <td>49</td>\n",
       "      <td>1</td>\n",
       "      <td>1275</td>\n",
       "    </tr>\n",
       "    <tr>\n",
       "      <th>9.0</th>\n",
       "      <td>0</td>\n",
       "      <td>0</td>\n",
       "      <td>8</td>\n",
       "      <td>1</td>\n",
       "      <td>0</td>\n",
       "      <td>9</td>\n",
       "    </tr>\n",
       "    <tr>\n",
       "      <th>11.0</th>\n",
       "      <td>0</td>\n",
       "      <td>2</td>\n",
       "      <td>21</td>\n",
       "      <td>1</td>\n",
       "      <td>0</td>\n",
       "      <td>24</td>\n",
       "    </tr>\n",
       "    <tr>\n",
       "      <th>13.0</th>\n",
       "      <td>2</td>\n",
       "      <td>1</td>\n",
       "      <td>4</td>\n",
       "      <td>0</td>\n",
       "      <td>0</td>\n",
       "      <td>7</td>\n",
       "    </tr>\n",
       "    <tr>\n",
       "      <th>20.0</th>\n",
       "      <td>1</td>\n",
       "      <td>9</td>\n",
       "      <td>86</td>\n",
       "      <td>6</td>\n",
       "      <td>0</td>\n",
       "      <td>102</td>\n",
       "    </tr>\n",
       "    <tr>\n",
       "      <th>Total</th>\n",
       "      <td>1477</td>\n",
       "      <td>3074</td>\n",
       "      <td>43015</td>\n",
       "      <td>1853</td>\n",
       "      <td>45</td>\n",
       "      <td>49464</td>\n",
       "    </tr>\n",
       "  </tbody>\n",
       "</table>\n",
       "</div>"
      ],
      "text/plain": [
       "degree           2     3      4     5   6  Total\n",
       "address_seq1                                    \n",
       "1.0              3     3     16     0   0     22\n",
       "2.0              0     2      3     0   0      5\n",
       "3.0           1440  2972  41768  1796  44  48020\n",
       "5.0             31    85   1109    49   1   1275\n",
       "9.0              0     0      8     1   0      9\n",
       "11.0             0     2     21     1   0     24\n",
       "13.0             2     1      4     0   0      7\n",
       "20.0             1     9     86     6   0    102\n",
       "Total         1477  3074  43015  1853  45  49464"
      ]
     },
     "execution_count": 216,
     "metadata": {},
     "output_type": "execute_result"
    }
   ],
   "source": [
    "count_df"
   ]
  },
  {
   "cell_type": "code",
   "execution_count": 217,
   "id": "288a5c6f-e78f-45ef-814e-eda0a7d63bd4",
   "metadata": {},
   "outputs": [
    {
     "name": "stdout",
     "output_type": "stream",
     "text": [
      "Chi-square Statistic: 47.51870400526832\n",
      "P-value: 0.012067723944160648\n",
      "Degrees of Freedom: 28\n",
      "Expected Frequencies:\n",
      "degree                  2            3             4            5          6\n",
      "address_seq1                                                                \n",
      "1.0              0.656922     1.367217     19.131692     0.824155   0.020015\n",
      "2.0              0.149301     0.310731      4.348112     0.187308   0.004549\n",
      "3.0           1433.882015  2984.260877  41759.265324  1798.905467  43.686317\n",
      "5.0             38.071628    79.236414   1108.768498    47.763525   1.159934\n",
      "9.0              0.268741     0.559316      7.826601     0.337154   0.008188\n",
      "11.0             0.716642     1.491509     20.870936     0.899078   0.021834\n",
      "13.0             0.209021     0.435023      6.087356     0.262231   0.006368\n",
      "20.0             3.045730     6.338913     88.701480     3.821082   0.092795\n"
     ]
    }
   ],
   "source": [
    "analyze_chi_square(count_df);"
   ]
  },
  {
   "cell_type": "code",
   "execution_count": 218,
   "id": "77941372-b68f-4908-93f7-4ac0acaf8057",
   "metadata": {},
   "outputs": [
    {
     "data": {
      "text/html": [
       "<div>\n",
       "<style scoped>\n",
       "    .dataframe tbody tr th:only-of-type {\n",
       "        vertical-align: middle;\n",
       "    }\n",
       "\n",
       "    .dataframe tbody tr th {\n",
       "        vertical-align: top;\n",
       "    }\n",
       "\n",
       "    .dataframe thead th {\n",
       "        text-align: right;\n",
       "    }\n",
       "</style>\n",
       "<table border=\"1\" class=\"dataframe\">\n",
       "  <thead>\n",
       "    <tr style=\"text-align: right;\">\n",
       "      <th>degree</th>\n",
       "      <th>2</th>\n",
       "      <th>3</th>\n",
       "      <th>4</th>\n",
       "      <th>5</th>\n",
       "      <th>Total</th>\n",
       "    </tr>\n",
       "    <tr>\n",
       "      <th>address_seq1</th>\n",
       "      <th></th>\n",
       "      <th></th>\n",
       "      <th></th>\n",
       "      <th></th>\n",
       "      <th></th>\n",
       "    </tr>\n",
       "  </thead>\n",
       "  <tbody>\n",
       "    <tr>\n",
       "      <th>3.0</th>\n",
       "      <td>0.974949</td>\n",
       "      <td>0.966818</td>\n",
       "      <td>0.971010</td>\n",
       "      <td>0.969239</td>\n",
       "      <td>0.970807</td>\n",
       "    </tr>\n",
       "    <tr>\n",
       "      <th>5.0</th>\n",
       "      <td>0.020988</td>\n",
       "      <td>0.027651</td>\n",
       "      <td>0.025782</td>\n",
       "      <td>0.026444</td>\n",
       "      <td>0.025776</td>\n",
       "    </tr>\n",
       "    <tr>\n",
       "      <th>Total</th>\n",
       "      <td>1477.000000</td>\n",
       "      <td>3074.000000</td>\n",
       "      <td>43015.000000</td>\n",
       "      <td>1853.000000</td>\n",
       "      <td>49464.000000</td>\n",
       "    </tr>\n",
       "  </tbody>\n",
       "</table>\n",
       "</div>"
      ],
      "text/plain": [
       "degree                  2            3             4            5  \\\n",
       "address_seq1                                                        \n",
       "3.0              0.974949     0.966818      0.971010     0.969239   \n",
       "5.0              0.020988     0.027651      0.025782     0.026444   \n",
       "Total         1477.000000  3074.000000  43015.000000  1853.000000   \n",
       "\n",
       "degree               Total  \n",
       "address_seq1                \n",
       "3.0               0.970807  \n",
       "5.0               0.025776  \n",
       "Total         49464.000000  "
      ]
     },
     "execution_count": 218,
     "metadata": {},
     "output_type": "execute_result"
    }
   ],
   "source": [
    "ratio_df_hue"
   ]
  },
  {
   "cell_type": "code",
   "execution_count": 219,
   "id": "55625af4-6cdc-431c-a0fc-5bbd5cbafbb2",
   "metadata": {},
   "outputs": [
    {
     "data": {
      "text/html": [
       "<div>\n",
       "<style scoped>\n",
       "    .dataframe tbody tr th:only-of-type {\n",
       "        vertical-align: middle;\n",
       "    }\n",
       "\n",
       "    .dataframe tbody tr th {\n",
       "        vertical-align: top;\n",
       "    }\n",
       "\n",
       "    .dataframe thead th {\n",
       "        text-align: right;\n",
       "    }\n",
       "</style>\n",
       "<table border=\"1\" class=\"dataframe\">\n",
       "  <thead>\n",
       "    <tr style=\"text-align: right;\">\n",
       "      <th>degree</th>\n",
       "      <th>2</th>\n",
       "      <th>3</th>\n",
       "      <th>4</th>\n",
       "      <th>5</th>\n",
       "      <th>Total</th>\n",
       "    </tr>\n",
       "    <tr>\n",
       "      <th>address_seq1</th>\n",
       "      <th></th>\n",
       "      <th></th>\n",
       "      <th></th>\n",
       "      <th></th>\n",
       "      <th></th>\n",
       "    </tr>\n",
       "  </thead>\n",
       "  <tbody>\n",
       "    <tr>\n",
       "      <th>3.0</th>\n",
       "      <td>1.004267</td>\n",
       "      <td>0.995891</td>\n",
       "      <td>1.000209</td>\n",
       "      <td>0.998385</td>\n",
       "      <td>0.970807</td>\n",
       "    </tr>\n",
       "    <tr>\n",
       "      <th>5.0</th>\n",
       "      <td>0.814255</td>\n",
       "      <td>1.072739</td>\n",
       "      <td>1.000209</td>\n",
       "      <td>1.025887</td>\n",
       "      <td>0.025776</td>\n",
       "    </tr>\n",
       "    <tr>\n",
       "      <th>Total</th>\n",
       "      <td>1477.000000</td>\n",
       "      <td>3074.000000</td>\n",
       "      <td>43015.000000</td>\n",
       "      <td>1853.000000</td>\n",
       "      <td>49464.000000</td>\n",
       "    </tr>\n",
       "  </tbody>\n",
       "</table>\n",
       "</div>"
      ],
      "text/plain": [
       "degree                  2            3             4            5  \\\n",
       "address_seq1                                                        \n",
       "3.0              1.004267     0.995891      1.000209     0.998385   \n",
       "5.0              0.814255     1.072739      1.000209     1.025887   \n",
       "Total         1477.000000  3074.000000  43015.000000  1853.000000   \n",
       "\n",
       "degree               Total  \n",
       "address_seq1                \n",
       "3.0               0.970807  \n",
       "5.0               0.025776  \n",
       "Total         49464.000000  "
      ]
     },
     "execution_count": 219,
     "metadata": {},
     "output_type": "execute_result"
    }
   ],
   "source": [
    "ratio_df_hue_ratio"
   ]
  },
  {
   "cell_type": "code",
   "execution_count": 220,
   "id": "9cb53ac2-92ab-460c-b1fc-e9fbf077b266",
   "metadata": {},
   "outputs": [
    {
     "data": {
      "image/png": "[encoded data removed]",
      "text/plain": [
       "<Figure size 640x480 with 2 Axes>"
      ]
     },
     "metadata": {},
     "output_type": "display_data"
    }
   ],
   "source": [
    "sns.heatmap(ratio_df_hue_ratio.iloc[:-1, :-1], cmap=\"Blues\", annot=True, fmt=\".3f\")\n",
    "plt.yticks(rotation=0)  # Adjust the rotation angle here (0 for horizontal, 90 for vertical)\n",
    "plt.show()"
   ]
  },
  {
   "cell_type": "markdown",
   "id": "00c4497b-a922-4cca-a69b-05ca3700679d",
   "metadata": {},
   "source": [
    "### degree : education"
   ]
  },
  {
   "cell_type": "code",
   "execution_count": 221,
   "id": "3ebd5c70-f60b-4eeb-a1c9-aed9a9329b9b",
   "metadata": {},
   "outputs": [],
   "source": [
    "count_df = create_count_dataframe(merged_df, 'education', 'degree')\n",
    "ratio_df_hue, ratio_df_hue_ratio = calculate_ratio_df_with_hue(merged_df, 'education', 'degree', limit_ratio)"
   ]
  },
  {
   "cell_type": "code",
   "execution_count": 222,
   "id": "cfe7b127-7486-484a-8448-0bc822d75722",
   "metadata": {},
   "outputs": [
    {
     "data": {
      "text/html": [
       "<div>\n",
       "<style scoped>\n",
       "    .dataframe tbody tr th:only-of-type {\n",
       "        vertical-align: middle;\n",
       "    }\n",
       "\n",
       "    .dataframe tbody tr th {\n",
       "        vertical-align: top;\n",
       "    }\n",
       "\n",
       "    .dataframe thead th {\n",
       "        text-align: right;\n",
       "    }\n",
       "</style>\n",
       "<table border=\"1\" class=\"dataframe\">\n",
       "  <thead>\n",
       "    <tr style=\"text-align: right;\">\n",
       "      <th>degree</th>\n",
       "      <th>2</th>\n",
       "      <th>3</th>\n",
       "      <th>4</th>\n",
       "      <th>5</th>\n",
       "      <th>6</th>\n",
       "      <th>Total</th>\n",
       "    </tr>\n",
       "    <tr>\n",
       "      <th>education</th>\n",
       "      <th></th>\n",
       "      <th></th>\n",
       "      <th></th>\n",
       "      <th></th>\n",
       "      <th></th>\n",
       "      <th></th>\n",
       "    </tr>\n",
       "  </thead>\n",
       "  <tbody>\n",
       "    <tr>\n",
       "      <th>2</th>\n",
       "      <td>445</td>\n",
       "      <td>890</td>\n",
       "      <td>10876</td>\n",
       "      <td>464</td>\n",
       "      <td>15</td>\n",
       "      <td>12690</td>\n",
       "    </tr>\n",
       "    <tr>\n",
       "      <th>3</th>\n",
       "      <td>638</td>\n",
       "      <td>1384</td>\n",
       "      <td>17867</td>\n",
       "      <td>704</td>\n",
       "      <td>16</td>\n",
       "      <td>20609</td>\n",
       "    </tr>\n",
       "    <tr>\n",
       "      <th>4</th>\n",
       "      <td>394</td>\n",
       "      <td>799</td>\n",
       "      <td>14264</td>\n",
       "      <td>684</td>\n",
       "      <td>14</td>\n",
       "      <td>16155</td>\n",
       "    </tr>\n",
       "    <tr>\n",
       "      <th>6</th>\n",
       "      <td>0</td>\n",
       "      <td>1</td>\n",
       "      <td>8</td>\n",
       "      <td>1</td>\n",
       "      <td>0</td>\n",
       "      <td>10</td>\n",
       "    </tr>\n",
       "    <tr>\n",
       "      <th>Total</th>\n",
       "      <td>1477</td>\n",
       "      <td>3074</td>\n",
       "      <td>43015</td>\n",
       "      <td>1853</td>\n",
       "      <td>45</td>\n",
       "      <td>49464</td>\n",
       "    </tr>\n",
       "  </tbody>\n",
       "</table>\n",
       "</div>"
      ],
      "text/plain": [
       "degree        2     3      4     5   6  Total\n",
       "education                                    \n",
       "2           445   890  10876   464  15  12690\n",
       "3           638  1384  17867   704  16  20609\n",
       "4           394   799  14264   684  14  16155\n",
       "6             0     1      8     1   0     10\n",
       "Total      1477  3074  43015  1853  45  49464"
      ]
     },
     "execution_count": 222,
     "metadata": {},
     "output_type": "execute_result"
    }
   ],
   "source": [
    "count_df"
   ]
  },
  {
   "cell_type": "code",
   "execution_count": 223,
   "id": "509f544c-cdeb-4131-bdb3-d45249772240",
   "metadata": {},
   "outputs": [
    {
     "name": "stdout",
     "output_type": "stream",
     "text": [
      "Chi-square Statistic: 117.15830456208133\n",
      "P-value: 2.2748462187102274e-19\n",
      "Degrees of Freedom: 12\n",
      "Expected Frequencies:\n",
      "degree              2            3             4           5          6\n",
      "education                                                              \n",
      "2          378.924672   788.635371  11035.507642  475.387555  11.544760\n",
      "3          615.386807  1280.771187  17922.047044  772.045872  18.749090\n",
      "4          482.389920  1003.971980  14048.749090  605.191958  14.697052\n",
      "6            0.298601     0.621462      8.696224    0.374616   0.009098\n"
     ]
    }
   ],
   "source": [
    "analyze_chi_square(count_df);"
   ]
  },
  {
   "cell_type": "code",
   "execution_count": 224,
   "id": "7c79b6bd-d3d4-4267-91cd-55713f2ae6b5",
   "metadata": {},
   "outputs": [
    {
     "data": {
      "text/html": [
       "<div>\n",
       "<style scoped>\n",
       "    .dataframe tbody tr th:only-of-type {\n",
       "        vertical-align: middle;\n",
       "    }\n",
       "\n",
       "    .dataframe tbody tr th {\n",
       "        vertical-align: top;\n",
       "    }\n",
       "\n",
       "    .dataframe thead th {\n",
       "        text-align: right;\n",
       "    }\n",
       "</style>\n",
       "<table border=\"1\" class=\"dataframe\">\n",
       "  <thead>\n",
       "    <tr style=\"text-align: right;\">\n",
       "      <th>degree</th>\n",
       "      <th>2</th>\n",
       "      <th>3</th>\n",
       "      <th>4</th>\n",
       "      <th>5</th>\n",
       "      <th>Total</th>\n",
       "    </tr>\n",
       "    <tr>\n",
       "      <th>education</th>\n",
       "      <th></th>\n",
       "      <th></th>\n",
       "      <th></th>\n",
       "      <th></th>\n",
       "      <th></th>\n",
       "    </tr>\n",
       "  </thead>\n",
       "  <tbody>\n",
       "    <tr>\n",
       "      <th>2</th>\n",
       "      <td>1.174376</td>\n",
       "      <td>1.128532</td>\n",
       "      <td>0.985546</td>\n",
       "      <td>0.976046</td>\n",
       "      <td>0.256550</td>\n",
       "    </tr>\n",
       "    <tr>\n",
       "      <th>3</th>\n",
       "      <td>1.036746</td>\n",
       "      <td>1.080599</td>\n",
       "      <td>0.996929</td>\n",
       "      <td>0.911863</td>\n",
       "      <td>0.416646</td>\n",
       "    </tr>\n",
       "    <tr>\n",
       "      <th>4</th>\n",
       "      <td>0.816767</td>\n",
       "      <td>0.795839</td>\n",
       "      <td>1.015322</td>\n",
       "      <td>1.130220</td>\n",
       "      <td>0.326601</td>\n",
       "    </tr>\n",
       "    <tr>\n",
       "      <th>Total</th>\n",
       "      <td>1477.000000</td>\n",
       "      <td>3074.000000</td>\n",
       "      <td>43015.000000</td>\n",
       "      <td>1853.000000</td>\n",
       "      <td>49464.000000</td>\n",
       "    </tr>\n",
       "  </tbody>\n",
       "</table>\n",
       "</div>"
      ],
      "text/plain": [
       "degree               2            3             4            5         Total\n",
       "education                                                                   \n",
       "2             1.174376     1.128532      0.985546     0.976046      0.256550\n",
       "3             1.036746     1.080599      0.996929     0.911863      0.416646\n",
       "4             0.816767     0.795839      1.015322     1.130220      0.326601\n",
       "Total      1477.000000  3074.000000  43015.000000  1853.000000  49464.000000"
      ]
     },
     "execution_count": 224,
     "metadata": {},
     "output_type": "execute_result"
    }
   ],
   "source": [
    "ratio_df_hue_ratio"
   ]
  },
  {
   "cell_type": "code",
   "execution_count": 225,
   "id": "cfb92a7d-9993-44a6-a6a9-e020cf60e18d",
   "metadata": {},
   "outputs": [
    {
     "data": {
      "image/png": "[encoded data removed]",
      "text/plain": [
       "<Figure size 640x480 with 2 Axes>"
      ]
     },
     "metadata": {},
     "output_type": "display_data"
    }
   ],
   "source": [
    "sns.heatmap(ratio_df_hue_ratio.iloc[:-1, :-1], cmap=\"Blues\", annot=True, fmt=\".3f\")\n",
    "plt.yticks(rotation=0)  # Adjust the rotation angle here (0 for horizontal, 90 for vertical)\n",
    "plt.show()"
   ]
  },
  {
   "cell_type": "markdown",
   "id": "2620d2ff-89da-43cc-b17e-d053d00cef5a",
   "metadata": {},
   "source": [
    "### degree : major_task"
   ]
  },
  {
   "cell_type": "code",
   "execution_count": 226,
   "id": "ff6d2949-b45a-4317-a8cf-905ab92163a6",
   "metadata": {},
   "outputs": [],
   "source": [
    "count_df = create_count_dataframe(merged_df, 'major_task', 'degree')\n",
    "ratio_df_hue, ratio_df_hue_ratio = calculate_ratio_df_with_hue(merged_df, 'major_task', 'degree', limit_ratio)"
   ]
  },
  {
   "cell_type": "code",
   "execution_count": 227,
   "id": "2f6f6b22-f3fa-4f97-9cc0-a69ba3fec388",
   "metadata": {},
   "outputs": [
    {
     "data": {
      "text/html": [
       "<div>\n",
       "<style scoped>\n",
       "    .dataframe tbody tr th:only-of-type {\n",
       "        vertical-align: middle;\n",
       "    }\n",
       "\n",
       "    .dataframe tbody tr th {\n",
       "        vertical-align: top;\n",
       "    }\n",
       "\n",
       "    .dataframe thead th {\n",
       "        text-align: right;\n",
       "    }\n",
       "</style>\n",
       "<table border=\"1\" class=\"dataframe\">\n",
       "  <thead>\n",
       "    <tr style=\"text-align: right;\">\n",
       "      <th>degree</th>\n",
       "      <th>2</th>\n",
       "      <th>3</th>\n",
       "      <th>4</th>\n",
       "      <th>5</th>\n",
       "      <th>6</th>\n",
       "      <th>Total</th>\n",
       "    </tr>\n",
       "    <tr>\n",
       "      <th>major_task</th>\n",
       "      <th></th>\n",
       "      <th></th>\n",
       "      <th></th>\n",
       "      <th></th>\n",
       "      <th></th>\n",
       "      <th></th>\n",
       "    </tr>\n",
       "  </thead>\n",
       "  <tbody>\n",
       "    <tr>\n",
       "      <th>1</th>\n",
       "      <td>6</td>\n",
       "      <td>12</td>\n",
       "      <td>194</td>\n",
       "      <td>6</td>\n",
       "      <td>0</td>\n",
       "      <td>218</td>\n",
       "    </tr>\n",
       "    <tr>\n",
       "      <th>2</th>\n",
       "      <td>1432</td>\n",
       "      <td>2935</td>\n",
       "      <td>40766</td>\n",
       "      <td>1768</td>\n",
       "      <td>45</td>\n",
       "      <td>46946</td>\n",
       "    </tr>\n",
       "    <tr>\n",
       "      <th>6</th>\n",
       "      <td>0</td>\n",
       "      <td>0</td>\n",
       "      <td>4</td>\n",
       "      <td>0</td>\n",
       "      <td>0</td>\n",
       "      <td>4</td>\n",
       "    </tr>\n",
       "    <tr>\n",
       "      <th>7</th>\n",
       "      <td>23</td>\n",
       "      <td>48</td>\n",
       "      <td>583</td>\n",
       "      <td>23</td>\n",
       "      <td>0</td>\n",
       "      <td>677</td>\n",
       "    </tr>\n",
       "    <tr>\n",
       "      <th>8</th>\n",
       "      <td>16</td>\n",
       "      <td>79</td>\n",
       "      <td>1443</td>\n",
       "      <td>53</td>\n",
       "      <td>0</td>\n",
       "      <td>1591</td>\n",
       "    </tr>\n",
       "    <tr>\n",
       "      <th>9</th>\n",
       "      <td>0</td>\n",
       "      <td>0</td>\n",
       "      <td>13</td>\n",
       "      <td>2</td>\n",
       "      <td>0</td>\n",
       "      <td>15</td>\n",
       "    </tr>\n",
       "    <tr>\n",
       "      <th>10</th>\n",
       "      <td>0</td>\n",
       "      <td>0</td>\n",
       "      <td>12</td>\n",
       "      <td>1</td>\n",
       "      <td>0</td>\n",
       "      <td>13</td>\n",
       "    </tr>\n",
       "    <tr>\n",
       "      <th>Total</th>\n",
       "      <td>1477</td>\n",
       "      <td>3074</td>\n",
       "      <td>43015</td>\n",
       "      <td>1853</td>\n",
       "      <td>45</td>\n",
       "      <td>49464</td>\n",
       "    </tr>\n",
       "  </tbody>\n",
       "</table>\n",
       "</div>"
      ],
      "text/plain": [
       "degree         2     3      4     5   6  Total\n",
       "major_task                                    \n",
       "1              6    12    194     6   0    218\n",
       "2           1432  2935  40766  1768  45  46946\n",
       "6              0     0      4     0   0      4\n",
       "7             23    48    583    23   0    677\n",
       "8             16    79   1443    53   0   1591\n",
       "9              0     0     13     2   0     15\n",
       "10             0     0     12     1   0     13\n",
       "Total       1477  3074  43015  1853  45  49464"
      ]
     },
     "execution_count": 227,
     "metadata": {},
     "output_type": "execute_result"
    }
   ],
   "source": [
    "count_df"
   ]
  },
  {
   "cell_type": "code",
   "execution_count": 228,
   "id": "8c471afc-9655-47b7-92d7-c9261a3c56b3",
   "metadata": {},
   "outputs": [
    {
     "name": "stdout",
     "output_type": "stream",
     "text": [
      "Chi-square Statistic: 41.30391028693087\n",
      "P-value: 0.015422234759455773\n",
      "Degrees of Freedom: 24\n",
      "Expected Frequencies:\n",
      "degree                2            3             4            5          6\n",
      "major_task                                                                \n",
      "1              6.509502    13.547873    189.577673     8.166626   0.198326\n",
      "2           1401.812268  2917.515850  40825.290919  1758.671721  42.709243\n",
      "6              0.119440     0.248585      3.478489     0.149846   0.003639\n",
      "7             20.215288    42.072982    588.734332    25.361495   0.615902\n",
      "8             47.507420    98.874616   1383.569161    59.601387   1.447416\n",
      "9              0.447902     0.932193     13.044335     0.561924   0.013646\n",
      "10             0.388181     0.807901     11.305091     0.487001   0.011827\n"
     ]
    }
   ],
   "source": [
    "analyze_chi_square(count_df);"
   ]
  },
  {
   "cell_type": "code",
   "execution_count": 229,
   "id": "b639a4a7-1445-4878-9a57-5db58cdf2690",
   "metadata": {},
   "outputs": [
    {
     "data": {
      "text/html": [
       "<div>\n",
       "<style scoped>\n",
       "    .dataframe tbody tr th:only-of-type {\n",
       "        vertical-align: middle;\n",
       "    }\n",
       "\n",
       "    .dataframe tbody tr th {\n",
       "        vertical-align: top;\n",
       "    }\n",
       "\n",
       "    .dataframe thead th {\n",
       "        text-align: right;\n",
       "    }\n",
       "</style>\n",
       "<table border=\"1\" class=\"dataframe\">\n",
       "  <thead>\n",
       "    <tr style=\"text-align: right;\">\n",
       "      <th>degree</th>\n",
       "      <th>2</th>\n",
       "      <th>3</th>\n",
       "      <th>4</th>\n",
       "      <th>5</th>\n",
       "      <th>Total</th>\n",
       "    </tr>\n",
       "    <tr>\n",
       "      <th>major_task</th>\n",
       "      <th></th>\n",
       "      <th></th>\n",
       "      <th></th>\n",
       "      <th></th>\n",
       "      <th></th>\n",
       "    </tr>\n",
       "  </thead>\n",
       "  <tbody>\n",
       "    <tr>\n",
       "      <th>2</th>\n",
       "      <td>1.021535</td>\n",
       "      <td>1.005993</td>\n",
       "      <td>0.998548</td>\n",
       "      <td>1.005304</td>\n",
       "      <td>0.949094</td>\n",
       "    </tr>\n",
       "    <tr>\n",
       "      <th>7</th>\n",
       "      <td>1.137753</td>\n",
       "      <td>1.140875</td>\n",
       "      <td>0.990260</td>\n",
       "      <td>0.906887</td>\n",
       "      <td>0.013687</td>\n",
       "    </tr>\n",
       "    <tr>\n",
       "      <th>8</th>\n",
       "      <td>0.336789</td>\n",
       "      <td>0.798992</td>\n",
       "      <td>1.042955</td>\n",
       "      <td>0.889241</td>\n",
       "      <td>0.032165</td>\n",
       "    </tr>\n",
       "    <tr>\n",
       "      <th>Total</th>\n",
       "      <td>1477.000000</td>\n",
       "      <td>3074.000000</td>\n",
       "      <td>43015.000000</td>\n",
       "      <td>1853.000000</td>\n",
       "      <td>49464.000000</td>\n",
       "    </tr>\n",
       "  </tbody>\n",
       "</table>\n",
       "</div>"
      ],
      "text/plain": [
       "degree                2            3             4            5         Total\n",
       "major_task                                                                   \n",
       "2              1.021535     1.005993      0.998548     1.005304      0.949094\n",
       "7              1.137753     1.140875      0.990260     0.906887      0.013687\n",
       "8              0.336789     0.798992      1.042955     0.889241      0.032165\n",
       "Total       1477.000000  3074.000000  43015.000000  1853.000000  49464.000000"
      ]
     },
     "execution_count": 229,
     "metadata": {},
     "output_type": "execute_result"
    }
   ],
   "source": [
    "ratio_df_hue_ratio"
   ]
  },
  {
   "cell_type": "code",
   "execution_count": 230,
   "id": "c22b3753-0ae5-4701-b012-1d81903397fc",
   "metadata": {},
   "outputs": [
    {
     "data": {
      "image/png": "[encoded data removed]",
      "text/plain": [
       "<Figure size 640x480 with 2 Axes>"
      ]
     },
     "metadata": {},
     "output_type": "display_data"
    }
   ],
   "source": [
    "sns.heatmap(ratio_df_hue_ratio.iloc[:-1, :-1], cmap=\"Blues\", annot=True, fmt=\".3f\")\n",
    "plt.yticks(rotation=0)  # Adjust the rotation angle here (0 for horizontal, 90 for vertical)\n",
    "plt.show()"
   ]
  },
  {
   "cell_type": "markdown",
   "id": "d113a2c5-3543-487f-be1d-b82416a40ede",
   "metadata": {},
   "source": [
    "### degree : qualifications"
   ]
  },
  {
   "cell_type": "code",
   "execution_count": 231,
   "id": "de42375f-74d0-4339-8f4c-7a0817bc4429",
   "metadata": {},
   "outputs": [],
   "source": [
    "count_df = create_count_dataframe(merged_df, 'qualifications', 'degree')\n",
    "ratio_df_hue, ratio_df_hue_ratio = calculate_ratio_df_with_hue(merged_df, 'qualifications', 'degree', limit_ratio)"
   ]
  },
  {
   "cell_type": "code",
   "execution_count": 232,
   "id": "9936adae-814f-4ddf-a8f5-b939f5e8629e",
   "metadata": {},
   "outputs": [
    {
     "data": {
      "text/html": [
       "<div>\n",
       "<style scoped>\n",
       "    .dataframe tbody tr th:only-of-type {\n",
       "        vertical-align: middle;\n",
       "    }\n",
       "\n",
       "    .dataframe tbody tr th {\n",
       "        vertical-align: top;\n",
       "    }\n",
       "\n",
       "    .dataframe thead th {\n",
       "        text-align: right;\n",
       "    }\n",
       "</style>\n",
       "<table border=\"1\" class=\"dataframe\">\n",
       "  <thead>\n",
       "    <tr style=\"text-align: right;\">\n",
       "      <th>degree</th>\n",
       "      <th>2</th>\n",
       "      <th>3</th>\n",
       "      <th>4</th>\n",
       "      <th>5</th>\n",
       "      <th>6</th>\n",
       "      <th>Total</th>\n",
       "    </tr>\n",
       "    <tr>\n",
       "      <th>qualifications</th>\n",
       "      <th></th>\n",
       "      <th></th>\n",
       "      <th></th>\n",
       "      <th></th>\n",
       "      <th></th>\n",
       "      <th></th>\n",
       "    </tr>\n",
       "  </thead>\n",
       "  <tbody>\n",
       "    <tr>\n",
       "      <th>0</th>\n",
       "      <td>7</td>\n",
       "      <td>23</td>\n",
       "      <td>306</td>\n",
       "      <td>19</td>\n",
       "      <td>1</td>\n",
       "      <td>356</td>\n",
       "    </tr>\n",
       "    <tr>\n",
       "      <th>1</th>\n",
       "      <td>1060</td>\n",
       "      <td>2047</td>\n",
       "      <td>28033</td>\n",
       "      <td>1207</td>\n",
       "      <td>31</td>\n",
       "      <td>32378</td>\n",
       "    </tr>\n",
       "    <tr>\n",
       "      <th>2</th>\n",
       "      <td>410</td>\n",
       "      <td>1004</td>\n",
       "      <td>14676</td>\n",
       "      <td>627</td>\n",
       "      <td>13</td>\n",
       "      <td>16730</td>\n",
       "    </tr>\n",
       "    <tr>\n",
       "      <th>Total</th>\n",
       "      <td>1477</td>\n",
       "      <td>3074</td>\n",
       "      <td>43015</td>\n",
       "      <td>1853</td>\n",
       "      <td>45</td>\n",
       "      <td>49464</td>\n",
       "    </tr>\n",
       "  </tbody>\n",
       "</table>\n",
       "</div>"
      ],
      "text/plain": [
       "degree             2     3      4     5   6  Total\n",
       "qualifications                                    \n",
       "0                  7    23    306    19   1    356\n",
       "1               1060  2047  28033  1207  31  32378\n",
       "2                410  1004  14676   627  13  16730\n",
       "Total           1477  3074  43015  1853  45  49464"
      ]
     },
     "execution_count": 232,
     "metadata": {},
     "output_type": "execute_result"
    }
   ],
   "source": [
    "count_df"
   ]
  },
  {
   "cell_type": "code",
   "execution_count": 233,
   "id": "f882dcdf-e11f-45c2-abc8-fc1e31dbf836",
   "metadata": {},
   "outputs": [
    {
     "name": "stdout",
     "output_type": "stream",
     "text": [
      "Chi-square Statistic: 34.0893855367305\n",
      "P-value: 3.913908760855388e-05\n",
      "Degrees of Freedom: 8\n",
      "Expected Frequencies:\n",
      "degree                   2            3             4            5          6\n",
      "qualifications                                                               \n",
      "0                10.630196    22.124050    309.585557    13.336325   0.323872\n",
      "1               966.810327  2012.169901  28156.632500  1212.931304  29.455968\n",
      "2               499.559478  1039.706049  14548.781942   626.732371  15.220160\n"
     ]
    }
   ],
   "source": [
    "analyze_chi_square(count_df);"
   ]
  },
  {
   "cell_type": "code",
   "execution_count": 234,
   "id": "15ceeff7-aa39-459f-b0c5-1ece79fdde76",
   "metadata": {},
   "outputs": [
    {
     "data": {
      "text/html": [
       "<div>\n",
       "<style scoped>\n",
       "    .dataframe tbody tr th:only-of-type {\n",
       "        vertical-align: middle;\n",
       "    }\n",
       "\n",
       "    .dataframe tbody tr th {\n",
       "        vertical-align: top;\n",
       "    }\n",
       "\n",
       "    .dataframe thead th {\n",
       "        text-align: right;\n",
       "    }\n",
       "</style>\n",
       "<table border=\"1\" class=\"dataframe\">\n",
       "  <thead>\n",
       "    <tr style=\"text-align: right;\">\n",
       "      <th>degree</th>\n",
       "      <th>2</th>\n",
       "      <th>3</th>\n",
       "      <th>4</th>\n",
       "      <th>5</th>\n",
       "      <th>Total</th>\n",
       "    </tr>\n",
       "    <tr>\n",
       "      <th>qualifications</th>\n",
       "      <th></th>\n",
       "      <th></th>\n",
       "      <th></th>\n",
       "      <th></th>\n",
       "      <th></th>\n",
       "    </tr>\n",
       "  </thead>\n",
       "  <tbody>\n",
       "    <tr>\n",
       "      <th>0</th>\n",
       "      <td>0.658502</td>\n",
       "      <td>1.039593</td>\n",
       "      <td>0.988418</td>\n",
       "      <td>1.424680</td>\n",
       "      <td>0.007197</td>\n",
       "    </tr>\n",
       "    <tr>\n",
       "      <th>1</th>\n",
       "      <td>1.096389</td>\n",
       "      <td>1.017310</td>\n",
       "      <td>0.995609</td>\n",
       "      <td>0.995110</td>\n",
       "      <td>0.654577</td>\n",
       "    </tr>\n",
       "    <tr>\n",
       "      <th>2</th>\n",
       "      <td>0.820723</td>\n",
       "      <td>0.965658</td>\n",
       "      <td>1.008744</td>\n",
       "      <td>1.000427</td>\n",
       "      <td>0.338226</td>\n",
       "    </tr>\n",
       "    <tr>\n",
       "      <th>Total</th>\n",
       "      <td>1477.000000</td>\n",
       "      <td>3074.000000</td>\n",
       "      <td>43015.000000</td>\n",
       "      <td>1853.000000</td>\n",
       "      <td>49464.000000</td>\n",
       "    </tr>\n",
       "  </tbody>\n",
       "</table>\n",
       "</div>"
      ],
      "text/plain": [
       "degree                    2            3             4            5  \\\n",
       "qualifications                                                        \n",
       "0                  0.658502     1.039593      0.988418     1.424680   \n",
       "1                  1.096389     1.017310      0.995609     0.995110   \n",
       "2                  0.820723     0.965658      1.008744     1.000427   \n",
       "Total           1477.000000  3074.000000  43015.000000  1853.000000   \n",
       "\n",
       "degree                 Total  \n",
       "qualifications                \n",
       "0                   0.007197  \n",
       "1                   0.654577  \n",
       "2                   0.338226  \n",
       "Total           49464.000000  "
      ]
     },
     "execution_count": 234,
     "metadata": {},
     "output_type": "execute_result"
    }
   ],
   "source": [
    "ratio_df_hue_ratio"
   ]
  },
  {
   "cell_type": "code",
   "execution_count": 235,
   "id": "e931af33-6d77-4fbd-9f85-33bf4b0eb548",
   "metadata": {},
   "outputs": [
    {
     "data": {
      "image/png": "[encoded data removed]",
      "text/plain": [
       "<Figure size 640x480 with 2 Axes>"
      ]
     },
     "metadata": {},
     "output_type": "display_data"
    }
   ],
   "source": [
    "sns.heatmap(ratio_df_hue_ratio.iloc[:-1, :-1], cmap=\"Blues\", annot=True, fmt=\".3f\")\n",
    "plt.yticks(rotation=0)  # Adjust the rotation angle here (0 for horizontal, 90 for vertical)\n",
    "plt.show()"
   ]
  },
  {
   "cell_type": "markdown",
   "id": "32143015-f299-4fa9-b0f9-5a9d9a2a1c08",
   "metadata": {},
   "source": [
    "## job_code_seq1 분석"
   ]
  },
  {
   "cell_type": "code",
   "execution_count": 46,
   "id": "65b3c8b7-cfe3-408f-89bd-220eee20fbae",
   "metadata": {},
   "outputs": [
    {
     "data": {
      "image/png": "[encoded data removed]",
      "text/plain": [
       "<Figure size 800x400 with 1 Axes>"
      ]
     },
     "metadata": {},
     "output_type": "display_data"
    }
   ],
   "source": [
    "dav.draw_countplot(merged_df, ['job_code_seq1'], figsize=(8,4), rotate_xticks=True)"
   ]
  },
  {
   "cell_type": "code",
   "execution_count": 47,
   "id": "a20537ff-f5ed-469f-bcfc-3583625f47e2",
   "metadata": {},
   "outputs": [],
   "source": [
    "# 전체 공고의 0.5% = 289.73\n",
    "limit_ratio = 0.005"
   ]
  },
  {
   "cell_type": "markdown",
   "id": "9e59f78c-2bb9-440e-ba38-2c9f34a4f9d8",
   "metadata": {},
   "source": [
    "### job_code_seq1 : address_seq1"
   ]
  },
  {
   "cell_type": "code",
   "execution_count": 186,
   "id": "51acbcaa-ffdb-4d87-b868-2333ef2e4386",
   "metadata": {},
   "outputs": [],
   "source": [
    "count_df = create_count_dataframe(merged_df, 'address_seq1', 'job_code_seq1')\n",
    "ratio_df_hue, ratio_df_hue_ratio = calculate_ratio_df_with_hue(merged_df, 'address_seq1', 'job_code_seq1', limit_ratio)"
   ]
  },
  {
   "cell_type": "code",
   "execution_count": 187,
   "id": "5422c3b0-82ba-4823-8e09-9c3140421b93",
   "metadata": {},
   "outputs": [
    {
     "data": {
      "text/html": [
       "<div>\n",
       "<style scoped>\n",
       "    .dataframe tbody tr th:only-of-type {\n",
       "        vertical-align: middle;\n",
       "    }\n",
       "\n",
       "    .dataframe tbody tr th {\n",
       "        vertical-align: top;\n",
       "    }\n",
       "\n",
       "    .dataframe thead th {\n",
       "        text-align: right;\n",
       "    }\n",
       "</style>\n",
       "<table border=\"1\" class=\"dataframe\">\n",
       "  <thead>\n",
       "    <tr style=\"text-align: right;\">\n",
       "      <th>job_code_seq1</th>\n",
       "      <th>IT·게임</th>\n",
       "      <th>건설·기계·전기·전자</th>\n",
       "      <th>경영·기획·회계·사무</th>\n",
       "      <th>기타 직종</th>\n",
       "      <th>디자인</th>\n",
       "      <th>문화·예술·신문·방송</th>\n",
       "      <th>영업·판매·TM</th>\n",
       "      <th>재료·화학·섬유·의복</th>\n",
       "      <th>전문·교육·자격</th>\n",
       "      <th>Total</th>\n",
       "    </tr>\n",
       "    <tr>\n",
       "      <th>address_seq1</th>\n",
       "      <th></th>\n",
       "      <th></th>\n",
       "      <th></th>\n",
       "      <th></th>\n",
       "      <th></th>\n",
       "      <th></th>\n",
       "      <th></th>\n",
       "      <th></th>\n",
       "      <th></th>\n",
       "      <th></th>\n",
       "    </tr>\n",
       "  </thead>\n",
       "  <tbody>\n",
       "    <tr>\n",
       "      <th>1.0</th>\n",
       "      <td>0</td>\n",
       "      <td>0</td>\n",
       "      <td>0</td>\n",
       "      <td>0</td>\n",
       "      <td>5</td>\n",
       "      <td>0</td>\n",
       "      <td>0</td>\n",
       "      <td>17</td>\n",
       "      <td>0</td>\n",
       "      <td>22</td>\n",
       "    </tr>\n",
       "    <tr>\n",
       "      <th>2.0</th>\n",
       "      <td>0</td>\n",
       "      <td>0</td>\n",
       "      <td>0</td>\n",
       "      <td>0</td>\n",
       "      <td>1</td>\n",
       "      <td>0</td>\n",
       "      <td>0</td>\n",
       "      <td>4</td>\n",
       "      <td>0</td>\n",
       "      <td>5</td>\n",
       "    </tr>\n",
       "    <tr>\n",
       "      <th>3.0</th>\n",
       "      <td>2</td>\n",
       "      <td>16</td>\n",
       "      <td>2032</td>\n",
       "      <td>0</td>\n",
       "      <td>2680</td>\n",
       "      <td>4</td>\n",
       "      <td>675</td>\n",
       "      <td>42603</td>\n",
       "      <td>8</td>\n",
       "      <td>48020</td>\n",
       "    </tr>\n",
       "    <tr>\n",
       "      <th>5.0</th>\n",
       "      <td>0</td>\n",
       "      <td>0</td>\n",
       "      <td>62</td>\n",
       "      <td>1</td>\n",
       "      <td>105</td>\n",
       "      <td>0</td>\n",
       "      <td>24</td>\n",
       "      <td>1083</td>\n",
       "      <td>0</td>\n",
       "      <td>1275</td>\n",
       "    </tr>\n",
       "    <tr>\n",
       "      <th>9.0</th>\n",
       "      <td>0</td>\n",
       "      <td>0</td>\n",
       "      <td>0</td>\n",
       "      <td>0</td>\n",
       "      <td>0</td>\n",
       "      <td>0</td>\n",
       "      <td>0</td>\n",
       "      <td>9</td>\n",
       "      <td>0</td>\n",
       "      <td>9</td>\n",
       "    </tr>\n",
       "    <tr>\n",
       "      <th>11.0</th>\n",
       "      <td>0</td>\n",
       "      <td>0</td>\n",
       "      <td>0</td>\n",
       "      <td>0</td>\n",
       "      <td>3</td>\n",
       "      <td>0</td>\n",
       "      <td>1</td>\n",
       "      <td>20</td>\n",
       "      <td>0</td>\n",
       "      <td>24</td>\n",
       "    </tr>\n",
       "    <tr>\n",
       "      <th>13.0</th>\n",
       "      <td>0</td>\n",
       "      <td>0</td>\n",
       "      <td>0</td>\n",
       "      <td>0</td>\n",
       "      <td>0</td>\n",
       "      <td>0</td>\n",
       "      <td>0</td>\n",
       "      <td>7</td>\n",
       "      <td>0</td>\n",
       "      <td>7</td>\n",
       "    </tr>\n",
       "    <tr>\n",
       "      <th>20.0</th>\n",
       "      <td>0</td>\n",
       "      <td>0</td>\n",
       "      <td>4</td>\n",
       "      <td>0</td>\n",
       "      <td>13</td>\n",
       "      <td>0</td>\n",
       "      <td>2</td>\n",
       "      <td>83</td>\n",
       "      <td>0</td>\n",
       "      <td>102</td>\n",
       "    </tr>\n",
       "    <tr>\n",
       "      <th>Total</th>\n",
       "      <td>2</td>\n",
       "      <td>16</td>\n",
       "      <td>2098</td>\n",
       "      <td>1</td>\n",
       "      <td>2807</td>\n",
       "      <td>4</td>\n",
       "      <td>702</td>\n",
       "      <td>43826</td>\n",
       "      <td>8</td>\n",
       "      <td>49464</td>\n",
       "    </tr>\n",
       "  </tbody>\n",
       "</table>\n",
       "</div>"
      ],
      "text/plain": [
       "job_code_seq1  IT·게임  건설·기계·전기·전자  경영·기획·회계·사무  기타 직종   디자인  문화·예술·신문·방송  \\\n",
       "address_seq1                                                               \n",
       "1.0                0            0            0      0     5            0   \n",
       "2.0                0            0            0      0     1            0   \n",
       "3.0                2           16         2032      0  2680            4   \n",
       "5.0                0            0           62      1   105            0   \n",
       "9.0                0            0            0      0     0            0   \n",
       "11.0               0            0            0      0     3            0   \n",
       "13.0               0            0            0      0     0            0   \n",
       "20.0               0            0            4      0    13            0   \n",
       "Total              2           16         2098      1  2807            4   \n",
       "\n",
       "job_code_seq1  영업·판매·TM  재료·화학·섬유·의복  전문·교육·자격  Total  \n",
       "address_seq1                                           \n",
       "1.0                   0           17         0     22  \n",
       "2.0                   0            4         0      5  \n",
       "3.0                 675        42603         8  48020  \n",
       "5.0                  24         1083         0   1275  \n",
       "9.0                   0            9         0      9  \n",
       "11.0                  1           20         0     24  \n",
       "13.0                  0            7         0      7  \n",
       "20.0                  2           83         0    102  \n",
       "Total               702        43826         8  49464  "
      ]
     },
     "execution_count": 187,
     "metadata": {},
     "output_type": "execute_result"
    }
   ],
   "source": [
    "count_df"
   ]
  },
  {
   "cell_type": "code",
   "execution_count": 188,
   "id": "e19a1edc-a20b-49b1-9216-ec0a7de94ac6",
   "metadata": {},
   "outputs": [
    {
     "name": "stdout",
     "output_type": "stream",
     "text": [
      "Chi-square Statistic: 90.5157146024863\n",
      "P-value: 0.002387388332248524\n",
      "Degrees of Freedom: 56\n",
      "Expected Frequencies:\n",
      "job_code_seq1     IT·게임  건설·기계·전기·전자  경영·기획·회계·사무     기타 직종          디자인  \\\n",
      "address_seq1                                                               \n",
      "1.0            0.000890     0.007116     0.933123  0.000445     1.248464   \n",
      "2.0            0.000202     0.001617     0.212073  0.000101     0.283742   \n",
      "3.0            1.941614    15.532913  2036.753194  0.970807  2725.055394   \n",
      "5.0            0.051553     0.412421    54.078724  0.025776    72.354136   \n",
      "9.0            0.000364     0.002911     0.381732  0.000182     0.510735   \n",
      "11.0           0.000970     0.007763     1.017952  0.000485     1.361960   \n",
      "13.0           0.000283     0.002264     0.296903  0.000142     0.397238   \n",
      "20.0           0.004124     0.032994     4.326298  0.002062     5.788331   \n",
      "\n",
      "job_code_seq1  문화·예술·신문·방송    영업·판매·TM   재료·화학·섬유·의복  전문·교육·자격  \n",
      "address_seq1                                                    \n",
      "1.0               0.001779    0.312227     19.492399  0.003558  \n",
      "2.0               0.000404    0.070961      4.430091  0.000809  \n",
      "3.0               3.883228  681.506550  42546.589843  7.766456  \n",
      "5.0               0.103105   18.094978   1129.673096  0.206211  \n",
      "9.0               0.000728    0.127729      7.974163  0.001456  \n",
      "11.0              0.001941    0.340611     21.264435  0.003882  \n",
      "13.0              0.000566    0.099345      6.202127  0.001132  \n",
      "20.0              0.008248    1.447598     90.373848  0.016497  \n"
     ]
    }
   ],
   "source": [
    "analyze_chi_square(count_df);"
   ]
  },
  {
   "cell_type": "code",
   "execution_count": 189,
   "id": "9371825f-dc97-4e4a-aa9d-3bf24735c07d",
   "metadata": {},
   "outputs": [
    {
     "data": {
      "text/html": [
       "<div>\n",
       "<style scoped>\n",
       "    .dataframe tbody tr th:only-of-type {\n",
       "        vertical-align: middle;\n",
       "    }\n",
       "\n",
       "    .dataframe tbody tr th {\n",
       "        vertical-align: top;\n",
       "    }\n",
       "\n",
       "    .dataframe thead th {\n",
       "        text-align: right;\n",
       "    }\n",
       "</style>\n",
       "<table border=\"1\" class=\"dataframe\">\n",
       "  <thead>\n",
       "    <tr style=\"text-align: right;\">\n",
       "      <th>job_code_seq1</th>\n",
       "      <th>경영·기획·회계·사무</th>\n",
       "      <th>디자인</th>\n",
       "      <th>영업·판매·TM</th>\n",
       "      <th>재료·화학·섬유·의복</th>\n",
       "      <th>Total</th>\n",
       "    </tr>\n",
       "    <tr>\n",
       "      <th>address_seq1</th>\n",
       "      <th></th>\n",
       "      <th></th>\n",
       "      <th></th>\n",
       "      <th></th>\n",
       "      <th></th>\n",
       "    </tr>\n",
       "  </thead>\n",
       "  <tbody>\n",
       "    <tr>\n",
       "      <th>3.0</th>\n",
       "      <td>0.968541</td>\n",
       "      <td>0.954756</td>\n",
       "      <td>0.961538</td>\n",
       "      <td>0.972094</td>\n",
       "      <td>0.970807</td>\n",
       "    </tr>\n",
       "    <tr>\n",
       "      <th>5.0</th>\n",
       "      <td>0.029552</td>\n",
       "      <td>0.037406</td>\n",
       "      <td>0.034188</td>\n",
       "      <td>0.024711</td>\n",
       "      <td>0.025776</td>\n",
       "    </tr>\n",
       "    <tr>\n",
       "      <th>Total</th>\n",
       "      <td>2098.000000</td>\n",
       "      <td>2807.000000</td>\n",
       "      <td>702.000000</td>\n",
       "      <td>43826.000000</td>\n",
       "      <td>49464.000000</td>\n",
       "    </tr>\n",
       "  </tbody>\n",
       "</table>\n",
       "</div>"
      ],
      "text/plain": [
       "job_code_seq1  경영·기획·회계·사무          디자인    영업·판매·TM   재료·화학·섬유·의복  \\\n",
       "address_seq1                                                        \n",
       "3.0               0.968541     0.954756    0.961538      0.972094   \n",
       "5.0               0.029552     0.037406    0.034188      0.024711   \n",
       "Total          2098.000000  2807.000000  702.000000  43826.000000   \n",
       "\n",
       "job_code_seq1         Total  \n",
       "address_seq1                 \n",
       "3.0                0.970807  \n",
       "5.0                0.025776  \n",
       "Total          49464.000000  "
      ]
     },
     "execution_count": 189,
     "metadata": {},
     "output_type": "execute_result"
    }
   ],
   "source": [
    "ratio_df_hue"
   ]
  },
  {
   "cell_type": "code",
   "execution_count": 190,
   "id": "77fd185f-72bd-413a-a574-2dd782549a48",
   "metadata": {},
   "outputs": [
    {
     "data": {
      "text/html": [
       "<div>\n",
       "<style scoped>\n",
       "    .dataframe tbody tr th:only-of-type {\n",
       "        vertical-align: middle;\n",
       "    }\n",
       "\n",
       "    .dataframe tbody tr th {\n",
       "        vertical-align: top;\n",
       "    }\n",
       "\n",
       "    .dataframe thead th {\n",
       "        text-align: right;\n",
       "    }\n",
       "</style>\n",
       "<table border=\"1\" class=\"dataframe\">\n",
       "  <thead>\n",
       "    <tr style=\"text-align: right;\">\n",
       "      <th>job_code_seq1</th>\n",
       "      <th>경영·기획·회계·사무</th>\n",
       "      <th>디자인</th>\n",
       "      <th>영업·판매·TM</th>\n",
       "      <th>재료·화학·섬유·의복</th>\n",
       "      <th>Total</th>\n",
       "    </tr>\n",
       "    <tr>\n",
       "      <th>address_seq1</th>\n",
       "      <th></th>\n",
       "      <th></th>\n",
       "      <th></th>\n",
       "      <th></th>\n",
       "      <th></th>\n",
       "    </tr>\n",
       "  </thead>\n",
       "  <tbody>\n",
       "    <tr>\n",
       "      <th>3.0</th>\n",
       "      <td>0.997666</td>\n",
       "      <td>0.983466</td>\n",
       "      <td>0.990453</td>\n",
       "      <td>1.001326</td>\n",
       "      <td>0.970807</td>\n",
       "    </tr>\n",
       "    <tr>\n",
       "      <th>5.0</th>\n",
       "      <td>1.146477</td>\n",
       "      <td>1.451196</td>\n",
       "      <td>1.326335</td>\n",
       "      <td>0.958684</td>\n",
       "      <td>0.025776</td>\n",
       "    </tr>\n",
       "    <tr>\n",
       "      <th>Total</th>\n",
       "      <td>2098.000000</td>\n",
       "      <td>2807.000000</td>\n",
       "      <td>702.000000</td>\n",
       "      <td>43826.000000</td>\n",
       "      <td>49464.000000</td>\n",
       "    </tr>\n",
       "  </tbody>\n",
       "</table>\n",
       "</div>"
      ],
      "text/plain": [
       "job_code_seq1  경영·기획·회계·사무          디자인    영업·판매·TM   재료·화학·섬유·의복  \\\n",
       "address_seq1                                                        \n",
       "3.0               0.997666     0.983466    0.990453      1.001326   \n",
       "5.0               1.146477     1.451196    1.326335      0.958684   \n",
       "Total          2098.000000  2807.000000  702.000000  43826.000000   \n",
       "\n",
       "job_code_seq1         Total  \n",
       "address_seq1                 \n",
       "3.0                0.970807  \n",
       "5.0                0.025776  \n",
       "Total          49464.000000  "
      ]
     },
     "execution_count": 190,
     "metadata": {},
     "output_type": "execute_result"
    }
   ],
   "source": [
    "ratio_df_hue_ratio"
   ]
  },
  {
   "cell_type": "code",
   "execution_count": 191,
   "id": "e86f93d9-7f88-4f5f-be45-50170a9e19ef",
   "metadata": {},
   "outputs": [
    {
     "data": {
      "image/png": "[encoded data removed]",
      "text/plain": [
       "<Figure size 640x480 with 2 Axes>"
      ]
     },
     "metadata": {},
     "output_type": "display_data"
    }
   ],
   "source": [
    "sns.heatmap(ratio_df_hue_ratio.iloc[:-1, :-1], cmap=\"Blues\", annot=True, fmt=\".3f\")\n",
    "plt.yticks(rotation=0)  # Adjust the rotation angle here (0 for horizontal, 90 for vertical)\n",
    "plt.show()"
   ]
  },
  {
   "cell_type": "markdown",
   "id": "35783964-bfbd-409a-8ca8-c6da4d81e778",
   "metadata": {},
   "source": [
    "### job_code_seq1 : education"
   ]
  },
  {
   "cell_type": "code",
   "execution_count": 54,
   "id": "78ea37df-9676-467f-b874-87c02d59e6b6",
   "metadata": {},
   "outputs": [],
   "source": [
    "count_df = create_count_dataframe(merged_df, 'education', 'job_code_seq1')\n",
    "ratio_df_hue, ratio_df_hue_ratio = calculate_ratio_df_with_hue(merged_df, 'education', 'job_code_seq1', limit_ratio)"
   ]
  },
  {
   "cell_type": "code",
   "execution_count": 55,
   "id": "bc97d7c0-48b2-43aa-97db-89d9967741ac",
   "metadata": {},
   "outputs": [
    {
     "data": {
      "text/html": [
       "<div>\n",
       "<style scoped>\n",
       "    .dataframe tbody tr th:only-of-type {\n",
       "        vertical-align: middle;\n",
       "    }\n",
       "\n",
       "    .dataframe tbody tr th {\n",
       "        vertical-align: top;\n",
       "    }\n",
       "\n",
       "    .dataframe thead th {\n",
       "        text-align: right;\n",
       "    }\n",
       "</style>\n",
       "<table border=\"1\" class=\"dataframe\">\n",
       "  <thead>\n",
       "    <tr style=\"text-align: right;\">\n",
       "      <th>job_code_seq1</th>\n",
       "      <th>IT·게임</th>\n",
       "      <th>건설·기계·전기·전자</th>\n",
       "      <th>경영·기획·회계·사무</th>\n",
       "      <th>기타 직종</th>\n",
       "      <th>디자인</th>\n",
       "      <th>문화·예술·신문·방송</th>\n",
       "      <th>영업·판매·TM</th>\n",
       "      <th>재료·화학·섬유·의복</th>\n",
       "      <th>전문·교육·자격</th>\n",
       "      <th>Total</th>\n",
       "    </tr>\n",
       "    <tr>\n",
       "      <th>education</th>\n",
       "      <th></th>\n",
       "      <th></th>\n",
       "      <th></th>\n",
       "      <th></th>\n",
       "      <th></th>\n",
       "      <th></th>\n",
       "      <th></th>\n",
       "      <th></th>\n",
       "      <th></th>\n",
       "      <th></th>\n",
       "    </tr>\n",
       "  </thead>\n",
       "  <tbody>\n",
       "    <tr>\n",
       "      <th>2</th>\n",
       "      <td>0</td>\n",
       "      <td>3</td>\n",
       "      <td>632</td>\n",
       "      <td>0</td>\n",
       "      <td>1002</td>\n",
       "      <td>2</td>\n",
       "      <td>222</td>\n",
       "      <td>10827</td>\n",
       "      <td>2</td>\n",
       "      <td>12690</td>\n",
       "    </tr>\n",
       "    <tr>\n",
       "      <th>3</th>\n",
       "      <td>1</td>\n",
       "      <td>4</td>\n",
       "      <td>793</td>\n",
       "      <td>1</td>\n",
       "      <td>985</td>\n",
       "      <td>1</td>\n",
       "      <td>278</td>\n",
       "      <td>18545</td>\n",
       "      <td>1</td>\n",
       "      <td>20609</td>\n",
       "    </tr>\n",
       "    <tr>\n",
       "      <th>4</th>\n",
       "      <td>1</td>\n",
       "      <td>9</td>\n",
       "      <td>673</td>\n",
       "      <td>0</td>\n",
       "      <td>817</td>\n",
       "      <td>1</td>\n",
       "      <td>202</td>\n",
       "      <td>14447</td>\n",
       "      <td>5</td>\n",
       "      <td>16155</td>\n",
       "    </tr>\n",
       "    <tr>\n",
       "      <th>6</th>\n",
       "      <td>0</td>\n",
       "      <td>0</td>\n",
       "      <td>0</td>\n",
       "      <td>0</td>\n",
       "      <td>3</td>\n",
       "      <td>0</td>\n",
       "      <td>0</td>\n",
       "      <td>7</td>\n",
       "      <td>0</td>\n",
       "      <td>10</td>\n",
       "    </tr>\n",
       "    <tr>\n",
       "      <th>Total</th>\n",
       "      <td>2</td>\n",
       "      <td>16</td>\n",
       "      <td>2098</td>\n",
       "      <td>1</td>\n",
       "      <td>2807</td>\n",
       "      <td>4</td>\n",
       "      <td>702</td>\n",
       "      <td>43826</td>\n",
       "      <td>8</td>\n",
       "      <td>49464</td>\n",
       "    </tr>\n",
       "  </tbody>\n",
       "</table>\n",
       "</div>"
      ],
      "text/plain": [
       "job_code_seq1  IT·게임  건설·기계·전기·전자  경영·기획·회계·사무  기타 직종   디자인  문화·예술·신문·방송  \\\n",
       "education                                                                  \n",
       "2                  0            3          632      0  1002            2   \n",
       "3                  1            4          793      1   985            1   \n",
       "4                  1            9          673      0   817            1   \n",
       "6                  0            0            0      0     3            0   \n",
       "Total              2           16         2098      1  2807            4   \n",
       "\n",
       "job_code_seq1  영업·판매·TM  재료·화학·섬유·의복  전문·교육·자격  Total  \n",
       "education                                              \n",
       "2                   222        10827         2  12690  \n",
       "3                   278        18545         1  20609  \n",
       "4                   202        14447         5  16155  \n",
       "6                     0            7         0     10  \n",
       "Total               702        43826         8  49464  "
      ]
     },
     "execution_count": 55,
     "metadata": {},
     "output_type": "execute_result"
    }
   ],
   "source": [
    "count_df"
   ]
  },
  {
   "cell_type": "code",
   "execution_count": 56,
   "id": "9c0f1537-4dea-4b29-9c70-c7f4f279ee25",
   "metadata": {},
   "outputs": [
    {
     "name": "stdout",
     "output_type": "stream",
     "text": [
      "Chi-square Statistic: 231.89823411526885\n",
      "P-value: 6.202809451187623e-36\n",
      "Degrees of Freedom: 24\n",
      "Expected Frequencies:\n",
      "job_code_seq1     IT·게임  건설·기계·전기·전자  경영·기획·회계·사무     기타 직종          디자인  \\\n",
      "education                                                                  \n",
      "2              0.513100     4.104803   538.242358  0.256550   720.136463   \n",
      "3              0.833293     6.666343   874.124252  0.416646  1169.526585   \n",
      "4              0.653202     5.225619   685.209243  0.326601   916.769469   \n",
      "6              0.000404     0.003235     0.424147  0.000202     0.567483   \n",
      "\n",
      "job_code_seq1  문화·예술·신문·방송    영업·판매·TM   재료·화학·섬유·의복  전문·교육·자격  \n",
      "education                                                       \n",
      "2                 1.026201  180.098253  11243.569869  2.052402  \n",
      "3                 1.666586  292.485808  18259.947315  3.333172  \n",
      "4                 1.306405  229.274017  14313.622635  2.612809  \n",
      "6                 0.000809    0.141921      8.860181  0.001617  \n"
     ]
    }
   ],
   "source": [
    "analyze_chi_square(count_df);"
   ]
  },
  {
   "cell_type": "code",
   "execution_count": 57,
   "id": "e7567a49-e6c9-4c7c-a50e-8d39fc1bff57",
   "metadata": {},
   "outputs": [
    {
     "data": {
      "text/html": [
       "<div>\n",
       "<style scoped>\n",
       "    .dataframe tbody tr th:only-of-type {\n",
       "        vertical-align: middle;\n",
       "    }\n",
       "\n",
       "    .dataframe tbody tr th {\n",
       "        vertical-align: top;\n",
       "    }\n",
       "\n",
       "    .dataframe thead th {\n",
       "        text-align: right;\n",
       "    }\n",
       "</style>\n",
       "<table border=\"1\" class=\"dataframe\">\n",
       "  <thead>\n",
       "    <tr style=\"text-align: right;\">\n",
       "      <th>job_code_seq1</th>\n",
       "      <th>경영·기획·회계·사무</th>\n",
       "      <th>디자인</th>\n",
       "      <th>영업·판매·TM</th>\n",
       "      <th>재료·화학·섬유·의복</th>\n",
       "      <th>Total</th>\n",
       "    </tr>\n",
       "    <tr>\n",
       "      <th>education</th>\n",
       "      <th></th>\n",
       "      <th></th>\n",
       "      <th></th>\n",
       "      <th></th>\n",
       "      <th></th>\n",
       "    </tr>\n",
       "  </thead>\n",
       "  <tbody>\n",
       "    <tr>\n",
       "      <th>2</th>\n",
       "      <td>0.301239</td>\n",
       "      <td>0.356965</td>\n",
       "      <td>0.316239</td>\n",
       "      <td>0.247045</td>\n",
       "      <td>0.256550</td>\n",
       "    </tr>\n",
       "    <tr>\n",
       "      <th>3</th>\n",
       "      <td>0.377979</td>\n",
       "      <td>0.350908</td>\n",
       "      <td>0.396011</td>\n",
       "      <td>0.423151</td>\n",
       "      <td>0.416646</td>\n",
       "    </tr>\n",
       "    <tr>\n",
       "      <th>4</th>\n",
       "      <td>0.320782</td>\n",
       "      <td>0.291058</td>\n",
       "      <td>0.287749</td>\n",
       "      <td>0.329645</td>\n",
       "      <td>0.326601</td>\n",
       "    </tr>\n",
       "    <tr>\n",
       "      <th>Total</th>\n",
       "      <td>2098.000000</td>\n",
       "      <td>2807.000000</td>\n",
       "      <td>702.000000</td>\n",
       "      <td>43826.000000</td>\n",
       "      <td>49464.000000</td>\n",
       "    </tr>\n",
       "  </tbody>\n",
       "</table>\n",
       "</div>"
      ],
      "text/plain": [
       "job_code_seq1  경영·기획·회계·사무          디자인    영업·판매·TM   재료·화학·섬유·의복  \\\n",
       "education                                                           \n",
       "2                 0.301239     0.356965    0.316239      0.247045   \n",
       "3                 0.377979     0.350908    0.396011      0.423151   \n",
       "4                 0.320782     0.291058    0.287749      0.329645   \n",
       "Total          2098.000000  2807.000000  702.000000  43826.000000   \n",
       "\n",
       "job_code_seq1         Total  \n",
       "education                    \n",
       "2                  0.256550  \n",
       "3                  0.416646  \n",
       "4                  0.326601  \n",
       "Total          49464.000000  "
      ]
     },
     "execution_count": 57,
     "metadata": {},
     "output_type": "execute_result"
    }
   ],
   "source": [
    "ratio_df_hue"
   ]
  },
  {
   "cell_type": "code",
   "execution_count": 58,
   "id": "e8e8a790-1b80-4bc9-b010-748dfdd0cd54",
   "metadata": {},
   "outputs": [
    {
     "data": {
      "text/html": [
       "<div>\n",
       "<style scoped>\n",
       "    .dataframe tbody tr th:only-of-type {\n",
       "        vertical-align: middle;\n",
       "    }\n",
       "\n",
       "    .dataframe tbody tr th {\n",
       "        vertical-align: top;\n",
       "    }\n",
       "\n",
       "    .dataframe thead th {\n",
       "        text-align: right;\n",
       "    }\n",
       "</style>\n",
       "<table border=\"1\" class=\"dataframe\">\n",
       "  <thead>\n",
       "    <tr style=\"text-align: right;\">\n",
       "      <th>job_code_seq1</th>\n",
       "      <th>경영·기획·회계·사무</th>\n",
       "      <th>디자인</th>\n",
       "      <th>영업·판매·TM</th>\n",
       "      <th>재료·화학·섬유·의복</th>\n",
       "      <th>Total</th>\n",
       "    </tr>\n",
       "    <tr>\n",
       "      <th>education</th>\n",
       "      <th></th>\n",
       "      <th></th>\n",
       "      <th></th>\n",
       "      <th></th>\n",
       "      <th></th>\n",
       "    </tr>\n",
       "  </thead>\n",
       "  <tbody>\n",
       "    <tr>\n",
       "      <th>2</th>\n",
       "      <td>1.174192</td>\n",
       "      <td>1.391403</td>\n",
       "      <td>1.232660</td>\n",
       "      <td>0.962950</td>\n",
       "      <td>0.256550</td>\n",
       "    </tr>\n",
       "    <tr>\n",
       "      <th>3</th>\n",
       "      <td>0.907194</td>\n",
       "      <td>0.842221</td>\n",
       "      <td>0.950473</td>\n",
       "      <td>1.015611</td>\n",
       "      <td>0.416646</td>\n",
       "    </tr>\n",
       "    <tr>\n",
       "      <th>4</th>\n",
       "      <td>0.982182</td>\n",
       "      <td>0.891173</td>\n",
       "      <td>0.881042</td>\n",
       "      <td>1.009318</td>\n",
       "      <td>0.326601</td>\n",
       "    </tr>\n",
       "    <tr>\n",
       "      <th>Total</th>\n",
       "      <td>2098.000000</td>\n",
       "      <td>2807.000000</td>\n",
       "      <td>702.000000</td>\n",
       "      <td>43826.000000</td>\n",
       "      <td>49464.000000</td>\n",
       "    </tr>\n",
       "  </tbody>\n",
       "</table>\n",
       "</div>"
      ],
      "text/plain": [
       "job_code_seq1  경영·기획·회계·사무          디자인    영업·판매·TM   재료·화학·섬유·의복  \\\n",
       "education                                                           \n",
       "2                 1.174192     1.391403    1.232660      0.962950   \n",
       "3                 0.907194     0.842221    0.950473      1.015611   \n",
       "4                 0.982182     0.891173    0.881042      1.009318   \n",
       "Total          2098.000000  2807.000000  702.000000  43826.000000   \n",
       "\n",
       "job_code_seq1         Total  \n",
       "education                    \n",
       "2                  0.256550  \n",
       "3                  0.416646  \n",
       "4                  0.326601  \n",
       "Total          49464.000000  "
      ]
     },
     "execution_count": 58,
     "metadata": {},
     "output_type": "execute_result"
    }
   ],
   "source": [
    "ratio_df_hue_ratio"
   ]
  },
  {
   "cell_type": "code",
   "execution_count": 59,
   "id": "134f26bc-94fc-4d23-b633-184cdac3cdfc",
   "metadata": {},
   "outputs": [
    {
     "data": {
      "image/png": "[encoded data removed]",
      "text/plain": [
       "<Figure size 640x480 with 2 Axes>"
      ]
     },
     "metadata": {},
     "output_type": "display_data"
    }
   ],
   "source": [
    "sns.heatmap(ratio_df_hue_ratio.iloc[:-1, :-1], cmap=\"Blues\", annot=True, fmt=\".3f\")\n",
    "plt.yticks(rotation=0)  # Adjust the rotation angle here (0 for horizontal, 90 for vertical)\n",
    "plt.show()"
   ]
  },
  {
   "cell_type": "markdown",
   "id": "7c97296b-0383-4418-a049-50b1f3cf64e4",
   "metadata": {},
   "source": [
    "### job_code_seq1 : major_task"
   ]
  },
  {
   "cell_type": "code",
   "execution_count": 60,
   "id": "847cef0d-f77b-422a-b3c5-43930037582d",
   "metadata": {},
   "outputs": [],
   "source": [
    "count_df = create_count_dataframe(merged_df, 'major_task', 'job_code_seq1')\n",
    "ratio_df_hue, ratio_df_hue_ratio = calculate_ratio_df_with_hue(merged_df, 'major_task', 'job_code_seq1', limit_ratio)"
   ]
  },
  {
   "cell_type": "code",
   "execution_count": 61,
   "id": "ebdf8393-1ceb-4e9e-a93b-640b4c8f0779",
   "metadata": {},
   "outputs": [
    {
     "data": {
      "text/html": [
       "<div>\n",
       "<style scoped>\n",
       "    .dataframe tbody tr th:only-of-type {\n",
       "        vertical-align: middle;\n",
       "    }\n",
       "\n",
       "    .dataframe tbody tr th {\n",
       "        vertical-align: top;\n",
       "    }\n",
       "\n",
       "    .dataframe thead th {\n",
       "        text-align: right;\n",
       "    }\n",
       "</style>\n",
       "<table border=\"1\" class=\"dataframe\">\n",
       "  <thead>\n",
       "    <tr style=\"text-align: right;\">\n",
       "      <th>job_code_seq1</th>\n",
       "      <th>IT·게임</th>\n",
       "      <th>건설·기계·전기·전자</th>\n",
       "      <th>경영·기획·회계·사무</th>\n",
       "      <th>기타 직종</th>\n",
       "      <th>디자인</th>\n",
       "      <th>문화·예술·신문·방송</th>\n",
       "      <th>영업·판매·TM</th>\n",
       "      <th>재료·화학·섬유·의복</th>\n",
       "      <th>전문·교육·자격</th>\n",
       "      <th>Total</th>\n",
       "    </tr>\n",
       "    <tr>\n",
       "      <th>major_task</th>\n",
       "      <th></th>\n",
       "      <th></th>\n",
       "      <th></th>\n",
       "      <th></th>\n",
       "      <th></th>\n",
       "      <th></th>\n",
       "      <th></th>\n",
       "      <th></th>\n",
       "      <th></th>\n",
       "      <th></th>\n",
       "    </tr>\n",
       "  </thead>\n",
       "  <tbody>\n",
       "    <tr>\n",
       "      <th>1</th>\n",
       "      <td>0</td>\n",
       "      <td>0</td>\n",
       "      <td>14</td>\n",
       "      <td>0</td>\n",
       "      <td>23</td>\n",
       "      <td>0</td>\n",
       "      <td>2</td>\n",
       "      <td>179</td>\n",
       "      <td>0</td>\n",
       "      <td>218</td>\n",
       "    </tr>\n",
       "    <tr>\n",
       "      <th>2</th>\n",
       "      <td>2</td>\n",
       "      <td>16</td>\n",
       "      <td>2040</td>\n",
       "      <td>1</td>\n",
       "      <td>2547</td>\n",
       "      <td>3</td>\n",
       "      <td>693</td>\n",
       "      <td>41636</td>\n",
       "      <td>8</td>\n",
       "      <td>46946</td>\n",
       "    </tr>\n",
       "    <tr>\n",
       "      <th>6</th>\n",
       "      <td>0</td>\n",
       "      <td>0</td>\n",
       "      <td>0</td>\n",
       "      <td>0</td>\n",
       "      <td>0</td>\n",
       "      <td>0</td>\n",
       "      <td>0</td>\n",
       "      <td>4</td>\n",
       "      <td>0</td>\n",
       "      <td>4</td>\n",
       "    </tr>\n",
       "    <tr>\n",
       "      <th>7</th>\n",
       "      <td>0</td>\n",
       "      <td>0</td>\n",
       "      <td>19</td>\n",
       "      <td>0</td>\n",
       "      <td>70</td>\n",
       "      <td>1</td>\n",
       "      <td>4</td>\n",
       "      <td>583</td>\n",
       "      <td>0</td>\n",
       "      <td>677</td>\n",
       "    </tr>\n",
       "    <tr>\n",
       "      <th>8</th>\n",
       "      <td>0</td>\n",
       "      <td>0</td>\n",
       "      <td>25</td>\n",
       "      <td>0</td>\n",
       "      <td>166</td>\n",
       "      <td>0</td>\n",
       "      <td>3</td>\n",
       "      <td>1397</td>\n",
       "      <td>0</td>\n",
       "      <td>1591</td>\n",
       "    </tr>\n",
       "    <tr>\n",
       "      <th>9</th>\n",
       "      <td>0</td>\n",
       "      <td>0</td>\n",
       "      <td>0</td>\n",
       "      <td>0</td>\n",
       "      <td>1</td>\n",
       "      <td>0</td>\n",
       "      <td>0</td>\n",
       "      <td>14</td>\n",
       "      <td>0</td>\n",
       "      <td>15</td>\n",
       "    </tr>\n",
       "    <tr>\n",
       "      <th>10</th>\n",
       "      <td>0</td>\n",
       "      <td>0</td>\n",
       "      <td>0</td>\n",
       "      <td>0</td>\n",
       "      <td>0</td>\n",
       "      <td>0</td>\n",
       "      <td>0</td>\n",
       "      <td>13</td>\n",
       "      <td>0</td>\n",
       "      <td>13</td>\n",
       "    </tr>\n",
       "    <tr>\n",
       "      <th>Total</th>\n",
       "      <td>2</td>\n",
       "      <td>16</td>\n",
       "      <td>2098</td>\n",
       "      <td>1</td>\n",
       "      <td>2807</td>\n",
       "      <td>4</td>\n",
       "      <td>702</td>\n",
       "      <td>43826</td>\n",
       "      <td>8</td>\n",
       "      <td>49464</td>\n",
       "    </tr>\n",
       "  </tbody>\n",
       "</table>\n",
       "</div>"
      ],
      "text/plain": [
       "job_code_seq1  IT·게임  건설·기계·전기·전자  경영·기획·회계·사무  기타 직종   디자인  문화·예술·신문·방송  \\\n",
       "major_task                                                                 \n",
       "1                  0            0           14      0    23            0   \n",
       "2                  2           16         2040      1  2547            3   \n",
       "6                  0            0            0      0     0            0   \n",
       "7                  0            0           19      0    70            1   \n",
       "8                  0            0           25      0   166            0   \n",
       "9                  0            0            0      0     1            0   \n",
       "10                 0            0            0      0     0            0   \n",
       "Total              2           16         2098      1  2807            4   \n",
       "\n",
       "job_code_seq1  영업·판매·TM  재료·화학·섬유·의복  전문·교육·자격  Total  \n",
       "major_task                                             \n",
       "1                     2          179         0    218  \n",
       "2                   693        41636         8  46946  \n",
       "6                     0            4         0      4  \n",
       "7                     4          583         0    677  \n",
       "8                     3         1397         0   1591  \n",
       "9                     0           14         0     15  \n",
       "10                    0           13         0     13  \n",
       "Total               702        43826         8  49464  "
      ]
     },
     "execution_count": 61,
     "metadata": {},
     "output_type": "execute_result"
    }
   ],
   "source": [
    "count_df"
   ]
  },
  {
   "cell_type": "code",
   "execution_count": 62,
   "id": "6c30ccf0-f3b2-4804-91f4-e77723b2fe36",
   "metadata": {},
   "outputs": [
    {
     "name": "stdout",
     "output_type": "stream",
     "text": [
      "Chi-square Statistic: 181.95176066507483\n",
      "P-value: 1.8070964022204747e-17\n",
      "Degrees of Freedom: 48\n",
      "Expected Frequencies:\n",
      "job_code_seq1     IT·게임  건설·기계·전기·전자  경영·기획·회계·사무     기타 직종          디자인  \\\n",
      "major_task                                                                 \n",
      "1              0.008814     0.070516     9.246401  0.004407    12.371139   \n",
      "2              1.898189    15.185509  1991.199822  0.949094  2664.107674   \n",
      "6              0.000162     0.001294     0.169659  0.000081     0.226993   \n",
      "7              0.027373     0.218988    28.714742  0.013687    38.418628   \n",
      "8              0.064330     0.514637    67.481765  0.032165    90.286612   \n",
      "9              0.000607     0.004852     0.636220  0.000303     0.851225   \n",
      "10             0.000526     0.004205     0.551391  0.000263     0.737728   \n",
      "\n",
      "job_code_seq1  문화·예술·신문·방송    영업·판매·TM   재료·화학·섬유·의복  전문·교육·자격  \n",
      "major_task                                                      \n",
      "1                 0.017629    3.093886    193.151949  0.035258  \n",
      "2                 3.796377  666.264192  41595.006388  7.592754  \n",
      "6                 0.000323    0.056769      3.544072  0.000647  \n",
      "7                 0.054747    9.608079    599.834263  0.109494  \n",
      "8                 0.128659   22.579694   1409.654820  0.257318  \n",
      "9                 0.001213    0.212882     13.290272  0.002426  \n",
      "10                0.001051    0.184498     11.518235  0.002103  \n"
     ]
    }
   ],
   "source": [
    "analyze_chi_square(count_df);"
   ]
  },
  {
   "cell_type": "code",
   "execution_count": 63,
   "id": "155ea5df-4ce6-4d38-b35f-f081ada419f1",
   "metadata": {},
   "outputs": [
    {
     "data": {
      "text/html": [
       "<div>\n",
       "<style scoped>\n",
       "    .dataframe tbody tr th:only-of-type {\n",
       "        vertical-align: middle;\n",
       "    }\n",
       "\n",
       "    .dataframe tbody tr th {\n",
       "        vertical-align: top;\n",
       "    }\n",
       "\n",
       "    .dataframe thead th {\n",
       "        text-align: right;\n",
       "    }\n",
       "</style>\n",
       "<table border=\"1\" class=\"dataframe\">\n",
       "  <thead>\n",
       "    <tr style=\"text-align: right;\">\n",
       "      <th>job_code_seq1</th>\n",
       "      <th>경영·기획·회계·사무</th>\n",
       "      <th>디자인</th>\n",
       "      <th>영업·판매·TM</th>\n",
       "      <th>재료·화학·섬유·의복</th>\n",
       "      <th>Total</th>\n",
       "    </tr>\n",
       "    <tr>\n",
       "      <th>major_task</th>\n",
       "      <th></th>\n",
       "      <th></th>\n",
       "      <th></th>\n",
       "      <th></th>\n",
       "      <th></th>\n",
       "    </tr>\n",
       "  </thead>\n",
       "  <tbody>\n",
       "    <tr>\n",
       "      <th>2</th>\n",
       "      <td>1.024508</td>\n",
       "      <td>0.956042</td>\n",
       "      <td>1.040128</td>\n",
       "      <td>1.000986</td>\n",
       "      <td>0.949094</td>\n",
       "    </tr>\n",
       "    <tr>\n",
       "      <th>7</th>\n",
       "      <td>0.661681</td>\n",
       "      <td>1.822033</td>\n",
       "      <td>0.416316</td>\n",
       "      <td>0.971935</td>\n",
       "      <td>0.013687</td>\n",
       "    </tr>\n",
       "    <tr>\n",
       "      <th>8</th>\n",
       "      <td>0.370470</td>\n",
       "      <td>1.838589</td>\n",
       "      <td>0.132863</td>\n",
       "      <td>0.991023</td>\n",
       "      <td>0.032165</td>\n",
       "    </tr>\n",
       "    <tr>\n",
       "      <th>Total</th>\n",
       "      <td>2098.000000</td>\n",
       "      <td>2807.000000</td>\n",
       "      <td>702.000000</td>\n",
       "      <td>43826.000000</td>\n",
       "      <td>49464.000000</td>\n",
       "    </tr>\n",
       "  </tbody>\n",
       "</table>\n",
       "</div>"
      ],
      "text/plain": [
       "job_code_seq1  경영·기획·회계·사무          디자인    영업·판매·TM   재료·화학·섬유·의복  \\\n",
       "major_task                                                          \n",
       "2                 1.024508     0.956042    1.040128      1.000986   \n",
       "7                 0.661681     1.822033    0.416316      0.971935   \n",
       "8                 0.370470     1.838589    0.132863      0.991023   \n",
       "Total          2098.000000  2807.000000  702.000000  43826.000000   \n",
       "\n",
       "job_code_seq1         Total  \n",
       "major_task                   \n",
       "2                  0.949094  \n",
       "7                  0.013687  \n",
       "8                  0.032165  \n",
       "Total          49464.000000  "
      ]
     },
     "execution_count": 63,
     "metadata": {},
     "output_type": "execute_result"
    }
   ],
   "source": [
    "ratio_df_hue_ratio"
   ]
  },
  {
   "cell_type": "code",
   "execution_count": 64,
   "id": "70cf00fa-f406-4c30-82c0-3224c67bbf0f",
   "metadata": {},
   "outputs": [
    {
     "data": {
      "image/png": "[encoded data removed]",
      "text/plain": [
       "<Figure size 640x480 with 2 Axes>"
      ]
     },
     "metadata": {},
     "output_type": "display_data"
    }
   ],
   "source": [
    "sns.heatmap(ratio_df_hue_ratio.iloc[:-1, :-1], cmap=\"Blues\", annot=True, fmt=\".3f\")\n",
    "plt.yticks(rotation=0)  # Adjust the rotation angle here (0 for horizontal, 90 for vertical)\n",
    "plt.show()"
   ]
  },
  {
   "cell_type": "markdown",
   "id": "591fc130-9abe-4292-9d9c-d6746e0ff0ab",
   "metadata": {},
   "source": [
    "### job_code_seq1 : qualifications"
   ]
  },
  {
   "cell_type": "code",
   "execution_count": 65,
   "id": "8aa0a7ab-dfb9-4866-8bd3-443eb4d9d2e7",
   "metadata": {},
   "outputs": [],
   "source": [
    "count_df = create_count_dataframe(merged_df, 'qualifications', 'job_code_seq1')\n",
    "ratio_df_hue, ratio_df_hue_ratio = calculate_ratio_df_with_hue(merged_df, 'qualifications', 'job_code_seq1', limit_ratio)"
   ]
  },
  {
   "cell_type": "code",
   "execution_count": 66,
   "id": "297bb70b-e1ff-4464-9c0b-94bb1609ef4d",
   "metadata": {},
   "outputs": [
    {
     "data": {
      "text/html": [
       "<div>\n",
       "<style scoped>\n",
       "    .dataframe tbody tr th:only-of-type {\n",
       "        vertical-align: middle;\n",
       "    }\n",
       "\n",
       "    .dataframe tbody tr th {\n",
       "        vertical-align: top;\n",
       "    }\n",
       "\n",
       "    .dataframe thead th {\n",
       "        text-align: right;\n",
       "    }\n",
       "</style>\n",
       "<table border=\"1\" class=\"dataframe\">\n",
       "  <thead>\n",
       "    <tr style=\"text-align: right;\">\n",
       "      <th>job_code_seq1</th>\n",
       "      <th>IT·게임</th>\n",
       "      <th>건설·기계·전기·전자</th>\n",
       "      <th>경영·기획·회계·사무</th>\n",
       "      <th>기타 직종</th>\n",
       "      <th>디자인</th>\n",
       "      <th>문화·예술·신문·방송</th>\n",
       "      <th>영업·판매·TM</th>\n",
       "      <th>재료·화학·섬유·의복</th>\n",
       "      <th>전문·교육·자격</th>\n",
       "      <th>Total</th>\n",
       "    </tr>\n",
       "    <tr>\n",
       "      <th>qualifications</th>\n",
       "      <th></th>\n",
       "      <th></th>\n",
       "      <th></th>\n",
       "      <th></th>\n",
       "      <th></th>\n",
       "      <th></th>\n",
       "      <th></th>\n",
       "      <th></th>\n",
       "      <th></th>\n",
       "      <th></th>\n",
       "    </tr>\n",
       "  </thead>\n",
       "  <tbody>\n",
       "    <tr>\n",
       "      <th>0</th>\n",
       "      <td>0</td>\n",
       "      <td>1</td>\n",
       "      <td>28</td>\n",
       "      <td>0</td>\n",
       "      <td>94</td>\n",
       "      <td>0</td>\n",
       "      <td>3</td>\n",
       "      <td>230</td>\n",
       "      <td>0</td>\n",
       "      <td>356</td>\n",
       "    </tr>\n",
       "    <tr>\n",
       "      <th>1</th>\n",
       "      <td>2</td>\n",
       "      <td>9</td>\n",
       "      <td>1296</td>\n",
       "      <td>1</td>\n",
       "      <td>1867</td>\n",
       "      <td>1</td>\n",
       "      <td>496</td>\n",
       "      <td>28699</td>\n",
       "      <td>7</td>\n",
       "      <td>32378</td>\n",
       "    </tr>\n",
       "    <tr>\n",
       "      <th>2</th>\n",
       "      <td>0</td>\n",
       "      <td>6</td>\n",
       "      <td>774</td>\n",
       "      <td>0</td>\n",
       "      <td>846</td>\n",
       "      <td>3</td>\n",
       "      <td>203</td>\n",
       "      <td>14897</td>\n",
       "      <td>1</td>\n",
       "      <td>16730</td>\n",
       "    </tr>\n",
       "    <tr>\n",
       "      <th>Total</th>\n",
       "      <td>2</td>\n",
       "      <td>16</td>\n",
       "      <td>2098</td>\n",
       "      <td>1</td>\n",
       "      <td>2807</td>\n",
       "      <td>4</td>\n",
       "      <td>702</td>\n",
       "      <td>43826</td>\n",
       "      <td>8</td>\n",
       "      <td>49464</td>\n",
       "    </tr>\n",
       "  </tbody>\n",
       "</table>\n",
       "</div>"
      ],
      "text/plain": [
       "job_code_seq1   IT·게임  건설·기계·전기·전자  경영·기획·회계·사무  기타 직종   디자인  문화·예술·신문·방송  \\\n",
       "qualifications                                                              \n",
       "0                   0            1           28      0    94            0   \n",
       "1                   2            9         1296      1  1867            1   \n",
       "2                   0            6          774      0   846            3   \n",
       "Total               2           16         2098      1  2807            4   \n",
       "\n",
       "job_code_seq1   영업·판매·TM  재료·화학·섬유·의복  전문·교육·자격  Total  \n",
       "qualifications                                          \n",
       "0                      3          230         0    356  \n",
       "1                    496        28699         7  32378  \n",
       "2                    203        14897         1  16730  \n",
       "Total                702        43826         8  49464  "
      ]
     },
     "execution_count": 66,
     "metadata": {},
     "output_type": "execute_result"
    }
   ],
   "source": [
    "count_df"
   ]
  },
  {
   "cell_type": "code",
   "execution_count": 67,
   "id": "5199b991-6774-4e13-a1ba-4c3ab0d2b84f",
   "metadata": {},
   "outputs": [
    {
     "name": "stdout",
     "output_type": "stream",
     "text": [
      "Chi-square Statistic: 348.1787102996088\n",
      "P-value: 2.481101723598269e-64\n",
      "Degrees of Freedom: 16\n",
      "Expected Frequencies:\n",
      "job_code_seq1      IT·게임  건설·기계·전기·전자  경영·기획·회계·사무     기타 직종          디자인  \\\n",
      "qualifications                                                              \n",
      "0               0.014394     0.115154    15.099628  0.007197    20.202410   \n",
      "1               1.309154    10.473233  1373.302685  0.654577  1837.397825   \n",
      "2               0.676452     5.411612   709.597687  0.338226   949.399765   \n",
      "\n",
      "job_code_seq1   문화·예술·신문·방송    영업·판매·TM   재료·화학·섬유·의복  전문·교육·자격  \n",
      "qualifications                                                   \n",
      "0                  0.028789    5.052402    315.422449  0.057577  \n",
      "1                  2.618308  459.513100  28687.494501  5.236617  \n",
      "2                  1.352903  237.434498  14823.083050  2.705806  \n"
     ]
    }
   ],
   "source": [
    "analyze_chi_square(count_df);"
   ]
  },
  {
   "cell_type": "code",
   "execution_count": 68,
   "id": "6eedca00-014f-4130-858f-7dc472bc12cf",
   "metadata": {},
   "outputs": [
    {
     "data": {
      "text/html": [
       "<div>\n",
       "<style scoped>\n",
       "    .dataframe tbody tr th:only-of-type {\n",
       "        vertical-align: middle;\n",
       "    }\n",
       "\n",
       "    .dataframe tbody tr th {\n",
       "        vertical-align: top;\n",
       "    }\n",
       "\n",
       "    .dataframe thead th {\n",
       "        text-align: right;\n",
       "    }\n",
       "</style>\n",
       "<table border=\"1\" class=\"dataframe\">\n",
       "  <thead>\n",
       "    <tr style=\"text-align: right;\">\n",
       "      <th>job_code_seq1</th>\n",
       "      <th>경영·기획·회계·사무</th>\n",
       "      <th>디자인</th>\n",
       "      <th>영업·판매·TM</th>\n",
       "      <th>재료·화학·섬유·의복</th>\n",
       "      <th>Total</th>\n",
       "    </tr>\n",
       "    <tr>\n",
       "      <th>qualifications</th>\n",
       "      <th></th>\n",
       "      <th></th>\n",
       "      <th></th>\n",
       "      <th></th>\n",
       "      <th></th>\n",
       "    </tr>\n",
       "  </thead>\n",
       "  <tbody>\n",
       "    <tr>\n",
       "      <th>0</th>\n",
       "      <td>1.854350</td>\n",
       "      <td>4.652910</td>\n",
       "      <td>0.593777</td>\n",
       "      <td>0.729181</td>\n",
       "      <td>0.007197</td>\n",
       "    </tr>\n",
       "    <tr>\n",
       "      <th>1</th>\n",
       "      <td>0.943710</td>\n",
       "      <td>1.016111</td>\n",
       "      <td>1.079403</td>\n",
       "      <td>1.000401</td>\n",
       "      <td>0.654577</td>\n",
       "    </tr>\n",
       "    <tr>\n",
       "      <th>2</th>\n",
       "      <td>1.090759</td>\n",
       "      <td>0.891089</td>\n",
       "      <td>0.854973</td>\n",
       "      <td>1.004987</td>\n",
       "      <td>0.338226</td>\n",
       "    </tr>\n",
       "    <tr>\n",
       "      <th>Total</th>\n",
       "      <td>2098.000000</td>\n",
       "      <td>2807.000000</td>\n",
       "      <td>702.000000</td>\n",
       "      <td>43826.000000</td>\n",
       "      <td>49464.000000</td>\n",
       "    </tr>\n",
       "  </tbody>\n",
       "</table>\n",
       "</div>"
      ],
      "text/plain": [
       "job_code_seq1   경영·기획·회계·사무          디자인    영업·판매·TM   재료·화학·섬유·의복  \\\n",
       "qualifications                                                       \n",
       "0                  1.854350     4.652910    0.593777      0.729181   \n",
       "1                  0.943710     1.016111    1.079403      1.000401   \n",
       "2                  1.090759     0.891089    0.854973      1.004987   \n",
       "Total           2098.000000  2807.000000  702.000000  43826.000000   \n",
       "\n",
       "job_code_seq1          Total  \n",
       "qualifications                \n",
       "0                   0.007197  \n",
       "1                   0.654577  \n",
       "2                   0.338226  \n",
       "Total           49464.000000  "
      ]
     },
     "execution_count": 68,
     "metadata": {},
     "output_type": "execute_result"
    }
   ],
   "source": [
    "ratio_df_hue_ratio"
   ]
  },
  {
   "cell_type": "code",
   "execution_count": 69,
   "id": "f66f4b87-f91d-467b-8f5a-72505fe7225d",
   "metadata": {},
   "outputs": [
    {
     "data": {
      "image/png": "[encoded data removed]",
      "text/plain": [
       "<Figure size 640x480 with 2 Axes>"
      ]
     },
     "metadata": {},
     "output_type": "display_data"
    }
   ],
   "source": [
    "sns.heatmap(ratio_df_hue_ratio.iloc[:-1, :-1], cmap=\"Blues\", annot=True, fmt=\".3f\")\n",
    "plt.yticks(rotation=0)  # Adjust the rotation angle here (0 for horizontal, 90 for vertical)\n",
    "plt.show()"
   ]
  },
  {
   "cell_type": "markdown",
   "id": "fbe4e9c9-471b-4994-846f-566259b0f9c7",
   "metadata": {},
   "source": [
    "# 인기도 가중치"
   ]
  },
  {
   "cell_type": "code",
   "execution_count": 70,
   "id": "4b039f03-eb4a-4ccb-b411-aeb587b959d5",
   "metadata": {},
   "outputs": [],
   "source": [
    "mms = MinMaxScaler()\n",
    "stds = StandardScaler()"
   ]
  },
  {
   "cell_type": "markdown",
   "id": "a0310cf2-c31f-47b3-a6fc-9f401b620788",
   "metadata": {},
   "source": [
    "## degree"
   ]
  },
  {
   "cell_type": "markdown",
   "id": "dc82f5ce-519a-4904-9584-03479521f46f",
   "metadata": {},
   "source": [
    "### degree별 공고 지원 수"
   ]
  },
  {
   "cell_type": "code",
   "execution_count": 71,
   "id": "06efbe7e-f717-459b-b476-4a09aee34a8e",
   "metadata": {},
   "outputs": [],
   "source": [
    "degree_pop = merged_df.groupby(['degree', 'recruitment_seq']).size().to_frame().reset_index()\n",
    "degree_pop.rename(columns={0:'count'}, inplace=True)\n",
    "degree_pop = degree_pop.sort_values(['degree', 'count'], ascending=[True,False])"
   ]
  },
  {
   "cell_type": "code",
   "execution_count": 72,
   "id": "72fb149a-2ee0-43b0-adee-117328194534",
   "metadata": {},
   "outputs": [],
   "source": [
    "degree_pop['score'] = degree_pop.groupby('degree')['count'].apply(lambda g: g/max(g))"
   ]
  },
  {
   "cell_type": "markdown",
   "id": "40883a40-09f2-40e6-bce5-c102bb2ae124",
   "metadata": {},
   "source": [
    "### 단순 인기도 가중치"
   ]
  },
  {
   "cell_type": "code",
   "execution_count": 73,
   "id": "64e5617d-5917-4437-9a5a-6085de190eed",
   "metadata": {},
   "outputs": [],
   "source": [
    "degree_pop_top5 = degree_pop.groupby('degree').apply(lambda g: g.nlargest(5, 'count')).reset_index(drop=True)"
   ]
  },
  {
   "cell_type": "code",
   "execution_count": 74,
   "id": "4295a4ee-274b-4ca3-8cc5-43026445e0cb",
   "metadata": {},
   "outputs": [
    {
     "data": {
      "text/html": [
       "<div>\n",
       "<style scoped>\n",
       "    .dataframe tbody tr th:only-of-type {\n",
       "        vertical-align: middle;\n",
       "    }\n",
       "\n",
       "    .dataframe tbody tr th {\n",
       "        vertical-align: top;\n",
       "    }\n",
       "\n",
       "    .dataframe thead th {\n",
       "        text-align: right;\n",
       "    }\n",
       "</style>\n",
       "<table border=\"1\" class=\"dataframe\">\n",
       "  <thead>\n",
       "    <tr style=\"text-align: right;\">\n",
       "      <th></th>\n",
       "      <th>resume_seq</th>\n",
       "      <th>recruitment_seq</th>\n",
       "    </tr>\n",
       "  </thead>\n",
       "  <tbody>\n",
       "    <tr>\n",
       "      <th>0</th>\n",
       "      <td>U00606</td>\n",
       "      <td>R01214</td>\n",
       "    </tr>\n",
       "    <tr>\n",
       "      <th>1</th>\n",
       "      <td>U00606</td>\n",
       "      <td>R03237</td>\n",
       "    </tr>\n",
       "    <tr>\n",
       "      <th>2</th>\n",
       "      <td>U00606</td>\n",
       "      <td>R00056</td>\n",
       "    </tr>\n",
       "    <tr>\n",
       "      <th>3</th>\n",
       "      <td>U00606</td>\n",
       "      <td>R04066</td>\n",
       "    </tr>\n",
       "    <tr>\n",
       "      <th>4</th>\n",
       "      <td>U00606</td>\n",
       "      <td>R04200</td>\n",
       "    </tr>\n",
       "  </tbody>\n",
       "</table>\n",
       "</div>"
      ],
      "text/plain": [
       "  resume_seq recruitment_seq\n",
       "0     U00606          R01214\n",
       "1     U00606          R03237\n",
       "2     U00606          R00056\n",
       "3     U00606          R04066\n",
       "4     U00606          R04200"
      ]
     },
     "execution_count": 74,
     "metadata": {},
     "output_type": "execute_result"
    }
   ],
   "source": [
    "sbm_pop_only = resume[['resume_seq', 'degree']].merge(degree_pop_top5[['recruitment_seq', 'degree']],\n",
    "                                       how='inner', on='degree')\n",
    "sbm_pop_only = sbm_pop_only.drop('degree', axis=1)\n",
    "sbm_pop_only.head()"
   ]
  },
  {
   "cell_type": "code",
   "execution_count": 75,
   "id": "80e0c301-c599-4241-b83b-bd9918648518",
   "metadata": {},
   "outputs": [
    {
     "data": {
      "text/plain": [
       "0.0010139118132515919"
      ]
     },
     "execution_count": 75,
     "metadata": {},
     "output_type": "execute_result"
    }
   ],
   "source": [
    "calculate_precision_at_k(test, sbm_pop_only, 5)"
   ]
  },
  {
   "cell_type": "code",
   "execution_count": 76,
   "id": "d372c327-492e-4238-945c-11ea2e330008",
   "metadata": {
    "scrolled": true
   },
   "outputs": [
    {
     "data": {
      "text/plain": [
       "0.005069559066257958"
      ]
     },
     "execution_count": 76,
     "metadata": {},
     "output_type": "execute_result"
    }
   ],
   "source": [
    "recall5_dacon(test, sbm_pop_only)"
   ]
  },
  {
   "cell_type": "markdown",
   "id": "b0dadfe0-f539-4c39-a807-1a97dc6749c8",
   "metadata": {},
   "source": [
    "### 비율 가중치"
   ]
  },
  {
   "cell_type": "code",
   "execution_count": 77,
   "id": "191ef8dd-f295-422d-b501-14ff191400e3",
   "metadata": {},
   "outputs": [
    {
     "data": {
      "text/html": [
       "<div>\n",
       "<style scoped>\n",
       "    .dataframe tbody tr th:only-of-type {\n",
       "        vertical-align: middle;\n",
       "    }\n",
       "\n",
       "    .dataframe tbody tr th {\n",
       "        vertical-align: top;\n",
       "    }\n",
       "\n",
       "    .dataframe thead th {\n",
       "        text-align: right;\n",
       "    }\n",
       "</style>\n",
       "<table border=\"1\" class=\"dataframe\">\n",
       "  <thead>\n",
       "    <tr style=\"text-align: right;\">\n",
       "      <th></th>\n",
       "      <th>degree</th>\n",
       "      <th>recruitment_seq</th>\n",
       "      <th>count</th>\n",
       "      <th>score</th>\n",
       "      <th>address_seq1</th>\n",
       "      <th>education</th>\n",
       "      <th>major_task</th>\n",
       "      <th>qualifications</th>\n",
       "    </tr>\n",
       "  </thead>\n",
       "  <tbody>\n",
       "    <tr>\n",
       "      <th>0</th>\n",
       "      <td>2</td>\n",
       "      <td>R04150</td>\n",
       "      <td>4</td>\n",
       "      <td>1.000000</td>\n",
       "      <td>3.0</td>\n",
       "      <td>3</td>\n",
       "      <td>2</td>\n",
       "      <td>1</td>\n",
       "    </tr>\n",
       "    <tr>\n",
       "      <th>1</th>\n",
       "      <td>3</td>\n",
       "      <td>R04150</td>\n",
       "      <td>0</td>\n",
       "      <td>0.000000</td>\n",
       "      <td>3.0</td>\n",
       "      <td>3</td>\n",
       "      <td>2</td>\n",
       "      <td>1</td>\n",
       "    </tr>\n",
       "    <tr>\n",
       "      <th>2</th>\n",
       "      <td>4</td>\n",
       "      <td>R04150</td>\n",
       "      <td>6</td>\n",
       "      <td>0.107143</td>\n",
       "      <td>3.0</td>\n",
       "      <td>3</td>\n",
       "      <td>2</td>\n",
       "      <td>1</td>\n",
       "    </tr>\n",
       "    <tr>\n",
       "      <th>3</th>\n",
       "      <td>5</td>\n",
       "      <td>R04150</td>\n",
       "      <td>1</td>\n",
       "      <td>0.166667</td>\n",
       "      <td>3.0</td>\n",
       "      <td>3</td>\n",
       "      <td>2</td>\n",
       "      <td>1</td>\n",
       "    </tr>\n",
       "    <tr>\n",
       "      <th>4</th>\n",
       "      <td>6</td>\n",
       "      <td>R04150</td>\n",
       "      <td>0</td>\n",
       "      <td>0.000000</td>\n",
       "      <td>3.0</td>\n",
       "      <td>3</td>\n",
       "      <td>2</td>\n",
       "      <td>1</td>\n",
       "    </tr>\n",
       "  </tbody>\n",
       "</table>\n",
       "</div>"
      ],
      "text/plain": [
       "  degree recruitment_seq  count     score address_seq1 education major_task  \\\n",
       "0      2          R04150      4  1.000000          3.0         3          2   \n",
       "1      3          R04150      0  0.000000          3.0         3          2   \n",
       "2      4          R04150      6  0.107143          3.0         3          2   \n",
       "3      5          R04150      1  0.166667          3.0         3          2   \n",
       "4      6          R04150      0  0.000000          3.0         3          2   \n",
       "\n",
       "  qualifications  \n",
       "0              1  \n",
       "1              1  \n",
       "2              1  \n",
       "3              1  \n",
       "4              1  "
      ]
     },
     "execution_count": 77,
     "metadata": {},
     "output_type": "execute_result"
    }
   ],
   "source": [
    "degree_pop = degree_pop.merge(recruitment, how='inner', on='recruitment_seq')\n",
    "degree_pop.head()"
   ]
  },
  {
   "cell_type": "markdown",
   "id": "405309ec-4a2e-432a-a04b-6a514446b3f3",
   "metadata": {},
   "source": [
    "#### recruitment_feature : degree 가중치"
   ]
  },
  {
   "cell_type": "code",
   "execution_count": 236,
   "id": "6c3535b4-298b-4d87-852a-18ef4a833209",
   "metadata": {},
   "outputs": [],
   "source": [
    "def create_weight_df(origin_df, popularity_df, target_cols, grouping_col, limit_ratio=0.005):\n",
    "    merged_df = popularity_df.copy()\n",
    "    weight_dfs = []\n",
    "    for target_col in target_cols:\n",
    "        _, ratio_df_hue_ratio = calculate_ratio_df_with_hue(origin_df, target_col, grouping_col, limit_ratio)\n",
    "\n",
    "        weight_df = ratio_df_hue_ratio.iloc[:-1, :-1].reset_index()\n",
    "        weight_df = weight_df.melt(id_vars=target_col, var_name=grouping_col, value_name=f'{target_col}_weight')\n",
    "        weight_dfs.append(weight_df)\n",
    "        \n",
    "        merged_df = merged_df.merge(weight_df, how='inner', on=[grouping_col, target_col])\n",
    "    return merged_df, weight_dfs"
   ]
  },
  {
   "cell_type": "code",
   "execution_count": 237,
   "id": "0a81822f-5ed8-47ba-8c5e-7bc86a11adf3",
   "metadata": {},
   "outputs": [],
   "source": [
    "degree_weight_pop, weight_dfs = create_weight_df(merged_df, degree_pop, ['address_seq1', 'education',\n",
    "                                                      'major_task', 'qualifications'], 'degree', limit_ratio=0.05)"
   ]
  },
  {
   "cell_type": "code",
   "execution_count": 238,
   "id": "8957c243-f173-4fd3-b2fa-55b024e57469",
   "metadata": {},
   "outputs": [],
   "source": [
    "degree_weight_pop_columns = degree_weight_pop.filter(like='_weight').columns\n",
    "degree_weight_pop['multiplied_weight'] = degree_weight_pop.loc[:, degree_weight_pop_columns].prod(axis=1)\n",
    "degree_weight_pop['w_score'] = degree_weight_pop.loc[:, ['score', 'multiplied_weight']].prod(axis=1)"
   ]
  },
  {
   "cell_type": "code",
   "execution_count": 239,
   "id": "9e8b90a3-5493-40db-be4e-f2c4dbcaf7cf",
   "metadata": {},
   "outputs": [],
   "source": [
    "degree_pop_top5 = degree_weight_pop.groupby('degree').apply(lambda g: g.nlargest(5, 'w_score')).reset_index(drop=True)"
   ]
  },
  {
   "cell_type": "code",
   "execution_count": 240,
   "id": "e43303bd-1d94-429a-ae23-471c5f9e9924",
   "metadata": {},
   "outputs": [
    {
     "data": {
      "text/html": [
       "<div>\n",
       "<style scoped>\n",
       "    .dataframe tbody tr th:only-of-type {\n",
       "        vertical-align: middle;\n",
       "    }\n",
       "\n",
       "    .dataframe tbody tr th {\n",
       "        vertical-align: top;\n",
       "    }\n",
       "\n",
       "    .dataframe thead th {\n",
       "        text-align: right;\n",
       "    }\n",
       "</style>\n",
       "<table border=\"1\" class=\"dataframe\">\n",
       "  <thead>\n",
       "    <tr style=\"text-align: right;\">\n",
       "      <th></th>\n",
       "      <th>resume_seq</th>\n",
       "      <th>recruitment_seq</th>\n",
       "    </tr>\n",
       "  </thead>\n",
       "  <tbody>\n",
       "    <tr>\n",
       "      <th>0</th>\n",
       "      <td>U00606</td>\n",
       "      <td>R01214</td>\n",
       "    </tr>\n",
       "    <tr>\n",
       "      <th>1</th>\n",
       "      <td>U00606</td>\n",
       "      <td>R03237</td>\n",
       "    </tr>\n",
       "    <tr>\n",
       "      <th>2</th>\n",
       "      <td>U00606</td>\n",
       "      <td>R00056</td>\n",
       "    </tr>\n",
       "    <tr>\n",
       "      <th>3</th>\n",
       "      <td>U00606</td>\n",
       "      <td>R04066</td>\n",
       "    </tr>\n",
       "    <tr>\n",
       "      <th>4</th>\n",
       "      <td>U00606</td>\n",
       "      <td>R04200</td>\n",
       "    </tr>\n",
       "  </tbody>\n",
       "</table>\n",
       "</div>"
      ],
      "text/plain": [
       "  resume_seq recruitment_seq\n",
       "0     U00606          R01214\n",
       "1     U00606          R03237\n",
       "2     U00606          R00056\n",
       "3     U00606          R04066\n",
       "4     U00606          R04200"
      ]
     },
     "execution_count": 240,
     "metadata": {},
     "output_type": "execute_result"
    }
   ],
   "source": [
    "sbm_pop = resume[['resume_seq', 'degree']].merge(degree_pop_top5[['recruitment_seq', 'degree']],\n",
    "                                       how='inner', on='degree')\n",
    "sbm_pop = sbm_pop.drop('degree', axis=1)\n",
    "sbm_pop.head()"
   ]
  },
  {
   "cell_type": "code",
   "execution_count": 242,
   "id": "db3e4514-fcb6-4168-8b3e-d1aa73010ff6",
   "metadata": {},
   "outputs": [
    {
     "data": {
      "text/plain": [
       "0.0010611419909044974"
      ]
     },
     "execution_count": 242,
     "metadata": {},
     "output_type": "execute_result"
    }
   ],
   "source": [
    "calculate_precision_at_k(test, sbm_pop, 5)"
   ]
  },
  {
   "cell_type": "code",
   "execution_count": 243,
   "id": "bfd6683e-3d0c-47d6-b40d-3fbeaba53367",
   "metadata": {
    "scrolled": true
   },
   "outputs": [
    {
     "data": {
      "text/plain": [
       "0.005305709954522486"
      ]
     },
     "execution_count": 243,
     "metadata": {},
     "output_type": "execute_result"
    }
   ],
   "source": [
    "recall5_dacon(test, sbm_pop)"
   ]
  },
  {
   "cell_type": "markdown",
   "id": "bbfa107b-2dd8-484f-9365-eca5db0c1ca4",
   "metadata": {},
   "source": [
    "## job_code_seq1"
   ]
  },
  {
   "cell_type": "markdown",
   "id": "3e629fb2-eeeb-4764-9800-96b7af6c8781",
   "metadata": {},
   "source": [
    "### job_code_seq1별 공고 지원 수"
   ]
  },
  {
   "cell_type": "code",
   "execution_count": 85,
   "id": "370cdb8c-c260-4c0a-bcf8-aa4e59e11281",
   "metadata": {},
   "outputs": [],
   "source": [
    "job_code_pop = merged_df.groupby(['job_code_seq1', 'recruitment_seq']).size().to_frame().reset_index()\n",
    "job_code_pop.rename(columns={0:'count'}, inplace=True)\n",
    "job_code_pop = job_code_pop.sort_values(['job_code_seq1', 'count'], ascending=[True,False])"
   ]
  },
  {
   "cell_type": "code",
   "execution_count": 86,
   "id": "1c3ef8e4-1d5a-4b11-b2a3-6cb67ba93fb7",
   "metadata": {},
   "outputs": [],
   "source": [
    "job_code_pop['score'] = job_code_pop.groupby('job_code_seq1')['count'].apply(lambda g: g/max(g))"
   ]
  },
  {
   "cell_type": "markdown",
   "id": "a7d87aa0-7bfb-4bad-882c-cc39473c7a72",
   "metadata": {},
   "source": [
    "### 단순 인기도 가중치"
   ]
  },
  {
   "cell_type": "code",
   "execution_count": 87,
   "id": "4eadd28e-8350-4710-8a87-24052a337abd",
   "metadata": {},
   "outputs": [],
   "source": [
    "job_code_pop_top5 = job_code_pop.groupby('job_code_seq1').apply(lambda g: g.nlargest(5, 'count')).reset_index(drop=True)"
   ]
  },
  {
   "cell_type": "code",
   "execution_count": 88,
   "id": "09054c53-825f-4631-8116-9e027fc307af",
   "metadata": {},
   "outputs": [
    {
     "data": {
      "text/html": [
       "<div>\n",
       "<style scoped>\n",
       "    .dataframe tbody tr th:only-of-type {\n",
       "        vertical-align: middle;\n",
       "    }\n",
       "\n",
       "    .dataframe tbody tr th {\n",
       "        vertical-align: top;\n",
       "    }\n",
       "\n",
       "    .dataframe thead th {\n",
       "        text-align: right;\n",
       "    }\n",
       "</style>\n",
       "<table border=\"1\" class=\"dataframe\">\n",
       "  <thead>\n",
       "    <tr style=\"text-align: right;\">\n",
       "      <th></th>\n",
       "      <th>resume_seq</th>\n",
       "      <th>recruitment_seq</th>\n",
       "    </tr>\n",
       "  </thead>\n",
       "  <tbody>\n",
       "    <tr>\n",
       "      <th>0</th>\n",
       "      <td>U00606</td>\n",
       "      <td>R00773</td>\n",
       "    </tr>\n",
       "    <tr>\n",
       "      <th>1</th>\n",
       "      <td>U00606</td>\n",
       "      <td>R04066</td>\n",
       "    </tr>\n",
       "    <tr>\n",
       "      <th>2</th>\n",
       "      <td>U00606</td>\n",
       "      <td>R00056</td>\n",
       "    </tr>\n",
       "    <tr>\n",
       "      <th>3</th>\n",
       "      <td>U00606</td>\n",
       "      <td>R00559</td>\n",
       "    </tr>\n",
       "    <tr>\n",
       "      <th>4</th>\n",
       "      <td>U00606</td>\n",
       "      <td>R03237</td>\n",
       "    </tr>\n",
       "  </tbody>\n",
       "</table>\n",
       "</div>"
      ],
      "text/plain": [
       "  resume_seq recruitment_seq\n",
       "0     U00606          R00773\n",
       "1     U00606          R04066\n",
       "2     U00606          R00056\n",
       "3     U00606          R00559\n",
       "4     U00606          R03237"
      ]
     },
     "execution_count": 88,
     "metadata": {},
     "output_type": "execute_result"
    }
   ],
   "source": [
    "sbm_pop_only = resume[['resume_seq', 'job_code_seq1']].merge(job_code_pop_top5[['recruitment_seq', 'job_code_seq1']],\n",
    "                                       how='inner', on='job_code_seq1')\n",
    "sbm_pop_only = sbm_pop_only.drop('job_code_seq1', axis=1)\n",
    "sbm_pop_only.head()"
   ]
  },
  {
   "cell_type": "code",
   "execution_count": 89,
   "id": "70c9c311-1f28-4be7-ae79-1511aa0c96c6",
   "metadata": {},
   "outputs": [
    {
     "data": {
      "text/plain": [
       "0.0012261259136995986"
      ]
     },
     "execution_count": 89,
     "metadata": {},
     "output_type": "execute_result"
    }
   ],
   "source": [
    "calculate_precision_at_k(test, sbm_pop_only, 5)"
   ]
  },
  {
   "cell_type": "code",
   "execution_count": 90,
   "id": "ea63d3cf-57b7-434f-9258-366ca30b13fe",
   "metadata": {
    "scrolled": true
   },
   "outputs": [
    {
     "data": {
      "text/plain": [
       "0.0061306295684979955"
      ]
     },
     "execution_count": 90,
     "metadata": {},
     "output_type": "execute_result"
    }
   ],
   "source": [
    "recall5_dacon(test, sbm_pop_only)"
   ]
  },
  {
   "cell_type": "markdown",
   "id": "614f9219-5e16-4879-8976-58ffa7f1d356",
   "metadata": {},
   "source": [
    "### 비율 가중치"
   ]
  },
  {
   "cell_type": "code",
   "execution_count": 91,
   "id": "43aae3b8-46bc-4cdf-8829-3cfda3589b13",
   "metadata": {},
   "outputs": [
    {
     "data": {
      "text/html": [
       "<div>\n",
       "<style scoped>\n",
       "    .dataframe tbody tr th:only-of-type {\n",
       "        vertical-align: middle;\n",
       "    }\n",
       "\n",
       "    .dataframe tbody tr th {\n",
       "        vertical-align: top;\n",
       "    }\n",
       "\n",
       "    .dataframe thead th {\n",
       "        text-align: right;\n",
       "    }\n",
       "</style>\n",
       "<table border=\"1\" class=\"dataframe\">\n",
       "  <thead>\n",
       "    <tr style=\"text-align: right;\">\n",
       "      <th></th>\n",
       "      <th>job_code_seq1</th>\n",
       "      <th>recruitment_seq</th>\n",
       "      <th>count</th>\n",
       "      <th>score</th>\n",
       "      <th>address_seq1</th>\n",
       "      <th>education</th>\n",
       "      <th>major_task</th>\n",
       "      <th>qualifications</th>\n",
       "    </tr>\n",
       "  </thead>\n",
       "  <tbody>\n",
       "    <tr>\n",
       "      <th>0</th>\n",
       "      <td>IT·게임</td>\n",
       "      <td>R03890</td>\n",
       "      <td>1</td>\n",
       "      <td>1.0</td>\n",
       "      <td>3.0</td>\n",
       "      <td>3</td>\n",
       "      <td>2</td>\n",
       "      <td>1</td>\n",
       "    </tr>\n",
       "    <tr>\n",
       "      <th>1</th>\n",
       "      <td>건설·기계·전기·전자</td>\n",
       "      <td>R03890</td>\n",
       "      <td>0</td>\n",
       "      <td>0.0</td>\n",
       "      <td>3.0</td>\n",
       "      <td>3</td>\n",
       "      <td>2</td>\n",
       "      <td>1</td>\n",
       "    </tr>\n",
       "    <tr>\n",
       "      <th>2</th>\n",
       "      <td>경영·기획·회계·사무</td>\n",
       "      <td>R03890</td>\n",
       "      <td>0</td>\n",
       "      <td>0.0</td>\n",
       "      <td>3.0</td>\n",
       "      <td>3</td>\n",
       "      <td>2</td>\n",
       "      <td>1</td>\n",
       "    </tr>\n",
       "    <tr>\n",
       "      <th>3</th>\n",
       "      <td>기타 직종</td>\n",
       "      <td>R03890</td>\n",
       "      <td>0</td>\n",
       "      <td>0.0</td>\n",
       "      <td>3.0</td>\n",
       "      <td>3</td>\n",
       "      <td>2</td>\n",
       "      <td>1</td>\n",
       "    </tr>\n",
       "    <tr>\n",
       "      <th>4</th>\n",
       "      <td>디자인</td>\n",
       "      <td>R03890</td>\n",
       "      <td>0</td>\n",
       "      <td>0.0</td>\n",
       "      <td>3.0</td>\n",
       "      <td>3</td>\n",
       "      <td>2</td>\n",
       "      <td>1</td>\n",
       "    </tr>\n",
       "  </tbody>\n",
       "</table>\n",
       "</div>"
      ],
      "text/plain": [
       "  job_code_seq1 recruitment_seq  count  score address_seq1 education  \\\n",
       "0         IT·게임          R03890      1    1.0          3.0         3   \n",
       "1   건설·기계·전기·전자          R03890      0    0.0          3.0         3   \n",
       "2   경영·기획·회계·사무          R03890      0    0.0          3.0         3   \n",
       "3         기타 직종          R03890      0    0.0          3.0         3   \n",
       "4           디자인          R03890      0    0.0          3.0         3   \n",
       "\n",
       "  major_task qualifications  \n",
       "0          2              1  \n",
       "1          2              1  \n",
       "2          2              1  \n",
       "3          2              1  \n",
       "4          2              1  "
      ]
     },
     "execution_count": 91,
     "metadata": {},
     "output_type": "execute_result"
    }
   ],
   "source": [
    "job_code_pop = job_code_pop.merge(recruitment, how='inner', on='recruitment_seq')\n",
    "job_code_pop.head()"
   ]
  },
  {
   "cell_type": "markdown",
   "id": "e68e0f36-ee53-48b5-b4b2-f2fa53ad9e22",
   "metadata": {},
   "source": [
    "#### recruitment_feature : job_code_seq1 가중치"
   ]
  },
  {
   "cell_type": "code",
   "execution_count": 271,
   "id": "0e4d807f-6be2-456b-b34c-fece76e76c74",
   "metadata": {},
   "outputs": [],
   "source": [
    "job_code_weight_pop, weight_dfs = create_weight_df(merged_df, job_code_pop, ['address_seq1', 'education',\n",
    "                                                      'major_task', 'qualifications'], 'job_code_seq1', limit_ratio=0.05)"
   ]
  },
  {
   "cell_type": "code",
   "execution_count": 272,
   "id": "847409e6-bbe7-4f20-8802-2f0037fdbeac",
   "metadata": {},
   "outputs": [],
   "source": [
    "job_code_weight_pop_columns = job_code_weight_pop.filter(like='_weight').columns\n",
    "job_code_weight_pop['multiplied_weight'] = job_code_weight_pop.loc[:, job_code_weight_pop_columns].prod(axis=1)\n",
    "job_code_weight_pop['w_score'] = job_code_weight_pop.loc[:, ['score', 'multiplied_weight']].prod(axis=1)"
   ]
  },
  {
   "cell_type": "code",
   "execution_count": 273,
   "id": "d6483b1f-1216-41ea-b108-0b880493a616",
   "metadata": {},
   "outputs": [],
   "source": [
    "job_code_weight_pop_top5 = job_code_weight_pop.groupby('job_code_seq1').apply(lambda g: g.nlargest(5, 'w_score')).reset_index(drop=True)"
   ]
  },
  {
   "cell_type": "code",
   "execution_count": 274,
   "id": "32f5a431-213c-4ef0-8088-67b68cfb50c1",
   "metadata": {},
   "outputs": [
    {
     "data": {
      "text/html": [
       "<div>\n",
       "<style scoped>\n",
       "    .dataframe tbody tr th:only-of-type {\n",
       "        vertical-align: middle;\n",
       "    }\n",
       "\n",
       "    .dataframe tbody tr th {\n",
       "        vertical-align: top;\n",
       "    }\n",
       "\n",
       "    .dataframe thead th {\n",
       "        text-align: right;\n",
       "    }\n",
       "</style>\n",
       "<table border=\"1\" class=\"dataframe\">\n",
       "  <thead>\n",
       "    <tr style=\"text-align: right;\">\n",
       "      <th></th>\n",
       "      <th>resume_seq</th>\n",
       "      <th>recruitment_seq</th>\n",
       "    </tr>\n",
       "  </thead>\n",
       "  <tbody>\n",
       "    <tr>\n",
       "      <th>0</th>\n",
       "      <td>U00606</td>\n",
       "      <td>R00773</td>\n",
       "    </tr>\n",
       "    <tr>\n",
       "      <th>1</th>\n",
       "      <td>U00606</td>\n",
       "      <td>R04066</td>\n",
       "    </tr>\n",
       "    <tr>\n",
       "      <th>2</th>\n",
       "      <td>U00606</td>\n",
       "      <td>R00056</td>\n",
       "    </tr>\n",
       "    <tr>\n",
       "      <th>3</th>\n",
       "      <td>U00606</td>\n",
       "      <td>R05574</td>\n",
       "    </tr>\n",
       "    <tr>\n",
       "      <th>4</th>\n",
       "      <td>U00606</td>\n",
       "      <td>R00559</td>\n",
       "    </tr>\n",
       "  </tbody>\n",
       "</table>\n",
       "</div>"
      ],
      "text/plain": [
       "  resume_seq recruitment_seq\n",
       "0     U00606          R00773\n",
       "1     U00606          R04066\n",
       "2     U00606          R00056\n",
       "3     U00606          R05574\n",
       "4     U00606          R00559"
      ]
     },
     "execution_count": 274,
     "metadata": {},
     "output_type": "execute_result"
    }
   ],
   "source": [
    "sbm_pop = resume[['resume_seq', 'job_code_seq1']].merge(job_code_weight_pop_top5[['recruitment_seq', 'job_code_seq1']],\n",
    "                                       how='inner', on='job_code_seq1')\n",
    "sbm_pop = sbm_pop.drop('job_code_seq1', axis=1)\n",
    "sbm_pop.head()"
   ]
  },
  {
   "cell_type": "code",
   "execution_count": 262,
   "id": "66f216e4-b5ac-4fb5-9022-fa75ea3e41de",
   "metadata": {},
   "outputs": [
    {
     "data": {
      "text/plain": [
       "0.0012014314928425356"
      ]
     },
     "execution_count": 262,
     "metadata": {},
     "output_type": "execute_result"
    }
   ],
   "source": [
    "calculate_precision_at_k(test, sbm_pop, 5)"
   ]
  },
  {
   "cell_type": "code",
   "execution_count": 263,
   "id": "9e795e43-808b-4cad-90d8-f6af546decbd",
   "metadata": {
    "scrolled": true
   },
   "outputs": [
    {
     "data": {
      "text/plain": [
       "0.006007157464212679"
      ]
     },
     "execution_count": 263,
     "metadata": {},
     "output_type": "execute_result"
    }
   ],
   "source": [
    "recall5_dacon(test, sbm_pop)"
   ]
  },
  {
   "cell_type": "markdown",
   "id": "e482a22c-91cc-4c9a-9ab5-5fedeb5052f8",
   "metadata": {},
   "source": [
    "# 모델 결과 생성"
   ]
  },
  {
   "cell_type": "markdown",
   "id": "1d1939a2-a690-4a7d-9527-014588eff482",
   "metadata": {},
   "source": [
    "## idx 디코딩"
   ]
  },
  {
   "cell_type": "markdown",
   "id": "cc6a0235-1690-4504-b996-7f10d2d13a66",
   "metadata": {},
   "source": [
    "### 디코딩 딕셔너리 로드"
   ]
  },
  {
   "cell_type": "code",
   "execution_count": 101,
   "id": "3dd41947-8a49-46d9-a69d-7da07b60ff56",
   "metadata": {
    "tags": []
   },
   "outputs": [],
   "source": [
    "DATA_PATH = '../data/'"
   ]
  },
  {
   "cell_type": "code",
   "execution_count": 102,
   "id": "693caca9-395c-4db0-a281-f4afefb680f1",
   "metadata": {
    "tags": []
   },
   "outputs": [],
   "source": [
    "resume_decode = pd.read_csv(f\"{DATA_PATH}idx_2_resume.txt\", delimiter=\" \", header=None)\n",
    "resume_decode = resume_decode.set_index(0).to_dict()[1]"
   ]
  },
  {
   "cell_type": "code",
   "execution_count": 103,
   "id": "4542bd87-d797-46e2-902a-fb50125652db",
   "metadata": {
    "tags": []
   },
   "outputs": [],
   "source": [
    "recruitment_decode = pd.read_csv(f\"{DATA_PATH}/idx_2_recruitment.txt\", delimiter=\" \", header=None)\n",
    "recruitment_decode = recruitment_decode.set_index(0).to_dict()[1]"
   ]
  },
  {
   "cell_type": "markdown",
   "id": "23b893a3-b178-4372-b747-986e289e2a05",
   "metadata": {
    "tags": []
   },
   "source": [
    "## CF 모델"
   ]
  },
  {
   "cell_type": "code",
   "execution_count": 104,
   "id": "1a2c90fe-c182-4d8d-8579-05eb4d89a9b4",
   "metadata": {},
   "outputs": [],
   "source": [
    "DATA_SET = \"JOB_1\""
   ]
  },
  {
   "cell_type": "code",
   "execution_count": 107,
   "id": "b867c9d9-aa23-4389-bcfe-2b805de16d07",
   "metadata": {},
   "outputs": [],
   "source": [
    "CF_FOLDER_PATH = '../CF/results/'\n",
    "cf_proba = pd.read_csv(f'{CF_FOLDER_PATH}pred_prob_{DATA_SET}.txt', delimiter=' ', header=None)\n",
    "cf_rating_idx = pd.read_csv(f'{CF_FOLDER_PATH}pred_idx_{DATA_SET}.txt', delimiter=' ', header=None)"
   ]
  },
  {
   "cell_type": "code",
   "execution_count": 108,
   "id": "62e90426-429d-481b-868d-796d47056dba",
   "metadata": {},
   "outputs": [
    {
     "data": {
      "text/html": [
       "<div>\n",
       "<style scoped>\n",
       "    .dataframe tbody tr th:only-of-type {\n",
       "        vertical-align: middle;\n",
       "    }\n",
       "\n",
       "    .dataframe tbody tr th {\n",
       "        vertical-align: top;\n",
       "    }\n",
       "\n",
       "    .dataframe thead th {\n",
       "        text-align: right;\n",
       "    }\n",
       "</style>\n",
       "<table border=\"1\" class=\"dataframe\">\n",
       "  <thead>\n",
       "    <tr style=\"text-align: right;\">\n",
       "      <th></th>\n",
       "      <th>resume_idx</th>\n",
       "      <th>recruitment_idx</th>\n",
       "      <th>cf_score</th>\n",
       "    </tr>\n",
       "  </thead>\n",
       "  <tbody>\n",
       "    <tr>\n",
       "      <th>0</th>\n",
       "      <td>0</td>\n",
       "      <td>156</td>\n",
       "      <td>1.000000</td>\n",
       "    </tr>\n",
       "    <tr>\n",
       "      <th>1</th>\n",
       "      <td>0</td>\n",
       "      <td>4670</td>\n",
       "      <td>0.744136</td>\n",
       "    </tr>\n",
       "    <tr>\n",
       "      <th>2</th>\n",
       "      <td>0</td>\n",
       "      <td>3349</td>\n",
       "      <td>0.674452</td>\n",
       "    </tr>\n",
       "    <tr>\n",
       "      <th>3</th>\n",
       "      <td>0</td>\n",
       "      <td>2576</td>\n",
       "      <td>0.649263</td>\n",
       "    </tr>\n",
       "    <tr>\n",
       "      <th>4</th>\n",
       "      <td>0</td>\n",
       "      <td>4675</td>\n",
       "      <td>0.578998</td>\n",
       "    </tr>\n",
       "    <tr>\n",
       "      <th>5</th>\n",
       "      <td>0</td>\n",
       "      <td>5450</td>\n",
       "      <td>0.552090</td>\n",
       "    </tr>\n",
       "    <tr>\n",
       "      <th>6</th>\n",
       "      <td>0</td>\n",
       "      <td>5164</td>\n",
       "      <td>0.529899</td>\n",
       "    </tr>\n",
       "    <tr>\n",
       "      <th>7</th>\n",
       "      <td>0</td>\n",
       "      <td>5097</td>\n",
       "      <td>0.505583</td>\n",
       "    </tr>\n",
       "    <tr>\n",
       "      <th>8</th>\n",
       "      <td>0</td>\n",
       "      <td>2756</td>\n",
       "      <td>0.482113</td>\n",
       "    </tr>\n",
       "    <tr>\n",
       "      <th>9</th>\n",
       "      <td>0</td>\n",
       "      <td>6228</td>\n",
       "      <td>0.477240</td>\n",
       "    </tr>\n",
       "    <tr>\n",
       "      <th>10</th>\n",
       "      <td>0</td>\n",
       "      <td>5279</td>\n",
       "      <td>0.473995</td>\n",
       "    </tr>\n",
       "    <tr>\n",
       "      <th>11</th>\n",
       "      <td>0</td>\n",
       "      <td>3012</td>\n",
       "      <td>0.471086</td>\n",
       "    </tr>\n",
       "    <tr>\n",
       "      <th>12</th>\n",
       "      <td>0</td>\n",
       "      <td>4704</td>\n",
       "      <td>0.452160</td>\n",
       "    </tr>\n",
       "    <tr>\n",
       "      <th>13</th>\n",
       "      <td>0</td>\n",
       "      <td>5477</td>\n",
       "      <td>0.439879</td>\n",
       "    </tr>\n",
       "    <tr>\n",
       "      <th>14</th>\n",
       "      <td>0</td>\n",
       "      <td>1051</td>\n",
       "      <td>0.433451</td>\n",
       "    </tr>\n",
       "    <tr>\n",
       "      <th>15</th>\n",
       "      <td>0</td>\n",
       "      <td>1250</td>\n",
       "      <td>0.422150</td>\n",
       "    </tr>\n",
       "    <tr>\n",
       "      <th>16</th>\n",
       "      <td>0</td>\n",
       "      <td>974</td>\n",
       "      <td>0.418285</td>\n",
       "    </tr>\n",
       "    <tr>\n",
       "      <th>17</th>\n",
       "      <td>0</td>\n",
       "      <td>2407</td>\n",
       "      <td>0.403538</td>\n",
       "    </tr>\n",
       "    <tr>\n",
       "      <th>18</th>\n",
       "      <td>0</td>\n",
       "      <td>4956</td>\n",
       "      <td>0.399806</td>\n",
       "    </tr>\n",
       "    <tr>\n",
       "      <th>19</th>\n",
       "      <td>0</td>\n",
       "      <td>3195</td>\n",
       "      <td>0.398384</td>\n",
       "    </tr>\n",
       "  </tbody>\n",
       "</table>\n",
       "</div>"
      ],
      "text/plain": [
       "    resume_idx  recruitment_idx  cf_score\n",
       "0            0              156  1.000000\n",
       "1            0             4670  0.744136\n",
       "2            0             3349  0.674452\n",
       "3            0             2576  0.649263\n",
       "4            0             4675  0.578998\n",
       "5            0             5450  0.552090\n",
       "6            0             5164  0.529899\n",
       "7            0             5097  0.505583\n",
       "8            0             2756  0.482113\n",
       "9            0             6228  0.477240\n",
       "10           0             5279  0.473995\n",
       "11           0             3012  0.471086\n",
       "12           0             4704  0.452160\n",
       "13           0             5477  0.439879\n",
       "14           0             1051  0.433451\n",
       "15           0             1250  0.422150\n",
       "16           0              974  0.418285\n",
       "17           0             2407  0.403538\n",
       "18           0             4956  0.399806\n",
       "19           0             3195  0.398384"
      ]
     },
     "execution_count": 108,
     "metadata": {},
     "output_type": "execute_result"
    }
   ],
   "source": [
    "cf_score = create_score_dataframe(cf_proba, cf_rating_idx, \"cf\")\n",
    "cf_score.head(20)"
   ]
  },
  {
   "cell_type": "code",
   "execution_count": 109,
   "id": "324d1a3b-6bcb-4352-a4b8-33d57a92fdcb",
   "metadata": {},
   "outputs": [],
   "source": [
    "sbm_cf = create_submission(cf_rating_idx, resume_decode, recruitment_decode)"
   ]
  },
  {
   "cell_type": "code",
   "execution_count": 110,
   "id": "b09aee81-efa3-402a-9f18-dea5ae98b70f",
   "metadata": {},
   "outputs": [
    {
     "data": {
      "text/plain": [
       "0.12827163404857345"
      ]
     },
     "execution_count": 110,
     "metadata": {},
     "output_type": "execute_result"
    }
   ],
   "source": [
    "recall5_dacon(test, sbm_cf)"
   ]
  },
  {
   "cell_type": "markdown",
   "id": "551099e1-2200-4162-8a97-966757060357",
   "metadata": {
    "tags": []
   },
   "source": [
    "## LTOCF 모델"
   ]
  },
  {
   "cell_type": "code",
   "execution_count": 111,
   "id": "4589ff70-dc0a-4eb2-ae9d-b9402045788a",
   "metadata": {},
   "outputs": [],
   "source": [
    "LTOCF_FOLDER_PATH = '../LT-OCF/results/'\n",
    "LTOCF_FILE_NAME = 'JOB_1_360_0.0031__319_0.3145'"
   ]
  },
  {
   "cell_type": "code",
   "execution_count": 112,
   "id": "99372897-a869-4912-9e1f-a3f42a9a657a",
   "metadata": {},
   "outputs": [],
   "source": [
    "lt_proba = pd.read_csv(f'{LTOCF_FOLDER_PATH}proba_{LTOCF_FILE_NAME}.txt', delimiter=' ', header=None)\n",
    "lt_rating_idx= pd.read_csv(f'{LTOCF_FOLDER_PATH}rating_{LTOCF_FILE_NAME}.txt', delimiter=' ', header=None)\n",
    "lt_user = pd.read_csv(f'{LTOCF_FOLDER_PATH}user_{LTOCF_FILE_NAME}.txt', delimiter=' ', header=None)"
   ]
  },
  {
   "cell_type": "code",
   "execution_count": 113,
   "id": "a55c8336-92a2-4603-8e1a-f8fddf4e26bf",
   "metadata": {},
   "outputs": [],
   "source": [
    "lt_proba_df = pd.concat([lt_user, lt_proba], axis=1)\n",
    "lt_idx_df = pd.concat([lt_user, lt_rating_idx], axis=1)"
   ]
  },
  {
   "cell_type": "code",
   "execution_count": 114,
   "id": "8896ea46-cfee-4e49-9db7-fbf92898e195",
   "metadata": {},
   "outputs": [
    {
     "data": {
      "text/html": [
       "<div>\n",
       "<style scoped>\n",
       "    .dataframe tbody tr th:only-of-type {\n",
       "        vertical-align: middle;\n",
       "    }\n",
       "\n",
       "    .dataframe tbody tr th {\n",
       "        vertical-align: top;\n",
       "    }\n",
       "\n",
       "    .dataframe thead th {\n",
       "        text-align: right;\n",
       "    }\n",
       "</style>\n",
       "<table border=\"1\" class=\"dataframe\">\n",
       "  <thead>\n",
       "    <tr style=\"text-align: right;\">\n",
       "      <th></th>\n",
       "      <th>resume_idx</th>\n",
       "      <th>recruitment_idx</th>\n",
       "      <th>ltocf_score</th>\n",
       "    </tr>\n",
       "  </thead>\n",
       "  <tbody>\n",
       "    <tr>\n",
       "      <th>0</th>\n",
       "      <td>0</td>\n",
       "      <td>156</td>\n",
       "      <td>0.999877</td>\n",
       "    </tr>\n",
       "    <tr>\n",
       "      <th>1</th>\n",
       "      <td>0</td>\n",
       "      <td>3195</td>\n",
       "      <td>0.999227</td>\n",
       "    </tr>\n",
       "    <tr>\n",
       "      <th>2</th>\n",
       "      <td>0</td>\n",
       "      <td>1051</td>\n",
       "      <td>0.998012</td>\n",
       "    </tr>\n",
       "    <tr>\n",
       "      <th>3</th>\n",
       "      <td>0</td>\n",
       "      <td>4670</td>\n",
       "      <td>0.997515</td>\n",
       "    </tr>\n",
       "    <tr>\n",
       "      <th>4</th>\n",
       "      <td>0</td>\n",
       "      <td>2576</td>\n",
       "      <td>0.997507</td>\n",
       "    </tr>\n",
       "  </tbody>\n",
       "</table>\n",
       "</div>"
      ],
      "text/plain": [
       "   resume_idx  recruitment_idx  ltocf_score\n",
       "0           0              156     0.999877\n",
       "1           0             3195     0.999227\n",
       "2           0             1051     0.998012\n",
       "3           0             4670     0.997515\n",
       "4           0             2576     0.997507"
      ]
     },
     "execution_count": 114,
     "metadata": {},
     "output_type": "execute_result"
    }
   ],
   "source": [
    "ltocf_score = create_score_dataframe(lt_proba_df, lt_idx_df, \"ltocf\")\n",
    "ltocf_score.head()"
   ]
  },
  {
   "cell_type": "code",
   "execution_count": 128,
   "id": "1bf2888c-0d19-4c4e-b120-37e0a2fdb44b",
   "metadata": {},
   "outputs": [],
   "source": [
    "lt_idx_df.columns = range(lt_idx_df.shape[1])"
   ]
  },
  {
   "cell_type": "code",
   "execution_count": 129,
   "id": "7f8bae0b-2253-41ae-b4b3-fcc7a2c6ffd8",
   "metadata": {},
   "outputs": [],
   "source": [
    "sbm_ltocf = create_submission(lt_idx_df, resume_decode, recruitment_decode)"
   ]
  },
  {
   "cell_type": "code",
   "execution_count": 171,
   "id": "4dad4e33-2d47-470e-9e88-95195448999c",
   "metadata": {},
   "outputs": [
    {
     "data": {
      "text/html": [
       "<div>\n",
       "<style scoped>\n",
       "    .dataframe tbody tr th:only-of-type {\n",
       "        vertical-align: middle;\n",
       "    }\n",
       "\n",
       "    .dataframe tbody tr th {\n",
       "        vertical-align: top;\n",
       "    }\n",
       "\n",
       "    .dataframe thead th {\n",
       "        text-align: right;\n",
       "    }\n",
       "</style>\n",
       "<table border=\"1\" class=\"dataframe\">\n",
       "  <thead>\n",
       "    <tr style=\"text-align: right;\">\n",
       "      <th></th>\n",
       "      <th>resume_seq</th>\n",
       "      <th>recruitment_seq</th>\n",
       "    </tr>\n",
       "  </thead>\n",
       "  <tbody>\n",
       "    <tr>\n",
       "      <th>25778</th>\n",
       "      <td>U00001</td>\n",
       "      <td>R03777</td>\n",
       "    </tr>\n",
       "    <tr>\n",
       "      <th>332</th>\n",
       "      <td>U00001</td>\n",
       "      <td>R01528</td>\n",
       "    </tr>\n",
       "    <tr>\n",
       "      <th>8814</th>\n",
       "      <td>U00001</td>\n",
       "      <td>R03811</td>\n",
       "    </tr>\n",
       "    <tr>\n",
       "      <th>34260</th>\n",
       "      <td>U00001</td>\n",
       "      <td>R02064</td>\n",
       "    </tr>\n",
       "    <tr>\n",
       "      <th>17296</th>\n",
       "      <td>U00001</td>\n",
       "      <td>R02400</td>\n",
       "    </tr>\n",
       "    <tr>\n",
       "      <th>...</th>\n",
       "      <td>...</td>\n",
       "      <td>...</td>\n",
       "    </tr>\n",
       "    <tr>\n",
       "      <th>41920</th>\n",
       "      <td>U08482</td>\n",
       "      <td>R02524</td>\n",
       "    </tr>\n",
       "    <tr>\n",
       "      <th>16474</th>\n",
       "      <td>U08482</td>\n",
       "      <td>R00712</td>\n",
       "    </tr>\n",
       "    <tr>\n",
       "      <th>24956</th>\n",
       "      <td>U08482</td>\n",
       "      <td>R01186</td>\n",
       "    </tr>\n",
       "    <tr>\n",
       "      <th>7992</th>\n",
       "      <td>U08482</td>\n",
       "      <td>R04602</td>\n",
       "    </tr>\n",
       "    <tr>\n",
       "      <th>33438</th>\n",
       "      <td>U08482</td>\n",
       "      <td>R04021</td>\n",
       "    </tr>\n",
       "  </tbody>\n",
       "</table>\n",
       "<p>42410 rows × 2 columns</p>\n",
       "</div>"
      ],
      "text/plain": [
       "      resume_seq recruitment_seq\n",
       "25778     U00001          R03777\n",
       "332       U00001          R01528\n",
       "8814      U00001          R03811\n",
       "34260     U00001          R02064\n",
       "17296     U00001          R02400\n",
       "...          ...             ...\n",
       "41920     U08482          R02524\n",
       "16474     U08482          R00712\n",
       "24956     U08482          R01186\n",
       "7992      U08482          R04602\n",
       "33438     U08482          R04021\n",
       "\n",
       "[42410 rows x 2 columns]"
      ]
     },
     "execution_count": 171,
     "metadata": {},
     "output_type": "execute_result"
    }
   ],
   "source": [
    "sbm_ltocf.sort_values(\"resume_seq\")"
   ]
  },
  {
   "cell_type": "code",
   "execution_count": 130,
   "id": "003ea8bc-58e8-491a-bdd9-e99ba76dd4a4",
   "metadata": {},
   "outputs": [
    {
     "data": {
      "text/plain": [
       "0.12968639471822682"
      ]
     },
     "execution_count": 130,
     "metadata": {},
     "output_type": "execute_result"
    }
   ],
   "source": [
    "recall5_dacon(test, sbm_ltocf)"
   ]
  },
  {
   "cell_type": "markdown",
   "id": "ad245084-2ca4-4ff0-90e6-89262d64caab",
   "metadata": {},
   "source": [
    "# 모델 결과 + 인기도 가중치"
   ]
  },
  {
   "cell_type": "markdown",
   "id": "d8d1fee8-61f0-47ec-a878-34b71e75b144",
   "metadata": {},
   "source": [
    "## CF 인기도 가중치 적용"
   ]
  },
  {
   "cell_type": "code",
   "execution_count": 248,
   "id": "6f177c1c-8e42-4028-870d-c90761b1c59f",
   "metadata": {},
   "outputs": [
    {
     "data": {
      "text/html": [
       "<div>\n",
       "<style scoped>\n",
       "    .dataframe tbody tr th:only-of-type {\n",
       "        vertical-align: middle;\n",
       "    }\n",
       "\n",
       "    .dataframe tbody tr th {\n",
       "        vertical-align: top;\n",
       "    }\n",
       "\n",
       "    .dataframe thead th {\n",
       "        text-align: right;\n",
       "    }\n",
       "</style>\n",
       "<table border=\"1\" class=\"dataframe\">\n",
       "  <thead>\n",
       "    <tr style=\"text-align: right;\">\n",
       "      <th></th>\n",
       "      <th>resume_idx</th>\n",
       "      <th>recruitment_idx</th>\n",
       "      <th>cf_score</th>\n",
       "      <th>resume_seq</th>\n",
       "      <th>recruitment_seq</th>\n",
       "    </tr>\n",
       "  </thead>\n",
       "  <tbody>\n",
       "    <tr>\n",
       "      <th>0</th>\n",
       "      <td>0</td>\n",
       "      <td>156</td>\n",
       "      <td>1.000000</td>\n",
       "      <td>U05833</td>\n",
       "      <td>R03943</td>\n",
       "    </tr>\n",
       "    <tr>\n",
       "      <th>1</th>\n",
       "      <td>0</td>\n",
       "      <td>4670</td>\n",
       "      <td>0.744136</td>\n",
       "      <td>U05833</td>\n",
       "      <td>R04100</td>\n",
       "    </tr>\n",
       "    <tr>\n",
       "      <th>2</th>\n",
       "      <td>0</td>\n",
       "      <td>3349</td>\n",
       "      <td>0.674452</td>\n",
       "      <td>U05833</td>\n",
       "      <td>R00353</td>\n",
       "    </tr>\n",
       "    <tr>\n",
       "      <th>3</th>\n",
       "      <td>0</td>\n",
       "      <td>2576</td>\n",
       "      <td>0.649263</td>\n",
       "      <td>U05833</td>\n",
       "      <td>R00097</td>\n",
       "    </tr>\n",
       "    <tr>\n",
       "      <th>4</th>\n",
       "      <td>0</td>\n",
       "      <td>4675</td>\n",
       "      <td>0.578998</td>\n",
       "      <td>U05833</td>\n",
       "      <td>R02806</td>\n",
       "    </tr>\n",
       "  </tbody>\n",
       "</table>\n",
       "</div>"
      ],
      "text/plain": [
       "   resume_idx  recruitment_idx  cf_score resume_seq recruitment_seq\n",
       "0           0              156  1.000000     U05833          R03943\n",
       "1           0             4670  0.744136     U05833          R04100\n",
       "2           0             3349  0.674452     U05833          R00353\n",
       "3           0             2576  0.649263     U05833          R00097\n",
       "4           0             4675  0.578998     U05833          R02806"
      ]
     },
     "execution_count": 248,
     "metadata": {},
     "output_type": "execute_result"
    }
   ],
   "source": [
    "cf_score['resume_seq'] = cf_score['resume_idx'].apply(lambda x: resume_decode[x])\n",
    "cf_score['recruitment_seq'] = cf_score['recruitment_idx'].apply(lambda x: recruitment_decode[x])\n",
    "cf_score.head()"
   ]
  },
  {
   "cell_type": "code",
   "execution_count": 249,
   "id": "ea785cd4-aedb-4c84-b64a-f88870275cf2",
   "metadata": {},
   "outputs": [
    {
     "name": "stdout",
     "output_type": "stream",
     "text": [
      "<class 'pandas.core.frame.DataFrame'>\n",
      "Int64Index: 169640 entries, 0 to 169639\n",
      "Data columns (total 7 columns):\n",
      " #   Column           Non-Null Count   Dtype   \n",
      "---  ------           --------------   -----   \n",
      " 0   resume_idx       169640 non-null  int64   \n",
      " 1   recruitment_idx  169640 non-null  int64   \n",
      " 2   cf_score         169640 non-null  float64 \n",
      " 3   resume_seq       169640 non-null  object  \n",
      " 4   recruitment_seq  169640 non-null  object  \n",
      " 5   degree           169640 non-null  category\n",
      " 6   job_code_seq1    169640 non-null  category\n",
      "dtypes: category(2), float64(1), int64(2), object(2)\n",
      "memory usage: 8.1+ MB\n"
     ]
    }
   ],
   "source": [
    "cf_score = cf_score.merge(resume, how='inner', on='resume_seq')\n",
    "cf_score.info()"
   ]
  },
  {
   "cell_type": "markdown",
   "id": "80c07a0e-7d70-4f02-babe-94aad2504c7c",
   "metadata": {},
   "source": [
    "### Degree"
   ]
  },
  {
   "cell_type": "code",
   "execution_count": 250,
   "id": "bc716cc4-8b23-4cbb-96db-d71dd221baf6",
   "metadata": {},
   "outputs": [],
   "source": [
    "degree_weight_pop_view = degree_weight_pop[['degree', 'recruitment_seq',\n",
    "                                            'score', 'w_score']]"
   ]
  },
  {
   "cell_type": "code",
   "execution_count": 251,
   "id": "25d2bbeb-acfe-496b-8988-e0a94116f729",
   "metadata": {},
   "outputs": [
    {
     "name": "stdout",
     "output_type": "stream",
     "text": [
      "<class 'pandas.core.frame.DataFrame'>\n",
      "Int64Index: 169640 entries, 0 to 169639\n",
      "Data columns (total 9 columns):\n",
      " #   Column           Non-Null Count   Dtype   \n",
      "---  ------           --------------   -----   \n",
      " 0   resume_idx       169640 non-null  int64   \n",
      " 1   recruitment_idx  169640 non-null  int64   \n",
      " 2   cf_score         169640 non-null  float64 \n",
      " 3   resume_seq       169640 non-null  object  \n",
      " 4   recruitment_seq  169640 non-null  object  \n",
      " 5   degree           169640 non-null  int64   \n",
      " 6   job_code_seq1    169640 non-null  category\n",
      " 7   score            169640 non-null  float64 \n",
      " 8   w_score          169640 non-null  float64 \n",
      "dtypes: category(1), float64(3), int64(3), object(2)\n",
      "memory usage: 11.8+ MB\n"
     ]
    }
   ],
   "source": [
    "cf_score_pop = cf_score.merge(degree_weight_pop_view, how='left', on=['degree', 'recruitment_seq'])\n",
    "cf_score_pop[['score', 'w_score']] = cf_score_pop[['score', 'w_score']].fillna(0)\n",
    "cf_score_pop.info()"
   ]
  },
  {
   "cell_type": "markdown",
   "id": "55708b91-e612-4c19-9d4f-6f806d479fd1",
   "metadata": {},
   "source": [
    "#### MinMax Scaling"
   ]
  },
  {
   "cell_type": "code",
   "execution_count": 252,
   "id": "dfac3739-06d4-4503-9570-139468fbda19",
   "metadata": {},
   "outputs": [],
   "source": [
    "# cf_score_pop['w_score'] = mms.fit_transform(cf_score_pop['w_score'].values.reshape(-1,1))\n",
    "# cf_score_pop['cf_score'] = mms.fit_transform(cf_score_pop['cf_score'].values.reshape(-1,1))"
   ]
  },
  {
   "cell_type": "code",
   "execution_count": 253,
   "id": "607f3232-2c13-4be6-98b4-e88d203275e2",
   "metadata": {},
   "outputs": [],
   "source": [
    "cf_score_pop['s_score'] = cf_score_pop.groupby('resume_idx')['score'].transform(\n",
    "    lambda x: (mms.fit_transform(x.values.reshape(-1,1))).reshape(-1))\n",
    "cf_score_pop['sw_score'] = cf_score_pop.groupby('resume_idx')['w_score'].transform(\n",
    "    lambda x: (mms.fit_transform(x.values.reshape(-1,1))).reshape(-1))\n",
    "cf_score_pop['scf_score'] = cf_score_pop.groupby('resume_idx')['cf_score'].transform(\n",
    "    lambda x: (mms.fit_transform(x.values.reshape(-1,1))).reshape(-1))"
   ]
  },
  {
   "cell_type": "markdown",
   "id": "4dc9837b-0a6e-4784-a020-90f458b3a476",
   "metadata": {},
   "source": [
    "#### RECALL 계산"
   ]
  },
  {
   "cell_type": "markdown",
   "id": "04031e77-c13f-463b-8ef2-f4699d82bf2d",
   "metadata": {},
   "source": [
    "##### 단순인기도"
   ]
  },
  {
   "cell_type": "code",
   "execution_count": 112,
   "id": "76b4f91a-648a-4f89-ad56-cb5dcf25ef76",
   "metadata": {},
   "outputs": [],
   "source": [
    "recalls_1 = []"
   ]
  },
  {
   "cell_type": "code",
   "execution_count": 114,
   "id": "bf0f603e-681b-47d8-91d1-1f6dd4bd8e72",
   "metadata": {},
   "outputs": [
    {
     "name": "stdout",
     "output_type": "stream",
     "text": [
      "0.00 : 1.00\n",
      "0.10 : 0.90\n",
      "0.20 : 0.80\n",
      "0.30 : 0.70\n",
      "0.40 : 0.60\n",
      "0.50 : 0.50\n",
      "0.60 : 0.40\n",
      "0.70 : 0.30\n",
      "0.80 : 0.20\n",
      "0.90 : 0.10\n",
      "1.00 : 0.00\n"
     ]
    }
   ],
   "source": [
    "pop_scores = create_ensemble_submission_2col(cf_score_pop, 'scf_score', 's_score', start=0, end=101, step=10)"
   ]
  },
  {
   "cell_type": "code",
   "execution_count": 115,
   "id": "47948db5-00a0-47eb-b3c2-30456bd2105a",
   "metadata": {},
   "outputs": [
    {
     "name": "stderr",
     "output_type": "stream",
     "text": [
      "100%|██████████████████████████████████████████████████████████████████████████████████| 11/11 [00:13<00:00,  1.19s/it]\n"
     ]
    }
   ],
   "source": [
    "for ratio, sbm in tqdm(pop_scores.items()):\n",
    "    data = {}\n",
    "    data['ratio'] = ratio\n",
    "    data['recall'] = calculate_precision_at_k_dacon(test, sbm, 5)\n",
    "    recalls_1.append(data)"
   ]
  },
  {
   "cell_type": "code",
   "execution_count": 116,
   "id": "648ec07e-171b-4ca6-9ff7-3d7fc60aaabd",
   "metadata": {},
   "outputs": [
    {
     "data": {
      "text/html": [
       "<div>\n",
       "<style scoped>\n",
       "    .dataframe tbody tr th:only-of-type {\n",
       "        vertical-align: middle;\n",
       "    }\n",
       "\n",
       "    .dataframe tbody tr th {\n",
       "        vertical-align: top;\n",
       "    }\n",
       "\n",
       "    .dataframe thead th {\n",
       "        text-align: right;\n",
       "    }\n",
       "</style>\n",
       "<table border=\"1\" class=\"dataframe\">\n",
       "  <thead>\n",
       "    <tr style=\"text-align: right;\">\n",
       "      <th></th>\n",
       "      <th>ratio</th>\n",
       "      <th>recall</th>\n",
       "    </tr>\n",
       "  </thead>\n",
       "  <tbody>\n",
       "    <tr>\n",
       "      <th>10</th>\n",
       "      <td>1.00:0.00</td>\n",
       "      <td>0.128272</td>\n",
       "    </tr>\n",
       "    <tr>\n",
       "      <th>8</th>\n",
       "      <td>0.80:0.20</td>\n",
       "      <td>0.127328</td>\n",
       "    </tr>\n",
       "    <tr>\n",
       "      <th>9</th>\n",
       "      <td>0.90:0.10</td>\n",
       "      <td>0.127328</td>\n",
       "    </tr>\n",
       "    <tr>\n",
       "      <th>7</th>\n",
       "      <td>0.70:0.30</td>\n",
       "      <td>0.125914</td>\n",
       "    </tr>\n",
       "    <tr>\n",
       "      <th>6</th>\n",
       "      <td>0.60:0.40</td>\n",
       "      <td>0.121905</td>\n",
       "    </tr>\n",
       "    <tr>\n",
       "      <th>5</th>\n",
       "      <td>0.50:0.50</td>\n",
       "      <td>0.116954</td>\n",
       "    </tr>\n",
       "    <tr>\n",
       "      <th>4</th>\n",
       "      <td>0.40:0.60</td>\n",
       "      <td>0.110705</td>\n",
       "    </tr>\n",
       "    <tr>\n",
       "      <th>3</th>\n",
       "      <td>0.30:0.70</td>\n",
       "      <td>0.103160</td>\n",
       "    </tr>\n",
       "    <tr>\n",
       "      <th>2</th>\n",
       "      <td>0.20:0.80</td>\n",
       "      <td>0.098208</td>\n",
       "    </tr>\n",
       "    <tr>\n",
       "      <th>1</th>\n",
       "      <td>0.10:0.90</td>\n",
       "      <td>0.092077</td>\n",
       "    </tr>\n",
       "    <tr>\n",
       "      <th>0</th>\n",
       "      <td>0.00:1.00</td>\n",
       "      <td>0.088187</td>\n",
       "    </tr>\n",
       "  </tbody>\n",
       "</table>\n",
       "</div>"
      ],
      "text/plain": [
       "        ratio    recall\n",
       "10  1.00:0.00  0.128272\n",
       "8   0.80:0.20  0.127328\n",
       "9   0.90:0.10  0.127328\n",
       "7   0.70:0.30  0.125914\n",
       "6   0.60:0.40  0.121905\n",
       "5   0.50:0.50  0.116954\n",
       "4   0.40:0.60  0.110705\n",
       "3   0.30:0.70  0.103160\n",
       "2   0.20:0.80  0.098208\n",
       "1   0.10:0.90  0.092077\n",
       "0   0.00:1.00  0.088187"
      ]
     },
     "execution_count": 116,
     "metadata": {},
     "output_type": "execute_result"
    }
   ],
   "source": [
    "pd.DataFrame(recalls_1).drop_duplicates().sort_values('recall', ascending=False)"
   ]
  },
  {
   "cell_type": "markdown",
   "id": "5b172dda-b8e3-48de-b561-9b864b138f76",
   "metadata": {},
   "source": [
    "##### 가중치 인기도"
   ]
  },
  {
   "cell_type": "code",
   "execution_count": 254,
   "id": "482e31ba-54fa-4ef0-8aee-437fde781d91",
   "metadata": {},
   "outputs": [],
   "source": [
    "recalls_2 = []"
   ]
  },
  {
   "cell_type": "code",
   "execution_count": 255,
   "id": "19a4d935-52ff-4df5-bedc-1a0c3525c697",
   "metadata": {},
   "outputs": [
    {
     "name": "stdout",
     "output_type": "stream",
     "text": [
      "0.00 : 1.00\n",
      "0.10 : 0.90\n",
      "0.20 : 0.80\n",
      "0.30 : 0.70\n",
      "0.40 : 0.60\n",
      "0.50 : 0.50\n",
      "0.60 : 0.40\n",
      "0.70 : 0.30\n",
      "0.80 : 0.20\n",
      "0.90 : 0.10\n",
      "1.00 : 0.00\n"
     ]
    }
   ],
   "source": [
    "pop_scores = create_ensemble_submission_2col(cf_score_pop, 'scf_score', 'sw_score', start=0, end=101, step=10)"
   ]
  },
  {
   "cell_type": "code",
   "execution_count": 256,
   "id": "a527e5c9-adb7-4b61-ba22-8a079ce9cf0a",
   "metadata": {},
   "outputs": [
    {
     "name": "stderr",
     "output_type": "stream",
     "text": [
      "100%|██████████████████████████████████████████████████████████████████████████████████| 11/11 [00:13<00:00,  1.22s/it]\n"
     ]
    }
   ],
   "source": [
    "for ratio, sbm in tqdm(pop_scores.items()):\n",
    "    data = {}\n",
    "    data['ratio'] = ratio\n",
    "    data['recall'] = calculate_precision_at_k_dacon(test, sbm, 5)\n",
    "    recalls_2.append(data)"
   ]
  },
  {
   "cell_type": "code",
   "execution_count": 257,
   "id": "80616ee0-c1cd-41ee-94a5-2f802bb0ae08",
   "metadata": {},
   "outputs": [
    {
     "data": {
      "text/html": [
       "<div>\n",
       "<style scoped>\n",
       "    .dataframe tbody tr th:only-of-type {\n",
       "        vertical-align: middle;\n",
       "    }\n",
       "\n",
       "    .dataframe tbody tr th {\n",
       "        vertical-align: top;\n",
       "    }\n",
       "\n",
       "    .dataframe thead th {\n",
       "        text-align: right;\n",
       "    }\n",
       "</style>\n",
       "<table border=\"1\" class=\"dataframe\">\n",
       "  <thead>\n",
       "    <tr style=\"text-align: right;\">\n",
       "      <th></th>\n",
       "      <th>ratio</th>\n",
       "      <th>recall</th>\n",
       "    </tr>\n",
       "  </thead>\n",
       "  <tbody>\n",
       "    <tr>\n",
       "      <th>10</th>\n",
       "      <td>1.00:0.00</td>\n",
       "      <td>0.128272</td>\n",
       "    </tr>\n",
       "    <tr>\n",
       "      <th>9</th>\n",
       "      <td>0.90:0.10</td>\n",
       "      <td>0.126975</td>\n",
       "    </tr>\n",
       "    <tr>\n",
       "      <th>8</th>\n",
       "      <td>0.80:0.20</td>\n",
       "      <td>0.126857</td>\n",
       "    </tr>\n",
       "    <tr>\n",
       "      <th>7</th>\n",
       "      <td>0.70:0.30</td>\n",
       "      <td>0.125324</td>\n",
       "    </tr>\n",
       "    <tr>\n",
       "      <th>6</th>\n",
       "      <td>0.60:0.40</td>\n",
       "      <td>0.121669</td>\n",
       "    </tr>\n",
       "    <tr>\n",
       "      <th>5</th>\n",
       "      <td>0.50:0.50</td>\n",
       "      <td>0.116836</td>\n",
       "    </tr>\n",
       "    <tr>\n",
       "      <th>4</th>\n",
       "      <td>0.40:0.60</td>\n",
       "      <td>0.110587</td>\n",
       "    </tr>\n",
       "    <tr>\n",
       "      <th>3</th>\n",
       "      <td>0.30:0.70</td>\n",
       "      <td>0.105635</td>\n",
       "    </tr>\n",
       "    <tr>\n",
       "      <th>2</th>\n",
       "      <td>0.20:0.80</td>\n",
       "      <td>0.100094</td>\n",
       "    </tr>\n",
       "    <tr>\n",
       "      <th>1</th>\n",
       "      <td>0.10:0.90</td>\n",
       "      <td>0.094082</td>\n",
       "    </tr>\n",
       "    <tr>\n",
       "      <th>0</th>\n",
       "      <td>0.00:1.00</td>\n",
       "      <td>0.087244</td>\n",
       "    </tr>\n",
       "  </tbody>\n",
       "</table>\n",
       "</div>"
      ],
      "text/plain": [
       "        ratio    recall\n",
       "10  1.00:0.00  0.128272\n",
       "9   0.90:0.10  0.126975\n",
       "8   0.80:0.20  0.126857\n",
       "7   0.70:0.30  0.125324\n",
       "6   0.60:0.40  0.121669\n",
       "5   0.50:0.50  0.116836\n",
       "4   0.40:0.60  0.110587\n",
       "3   0.30:0.70  0.105635\n",
       "2   0.20:0.80  0.100094\n",
       "1   0.10:0.90  0.094082\n",
       "0   0.00:1.00  0.087244"
      ]
     },
     "execution_count": 257,
     "metadata": {},
     "output_type": "execute_result"
    }
   ],
   "source": [
    "pd.DataFrame(recalls_2).drop_duplicates().sort_values('recall', ascending=False)"
   ]
  },
  {
   "cell_type": "markdown",
   "id": "3337abf6-340a-4ff0-a13f-58c08d1f76df",
   "metadata": {},
   "source": [
    "### job_code_seq1"
   ]
  },
  {
   "cell_type": "code",
   "execution_count": 275,
   "id": "624f4ebe-4876-448e-9961-70b16f33017f",
   "metadata": {},
   "outputs": [],
   "source": [
    "job_code_weight_pop_view = job_code_weight_pop[['job_code_seq1', 'recruitment_seq',\n",
    "                                            'score', 'w_score']]"
   ]
  },
  {
   "cell_type": "code",
   "execution_count": 276,
   "id": "861549ac-4cef-4b20-a9ac-32a29744d786",
   "metadata": {},
   "outputs": [
    {
     "name": "stdout",
     "output_type": "stream",
     "text": [
      "<class 'pandas.core.frame.DataFrame'>\n",
      "Int64Index: 169640 entries, 0 to 169639\n",
      "Data columns (total 9 columns):\n",
      " #   Column           Non-Null Count   Dtype   \n",
      "---  ------           --------------   -----   \n",
      " 0   resume_idx       169640 non-null  int64   \n",
      " 1   recruitment_idx  169640 non-null  int64   \n",
      " 2   cf_score         169640 non-null  float64 \n",
      " 3   resume_seq       169640 non-null  object  \n",
      " 4   recruitment_seq  169640 non-null  object  \n",
      " 5   degree           169640 non-null  category\n",
      " 6   job_code_seq1    169640 non-null  object  \n",
      " 7   score            169640 non-null  float64 \n",
      " 8   w_score          169640 non-null  float64 \n",
      "dtypes: category(1), float64(3), int64(2), object(3)\n",
      "memory usage: 11.8+ MB\n"
     ]
    }
   ],
   "source": [
    "cf_score_pop = cf_score.merge(job_code_weight_pop_view, how='left', on=['job_code_seq1', 'recruitment_seq'])\n",
    "cf_score_pop[['score', 'w_score']] = cf_score_pop[['score', 'w_score']].fillna(0)\n",
    "cf_score_pop.info()"
   ]
  },
  {
   "cell_type": "markdown",
   "id": "3e895077-b899-4944-8eb3-96d01b88a04c",
   "metadata": {},
   "source": [
    "#### MinMax Scaling"
   ]
  },
  {
   "cell_type": "code",
   "execution_count": 277,
   "id": "e0b892de-2c55-4bb6-97d7-90981799b6fc",
   "metadata": {},
   "outputs": [],
   "source": [
    "# cf_score_pop['w_score'] = mms.fit_transform(cf_score_pop['w_score'].values.reshape(-1,1))\n",
    "# cf_score_pop['cf_score'] = mms.fit_transform(cf_score_pop['cf_score'].values.reshape(-1,1))"
   ]
  },
  {
   "cell_type": "code",
   "execution_count": 278,
   "id": "a32c231d-b89f-47c1-b58c-dcce30a75ff0",
   "metadata": {},
   "outputs": [],
   "source": [
    "cf_score_pop['s_score'] = cf_score_pop.groupby('resume_idx')['score'].transform(\n",
    "    lambda x: (mms.fit_transform(x.values.reshape(-1,1))).reshape(-1))\n",
    "cf_score_pop['sw_score'] = cf_score_pop.groupby('resume_idx')['w_score'].transform(\n",
    "    lambda x: (mms.fit_transform(x.values.reshape(-1,1))).reshape(-1))\n",
    "cf_score_pop['scf_score'] = cf_score_pop.groupby('resume_idx')['cf_score'].transform(\n",
    "    lambda x: (mms.fit_transform(x.values.reshape(-1,1))).reshape(-1))"
   ]
  },
  {
   "cell_type": "code",
   "execution_count": 279,
   "id": "15e729ec-b204-457e-9040-28e9f385d506",
   "metadata": {},
   "outputs": [
    {
     "data": {
      "text/html": [
       "<div>\n",
       "<style scoped>\n",
       "    .dataframe tbody tr th:only-of-type {\n",
       "        vertical-align: middle;\n",
       "    }\n",
       "\n",
       "    .dataframe tbody tr th {\n",
       "        vertical-align: top;\n",
       "    }\n",
       "\n",
       "    .dataframe thead th {\n",
       "        text-align: right;\n",
       "    }\n",
       "</style>\n",
       "<table border=\"1\" class=\"dataframe\">\n",
       "  <thead>\n",
       "    <tr style=\"text-align: right;\">\n",
       "      <th></th>\n",
       "      <th>count</th>\n",
       "      <th>unique</th>\n",
       "      <th>top</th>\n",
       "      <th>freq</th>\n",
       "      <th>mean</th>\n",
       "      <th>std</th>\n",
       "      <th>min</th>\n",
       "      <th>25%</th>\n",
       "      <th>50%</th>\n",
       "      <th>75%</th>\n",
       "      <th>max</th>\n",
       "    </tr>\n",
       "  </thead>\n",
       "  <tbody>\n",
       "    <tr>\n",
       "      <th>resume_idx</th>\n",
       "      <td>169640.0</td>\n",
       "      <td>NaN</td>\n",
       "      <td>NaN</td>\n",
       "      <td>NaN</td>\n",
       "      <td>4240.5</td>\n",
       "      <td>2448.549692</td>\n",
       "      <td>0.0</td>\n",
       "      <td>2120.0</td>\n",
       "      <td>4240.5</td>\n",
       "      <td>6361.0</td>\n",
       "      <td>8481.0</td>\n",
       "    </tr>\n",
       "    <tr>\n",
       "      <th>recruitment_idx</th>\n",
       "      <td>169640.0</td>\n",
       "      <td>NaN</td>\n",
       "      <td>NaN</td>\n",
       "      <td>NaN</td>\n",
       "      <td>2903.618586</td>\n",
       "      <td>1892.670689</td>\n",
       "      <td>0.0</td>\n",
       "      <td>1241.0</td>\n",
       "      <td>2685.0</td>\n",
       "      <td>4446.0</td>\n",
       "      <td>6694.0</td>\n",
       "    </tr>\n",
       "    <tr>\n",
       "      <th>cf_score</th>\n",
       "      <td>169640.0</td>\n",
       "      <td>NaN</td>\n",
       "      <td>NaN</td>\n",
       "      <td>NaN</td>\n",
       "      <td>0.59639</td>\n",
       "      <td>0.194204</td>\n",
       "      <td>0.022234</td>\n",
       "      <td>0.46132</td>\n",
       "      <td>0.57609</td>\n",
       "      <td>0.714961</td>\n",
       "      <td>1.0</td>\n",
       "    </tr>\n",
       "    <tr>\n",
       "      <th>resume_seq</th>\n",
       "      <td>169640</td>\n",
       "      <td>8482</td>\n",
       "      <td>U05833</td>\n",
       "      <td>20</td>\n",
       "      <td>NaN</td>\n",
       "      <td>NaN</td>\n",
       "      <td>NaN</td>\n",
       "      <td>NaN</td>\n",
       "      <td>NaN</td>\n",
       "      <td>NaN</td>\n",
       "      <td>NaN</td>\n",
       "    </tr>\n",
       "    <tr>\n",
       "      <th>recruitment_seq</th>\n",
       "      <td>169640</td>\n",
       "      <td>6684</td>\n",
       "      <td>R03237</td>\n",
       "      <td>422</td>\n",
       "      <td>NaN</td>\n",
       "      <td>NaN</td>\n",
       "      <td>NaN</td>\n",
       "      <td>NaN</td>\n",
       "      <td>NaN</td>\n",
       "      <td>NaN</td>\n",
       "      <td>NaN</td>\n",
       "    </tr>\n",
       "    <tr>\n",
       "      <th>degree</th>\n",
       "      <td>169640.0</td>\n",
       "      <td>5.0</td>\n",
       "      <td>4.0</td>\n",
       "      <td>149060.0</td>\n",
       "      <td>NaN</td>\n",
       "      <td>NaN</td>\n",
       "      <td>NaN</td>\n",
       "      <td>NaN</td>\n",
       "      <td>NaN</td>\n",
       "      <td>NaN</td>\n",
       "      <td>NaN</td>\n",
       "    </tr>\n",
       "    <tr>\n",
       "      <th>job_code_seq1</th>\n",
       "      <td>169640</td>\n",
       "      <td>9</td>\n",
       "      <td>재료·화학·섬유·의복</td>\n",
       "      <td>145760</td>\n",
       "      <td>NaN</td>\n",
       "      <td>NaN</td>\n",
       "      <td>NaN</td>\n",
       "      <td>NaN</td>\n",
       "      <td>NaN</td>\n",
       "      <td>NaN</td>\n",
       "      <td>NaN</td>\n",
       "    </tr>\n",
       "    <tr>\n",
       "      <th>score</th>\n",
       "      <td>169640.0</td>\n",
       "      <td>NaN</td>\n",
       "      <td>NaN</td>\n",
       "      <td>NaN</td>\n",
       "      <td>0.176694</td>\n",
       "      <td>0.155796</td>\n",
       "      <td>0.0</td>\n",
       "      <td>0.069767</td>\n",
       "      <td>0.139535</td>\n",
       "      <td>0.232558</td>\n",
       "      <td>1.0</td>\n",
       "    </tr>\n",
       "    <tr>\n",
       "      <th>w_score</th>\n",
       "      <td>169640.0</td>\n",
       "      <td>NaN</td>\n",
       "      <td>NaN</td>\n",
       "      <td>NaN</td>\n",
       "      <td>0.177559</td>\n",
       "      <td>0.157599</td>\n",
       "      <td>0.0</td>\n",
       "      <td>0.072997</td>\n",
       "      <td>0.142749</td>\n",
       "      <td>0.23683</td>\n",
       "      <td>1.165764</td>\n",
       "    </tr>\n",
       "    <tr>\n",
       "      <th>s_score</th>\n",
       "      <td>169640.0</td>\n",
       "      <td>NaN</td>\n",
       "      <td>NaN</td>\n",
       "      <td>NaN</td>\n",
       "      <td>0.340865</td>\n",
       "      <td>0.284522</td>\n",
       "      <td>0.0</td>\n",
       "      <td>0.111111</td>\n",
       "      <td>0.3</td>\n",
       "      <td>0.5</td>\n",
       "      <td>1.0</td>\n",
       "    </tr>\n",
       "    <tr>\n",
       "      <th>sw_score</th>\n",
       "      <td>169640.0</td>\n",
       "      <td>NaN</td>\n",
       "      <td>NaN</td>\n",
       "      <td>NaN</td>\n",
       "      <td>0.339253</td>\n",
       "      <td>0.283913</td>\n",
       "      <td>0.0</td>\n",
       "      <td>0.111038</td>\n",
       "      <td>0.294118</td>\n",
       "      <td>0.50351</td>\n",
       "      <td>1.0</td>\n",
       "    </tr>\n",
       "    <tr>\n",
       "      <th>scf_score</th>\n",
       "      <td>169640.0</td>\n",
       "      <td>NaN</td>\n",
       "      <td>NaN</td>\n",
       "      <td>NaN</td>\n",
       "      <td>0.28037</td>\n",
       "      <td>0.285665</td>\n",
       "      <td>0.0</td>\n",
       "      <td>0.054594</td>\n",
       "      <td>0.181915</td>\n",
       "      <td>0.416588</td>\n",
       "      <td>1.0</td>\n",
       "    </tr>\n",
       "  </tbody>\n",
       "</table>\n",
       "</div>"
      ],
      "text/plain": [
       "                    count unique          top      freq         mean  \\\n",
       "resume_idx       169640.0    NaN          NaN       NaN       4240.5   \n",
       "recruitment_idx  169640.0    NaN          NaN       NaN  2903.618586   \n",
       "cf_score         169640.0    NaN          NaN       NaN      0.59639   \n",
       "resume_seq         169640   8482       U05833        20          NaN   \n",
       "recruitment_seq    169640   6684       R03237       422          NaN   \n",
       "degree           169640.0    5.0          4.0  149060.0          NaN   \n",
       "job_code_seq1      169640      9  재료·화학·섬유·의복    145760          NaN   \n",
       "score            169640.0    NaN          NaN       NaN     0.176694   \n",
       "w_score          169640.0    NaN          NaN       NaN     0.177559   \n",
       "s_score          169640.0    NaN          NaN       NaN     0.340865   \n",
       "sw_score         169640.0    NaN          NaN       NaN     0.339253   \n",
       "scf_score        169640.0    NaN          NaN       NaN      0.28037   \n",
       "\n",
       "                         std       min       25%       50%       75%       max  \n",
       "resume_idx       2448.549692       0.0    2120.0    4240.5    6361.0    8481.0  \n",
       "recruitment_idx  1892.670689       0.0    1241.0    2685.0    4446.0    6694.0  \n",
       "cf_score            0.194204  0.022234   0.46132   0.57609  0.714961       1.0  \n",
       "resume_seq               NaN       NaN       NaN       NaN       NaN       NaN  \n",
       "recruitment_seq          NaN       NaN       NaN       NaN       NaN       NaN  \n",
       "degree                   NaN       NaN       NaN       NaN       NaN       NaN  \n",
       "job_code_seq1            NaN       NaN       NaN       NaN       NaN       NaN  \n",
       "score               0.155796       0.0  0.069767  0.139535  0.232558       1.0  \n",
       "w_score             0.157599       0.0  0.072997  0.142749   0.23683  1.165764  \n",
       "s_score             0.284522       0.0  0.111111       0.3       0.5       1.0  \n",
       "sw_score            0.283913       0.0  0.111038  0.294118   0.50351       1.0  \n",
       "scf_score           0.285665       0.0  0.054594  0.181915  0.416588       1.0  "
      ]
     },
     "execution_count": 279,
     "metadata": {},
     "output_type": "execute_result"
    }
   ],
   "source": [
    "cf_score_pop.describe(include ='all').T"
   ]
  },
  {
   "cell_type": "markdown",
   "id": "896ca5f7-b592-4623-ac43-b363bb989712",
   "metadata": {},
   "source": [
    "#### RECALL 계산"
   ]
  },
  {
   "cell_type": "markdown",
   "id": "17832232-db36-45eb-ac16-d32787796009",
   "metadata": {},
   "source": [
    "##### 단순인기도"
   ]
  },
  {
   "cell_type": "code",
   "execution_count": 126,
   "id": "b12af792-dac4-467f-99f0-dd827d469a8b",
   "metadata": {},
   "outputs": [],
   "source": [
    "recalls_1 = []"
   ]
  },
  {
   "cell_type": "code",
   "execution_count": 127,
   "id": "042e5494-1938-459c-9a1f-eae87d71ab25",
   "metadata": {
    "collapsed": true,
    "jupyter": {
     "outputs_hidden": true
    }
   },
   "outputs": [
    {
     "name": "stdout",
     "output_type": "stream",
     "text": [
      "0.00 : 1.00\n",
      "0.01 : 0.99\n",
      "0.02 : 0.98\n",
      "0.03 : 0.97\n",
      "0.04 : 0.96\n",
      "0.05 : 0.95\n",
      "0.06 : 0.94\n",
      "0.07 : 0.93\n",
      "0.08 : 0.92\n",
      "0.09 : 0.91\n",
      "0.10 : 0.90\n",
      "0.11 : 0.89\n",
      "0.12 : 0.88\n",
      "0.13 : 0.87\n",
      "0.14 : 0.86\n",
      "0.15 : 0.85\n",
      "0.16 : 0.84\n",
      "0.17 : 0.83\n",
      "0.18 : 0.82\n",
      "0.19 : 0.81\n",
      "0.20 : 0.80\n",
      "0.21 : 0.79\n",
      "0.22 : 0.78\n",
      "0.23 : 0.77\n",
      "0.24 : 0.76\n",
      "0.25 : 0.75\n",
      "0.26 : 0.74\n",
      "0.27 : 0.73\n",
      "0.28 : 0.72\n",
      "0.29 : 0.71\n",
      "0.30 : 0.70\n",
      "0.31 : 0.69\n",
      "0.32 : 0.68\n",
      "0.33 : 0.67\n",
      "0.34 : 0.66\n",
      "0.35 : 0.65\n",
      "0.36 : 0.64\n",
      "0.37 : 0.63\n",
      "0.38 : 0.62\n",
      "0.39 : 0.61\n",
      "0.40 : 0.60\n",
      "0.41 : 0.59\n",
      "0.42 : 0.58\n",
      "0.43 : 0.57\n",
      "0.44 : 0.56\n",
      "0.45 : 0.55\n",
      "0.46 : 0.54\n",
      "0.47 : 0.53\n",
      "0.48 : 0.52\n",
      "0.49 : 0.51\n",
      "0.50 : 0.50\n",
      "0.51 : 0.49\n",
      "0.52 : 0.48\n",
      "0.53 : 0.47\n",
      "0.54 : 0.46\n",
      "0.55 : 0.45\n",
      "0.56 : 0.44\n",
      "0.57 : 0.43\n",
      "0.58 : 0.42\n",
      "0.59 : 0.41\n",
      "0.60 : 0.40\n",
      "0.61 : 0.39\n",
      "0.62 : 0.38\n",
      "0.63 : 0.37\n",
      "0.64 : 0.36\n",
      "0.65 : 0.35\n",
      "0.66 : 0.34\n",
      "0.67 : 0.33\n",
      "0.68 : 0.32\n",
      "0.69 : 0.31\n",
      "0.70 : 0.30\n",
      "0.71 : 0.29\n",
      "0.72 : 0.28\n",
      "0.73 : 0.27\n",
      "0.74 : 0.26\n",
      "0.75 : 0.25\n",
      "0.76 : 0.24\n",
      "0.77 : 0.23\n",
      "0.78 : 0.22\n",
      "0.79 : 0.21\n",
      "0.80 : 0.20\n",
      "0.81 : 0.19\n",
      "0.82 : 0.18\n",
      "0.83 : 0.17\n",
      "0.84 : 0.16\n",
      "0.85 : 0.15\n",
      "0.86 : 0.14\n",
      "0.87 : 0.13\n",
      "0.88 : 0.12\n",
      "0.89 : 0.11\n",
      "0.90 : 0.10\n",
      "0.91 : 0.09\n",
      "0.92 : 0.08\n",
      "0.93 : 0.07\n",
      "0.94 : 0.06\n",
      "0.95 : 0.05\n",
      "0.96 : 0.04\n",
      "0.97 : 0.03\n",
      "0.98 : 0.02\n",
      "0.99 : 0.01\n",
      "1.00 : 0.00\n"
     ]
    }
   ],
   "source": [
    "pop_scores = create_ensemble_submission_2col(cf_score_pop, 'scf_score', 's_score', start=0, end=101, step=1)"
   ]
  },
  {
   "cell_type": "code",
   "execution_count": 128,
   "id": "15c5b25f-ec13-48e8-849e-f60807b35d87",
   "metadata": {},
   "outputs": [
    {
     "name": "stderr",
     "output_type": "stream",
     "text": [
      "100%|████████████████████████████████████████████████████████████████████████████████| 101/101 [01:57<00:00,  1.16s/it]\n"
     ]
    }
   ],
   "source": [
    "for ratio, sbm in tqdm(pop_scores.items()):\n",
    "    data = {}\n",
    "    data['ratio'] = ratio\n",
    "    data['recall'] = calculate_precision_at_k_dacon(test, sbm, 5)\n",
    "    recalls_1.append(data)"
   ]
  },
  {
   "cell_type": "code",
   "execution_count": 135,
   "id": "9c97a214-5e24-4f31-b7ef-c91587b12c81",
   "metadata": {},
   "outputs": [
    {
     "data": {
      "text/html": [
       "<div>\n",
       "<style scoped>\n",
       "    .dataframe tbody tr th:only-of-type {\n",
       "        vertical-align: middle;\n",
       "    }\n",
       "\n",
       "    .dataframe tbody tr th {\n",
       "        vertical-align: top;\n",
       "    }\n",
       "\n",
       "    .dataframe thead th {\n",
       "        text-align: right;\n",
       "    }\n",
       "</style>\n",
       "<table border=\"1\" class=\"dataframe\">\n",
       "  <thead>\n",
       "    <tr style=\"text-align: right;\">\n",
       "      <th></th>\n",
       "      <th>ratio</th>\n",
       "      <th>recall</th>\n",
       "    </tr>\n",
       "  </thead>\n",
       "  <tbody>\n",
       "    <tr>\n",
       "      <th>82</th>\n",
       "      <td>0.82:0.18</td>\n",
       "      <td>0.128979</td>\n",
       "    </tr>\n",
       "    <tr>\n",
       "      <th>94</th>\n",
       "      <td>0.94:0.06</td>\n",
       "      <td>0.128861</td>\n",
       "    </tr>\n",
       "    <tr>\n",
       "      <th>88</th>\n",
       "      <td>0.88:0.12</td>\n",
       "      <td>0.128861</td>\n",
       "    </tr>\n",
       "    <tr>\n",
       "      <th>85</th>\n",
       "      <td>0.85:0.15</td>\n",
       "      <td>0.128743</td>\n",
       "    </tr>\n",
       "    <tr>\n",
       "      <th>93</th>\n",
       "      <td>0.93:0.07</td>\n",
       "      <td>0.128743</td>\n",
       "    </tr>\n",
       "  </tbody>\n",
       "</table>\n",
       "</div>"
      ],
      "text/plain": [
       "        ratio    recall\n",
       "82  0.82:0.18  0.128979\n",
       "94  0.94:0.06  0.128861\n",
       "88  0.88:0.12  0.128861\n",
       "85  0.85:0.15  0.128743\n",
       "93  0.93:0.07  0.128743"
      ]
     },
     "execution_count": 135,
     "metadata": {},
     "output_type": "execute_result"
    }
   ],
   "source": [
    "recall_job_1 = pd.DataFrame(recalls_1).drop_duplicates().sort_values('recall', ascending=False)\n",
    "recall_job_1.head()"
   ]
  },
  {
   "cell_type": "code",
   "execution_count": 139,
   "id": "9cd2c84e-1f4e-43e8-9d04-9e5841b65b0e",
   "metadata": {},
   "outputs": [],
   "source": [
    "recall_job_1.to_csv(f'{RECALL_PATH}/simple_{DATA_SET}.csv', index=False)"
   ]
  },
  {
   "cell_type": "markdown",
   "id": "89dad201-761e-4fcf-a4ae-91762cd94e61",
   "metadata": {},
   "source": [
    "##### 가중치 인기도"
   ]
  },
  {
   "cell_type": "code",
   "execution_count": 280,
   "id": "ec32c35b-27d3-4461-aa40-3193630f4504",
   "metadata": {},
   "outputs": [],
   "source": [
    "recalls_2 = []"
   ]
  },
  {
   "cell_type": "code",
   "execution_count": 282,
   "id": "dd91b2ae-8f3c-4a48-aa01-c7f2b6ad3150",
   "metadata": {},
   "outputs": [
    {
     "name": "stdout",
     "output_type": "stream",
     "text": [
      "0.00 : 1.00\n",
      "0.10 : 0.90\n",
      "0.20 : 0.80\n",
      "0.30 : 0.70\n",
      "0.40 : 0.60\n",
      "0.50 : 0.50\n",
      "0.60 : 0.40\n",
      "0.70 : 0.30\n",
      "0.80 : 0.20\n",
      "0.90 : 0.10\n",
      "1.00 : 0.00\n"
     ]
    }
   ],
   "source": [
    "pop_scores = create_ensemble_submission_2col(cf_score_pop, 'scf_score', 'sw_score', start=0, end=101, step=10)"
   ]
  },
  {
   "cell_type": "code",
   "execution_count": 283,
   "id": "2fe7c008-79d5-4a30-b3b1-cb93be15e2a1",
   "metadata": {},
   "outputs": [
    {
     "name": "stderr",
     "output_type": "stream",
     "text": [
      "100%|██████████████████████████████████████████████████████████████████████████████████| 11/11 [00:12<00:00,  1.18s/it]\n"
     ]
    }
   ],
   "source": [
    "for ratio, sbm in tqdm(pop_scores.items()):\n",
    "    data = {}\n",
    "    data['ratio'] = ratio\n",
    "    data['recall'] = calculate_precision_at_k_dacon(test, sbm, 5)\n",
    "    recalls_2.append(data)"
   ]
  },
  {
   "cell_type": "code",
   "execution_count": 284,
   "id": "95e80375-2b5d-4d23-b13b-c1d4b93ba456",
   "metadata": {},
   "outputs": [
    {
     "data": {
      "text/html": [
       "<div>\n",
       "<style scoped>\n",
       "    .dataframe tbody tr th:only-of-type {\n",
       "        vertical-align: middle;\n",
       "    }\n",
       "\n",
       "    .dataframe tbody tr th {\n",
       "        vertical-align: top;\n",
       "    }\n",
       "\n",
       "    .dataframe thead th {\n",
       "        text-align: right;\n",
       "    }\n",
       "</style>\n",
       "<table border=\"1\" class=\"dataframe\">\n",
       "  <thead>\n",
       "    <tr style=\"text-align: right;\">\n",
       "      <th></th>\n",
       "      <th>ratio</th>\n",
       "      <th>recall</th>\n",
       "    </tr>\n",
       "  </thead>\n",
       "  <tbody>\n",
       "    <tr>\n",
       "      <th>10</th>\n",
       "      <td>1.00:0.00</td>\n",
       "      <td>0.128272</td>\n",
       "    </tr>\n",
       "    <tr>\n",
       "      <th>8</th>\n",
       "      <td>0.80:0.20</td>\n",
       "      <td>0.127682</td>\n",
       "    </tr>\n",
       "    <tr>\n",
       "      <th>9</th>\n",
       "      <td>0.90:0.10</td>\n",
       "      <td>0.127682</td>\n",
       "    </tr>\n",
       "    <tr>\n",
       "      <th>7</th>\n",
       "      <td>0.70:0.30</td>\n",
       "      <td>0.125560</td>\n",
       "    </tr>\n",
       "    <tr>\n",
       "      <th>6</th>\n",
       "      <td>0.60:0.40</td>\n",
       "      <td>0.121669</td>\n",
       "    </tr>\n",
       "  </tbody>\n",
       "</table>\n",
       "</div>"
      ],
      "text/plain": [
       "        ratio    recall\n",
       "10  1.00:0.00  0.128272\n",
       "8   0.80:0.20  0.127682\n",
       "9   0.90:0.10  0.127682\n",
       "7   0.70:0.30  0.125560\n",
       "6   0.60:0.40  0.121669"
      ]
     },
     "execution_count": 284,
     "metadata": {},
     "output_type": "execute_result"
    }
   ],
   "source": [
    "recall_job_2 = pd.DataFrame(recalls_2).drop_duplicates().sort_values('recall', ascending=False)\n",
    "recall_job_2.head()"
   ]
  },
  {
   "cell_type": "code",
   "execution_count": 141,
   "id": "6acea23c-a94b-42de-8e49-c22fcbdf8a82",
   "metadata": {},
   "outputs": [],
   "source": [
    "recall_job_2.to_csv(f'{RECALL_PATH}/weighted_{DATA_SET}.csv', index=False)"
   ]
  },
  {
   "cell_type": "markdown",
   "id": "8dc0f5db-8c54-41da-add5-36ad40394a69",
   "metadata": {},
   "source": [
    "## LTOCF 인기도 가중치 적용"
   ]
  },
  {
   "cell_type": "code",
   "execution_count": 156,
   "id": "d44c997f-7891-4a04-9787-9ab915540302",
   "metadata": {},
   "outputs": [],
   "source": [
    "MODEL = \"LTOCF\""
   ]
  },
  {
   "cell_type": "code",
   "execution_count": 134,
   "id": "ac583486-3545-48cd-b82f-dbd5cd7c6b53",
   "metadata": {},
   "outputs": [
    {
     "data": {
      "text/html": [
       "<div>\n",
       "<style scoped>\n",
       "    .dataframe tbody tr th:only-of-type {\n",
       "        vertical-align: middle;\n",
       "    }\n",
       "\n",
       "    .dataframe tbody tr th {\n",
       "        vertical-align: top;\n",
       "    }\n",
       "\n",
       "    .dataframe thead th {\n",
       "        text-align: right;\n",
       "    }\n",
       "</style>\n",
       "<table border=\"1\" class=\"dataframe\">\n",
       "  <thead>\n",
       "    <tr style=\"text-align: right;\">\n",
       "      <th></th>\n",
       "      <th>resume_idx</th>\n",
       "      <th>recruitment_idx</th>\n",
       "      <th>ltocf_score</th>\n",
       "      <th>resume_seq</th>\n",
       "      <th>recruitment_seq</th>\n",
       "    </tr>\n",
       "  </thead>\n",
       "  <tbody>\n",
       "    <tr>\n",
       "      <th>0</th>\n",
       "      <td>0</td>\n",
       "      <td>156</td>\n",
       "      <td>0.999877</td>\n",
       "      <td>U05833</td>\n",
       "      <td>R03943</td>\n",
       "    </tr>\n",
       "    <tr>\n",
       "      <th>1</th>\n",
       "      <td>0</td>\n",
       "      <td>3195</td>\n",
       "      <td>0.999227</td>\n",
       "      <td>U05833</td>\n",
       "      <td>R05806</td>\n",
       "    </tr>\n",
       "    <tr>\n",
       "      <th>2</th>\n",
       "      <td>0</td>\n",
       "      <td>1051</td>\n",
       "      <td>0.998012</td>\n",
       "      <td>U05833</td>\n",
       "      <td>R02540</td>\n",
       "    </tr>\n",
       "    <tr>\n",
       "      <th>3</th>\n",
       "      <td>0</td>\n",
       "      <td>4670</td>\n",
       "      <td>0.997515</td>\n",
       "      <td>U05833</td>\n",
       "      <td>R04100</td>\n",
       "    </tr>\n",
       "    <tr>\n",
       "      <th>4</th>\n",
       "      <td>0</td>\n",
       "      <td>2576</td>\n",
       "      <td>0.997507</td>\n",
       "      <td>U05833</td>\n",
       "      <td>R00097</td>\n",
       "    </tr>\n",
       "  </tbody>\n",
       "</table>\n",
       "</div>"
      ],
      "text/plain": [
       "   resume_idx  recruitment_idx  ltocf_score resume_seq recruitment_seq\n",
       "0           0              156     0.999877     U05833          R03943\n",
       "1           0             3195     0.999227     U05833          R05806\n",
       "2           0             1051     0.998012     U05833          R02540\n",
       "3           0             4670     0.997515     U05833          R04100\n",
       "4           0             2576     0.997507     U05833          R00097"
      ]
     },
     "execution_count": 134,
     "metadata": {},
     "output_type": "execute_result"
    }
   ],
   "source": [
    "ltocf_score['resume_seq'] = ltocf_score['resume_idx'].apply(lambda x: resume_decode[x])\n",
    "ltocf_score['recruitment_seq'] = ltocf_score['recruitment_idx'].apply(lambda x: recruitment_decode[x])\n",
    "ltocf_score.head()"
   ]
  },
  {
   "cell_type": "code",
   "execution_count": 135,
   "id": "926d73ce-4f44-4427-b06f-cad1ab0277a6",
   "metadata": {},
   "outputs": [
    {
     "name": "stdout",
     "output_type": "stream",
     "text": [
      "<class 'pandas.core.frame.DataFrame'>\n",
      "Int64Index: 169640 entries, 0 to 169639\n",
      "Data columns (total 7 columns):\n",
      " #   Column           Non-Null Count   Dtype   \n",
      "---  ------           --------------   -----   \n",
      " 0   resume_idx       169640 non-null  int64   \n",
      " 1   recruitment_idx  169640 non-null  int64   \n",
      " 2   ltocf_score      169640 non-null  float64 \n",
      " 3   resume_seq       169640 non-null  object  \n",
      " 4   recruitment_seq  169640 non-null  object  \n",
      " 5   degree           169640 non-null  category\n",
      " 6   job_code_seq1    169640 non-null  category\n",
      "dtypes: category(2), float64(1), int64(2), object(2)\n",
      "memory usage: 8.1+ MB\n"
     ]
    }
   ],
   "source": [
    "ltocf_score = ltocf_score.merge(resume, how='inner', on='resume_seq')\n",
    "ltocf_score.info()"
   ]
  },
  {
   "cell_type": "markdown",
   "id": "e9599dd8-0b15-431d-92ca-e1123d9772d6",
   "metadata": {},
   "source": [
    "### Degree"
   ]
  },
  {
   "cell_type": "code",
   "execution_count": 136,
   "id": "33d6b238-e202-4bbf-a6ec-8199301c9ac0",
   "metadata": {},
   "outputs": [],
   "source": [
    "degree_weight_pop_view = degree_weight_pop[['degree', 'recruitment_seq',\n",
    "                                            'score', 'w_score']]"
   ]
  },
  {
   "cell_type": "code",
   "execution_count": 137,
   "id": "929cb074-45c9-44d1-9bf8-2f7be46feaa3",
   "metadata": {},
   "outputs": [
    {
     "name": "stdout",
     "output_type": "stream",
     "text": [
      "<class 'pandas.core.frame.DataFrame'>\n",
      "Int64Index: 169640 entries, 0 to 169639\n",
      "Data columns (total 9 columns):\n",
      " #   Column           Non-Null Count   Dtype   \n",
      "---  ------           --------------   -----   \n",
      " 0   resume_idx       169640 non-null  int64   \n",
      " 1   recruitment_idx  169640 non-null  int64   \n",
      " 2   ltocf_score      169640 non-null  float64 \n",
      " 3   resume_seq       169640 non-null  object  \n",
      " 4   recruitment_seq  169640 non-null  object  \n",
      " 5   degree           169640 non-null  int64   \n",
      " 6   job_code_seq1    169640 non-null  category\n",
      " 7   score            169640 non-null  float64 \n",
      " 8   w_score          169640 non-null  float64 \n",
      "dtypes: category(1), float64(3), int64(3), object(2)\n",
      "memory usage: 11.8+ MB\n"
     ]
    }
   ],
   "source": [
    "ltocf_score_pop = ltocf_score.merge(degree_weight_pop_view, how='left', on=['degree', 'recruitment_seq'])\n",
    "ltocf_score_pop[['score', 'w_score']] = ltocf_score_pop[['score', 'w_score']].fillna(0)\n",
    "ltocf_score_pop.info()"
   ]
  },
  {
   "cell_type": "markdown",
   "id": "0a99dc02-1b6b-4a49-b067-0d4e9ec13d2e",
   "metadata": {},
   "source": [
    "#### MinMax Scaling"
   ]
  },
  {
   "cell_type": "code",
   "execution_count": 138,
   "id": "dad74f5f-30fc-4b9a-b650-fff19aed74a9",
   "metadata": {},
   "outputs": [],
   "source": [
    "# ltocf_score_pop['w_score'] = mms.fit_transform(ltocf_score_pop['w_score'].values.reshape(-1,1))\n",
    "# ltocf_score_pop['ltocf_score'] = mms.fit_transform(ltocf_score_pop['ltocf_score'].values.reshape(-1,1))"
   ]
  },
  {
   "cell_type": "code",
   "execution_count": 139,
   "id": "a1a43a01-e1e0-43c6-9c2a-1dd521b7fbca",
   "metadata": {},
   "outputs": [],
   "source": [
    "ltocf_score_pop['s_score'] = ltocf_score_pop.groupby('resume_idx')['score'].transform(\n",
    "    lambda x: (mms.fit_transform(x.values.reshape(-1,1))).reshape(-1))\n",
    "ltocf_score_pop['sw_score'] = ltocf_score_pop.groupby('resume_idx')['w_score'].transform(\n",
    "    lambda x: (mms.fit_transform(x.values.reshape(-1,1))).reshape(-1))\n",
    "ltocf_score_pop['scf_score'] = ltocf_score_pop.groupby('resume_idx')['ltocf_score'].transform(\n",
    "    lambda x: (mms.fit_transform(x.values.reshape(-1,1))).reshape(-1))"
   ]
  },
  {
   "cell_type": "markdown",
   "id": "75101fdd-b43a-4b61-a43e-c823eff4e95b",
   "metadata": {},
   "source": [
    "#### RECALL 계산"
   ]
  },
  {
   "cell_type": "markdown",
   "id": "6e656421-3fe0-43ae-bbb1-cca11f2b9720",
   "metadata": {},
   "source": [
    "##### 단순인기도"
   ]
  },
  {
   "cell_type": "code",
   "execution_count": 140,
   "id": "e945aea5-346f-4e22-ad04-ffcafdb1f866",
   "metadata": {},
   "outputs": [],
   "source": [
    "recalls_1 = []"
   ]
  },
  {
   "cell_type": "code",
   "execution_count": 141,
   "id": "7f18fd58-515b-4530-93a6-3fb53aece481",
   "metadata": {},
   "outputs": [
    {
     "name": "stdout",
     "output_type": "stream",
     "text": [
      "0.00 : 1.00\n",
      "0.10 : 0.90\n",
      "0.20 : 0.80\n",
      "0.30 : 0.70\n",
      "0.40 : 0.60\n",
      "0.50 : 0.50\n",
      "0.60 : 0.40\n",
      "0.70 : 0.30\n",
      "0.80 : 0.20\n",
      "0.90 : 0.10\n",
      "1.00 : 0.00\n"
     ]
    }
   ],
   "source": [
    "pop_scores = create_ensemble_submission_2col(ltocf_score_pop, 'scf_score', 's_score', start=0, end=101, step=10)"
   ]
  },
  {
   "cell_type": "code",
   "execution_count": 142,
   "id": "16f36c7a-be1e-4d28-819e-8d57b3bdaf67",
   "metadata": {},
   "outputs": [
    {
     "name": "stderr",
     "output_type": "stream",
     "text": [
      "100%|██████████████████████████████████████████████████████████████████████████████████| 11/11 [00:13<00:00,  1.23s/it]\n"
     ]
    }
   ],
   "source": [
    "for ratio, sbm in tqdm(pop_scores.items()):\n",
    "    data = {}\n",
    "    data['ratio'] = ratio\n",
    "    data['recall'] = calculate_precision_at_k_dacon(test, sbm, 5)\n",
    "    recalls_1.append(data)"
   ]
  },
  {
   "cell_type": "code",
   "execution_count": 143,
   "id": "49c3ca79-fc6b-4a80-8aac-40c22b1e5c20",
   "metadata": {},
   "outputs": [
    {
     "data": {
      "text/html": [
       "<div>\n",
       "<style scoped>\n",
       "    .dataframe tbody tr th:only-of-type {\n",
       "        vertical-align: middle;\n",
       "    }\n",
       "\n",
       "    .dataframe tbody tr th {\n",
       "        vertical-align: top;\n",
       "    }\n",
       "\n",
       "    .dataframe thead th {\n",
       "        text-align: right;\n",
       "    }\n",
       "</style>\n",
       "<table border=\"1\" class=\"dataframe\">\n",
       "  <thead>\n",
       "    <tr style=\"text-align: right;\">\n",
       "      <th></th>\n",
       "      <th>ratio</th>\n",
       "      <th>recall</th>\n",
       "    </tr>\n",
       "  </thead>\n",
       "  <tbody>\n",
       "    <tr>\n",
       "      <th>10</th>\n",
       "      <td>1.00:0.00</td>\n",
       "      <td>0.129686</td>\n",
       "    </tr>\n",
       "    <tr>\n",
       "      <th>8</th>\n",
       "      <td>0.80:0.20</td>\n",
       "      <td>0.129215</td>\n",
       "    </tr>\n",
       "    <tr>\n",
       "      <th>9</th>\n",
       "      <td>0.90:0.10</td>\n",
       "      <td>0.128154</td>\n",
       "    </tr>\n",
       "    <tr>\n",
       "      <th>7</th>\n",
       "      <td>0.70:0.30</td>\n",
       "      <td>0.124617</td>\n",
       "    </tr>\n",
       "    <tr>\n",
       "      <th>6</th>\n",
       "      <td>0.60:0.40</td>\n",
       "      <td>0.120137</td>\n",
       "    </tr>\n",
       "    <tr>\n",
       "      <th>5</th>\n",
       "      <td>0.50:0.50</td>\n",
       "      <td>0.116482</td>\n",
       "    </tr>\n",
       "    <tr>\n",
       "      <th>4</th>\n",
       "      <td>0.40:0.60</td>\n",
       "      <td>0.113417</td>\n",
       "    </tr>\n",
       "    <tr>\n",
       "      <th>3</th>\n",
       "      <td>0.30:0.70</td>\n",
       "      <td>0.108229</td>\n",
       "    </tr>\n",
       "    <tr>\n",
       "      <th>2</th>\n",
       "      <td>0.20:0.80</td>\n",
       "      <td>0.100094</td>\n",
       "    </tr>\n",
       "    <tr>\n",
       "      <th>1</th>\n",
       "      <td>0.10:0.90</td>\n",
       "      <td>0.093964</td>\n",
       "    </tr>\n",
       "    <tr>\n",
       "      <th>0</th>\n",
       "      <td>0.00:1.00</td>\n",
       "      <td>0.091724</td>\n",
       "    </tr>\n",
       "  </tbody>\n",
       "</table>\n",
       "</div>"
      ],
      "text/plain": [
       "        ratio    recall\n",
       "10  1.00:0.00  0.129686\n",
       "8   0.80:0.20  0.129215\n",
       "9   0.90:0.10  0.128154\n",
       "7   0.70:0.30  0.124617\n",
       "6   0.60:0.40  0.120137\n",
       "5   0.50:0.50  0.116482\n",
       "4   0.40:0.60  0.113417\n",
       "3   0.30:0.70  0.108229\n",
       "2   0.20:0.80  0.100094\n",
       "1   0.10:0.90  0.093964\n",
       "0   0.00:1.00  0.091724"
      ]
     },
     "execution_count": 143,
     "metadata": {},
     "output_type": "execute_result"
    }
   ],
   "source": [
    "pd.DataFrame(recalls_1).drop_duplicates().sort_values('recall', ascending=False)"
   ]
  },
  {
   "cell_type": "markdown",
   "id": "64d7cf08-60e9-4355-9be8-567666580434",
   "metadata": {},
   "source": [
    "##### 가중치 인기도"
   ]
  },
  {
   "cell_type": "code",
   "execution_count": 144,
   "id": "7cf2430a-dc96-493e-b768-de957182490b",
   "metadata": {},
   "outputs": [],
   "source": [
    "recalls_2 = []"
   ]
  },
  {
   "cell_type": "code",
   "execution_count": 145,
   "id": "5589244b-741d-45d1-8cc2-51ad94bf5505",
   "metadata": {},
   "outputs": [
    {
     "name": "stdout",
     "output_type": "stream",
     "text": [
      "0.00 : 1.00\n",
      "0.10 : 0.90\n",
      "0.20 : 0.80\n",
      "0.30 : 0.70\n",
      "0.40 : 0.60\n",
      "0.50 : 0.50\n",
      "0.60 : 0.40\n",
      "0.70 : 0.30\n",
      "0.80 : 0.20\n",
      "0.90 : 0.10\n",
      "1.00 : 0.00\n"
     ]
    }
   ],
   "source": [
    "pop_scores = create_ensemble_submission_2col(ltocf_score_pop, 'scf_score', 'sw_score', start=0, end=101, step=10)"
   ]
  },
  {
   "cell_type": "code",
   "execution_count": 146,
   "id": "e5efbee1-bcce-46a0-8d7d-725b30a86757",
   "metadata": {},
   "outputs": [
    {
     "name": "stderr",
     "output_type": "stream",
     "text": [
      "100%|██████████████████████████████████████████████████████████████████████████████████| 11/11 [00:12<00:00,  1.16s/it]\n"
     ]
    }
   ],
   "source": [
    "for ratio, sbm in tqdm(pop_scores.items()):\n",
    "    data = {}\n",
    "    data['ratio'] = ratio\n",
    "    data['recall'] = calculate_precision_at_k_dacon(test, sbm, 5)\n",
    "    recalls_2.append(data)"
   ]
  },
  {
   "cell_type": "code",
   "execution_count": 147,
   "id": "ea00b42e-a512-4b8b-8760-c4aa642f2a9e",
   "metadata": {},
   "outputs": [
    {
     "data": {
      "text/html": [
       "<div>\n",
       "<style scoped>\n",
       "    .dataframe tbody tr th:only-of-type {\n",
       "        vertical-align: middle;\n",
       "    }\n",
       "\n",
       "    .dataframe tbody tr th {\n",
       "        vertical-align: top;\n",
       "    }\n",
       "\n",
       "    .dataframe thead th {\n",
       "        text-align: right;\n",
       "    }\n",
       "</style>\n",
       "<table border=\"1\" class=\"dataframe\">\n",
       "  <thead>\n",
       "    <tr style=\"text-align: right;\">\n",
       "      <th></th>\n",
       "      <th>ratio</th>\n",
       "      <th>recall</th>\n",
       "    </tr>\n",
       "  </thead>\n",
       "  <tbody>\n",
       "    <tr>\n",
       "      <th>10</th>\n",
       "      <td>1.00:0.00</td>\n",
       "      <td>0.129686</td>\n",
       "    </tr>\n",
       "    <tr>\n",
       "      <th>8</th>\n",
       "      <td>0.80:0.20</td>\n",
       "      <td>0.128861</td>\n",
       "    </tr>\n",
       "    <tr>\n",
       "      <th>9</th>\n",
       "      <td>0.90:0.10</td>\n",
       "      <td>0.128036</td>\n",
       "    </tr>\n",
       "    <tr>\n",
       "      <th>7</th>\n",
       "      <td>0.70:0.30</td>\n",
       "      <td>0.125442</td>\n",
       "    </tr>\n",
       "    <tr>\n",
       "      <th>6</th>\n",
       "      <td>0.60:0.40</td>\n",
       "      <td>0.121080</td>\n",
       "    </tr>\n",
       "    <tr>\n",
       "      <th>5</th>\n",
       "      <td>0.50:0.50</td>\n",
       "      <td>0.117779</td>\n",
       "    </tr>\n",
       "    <tr>\n",
       "      <th>4</th>\n",
       "      <td>0.40:0.60</td>\n",
       "      <td>0.115421</td>\n",
       "    </tr>\n",
       "    <tr>\n",
       "      <th>3</th>\n",
       "      <td>0.30:0.70</td>\n",
       "      <td>0.108819</td>\n",
       "    </tr>\n",
       "    <tr>\n",
       "      <th>2</th>\n",
       "      <td>0.20:0.80</td>\n",
       "      <td>0.101627</td>\n",
       "    </tr>\n",
       "    <tr>\n",
       "      <th>1</th>\n",
       "      <td>0.10:0.90</td>\n",
       "      <td>0.095732</td>\n",
       "    </tr>\n",
       "    <tr>\n",
       "      <th>0</th>\n",
       "      <td>0.00:1.00</td>\n",
       "      <td>0.090545</td>\n",
       "    </tr>\n",
       "  </tbody>\n",
       "</table>\n",
       "</div>"
      ],
      "text/plain": [
       "        ratio    recall\n",
       "10  1.00:0.00  0.129686\n",
       "8   0.80:0.20  0.128861\n",
       "9   0.90:0.10  0.128036\n",
       "7   0.70:0.30  0.125442\n",
       "6   0.60:0.40  0.121080\n",
       "5   0.50:0.50  0.117779\n",
       "4   0.40:0.60  0.115421\n",
       "3   0.30:0.70  0.108819\n",
       "2   0.20:0.80  0.101627\n",
       "1   0.10:0.90  0.095732\n",
       "0   0.00:1.00  0.090545"
      ]
     },
     "execution_count": 147,
     "metadata": {},
     "output_type": "execute_result"
    }
   ],
   "source": [
    "pd.DataFrame(recalls_2).drop_duplicates().sort_values('recall', ascending=False)"
   ]
  },
  {
   "cell_type": "markdown",
   "id": "152fc6b6-3ba5-46e0-9bf4-2e1a974bcd00",
   "metadata": {},
   "source": [
    "### job_code_seq1"
   ]
  },
  {
   "cell_type": "code",
   "execution_count": 175,
   "id": "66b314d7-07ed-4c12-b8e3-2b78c4971400",
   "metadata": {},
   "outputs": [],
   "source": [
    "job_code_weight_pop_view = job_code_weight_pop[['job_code_seq1', 'recruitment_seq',\n",
    "                                            'score', 'w_score']]"
   ]
  },
  {
   "cell_type": "code",
   "execution_count": 176,
   "id": "9aac084c-4600-4061-b958-2fa54d7c7b4f",
   "metadata": {},
   "outputs": [
    {
     "name": "stdout",
     "output_type": "stream",
     "text": [
      "<class 'pandas.core.frame.DataFrame'>\n",
      "Int64Index: 169640 entries, 0 to 169639\n",
      "Data columns (total 9 columns):\n",
      " #   Column           Non-Null Count   Dtype   \n",
      "---  ------           --------------   -----   \n",
      " 0   resume_idx       169640 non-null  int64   \n",
      " 1   recruitment_idx  169640 non-null  int64   \n",
      " 2   ltocf_score      169640 non-null  float64 \n",
      " 3   resume_seq       169640 non-null  object  \n",
      " 4   recruitment_seq  169640 non-null  object  \n",
      " 5   degree           169640 non-null  category\n",
      " 6   job_code_seq1    169640 non-null  object  \n",
      " 7   score            169640 non-null  float64 \n",
      " 8   w_score          169640 non-null  float64 \n",
      "dtypes: category(1), float64(3), int64(2), object(3)\n",
      "memory usage: 11.8+ MB\n"
     ]
    }
   ],
   "source": [
    "ltocf_score_pop = ltocf_score.merge(job_code_weight_pop_view, how='left', on=['job_code_seq1', 'recruitment_seq'])\n",
    "ltocf_score_pop[['score', 'w_score']] = ltocf_score_pop[['score', 'w_score']].fillna(0)\n",
    "ltocf_score_pop.info()"
   ]
  },
  {
   "cell_type": "markdown",
   "id": "61d76c9d-827a-4426-b328-d8b953a04634",
   "metadata": {},
   "source": [
    "#### MinMax Scaling"
   ]
  },
  {
   "cell_type": "code",
   "execution_count": 177,
   "id": "ea72a629-807a-4d5e-bdc5-9772f87e1700",
   "metadata": {},
   "outputs": [],
   "source": [
    "# ltocf_score_pop['sw_score'] = mms.fit_transform(ltocf_score_pop['w_score'].values.reshape(-1,1))\n",
    "# ltocf_score_pop['scf_score'] = mms.fit_transform(ltocf_score_pop['ltocf_score'].values.reshape(-1,1))"
   ]
  },
  {
   "cell_type": "code",
   "execution_count": 151,
   "id": "6dd6617c-187f-4dfd-bb96-67c8396db01b",
   "metadata": {},
   "outputs": [],
   "source": [
    "ltocf_score_pop['s_score'] = ltocf_score_pop.groupby('resume_idx')['score'].transform(\n",
    "    lambda x: (mms.fit_transform(x.values.reshape(-1,1))).reshape(-1))\n",
    "ltocf_score_pop['sw_score'] = ltocf_score_pop.groupby('resume_idx')['w_score'].transform(\n",
    "    lambda x: (mms.fit_transform(x.values.reshape(-1,1))).reshape(-1))\n",
    "ltocf_score_pop['scf_score'] = ltocf_score_pop.groupby('resume_idx')['ltocf_score'].transform(\n",
    "    lambda x: (mms.fit_transform(x.values.reshape(-1,1))).reshape(-1))"
   ]
  },
  {
   "cell_type": "code",
   "execution_count": 178,
   "id": "7d1892e1-d897-4ba7-abdc-13bafeb58f2d",
   "metadata": {},
   "outputs": [
    {
     "data": {
      "text/html": [
       "<div>\n",
       "<style scoped>\n",
       "    .dataframe tbody tr th:only-of-type {\n",
       "        vertical-align: middle;\n",
       "    }\n",
       "\n",
       "    .dataframe tbody tr th {\n",
       "        vertical-align: top;\n",
       "    }\n",
       "\n",
       "    .dataframe thead th {\n",
       "        text-align: right;\n",
       "    }\n",
       "</style>\n",
       "<table border=\"1\" class=\"dataframe\">\n",
       "  <thead>\n",
       "    <tr style=\"text-align: right;\">\n",
       "      <th></th>\n",
       "      <th>count</th>\n",
       "      <th>unique</th>\n",
       "      <th>top</th>\n",
       "      <th>freq</th>\n",
       "      <th>mean</th>\n",
       "      <th>std</th>\n",
       "      <th>min</th>\n",
       "      <th>25%</th>\n",
       "      <th>50%</th>\n",
       "      <th>75%</th>\n",
       "      <th>max</th>\n",
       "    </tr>\n",
       "  </thead>\n",
       "  <tbody>\n",
       "    <tr>\n",
       "      <th>resume_idx</th>\n",
       "      <td>169640.0</td>\n",
       "      <td>NaN</td>\n",
       "      <td>NaN</td>\n",
       "      <td>NaN</td>\n",
       "      <td>4240.5</td>\n",
       "      <td>2448.549692</td>\n",
       "      <td>0.0</td>\n",
       "      <td>2120.0</td>\n",
       "      <td>4240.5</td>\n",
       "      <td>6361.0</td>\n",
       "      <td>8481.0</td>\n",
       "    </tr>\n",
       "    <tr>\n",
       "      <th>recruitment_idx</th>\n",
       "      <td>169640.0</td>\n",
       "      <td>NaN</td>\n",
       "      <td>NaN</td>\n",
       "      <td>NaN</td>\n",
       "      <td>2801.88778</td>\n",
       "      <td>1836.516984</td>\n",
       "      <td>0.0</td>\n",
       "      <td>1186.0</td>\n",
       "      <td>2587.0</td>\n",
       "      <td>4268.0</td>\n",
       "      <td>6693.0</td>\n",
       "    </tr>\n",
       "    <tr>\n",
       "      <th>ltocf_score</th>\n",
       "      <td>169640.0</td>\n",
       "      <td>NaN</td>\n",
       "      <td>NaN</td>\n",
       "      <td>NaN</td>\n",
       "      <td>0.994335</td>\n",
       "      <td>0.009979</td>\n",
       "      <td>0.805326</td>\n",
       "      <td>0.993198</td>\n",
       "      <td>0.998103</td>\n",
       "      <td>0.999691</td>\n",
       "      <td>1.0</td>\n",
       "    </tr>\n",
       "    <tr>\n",
       "      <th>resume_seq</th>\n",
       "      <td>169640</td>\n",
       "      <td>8482</td>\n",
       "      <td>U05833</td>\n",
       "      <td>20</td>\n",
       "      <td>NaN</td>\n",
       "      <td>NaN</td>\n",
       "      <td>NaN</td>\n",
       "      <td>NaN</td>\n",
       "      <td>NaN</td>\n",
       "      <td>NaN</td>\n",
       "      <td>NaN</td>\n",
       "    </tr>\n",
       "    <tr>\n",
       "      <th>recruitment_seq</th>\n",
       "      <td>169640</td>\n",
       "      <td>6401</td>\n",
       "      <td>R00559</td>\n",
       "      <td>251</td>\n",
       "      <td>NaN</td>\n",
       "      <td>NaN</td>\n",
       "      <td>NaN</td>\n",
       "      <td>NaN</td>\n",
       "      <td>NaN</td>\n",
       "      <td>NaN</td>\n",
       "      <td>NaN</td>\n",
       "    </tr>\n",
       "    <tr>\n",
       "      <th>degree</th>\n",
       "      <td>169640.0</td>\n",
       "      <td>5.0</td>\n",
       "      <td>4.0</td>\n",
       "      <td>149060.0</td>\n",
       "      <td>NaN</td>\n",
       "      <td>NaN</td>\n",
       "      <td>NaN</td>\n",
       "      <td>NaN</td>\n",
       "      <td>NaN</td>\n",
       "      <td>NaN</td>\n",
       "      <td>NaN</td>\n",
       "    </tr>\n",
       "    <tr>\n",
       "      <th>job_code_seq1</th>\n",
       "      <td>169640</td>\n",
       "      <td>9</td>\n",
       "      <td>재료·화학·섬유·의복</td>\n",
       "      <td>145760</td>\n",
       "      <td>NaN</td>\n",
       "      <td>NaN</td>\n",
       "      <td>NaN</td>\n",
       "      <td>NaN</td>\n",
       "      <td>NaN</td>\n",
       "      <td>NaN</td>\n",
       "      <td>NaN</td>\n",
       "    </tr>\n",
       "    <tr>\n",
       "      <th>score</th>\n",
       "      <td>169640.0</td>\n",
       "      <td>NaN</td>\n",
       "      <td>NaN</td>\n",
       "      <td>NaN</td>\n",
       "      <td>0.206093</td>\n",
       "      <td>0.143475</td>\n",
       "      <td>0.0</td>\n",
       "      <td>0.116279</td>\n",
       "      <td>0.172414</td>\n",
       "      <td>0.255814</td>\n",
       "      <td>1.0</td>\n",
       "    </tr>\n",
       "    <tr>\n",
       "      <th>w_score</th>\n",
       "      <td>169640.0</td>\n",
       "      <td>NaN</td>\n",
       "      <td>NaN</td>\n",
       "      <td>NaN</td>\n",
       "      <td>0.209307</td>\n",
       "      <td>0.153171</td>\n",
       "      <td>0.0</td>\n",
       "      <td>0.118221</td>\n",
       "      <td>0.166541</td>\n",
       "      <td>0.260513</td>\n",
       "      <td>2.800227</td>\n",
       "    </tr>\n",
       "    <tr>\n",
       "      <th>sw_score</th>\n",
       "      <td>169640.0</td>\n",
       "      <td>NaN</td>\n",
       "      <td>NaN</td>\n",
       "      <td>NaN</td>\n",
       "      <td>0.074747</td>\n",
       "      <td>0.054699</td>\n",
       "      <td>0.0</td>\n",
       "      <td>0.042218</td>\n",
       "      <td>0.059474</td>\n",
       "      <td>0.093033</td>\n",
       "      <td>1.0</td>\n",
       "    </tr>\n",
       "    <tr>\n",
       "      <th>scf_score</th>\n",
       "      <td>169640.0</td>\n",
       "      <td>NaN</td>\n",
       "      <td>NaN</td>\n",
       "      <td>NaN</td>\n",
       "      <td>0.970901</td>\n",
       "      <td>0.051261</td>\n",
       "      <td>0.0</td>\n",
       "      <td>0.96506</td>\n",
       "      <td>0.990255</td>\n",
       "      <td>0.998415</td>\n",
       "      <td>1.0</td>\n",
       "    </tr>\n",
       "  </tbody>\n",
       "</table>\n",
       "</div>"
      ],
      "text/plain": [
       "                    count unique          top      freq        mean  \\\n",
       "resume_idx       169640.0    NaN          NaN       NaN      4240.5   \n",
       "recruitment_idx  169640.0    NaN          NaN       NaN  2801.88778   \n",
       "ltocf_score      169640.0    NaN          NaN       NaN    0.994335   \n",
       "resume_seq         169640   8482       U05833        20         NaN   \n",
       "recruitment_seq    169640   6401       R00559       251         NaN   \n",
       "degree           169640.0    5.0          4.0  149060.0         NaN   \n",
       "job_code_seq1      169640      9  재료·화학·섬유·의복    145760         NaN   \n",
       "score            169640.0    NaN          NaN       NaN    0.206093   \n",
       "w_score          169640.0    NaN          NaN       NaN    0.209307   \n",
       "sw_score         169640.0    NaN          NaN       NaN    0.074747   \n",
       "scf_score        169640.0    NaN          NaN       NaN    0.970901   \n",
       "\n",
       "                         std       min       25%       50%       75%       max  \n",
       "resume_idx       2448.549692       0.0    2120.0    4240.5    6361.0    8481.0  \n",
       "recruitment_idx  1836.516984       0.0    1186.0    2587.0    4268.0    6693.0  \n",
       "ltocf_score         0.009979  0.805326  0.993198  0.998103  0.999691       1.0  \n",
       "resume_seq               NaN       NaN       NaN       NaN       NaN       NaN  \n",
       "recruitment_seq          NaN       NaN       NaN       NaN       NaN       NaN  \n",
       "degree                   NaN       NaN       NaN       NaN       NaN       NaN  \n",
       "job_code_seq1            NaN       NaN       NaN       NaN       NaN       NaN  \n",
       "score               0.143475       0.0  0.116279  0.172414  0.255814       1.0  \n",
       "w_score             0.153171       0.0  0.118221  0.166541  0.260513  2.800227  \n",
       "sw_score            0.054699       0.0  0.042218  0.059474  0.093033       1.0  \n",
       "scf_score           0.051261       0.0   0.96506  0.990255  0.998415       1.0  "
      ]
     },
     "execution_count": 178,
     "metadata": {},
     "output_type": "execute_result"
    }
   ],
   "source": [
    "ltocf_score_pop.describe(include ='all').T"
   ]
  },
  {
   "cell_type": "code",
   "execution_count": 179,
   "id": "3c996b58-2c49-420e-81b0-c3e3049922ff",
   "metadata": {},
   "outputs": [
    {
     "data": {
      "text/html": [
       "<div>\n",
       "<style scoped>\n",
       "    .dataframe tbody tr th:only-of-type {\n",
       "        vertical-align: middle;\n",
       "    }\n",
       "\n",
       "    .dataframe tbody tr th {\n",
       "        vertical-align: top;\n",
       "    }\n",
       "\n",
       "    .dataframe thead th {\n",
       "        text-align: right;\n",
       "    }\n",
       "</style>\n",
       "<table border=\"1\" class=\"dataframe\">\n",
       "  <thead>\n",
       "    <tr style=\"text-align: right;\">\n",
       "      <th></th>\n",
       "      <th>resume_idx</th>\n",
       "      <th>recruitment_idx</th>\n",
       "      <th>ltocf_score</th>\n",
       "      <th>resume_seq</th>\n",
       "      <th>recruitment_seq</th>\n",
       "      <th>degree</th>\n",
       "      <th>job_code_seq1</th>\n",
       "      <th>score</th>\n",
       "      <th>w_score</th>\n",
       "      <th>sw_score</th>\n",
       "      <th>scf_score</th>\n",
       "    </tr>\n",
       "  </thead>\n",
       "  <tbody>\n",
       "    <tr>\n",
       "      <th>0</th>\n",
       "      <td>0</td>\n",
       "      <td>156</td>\n",
       "      <td>0.999877</td>\n",
       "      <td>U05833</td>\n",
       "      <td>R03943</td>\n",
       "      <td>4</td>\n",
       "      <td>재료·화학·섬유·의복</td>\n",
       "      <td>0.279070</td>\n",
       "      <td>0.284196</td>\n",
       "      <td>0.101490</td>\n",
       "      <td>0.999367</td>\n",
       "    </tr>\n",
       "    <tr>\n",
       "      <th>1</th>\n",
       "      <td>0</td>\n",
       "      <td>3195</td>\n",
       "      <td>0.999227</td>\n",
       "      <td>U05833</td>\n",
       "      <td>R05806</td>\n",
       "      <td>4</td>\n",
       "      <td>재료·화학·섬유·의복</td>\n",
       "      <td>0.209302</td>\n",
       "      <td>0.213147</td>\n",
       "      <td>0.076118</td>\n",
       "      <td>0.996029</td>\n",
       "    </tr>\n",
       "    <tr>\n",
       "      <th>2</th>\n",
       "      <td>0</td>\n",
       "      <td>1051</td>\n",
       "      <td>0.998012</td>\n",
       "      <td>U05833</td>\n",
       "      <td>R02540</td>\n",
       "      <td>4</td>\n",
       "      <td>재료·화학·섬유·의복</td>\n",
       "      <td>0.093023</td>\n",
       "      <td>0.094732</td>\n",
       "      <td>0.033830</td>\n",
       "      <td>0.989790</td>\n",
       "    </tr>\n",
       "    <tr>\n",
       "      <th>3</th>\n",
       "      <td>0</td>\n",
       "      <td>4670</td>\n",
       "      <td>0.997515</td>\n",
       "      <td>U05833</td>\n",
       "      <td>R04100</td>\n",
       "      <td>4</td>\n",
       "      <td>재료·화학·섬유·의복</td>\n",
       "      <td>0.255814</td>\n",
       "      <td>0.258899</td>\n",
       "      <td>0.092456</td>\n",
       "      <td>0.987237</td>\n",
       "    </tr>\n",
       "    <tr>\n",
       "      <th>4</th>\n",
       "      <td>0</td>\n",
       "      <td>2576</td>\n",
       "      <td>0.997507</td>\n",
       "      <td>U05833</td>\n",
       "      <td>R00097</td>\n",
       "      <td>4</td>\n",
       "      <td>재료·화학·섬유·의복</td>\n",
       "      <td>0.302326</td>\n",
       "      <td>0.305971</td>\n",
       "      <td>0.109267</td>\n",
       "      <td>0.987192</td>\n",
       "    </tr>\n",
       "    <tr>\n",
       "      <th>5</th>\n",
       "      <td>0</td>\n",
       "      <td>5279</td>\n",
       "      <td>0.997453</td>\n",
       "      <td>U05833</td>\n",
       "      <td>R05335</td>\n",
       "      <td>4</td>\n",
       "      <td>재료·화학·섬유·의복</td>\n",
       "      <td>0.162791</td>\n",
       "      <td>0.165781</td>\n",
       "      <td>0.059203</td>\n",
       "      <td>0.986918</td>\n",
       "    </tr>\n",
       "    <tr>\n",
       "      <th>6</th>\n",
       "      <td>0</td>\n",
       "      <td>4675</td>\n",
       "      <td>0.997211</td>\n",
       "      <td>U05833</td>\n",
       "      <td>R02806</td>\n",
       "      <td>4</td>\n",
       "      <td>재료·화학·섬유·의복</td>\n",
       "      <td>0.186047</td>\n",
       "      <td>0.179640</td>\n",
       "      <td>0.064152</td>\n",
       "      <td>0.985672</td>\n",
       "    </tr>\n",
       "    <tr>\n",
       "      <th>7</th>\n",
       "      <td>0</td>\n",
       "      <td>5164</td>\n",
       "      <td>0.996898</td>\n",
       "      <td>U05833</td>\n",
       "      <td>R00304</td>\n",
       "      <td>4</td>\n",
       "      <td>재료·화학·섬유·의복</td>\n",
       "      <td>0.255814</td>\n",
       "      <td>0.260513</td>\n",
       "      <td>0.093033</td>\n",
       "      <td>0.984065</td>\n",
       "    </tr>\n",
       "    <tr>\n",
       "      <th>8</th>\n",
       "      <td>0</td>\n",
       "      <td>4704</td>\n",
       "      <td>0.996446</td>\n",
       "      <td>U05833</td>\n",
       "      <td>R02097</td>\n",
       "      <td>4</td>\n",
       "      <td>재료·화학·섬유·의복</td>\n",
       "      <td>0.116279</td>\n",
       "      <td>0.117681</td>\n",
       "      <td>0.042026</td>\n",
       "      <td>0.981746</td>\n",
       "    </tr>\n",
       "    <tr>\n",
       "      <th>9</th>\n",
       "      <td>0</td>\n",
       "      <td>1030</td>\n",
       "      <td>0.996352</td>\n",
       "      <td>U05833</td>\n",
       "      <td>R05895</td>\n",
       "      <td>4</td>\n",
       "      <td>재료·화학·섬유·의복</td>\n",
       "      <td>0.325581</td>\n",
       "      <td>0.314370</td>\n",
       "      <td>0.112266</td>\n",
       "      <td>0.981259</td>\n",
       "    </tr>\n",
       "    <tr>\n",
       "      <th>10</th>\n",
       "      <td>0</td>\n",
       "      <td>6130</td>\n",
       "      <td>0.995945</td>\n",
       "      <td>U05833</td>\n",
       "      <td>R02279</td>\n",
       "      <td>4</td>\n",
       "      <td>재료·화학·섬유·의복</td>\n",
       "      <td>0.093023</td>\n",
       "      <td>0.094732</td>\n",
       "      <td>0.033830</td>\n",
       "      <td>0.979170</td>\n",
       "    </tr>\n",
       "    <tr>\n",
       "      <th>11</th>\n",
       "      <td>0</td>\n",
       "      <td>5450</td>\n",
       "      <td>0.995660</td>\n",
       "      <td>U05833</td>\n",
       "      <td>R03651</td>\n",
       "      <td>4</td>\n",
       "      <td>재료·화학·섬유·의복</td>\n",
       "      <td>0.093023</td>\n",
       "      <td>0.094576</td>\n",
       "      <td>0.033775</td>\n",
       "      <td>0.977705</td>\n",
       "    </tr>\n",
       "    <tr>\n",
       "      <th>12</th>\n",
       "      <td>0</td>\n",
       "      <td>6228</td>\n",
       "      <td>0.993249</td>\n",
       "      <td>U05833</td>\n",
       "      <td>R05618</td>\n",
       "      <td>4</td>\n",
       "      <td>재료·화학·섬유·의복</td>\n",
       "      <td>0.186047</td>\n",
       "      <td>0.179640</td>\n",
       "      <td>0.064152</td>\n",
       "      <td>0.965321</td>\n",
       "    </tr>\n",
       "    <tr>\n",
       "      <th>13</th>\n",
       "      <td>0</td>\n",
       "      <td>5358</td>\n",
       "      <td>0.992719</td>\n",
       "      <td>U05833</td>\n",
       "      <td>R03694</td>\n",
       "      <td>4</td>\n",
       "      <td>재료·화학·섬유·의복</td>\n",
       "      <td>0.186047</td>\n",
       "      <td>0.189464</td>\n",
       "      <td>0.067660</td>\n",
       "      <td>0.962600</td>\n",
       "    </tr>\n",
       "    <tr>\n",
       "      <th>14</th>\n",
       "      <td>0</td>\n",
       "      <td>357</td>\n",
       "      <td>0.992466</td>\n",
       "      <td>U05833</td>\n",
       "      <td>R00585</td>\n",
       "      <td>4</td>\n",
       "      <td>재료·화학·섬유·의복</td>\n",
       "      <td>0.232558</td>\n",
       "      <td>0.224550</td>\n",
       "      <td>0.080190</td>\n",
       "      <td>0.961297</td>\n",
       "    </tr>\n",
       "    <tr>\n",
       "      <th>15</th>\n",
       "      <td>0</td>\n",
       "      <td>2756</td>\n",
       "      <td>0.989666</td>\n",
       "      <td>U05833</td>\n",
       "      <td>R04285</td>\n",
       "      <td>4</td>\n",
       "      <td>재료·화학·섬유·의복</td>\n",
       "      <td>0.093023</td>\n",
       "      <td>0.094145</td>\n",
       "      <td>0.033620</td>\n",
       "      <td>0.946914</td>\n",
       "    </tr>\n",
       "    <tr>\n",
       "      <th>16</th>\n",
       "      <td>0</td>\n",
       "      <td>1965</td>\n",
       "      <td>0.988052</td>\n",
       "      <td>U05833</td>\n",
       "      <td>R02130</td>\n",
       "      <td>4</td>\n",
       "      <td>재료·화학·섬유·의복</td>\n",
       "      <td>0.255814</td>\n",
       "      <td>0.247005</td>\n",
       "      <td>0.088209</td>\n",
       "      <td>0.938627</td>\n",
       "    </tr>\n",
       "    <tr>\n",
       "      <th>17</th>\n",
       "      <td>0</td>\n",
       "      <td>4956</td>\n",
       "      <td>0.987157</td>\n",
       "      <td>U05833</td>\n",
       "      <td>R01671</td>\n",
       "      <td>4</td>\n",
       "      <td>재료·화학·섬유·의복</td>\n",
       "      <td>0.116279</td>\n",
       "      <td>0.118415</td>\n",
       "      <td>0.042288</td>\n",
       "      <td>0.934028</td>\n",
       "    </tr>\n",
       "    <tr>\n",
       "      <th>18</th>\n",
       "      <td>0</td>\n",
       "      <td>5642</td>\n",
       "      <td>0.985628</td>\n",
       "      <td>U05833</td>\n",
       "      <td>R02799</td>\n",
       "      <td>4</td>\n",
       "      <td>재료·화학·섬유·의복</td>\n",
       "      <td>0.093023</td>\n",
       "      <td>0.089820</td>\n",
       "      <td>0.032076</td>\n",
       "      <td>0.926172</td>\n",
       "    </tr>\n",
       "    <tr>\n",
       "      <th>19</th>\n",
       "      <td>0</td>\n",
       "      <td>6099</td>\n",
       "      <td>0.984950</td>\n",
       "      <td>U05833</td>\n",
       "      <td>R04393</td>\n",
       "      <td>4</td>\n",
       "      <td>재료·화학·섬유·의복</td>\n",
       "      <td>0.139535</td>\n",
       "      <td>0.134730</td>\n",
       "      <td>0.048114</td>\n",
       "      <td>0.922691</td>\n",
       "    </tr>\n",
       "  </tbody>\n",
       "</table>\n",
       "</div>"
      ],
      "text/plain": [
       "    resume_idx  recruitment_idx  ltocf_score resume_seq recruitment_seq  \\\n",
       "0            0              156     0.999877     U05833          R03943   \n",
       "1            0             3195     0.999227     U05833          R05806   \n",
       "2            0             1051     0.998012     U05833          R02540   \n",
       "3            0             4670     0.997515     U05833          R04100   \n",
       "4            0             2576     0.997507     U05833          R00097   \n",
       "5            0             5279     0.997453     U05833          R05335   \n",
       "6            0             4675     0.997211     U05833          R02806   \n",
       "7            0             5164     0.996898     U05833          R00304   \n",
       "8            0             4704     0.996446     U05833          R02097   \n",
       "9            0             1030     0.996352     U05833          R05895   \n",
       "10           0             6130     0.995945     U05833          R02279   \n",
       "11           0             5450     0.995660     U05833          R03651   \n",
       "12           0             6228     0.993249     U05833          R05618   \n",
       "13           0             5358     0.992719     U05833          R03694   \n",
       "14           0              357     0.992466     U05833          R00585   \n",
       "15           0             2756     0.989666     U05833          R04285   \n",
       "16           0             1965     0.988052     U05833          R02130   \n",
       "17           0             4956     0.987157     U05833          R01671   \n",
       "18           0             5642     0.985628     U05833          R02799   \n",
       "19           0             6099     0.984950     U05833          R04393   \n",
       "\n",
       "   degree job_code_seq1     score   w_score  sw_score  scf_score  \n",
       "0       4   재료·화학·섬유·의복  0.279070  0.284196  0.101490   0.999367  \n",
       "1       4   재료·화학·섬유·의복  0.209302  0.213147  0.076118   0.996029  \n",
       "2       4   재료·화학·섬유·의복  0.093023  0.094732  0.033830   0.989790  \n",
       "3       4   재료·화학·섬유·의복  0.255814  0.258899  0.092456   0.987237  \n",
       "4       4   재료·화학·섬유·의복  0.302326  0.305971  0.109267   0.987192  \n",
       "5       4   재료·화학·섬유·의복  0.162791  0.165781  0.059203   0.986918  \n",
       "6       4   재료·화학·섬유·의복  0.186047  0.179640  0.064152   0.985672  \n",
       "7       4   재료·화학·섬유·의복  0.255814  0.260513  0.093033   0.984065  \n",
       "8       4   재료·화학·섬유·의복  0.116279  0.117681  0.042026   0.981746  \n",
       "9       4   재료·화학·섬유·의복  0.325581  0.314370  0.112266   0.981259  \n",
       "10      4   재료·화학·섬유·의복  0.093023  0.094732  0.033830   0.979170  \n",
       "11      4   재료·화학·섬유·의복  0.093023  0.094576  0.033775   0.977705  \n",
       "12      4   재료·화학·섬유·의복  0.186047  0.179640  0.064152   0.965321  \n",
       "13      4   재료·화학·섬유·의복  0.186047  0.189464  0.067660   0.962600  \n",
       "14      4   재료·화학·섬유·의복  0.232558  0.224550  0.080190   0.961297  \n",
       "15      4   재료·화학·섬유·의복  0.093023  0.094145  0.033620   0.946914  \n",
       "16      4   재료·화학·섬유·의복  0.255814  0.247005  0.088209   0.938627  \n",
       "17      4   재료·화학·섬유·의복  0.116279  0.118415  0.042288   0.934028  \n",
       "18      4   재료·화학·섬유·의복  0.093023  0.089820  0.032076   0.926172  \n",
       "19      4   재료·화학·섬유·의복  0.139535  0.134730  0.048114   0.922691  "
      ]
     },
     "execution_count": 179,
     "metadata": {},
     "output_type": "execute_result"
    }
   ],
   "source": [
    "ltocf_score_pop.head(20)"
   ]
  },
  {
   "cell_type": "markdown",
   "id": "96cc2e03-7ce1-452c-ab00-20307717fff5",
   "metadata": {},
   "source": [
    "#### RECALL 계산"
   ]
  },
  {
   "cell_type": "markdown",
   "id": "db6d8e4b-844f-4c50-b386-87e3dd25c8a8",
   "metadata": {},
   "source": [
    "##### 단순인기도"
   ]
  },
  {
   "cell_type": "code",
   "execution_count": 159,
   "id": "f54986a0-c7a6-4091-bb0d-1a27c6f38cc5",
   "metadata": {},
   "outputs": [],
   "source": [
    "recalls_1 = []"
   ]
  },
  {
   "cell_type": "code",
   "execution_count": 160,
   "id": "d537d248-491e-40f9-aaf8-ad28ebe62ed7",
   "metadata": {},
   "outputs": [
    {
     "name": "stdout",
     "output_type": "stream",
     "text": [
      "0.00 : 1.00\n",
      "0.01 : 0.99\n",
      "0.02 : 0.98\n",
      "0.03 : 0.97\n",
      "0.04 : 0.96\n",
      "0.05 : 0.95\n",
      "0.06 : 0.94\n",
      "0.07 : 0.93\n",
      "0.08 : 0.92\n",
      "0.09 : 0.91\n",
      "0.10 : 0.90\n",
      "0.11 : 0.89\n",
      "0.12 : 0.88\n",
      "0.13 : 0.87\n",
      "0.14 : 0.86\n",
      "0.15 : 0.85\n",
      "0.16 : 0.84\n",
      "0.17 : 0.83\n",
      "0.18 : 0.82\n",
      "0.19 : 0.81\n",
      "0.20 : 0.80\n",
      "0.21 : 0.79\n",
      "0.22 : 0.78\n",
      "0.23 : 0.77\n",
      "0.24 : 0.76\n",
      "0.25 : 0.75\n",
      "0.26 : 0.74\n",
      "0.27 : 0.73\n",
      "0.28 : 0.72\n",
      "0.29 : 0.71\n",
      "0.30 : 0.70\n",
      "0.31 : 0.69\n",
      "0.32 : 0.68\n",
      "0.33 : 0.67\n",
      "0.34 : 0.66\n",
      "0.35 : 0.65\n",
      "0.36 : 0.64\n",
      "0.37 : 0.63\n",
      "0.38 : 0.62\n",
      "0.39 : 0.61\n",
      "0.40 : 0.60\n",
      "0.41 : 0.59\n",
      "0.42 : 0.58\n",
      "0.43 : 0.57\n",
      "0.44 : 0.56\n",
      "0.45 : 0.55\n",
      "0.46 : 0.54\n",
      "0.47 : 0.53\n",
      "0.48 : 0.52\n",
      "0.49 : 0.51\n",
      "0.50 : 0.50\n",
      "0.51 : 0.49\n",
      "0.52 : 0.48\n",
      "0.53 : 0.47\n",
      "0.54 : 0.46\n",
      "0.55 : 0.45\n",
      "0.56 : 0.44\n",
      "0.57 : 0.43\n",
      "0.58 : 0.42\n",
      "0.59 : 0.41\n",
      "0.60 : 0.40\n",
      "0.61 : 0.39\n",
      "0.62 : 0.38\n",
      "0.63 : 0.37\n",
      "0.64 : 0.36\n",
      "0.65 : 0.35\n",
      "0.66 : 0.34\n",
      "0.67 : 0.33\n",
      "0.68 : 0.32\n",
      "0.69 : 0.31\n",
      "0.70 : 0.30\n",
      "0.71 : 0.29\n",
      "0.72 : 0.28\n",
      "0.73 : 0.27\n",
      "0.74 : 0.26\n",
      "0.75 : 0.25\n",
      "0.76 : 0.24\n",
      "0.77 : 0.23\n",
      "0.78 : 0.22\n",
      "0.79 : 0.21\n",
      "0.80 : 0.20\n",
      "0.81 : 0.19\n",
      "0.82 : 0.18\n",
      "0.83 : 0.17\n",
      "0.84 : 0.16\n",
      "0.85 : 0.15\n",
      "0.86 : 0.14\n",
      "0.87 : 0.13\n",
      "0.88 : 0.12\n",
      "0.89 : 0.11\n",
      "0.90 : 0.10\n",
      "0.91 : 0.09\n",
      "0.92 : 0.08\n",
      "0.93 : 0.07\n",
      "0.94 : 0.06\n",
      "0.95 : 0.05\n",
      "0.96 : 0.04\n",
      "0.97 : 0.03\n",
      "0.98 : 0.02\n",
      "0.99 : 0.01\n",
      "1.00 : 0.00\n"
     ]
    }
   ],
   "source": [
    "pop_scores = create_ensemble_submission_2col(ltocf_score_pop, 'scf_score', 's_score', start=0, end=101, step=1)"
   ]
  },
  {
   "cell_type": "code",
   "execution_count": 161,
   "id": "411a056a-ab39-4102-92ec-560174ab68c6",
   "metadata": {},
   "outputs": [
    {
     "name": "stderr",
     "output_type": "stream",
     "text": [
      "100%|████████████████████████████████████████████████████████████████████████████████| 101/101 [01:59<00:00,  1.18s/it]\n"
     ]
    }
   ],
   "source": [
    "for ratio, sbm in tqdm(pop_scores.items()):\n",
    "    data = {}\n",
    "    data['ratio'] = ratio\n",
    "    data['recall'] = calculate_precision_at_k_dacon(test, sbm, 5)\n",
    "    recalls_1.append(data)"
   ]
  },
  {
   "cell_type": "code",
   "execution_count": 162,
   "id": "9f63523c-6571-4912-8067-627bb6547504",
   "metadata": {},
   "outputs": [
    {
     "data": {
      "text/html": [
       "<div>\n",
       "<style scoped>\n",
       "    .dataframe tbody tr th:only-of-type {\n",
       "        vertical-align: middle;\n",
       "    }\n",
       "\n",
       "    .dataframe tbody tr th {\n",
       "        vertical-align: top;\n",
       "    }\n",
       "\n",
       "    .dataframe thead th {\n",
       "        text-align: right;\n",
       "    }\n",
       "</style>\n",
       "<table border=\"1\" class=\"dataframe\">\n",
       "  <thead>\n",
       "    <tr style=\"text-align: right;\">\n",
       "      <th></th>\n",
       "      <th>ratio</th>\n",
       "      <th>recall</th>\n",
       "    </tr>\n",
       "  </thead>\n",
       "  <tbody>\n",
       "    <tr>\n",
       "      <th>86</th>\n",
       "      <td>0.86:0.14</td>\n",
       "      <td>0.131219</td>\n",
       "    </tr>\n",
       "    <tr>\n",
       "      <th>83</th>\n",
       "      <td>0.83:0.17</td>\n",
       "      <td>0.131101</td>\n",
       "    </tr>\n",
       "    <tr>\n",
       "      <th>84</th>\n",
       "      <td>0.84:0.16</td>\n",
       "      <td>0.130983</td>\n",
       "    </tr>\n",
       "    <tr>\n",
       "      <th>87</th>\n",
       "      <td>0.87:0.13</td>\n",
       "      <td>0.130983</td>\n",
       "    </tr>\n",
       "    <tr>\n",
       "      <th>85</th>\n",
       "      <td>0.85:0.15</td>\n",
       "      <td>0.130865</td>\n",
       "    </tr>\n",
       "  </tbody>\n",
       "</table>\n",
       "</div>"
      ],
      "text/plain": [
       "        ratio    recall\n",
       "86  0.86:0.14  0.131219\n",
       "83  0.83:0.17  0.131101\n",
       "84  0.84:0.16  0.130983\n",
       "87  0.87:0.13  0.130983\n",
       "85  0.85:0.15  0.130865"
      ]
     },
     "execution_count": 162,
     "metadata": {},
     "output_type": "execute_result"
    }
   ],
   "source": [
    "recall_job_1 = pd.DataFrame(recalls_1).drop_duplicates().sort_values('recall', ascending=False)\n",
    "recall_job_1.head()"
   ]
  },
  {
   "cell_type": "code",
   "execution_count": 163,
   "id": "d3d47a53-706b-4ad3-8838-e4f8840e8114",
   "metadata": {},
   "outputs": [],
   "source": [
    "recall_job_1.to_csv(f'{RECALL_PATH}/simple_{DATA_SET}_{MODEL}.csv', index=False)"
   ]
  },
  {
   "cell_type": "markdown",
   "id": "1c473e9e-a772-4e12-8e83-f4e893c29ea2",
   "metadata": {},
   "source": [
    "##### 가중치 인기도"
   ]
  },
  {
   "cell_type": "code",
   "execution_count": 164,
   "id": "4cc44263-980c-4c1e-b056-acdf72a1501e",
   "metadata": {},
   "outputs": [],
   "source": [
    "recalls_2 = []"
   ]
  },
  {
   "cell_type": "code",
   "execution_count": 165,
   "id": "1048af02-8f3d-4065-9182-112811c1131d",
   "metadata": {},
   "outputs": [
    {
     "name": "stdout",
     "output_type": "stream",
     "text": [
      "0.00 : 1.00\n",
      "0.01 : 0.99\n",
      "0.02 : 0.98\n",
      "0.03 : 0.97\n",
      "0.04 : 0.96\n",
      "0.05 : 0.95\n",
      "0.06 : 0.94\n",
      "0.07 : 0.93\n",
      "0.08 : 0.92\n",
      "0.09 : 0.91\n",
      "0.10 : 0.90\n",
      "0.11 : 0.89\n",
      "0.12 : 0.88\n",
      "0.13 : 0.87\n",
      "0.14 : 0.86\n",
      "0.15 : 0.85\n",
      "0.16 : 0.84\n",
      "0.17 : 0.83\n",
      "0.18 : 0.82\n",
      "0.19 : 0.81\n",
      "0.20 : 0.80\n",
      "0.21 : 0.79\n",
      "0.22 : 0.78\n",
      "0.23 : 0.77\n",
      "0.24 : 0.76\n",
      "0.25 : 0.75\n",
      "0.26 : 0.74\n",
      "0.27 : 0.73\n",
      "0.28 : 0.72\n",
      "0.29 : 0.71\n",
      "0.30 : 0.70\n",
      "0.31 : 0.69\n",
      "0.32 : 0.68\n",
      "0.33 : 0.67\n",
      "0.34 : 0.66\n",
      "0.35 : 0.65\n",
      "0.36 : 0.64\n",
      "0.37 : 0.63\n",
      "0.38 : 0.62\n",
      "0.39 : 0.61\n",
      "0.40 : 0.60\n",
      "0.41 : 0.59\n",
      "0.42 : 0.58\n",
      "0.43 : 0.57\n",
      "0.44 : 0.56\n",
      "0.45 : 0.55\n",
      "0.46 : 0.54\n",
      "0.47 : 0.53\n",
      "0.48 : 0.52\n",
      "0.49 : 0.51\n",
      "0.50 : 0.50\n",
      "0.51 : 0.49\n",
      "0.52 : 0.48\n",
      "0.53 : 0.47\n",
      "0.54 : 0.46\n",
      "0.55 : 0.45\n",
      "0.56 : 0.44\n",
      "0.57 : 0.43\n",
      "0.58 : 0.42\n",
      "0.59 : 0.41\n",
      "0.60 : 0.40\n",
      "0.61 : 0.39\n",
      "0.62 : 0.38\n",
      "0.63 : 0.37\n",
      "0.64 : 0.36\n",
      "0.65 : 0.35\n",
      "0.66 : 0.34\n",
      "0.67 : 0.33\n",
      "0.68 : 0.32\n",
      "0.69 : 0.31\n",
      "0.70 : 0.30\n",
      "0.71 : 0.29\n",
      "0.72 : 0.28\n",
      "0.73 : 0.27\n",
      "0.74 : 0.26\n",
      "0.75 : 0.25\n",
      "0.76 : 0.24\n",
      "0.77 : 0.23\n",
      "0.78 : 0.22\n",
      "0.79 : 0.21\n",
      "0.80 : 0.20\n",
      "0.81 : 0.19\n",
      "0.82 : 0.18\n",
      "0.83 : 0.17\n",
      "0.84 : 0.16\n",
      "0.85 : 0.15\n",
      "0.86 : 0.14\n",
      "0.87 : 0.13\n",
      "0.88 : 0.12\n",
      "0.89 : 0.11\n",
      "0.90 : 0.10\n",
      "0.91 : 0.09\n",
      "0.92 : 0.08\n",
      "0.93 : 0.07\n",
      "0.94 : 0.06\n",
      "0.95 : 0.05\n",
      "0.96 : 0.04\n",
      "0.97 : 0.03\n",
      "0.98 : 0.02\n",
      "0.99 : 0.01\n",
      "1.00 : 0.00\n"
     ]
    }
   ],
   "source": [
    "pop_scores = create_ensemble_submission_2col(ltocf_score_pop, 'scf_score', 'sw_score', start=0, end=101, step=1)"
   ]
  },
  {
   "cell_type": "code",
   "execution_count": 166,
   "id": "90b4c3f2-3c43-4853-ab76-4d13ab6c0648",
   "metadata": {},
   "outputs": [
    {
     "name": "stderr",
     "output_type": "stream",
     "text": [
      "100%|████████████████████████████████████████████████████████████████████████████████| 101/101 [01:59<00:00,  1.18s/it]\n"
     ]
    }
   ],
   "source": [
    "for ratio, sbm in tqdm(pop_scores.items()):\n",
    "    data = {}\n",
    "    data['ratio'] = ratio\n",
    "    data['recall'] = calculate_precision_at_k_dacon(test, sbm, 5)\n",
    "    recalls_2.append(data)"
   ]
  },
  {
   "cell_type": "code",
   "execution_count": 167,
   "id": "c61e9b5f-fe32-4b79-aa36-33fa7253cba6",
   "metadata": {},
   "outputs": [
    {
     "data": {
      "text/html": [
       "<div>\n",
       "<style scoped>\n",
       "    .dataframe tbody tr th:only-of-type {\n",
       "        vertical-align: middle;\n",
       "    }\n",
       "\n",
       "    .dataframe tbody tr th {\n",
       "        vertical-align: top;\n",
       "    }\n",
       "\n",
       "    .dataframe thead th {\n",
       "        text-align: right;\n",
       "    }\n",
       "</style>\n",
       "<table border=\"1\" class=\"dataframe\">\n",
       "  <thead>\n",
       "    <tr style=\"text-align: right;\">\n",
       "      <th></th>\n",
       "      <th>ratio</th>\n",
       "      <th>recall</th>\n",
       "    </tr>\n",
       "  </thead>\n",
       "  <tbody>\n",
       "    <tr>\n",
       "      <th>86</th>\n",
       "      <td>0.86:0.14</td>\n",
       "      <td>0.131337</td>\n",
       "    </tr>\n",
       "    <tr>\n",
       "      <th>85</th>\n",
       "      <td>0.85:0.15</td>\n",
       "      <td>0.130983</td>\n",
       "    </tr>\n",
       "    <tr>\n",
       "      <th>84</th>\n",
       "      <td>0.84:0.16</td>\n",
       "      <td>0.130630</td>\n",
       "    </tr>\n",
       "    <tr>\n",
       "      <th>83</th>\n",
       "      <td>0.83:0.17</td>\n",
       "      <td>0.130512</td>\n",
       "    </tr>\n",
       "    <tr>\n",
       "      <th>96</th>\n",
       "      <td>0.96:0.04</td>\n",
       "      <td>0.130276</td>\n",
       "    </tr>\n",
       "  </tbody>\n",
       "</table>\n",
       "</div>"
      ],
      "text/plain": [
       "        ratio    recall\n",
       "86  0.86:0.14  0.131337\n",
       "85  0.85:0.15  0.130983\n",
       "84  0.84:0.16  0.130630\n",
       "83  0.83:0.17  0.130512\n",
       "96  0.96:0.04  0.130276"
      ]
     },
     "execution_count": 167,
     "metadata": {},
     "output_type": "execute_result"
    }
   ],
   "source": [
    "recall_job_2 = pd.DataFrame(recalls_2).drop_duplicates().sort_values('recall', ascending=False)\n",
    "recall_job_2.head()"
   ]
  },
  {
   "cell_type": "code",
   "execution_count": 168,
   "id": "54377909-c7a2-489f-80ae-84485f9d362f",
   "metadata": {},
   "outputs": [],
   "source": [
    "recall_job_2.to_csv(f'{RECALL_PATH}/weighted_{DATA_SET}_{MODEL}.csv', index=False)"
   ]
  }
 ],
 "metadata": {
  "kernelspec": {
   "display_name": "Python 3 (ipykernel)",
   "language": "python",
   "name": "python3"
  },
  "language_info": {
   "codemirror_mode": {
    "name": "ipython",
    "version": 3
   },
   "file_extension": ".py",
   "mimetype": "text/x-python",
   "name": "python",
   "nbconvert_exporter": "python",
   "pygments_lexer": "ipython3",
   "version": "3.9.18"
  }
 },
 "nbformat": 4,
 "nbformat_minor": 5
}

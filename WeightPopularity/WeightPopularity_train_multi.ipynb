{
 "cells": [
  {
   "cell_type": "code",
   "execution_count": 1,
   "id": "4f7c7a72-8a8e-4c52-a10b-b2c581585542",
   "metadata": {
    "tags": []
   },
   "outputs": [],
   "source": [
    "# !pip install --upgrade git+https://github.com/tooha289/DataAnalysisLibrary.git"
   ]
  },
  {
   "cell_type": "code",
   "execution_count": 2,
   "id": "12f76315-8fdc-44c4-9bf2-04502cf288f8",
   "metadata": {
    "tags": []
   },
   "outputs": [],
   "source": [
    "from tqdm import tqdm\n",
    "import os\n",
    "import numpy as np\n",
    "import pandas as pd\n",
    "import matplotlib.pyplot as plt\n",
    "import seaborn as sns\n",
    "from sklearn.model_selection import train_test_split\n",
    "from sklearn.preprocessing import MinMaxScaler, StandardScaler\n",
    "from scipy.stats import chi2_contingency\n",
    "from DataAnalysis import eda\n",
    "\n",
    "from matplotlib import font_manager"
   ]
  },
  {
   "cell_type": "code",
   "execution_count": 3,
   "id": "008b04de-1d73-4224-9c7d-d65d9468f55b",
   "metadata": {},
   "outputs": [],
   "source": [
    "pd.set_option('display.max_rows', 500)"
   ]
  },
  {
   "cell_type": "code",
   "execution_count": 4,
   "id": "41e31f1d-83a4-49e0-af10-039a392cf4ff",
   "metadata": {},
   "outputs": [],
   "source": [
    "font_path = \"C:/Windows/Fonts/malgun.ttf\"\n",
    "font_family = font_manager.FontProperties(fname=font_path).get_name()\n",
    "plt.rcParams[\"font.family\"] = font_family\n",
    "plt.rcParams[\"axes.unicode_minus\"] = False"
   ]
  },
  {
   "cell_type": "code",
   "execution_count": 5,
   "id": "e9602f68-419d-4b22-9644-5c653496b429",
   "metadata": {},
   "outputs": [
    {
     "name": "stdout",
     "output_type": "stream",
     "text": [
      "폴더가 이미 존재합니다: ./recalls/\n"
     ]
    }
   ],
   "source": [
    "# 폴더가 존재하지 않으면 생성\n",
    "RECALL_PATH = './recalls/'\n",
    "for path in [RECALL_PATH]:\n",
    "    if not os.path.exists(path):\n",
    "        os.makedirs(path)\n",
    "        print(f\"폴더가 생성되었습니다: {path}\")\n",
    "    else:\n",
    "        print(f\"폴더가 이미 존재합니다: {path}\")"
   ]
  },
  {
   "cell_type": "markdown",
   "id": "9a30d48f-546a-4eb7-a26e-3d1e0c9d841c",
   "metadata": {},
   "source": [
    "# 데이터 load"
   ]
  },
  {
   "cell_type": "code",
   "execution_count": 6,
   "id": "d495c001-69f7-4d27-aa6b-12c8a86b2b81",
   "metadata": {},
   "outputs": [],
   "source": [
    "resume = pd.read_csv(\"../data/resume.csv\")\n",
    "recruitment = pd.read_csv(\"../data/recruitment.csv\")\n",
    "apply = pd.read_csv(\"../data/apply_train.csv\")"
   ]
  },
  {
   "cell_type": "markdown",
   "id": "30531254-2d02-4419-a625-90dd4f4fa167",
   "metadata": {},
   "source": [
    "## train_test 분리"
   ]
  },
  {
   "cell_type": "code",
   "execution_count": 7,
   "id": "6fcf3bb1-b94f-43aa-a121-34d7190fbda3",
   "metadata": {},
   "outputs": [],
   "source": [
    "train, test = [], []\n",
    "apply_train_groupby = apply.groupby('resume_seq')['recruitment_seq'].apply(list)\n",
    "for uid, iids in zip(apply_train_groupby.index.tolist(), apply_train_groupby.values.tolist()):\n",
    "    for iid in iids[:-1]:\n",
    "        train.append([uid,iid])\n",
    "    test.append([uid, iids[-1]])"
   ]
  },
  {
   "cell_type": "code",
   "execution_count": 8,
   "id": "3a3f1b61-d5a1-4c72-93e5-665820d6ce22",
   "metadata": {},
   "outputs": [],
   "source": [
    "apply = pd.DataFrame(train, columns=['resume_seq', 'recruitment_seq'])\n",
    "test = pd.DataFrame(test, columns=['resume_seq', 'recruitment_seq'])"
   ]
  },
  {
   "cell_type": "markdown",
   "id": "283b3636-657f-49f7-9b09-0ed351e528ea",
   "metadata": {},
   "source": [
    "# 전처리"
   ]
  },
  {
   "cell_type": "code",
   "execution_count": 9,
   "id": "0f2d8e70-7353-4279-b88e-2c72439f95fd",
   "metadata": {},
   "outputs": [],
   "source": [
    "used_cols = ['resume_seq', 'degree', 'job_code_seq1']\n",
    "resume = resume[used_cols]\n",
    "\n",
    "used_cols = ['recruitment_seq', 'address_seq1', 'education', 'major_task', 'qualifications']\n",
    "recruitment = recruitment[used_cols]"
   ]
  },
  {
   "cell_type": "markdown",
   "id": "ca06c838-0364-4d5f-b01b-3035683293df",
   "metadata": {},
   "source": [
    "## address_seq1의 na값을 0으로 처리"
   ]
  },
  {
   "cell_type": "code",
   "execution_count": 10,
   "id": "dc697c8a-bd07-4f7d-b2b3-2a722c25712a",
   "metadata": {},
   "outputs": [
    {
     "data": {
      "text/plain": [
       "array([ 3., 20.,  5.,  9., 11.,  1., nan, 13.,  2.])"
      ]
     },
     "execution_count": 10,
     "metadata": {},
     "output_type": "execute_result"
    }
   ],
   "source": [
    "recruitment['address_seq1'].unique()"
   ]
  },
  {
   "cell_type": "code",
   "execution_count": 11,
   "id": "cbaba2e3-06f7-48af-93f1-beac91437203",
   "metadata": {},
   "outputs": [],
   "source": [
    "recruitment = recruitment.fillna({'address_seq1':3}, axis=0)"
   ]
  },
  {
   "cell_type": "markdown",
   "id": "fed2c337-d8e0-4e86-aebf-a91278717b75",
   "metadata": {},
   "source": [
    "## 타입 변경"
   ]
  },
  {
   "cell_type": "code",
   "execution_count": 12,
   "id": "bee3f1be-f8ac-47ec-ad86-bc4fa424fbd0",
   "metadata": {},
   "outputs": [],
   "source": [
    "res_categorical_cols = ['degree', 'job_code_seq1']\n",
    "rec_categorical_cols = ['address_seq1', 'education', 'major_task', 'qualifications']\n",
    "resume[res_categorical_cols] = resume[res_categorical_cols].astype('category')\n",
    "recruitment[rec_categorical_cols] = recruitment[rec_categorical_cols].astype('category')"
   ]
  },
  {
   "cell_type": "code",
   "execution_count": 13,
   "id": "656b15f8-ceee-4258-b4c2-36f18f8f5ea4",
   "metadata": {},
   "outputs": [
    {
     "name": "stdout",
     "output_type": "stream",
     "text": [
      "<class 'pandas.core.frame.DataFrame'>\n",
      "RangeIndex: 6695 entries, 0 to 6694\n",
      "Data columns (total 5 columns):\n",
      " #   Column           Non-Null Count  Dtype   \n",
      "---  ------           --------------  -----   \n",
      " 0   recruitment_seq  6695 non-null   object  \n",
      " 1   address_seq1     6695 non-null   category\n",
      " 2   education        6695 non-null   category\n",
      " 3   major_task       6695 non-null   category\n",
      " 4   qualifications   6695 non-null   category\n",
      "dtypes: category(4), object(1)\n",
      "memory usage: 79.6+ KB\n"
     ]
    }
   ],
   "source": [
    "recruitment.info()"
   ]
  },
  {
   "cell_type": "markdown",
   "id": "259455fa-ef26-4fef-9845-210eb6335bac",
   "metadata": {},
   "source": [
    "## 데이터 병합"
   ]
  },
  {
   "cell_type": "code",
   "execution_count": 14,
   "id": "98de19b0-387a-43e6-859f-bdb5d27b90ed",
   "metadata": {},
   "outputs": [
    {
     "name": "stdout",
     "output_type": "stream",
     "text": [
      "<class 'pandas.core.frame.DataFrame'>\n",
      "Int64Index: 49464 entries, 0 to 49463\n",
      "Data columns (total 4 columns):\n",
      " #   Column           Non-Null Count  Dtype   \n",
      "---  ------           --------------  -----   \n",
      " 0   resume_seq       49464 non-null  object  \n",
      " 1   degree           49464 non-null  category\n",
      " 2   job_code_seq1    49464 non-null  category\n",
      " 3   recruitment_seq  49464 non-null  object  \n",
      "dtypes: category(2), object(2)\n",
      "memory usage: 1.2+ MB\n"
     ]
    }
   ],
   "source": [
    "merged_df = resume.merge(apply, how='inner', left_on = 'resume_seq', right_on ='resume_seq')\n",
    "merged_df.info()"
   ]
  },
  {
   "cell_type": "code",
   "execution_count": 15,
   "id": "ac22da81-32ad-4cd8-b20a-22a78e9c8436",
   "metadata": {},
   "outputs": [
    {
     "name": "stdout",
     "output_type": "stream",
     "text": [
      "<class 'pandas.core.frame.DataFrame'>\n",
      "Int64Index: 49464 entries, 0 to 49463\n",
      "Data columns (total 8 columns):\n",
      " #   Column           Non-Null Count  Dtype   \n",
      "---  ------           --------------  -----   \n",
      " 0   resume_seq       49464 non-null  object  \n",
      " 1   degree           49464 non-null  category\n",
      " 2   job_code_seq1    49464 non-null  category\n",
      " 3   recruitment_seq  49464 non-null  object  \n",
      " 4   address_seq1     49464 non-null  category\n",
      " 5   education        49464 non-null  category\n",
      " 6   major_task       49464 non-null  category\n",
      " 7   qualifications   49464 non-null  category\n",
      "dtypes: category(6), object(2)\n",
      "memory usage: 1.4+ MB\n"
     ]
    }
   ],
   "source": [
    "merged_df = merged_df.merge(recruitment, how='inner', left_on = 'recruitment_seq', right_on ='recruitment_seq')\n",
    "merged_df.info()"
   ]
  },
  {
   "cell_type": "markdown",
   "id": "929acdb9-c2da-41c9-a929-19692dd2de5c",
   "metadata": {},
   "source": [
    "## 함수 정의"
   ]
  },
  {
   "cell_type": "code",
   "execution_count": 16,
   "id": "14cec810-3d5a-43ab-9985-d2ac2d701ca8",
   "metadata": {},
   "outputs": [],
   "source": [
    "# eda function\n",
    "%run ../functions/eda.py\n",
    "# metric function\n",
    "%run ../functions/metric.py\n",
    "# submission function\n",
    "%run ../functions/submission.py"
   ]
  },
  {
   "cell_type": "markdown",
   "id": "fbe4e9c9-471b-4994-846f-566259b0f9c7",
   "metadata": {},
   "source": [
    "# 인기도 가중치"
   ]
  },
  {
   "cell_type": "code",
   "execution_count": 17,
   "id": "4b039f03-eb4a-4ccb-b411-aeb587b959d5",
   "metadata": {},
   "outputs": [],
   "source": [
    "mms = MinMaxScaler()\n",
    "stds = StandardScaler()"
   ]
  },
  {
   "cell_type": "markdown",
   "id": "e482a22c-91cc-4c9a-9ab5-5fedeb5052f8",
   "metadata": {},
   "source": [
    "# 모델 결과 생성"
   ]
  },
  {
   "cell_type": "markdown",
   "id": "1d1939a2-a690-4a7d-9527-014588eff482",
   "metadata": {},
   "source": [
    "## idx 디코딩"
   ]
  },
  {
   "cell_type": "markdown",
   "id": "cc6a0235-1690-4504-b996-7f10d2d13a66",
   "metadata": {},
   "source": [
    "### 디코딩 딕셔너리 로드"
   ]
  },
  {
   "cell_type": "code",
   "execution_count": 18,
   "id": "3dd41947-8a49-46d9-a69d-7da07b60ff56",
   "metadata": {
    "tags": []
   },
   "outputs": [],
   "source": [
    "DATA_PATH = '../data/'"
   ]
  },
  {
   "cell_type": "code",
   "execution_count": 19,
   "id": "693caca9-395c-4db0-a281-f4afefb680f1",
   "metadata": {
    "tags": []
   },
   "outputs": [],
   "source": [
    "resume_decode = pd.read_csv(f\"{DATA_PATH}idx_2_resume.txt\", delimiter=\" \", header=None)\n",
    "resume_decode = resume_decode.set_index(0).to_dict()[1]"
   ]
  },
  {
   "cell_type": "code",
   "execution_count": 20,
   "id": "4542bd87-d797-46e2-902a-fb50125652db",
   "metadata": {
    "tags": []
   },
   "outputs": [],
   "source": [
    "recruitment_decode = pd.read_csv(f\"{DATA_PATH}/idx_2_recruitment.txt\", delimiter=\" \", header=None)\n",
    "recruitment_decode = recruitment_decode.set_index(0).to_dict()[1]"
   ]
  },
  {
   "cell_type": "markdown",
   "id": "23b893a3-b178-4372-b747-986e289e2a05",
   "metadata": {
    "tags": []
   },
   "source": [
    "## CF 모델"
   ]
  },
  {
   "cell_type": "code",
   "execution_count": 21,
   "id": "1a2c90fe-c182-4d8d-8579-05eb4d89a9b4",
   "metadata": {},
   "outputs": [],
   "source": [
    "DATA_SET = \"JOB_1\""
   ]
  },
  {
   "cell_type": "code",
   "execution_count": 22,
   "id": "b867c9d9-aa23-4389-bcfe-2b805de16d07",
   "metadata": {},
   "outputs": [],
   "source": [
    "CF_FOLDER_PATH = '../CF/results/'\n",
    "cf_proba = pd.read_csv(f'{CF_FOLDER_PATH}pred_prob_{DATA_SET}.txt', delimiter=' ', header=None)\n",
    "cf_rating_idx = pd.read_csv(f'{CF_FOLDER_PATH}pred_idx_{DATA_SET}.txt', delimiter=' ', header=None)"
   ]
  },
  {
   "cell_type": "code",
   "execution_count": 23,
   "id": "62e90426-429d-481b-868d-796d47056dba",
   "metadata": {},
   "outputs": [
    {
     "data": {
      "text/html": [
       "<div>\n",
       "<style scoped>\n",
       "    .dataframe tbody tr th:only-of-type {\n",
       "        vertical-align: middle;\n",
       "    }\n",
       "\n",
       "    .dataframe tbody tr th {\n",
       "        vertical-align: top;\n",
       "    }\n",
       "\n",
       "    .dataframe thead th {\n",
       "        text-align: right;\n",
       "    }\n",
       "</style>\n",
       "<table border=\"1\" class=\"dataframe\">\n",
       "  <thead>\n",
       "    <tr style=\"text-align: right;\">\n",
       "      <th></th>\n",
       "      <th>resume_idx</th>\n",
       "      <th>recruitment_idx</th>\n",
       "      <th>cf_score</th>\n",
       "    </tr>\n",
       "  </thead>\n",
       "  <tbody>\n",
       "    <tr>\n",
       "      <th>0</th>\n",
       "      <td>0</td>\n",
       "      <td>156</td>\n",
       "      <td>1.000000</td>\n",
       "    </tr>\n",
       "    <tr>\n",
       "      <th>1</th>\n",
       "      <td>0</td>\n",
       "      <td>4670</td>\n",
       "      <td>0.744136</td>\n",
       "    </tr>\n",
       "    <tr>\n",
       "      <th>2</th>\n",
       "      <td>0</td>\n",
       "      <td>3349</td>\n",
       "      <td>0.674452</td>\n",
       "    </tr>\n",
       "    <tr>\n",
       "      <th>3</th>\n",
       "      <td>0</td>\n",
       "      <td>2576</td>\n",
       "      <td>0.649263</td>\n",
       "    </tr>\n",
       "    <tr>\n",
       "      <th>4</th>\n",
       "      <td>0</td>\n",
       "      <td>4675</td>\n",
       "      <td>0.578998</td>\n",
       "    </tr>\n",
       "    <tr>\n",
       "      <th>5</th>\n",
       "      <td>0</td>\n",
       "      <td>5450</td>\n",
       "      <td>0.552090</td>\n",
       "    </tr>\n",
       "    <tr>\n",
       "      <th>6</th>\n",
       "      <td>0</td>\n",
       "      <td>5164</td>\n",
       "      <td>0.529899</td>\n",
       "    </tr>\n",
       "    <tr>\n",
       "      <th>7</th>\n",
       "      <td>0</td>\n",
       "      <td>5097</td>\n",
       "      <td>0.505583</td>\n",
       "    </tr>\n",
       "    <tr>\n",
       "      <th>8</th>\n",
       "      <td>0</td>\n",
       "      <td>2756</td>\n",
       "      <td>0.482113</td>\n",
       "    </tr>\n",
       "    <tr>\n",
       "      <th>9</th>\n",
       "      <td>0</td>\n",
       "      <td>6228</td>\n",
       "      <td>0.477240</td>\n",
       "    </tr>\n",
       "    <tr>\n",
       "      <th>10</th>\n",
       "      <td>0</td>\n",
       "      <td>5279</td>\n",
       "      <td>0.473995</td>\n",
       "    </tr>\n",
       "    <tr>\n",
       "      <th>11</th>\n",
       "      <td>0</td>\n",
       "      <td>3012</td>\n",
       "      <td>0.471086</td>\n",
       "    </tr>\n",
       "    <tr>\n",
       "      <th>12</th>\n",
       "      <td>0</td>\n",
       "      <td>4704</td>\n",
       "      <td>0.452160</td>\n",
       "    </tr>\n",
       "    <tr>\n",
       "      <th>13</th>\n",
       "      <td>0</td>\n",
       "      <td>5477</td>\n",
       "      <td>0.439879</td>\n",
       "    </tr>\n",
       "    <tr>\n",
       "      <th>14</th>\n",
       "      <td>0</td>\n",
       "      <td>1051</td>\n",
       "      <td>0.433451</td>\n",
       "    </tr>\n",
       "    <tr>\n",
       "      <th>15</th>\n",
       "      <td>0</td>\n",
       "      <td>1250</td>\n",
       "      <td>0.422150</td>\n",
       "    </tr>\n",
       "    <tr>\n",
       "      <th>16</th>\n",
       "      <td>0</td>\n",
       "      <td>974</td>\n",
       "      <td>0.418285</td>\n",
       "    </tr>\n",
       "    <tr>\n",
       "      <th>17</th>\n",
       "      <td>0</td>\n",
       "      <td>2407</td>\n",
       "      <td>0.403538</td>\n",
       "    </tr>\n",
       "    <tr>\n",
       "      <th>18</th>\n",
       "      <td>0</td>\n",
       "      <td>4956</td>\n",
       "      <td>0.399806</td>\n",
       "    </tr>\n",
       "    <tr>\n",
       "      <th>19</th>\n",
       "      <td>0</td>\n",
       "      <td>3195</td>\n",
       "      <td>0.398384</td>\n",
       "    </tr>\n",
       "  </tbody>\n",
       "</table>\n",
       "</div>"
      ],
      "text/plain": [
       "    resume_idx  recruitment_idx  cf_score\n",
       "0            0              156  1.000000\n",
       "1            0             4670  0.744136\n",
       "2            0             3349  0.674452\n",
       "3            0             2576  0.649263\n",
       "4            0             4675  0.578998\n",
       "5            0             5450  0.552090\n",
       "6            0             5164  0.529899\n",
       "7            0             5097  0.505583\n",
       "8            0             2756  0.482113\n",
       "9            0             6228  0.477240\n",
       "10           0             5279  0.473995\n",
       "11           0             3012  0.471086\n",
       "12           0             4704  0.452160\n",
       "13           0             5477  0.439879\n",
       "14           0             1051  0.433451\n",
       "15           0             1250  0.422150\n",
       "16           0              974  0.418285\n",
       "17           0             2407  0.403538\n",
       "18           0             4956  0.399806\n",
       "19           0             3195  0.398384"
      ]
     },
     "execution_count": 23,
     "metadata": {},
     "output_type": "execute_result"
    }
   ],
   "source": [
    "cf_score = create_score_dataframe(cf_proba, cf_rating_idx, \"cf\")\n",
    "cf_score.head(20)"
   ]
  },
  {
   "cell_type": "code",
   "execution_count": 24,
   "id": "324d1a3b-6bcb-4352-a4b8-33d57a92fdcb",
   "metadata": {},
   "outputs": [],
   "source": [
    "sbm_cf = create_submission(cf_rating_idx, resume_decode, recruitment_decode)"
   ]
  },
  {
   "cell_type": "code",
   "execution_count": 25,
   "id": "b09aee81-efa3-402a-9f18-dea5ae98b70f",
   "metadata": {},
   "outputs": [
    {
     "data": {
      "text/plain": [
       "0.12827163404857345"
      ]
     },
     "execution_count": 25,
     "metadata": {},
     "output_type": "execute_result"
    }
   ],
   "source": [
    "recall5_dacon(test, sbm_cf)"
   ]
  },
  {
   "cell_type": "markdown",
   "id": "551099e1-2200-4162-8a97-966757060357",
   "metadata": {
    "tags": []
   },
   "source": [
    "## LTOCF 모델"
   ]
  },
  {
   "cell_type": "code",
   "execution_count": 26,
   "id": "4589ff70-dc0a-4eb2-ae9d-b9402045788a",
   "metadata": {},
   "outputs": [],
   "source": [
    "LTOCF_FOLDER_PATH = '../LT-OCF/results/'\n",
    "LTOCF_FILE_NAME = 'JOB_1_360_0.0031__319_0.3145'"
   ]
  },
  {
   "cell_type": "code",
   "execution_count": 28,
   "id": "99372897-a869-4912-9e1f-a3f42a9a657a",
   "metadata": {},
   "outputs": [],
   "source": [
    "lt_proba = pd.read_csv(f'{LTOCF_FOLDER_PATH}proba_{LTOCF_FILE_NAME}.txt', delimiter=' ', header=None)\n",
    "lt_rating_idx= pd.read_csv(f'{LTOCF_FOLDER_PATH}rating_{LTOCF_FILE_NAME}.txt', delimiter=' ', header=None)\n",
    "lt_user = pd.read_csv(f'{LTOCF_FOLDER_PATH}user_{LTOCF_FILE_NAME}.txt', delimiter=' ', header=None)"
   ]
  },
  {
   "cell_type": "code",
   "execution_count": 29,
   "id": "a55c8336-92a2-4603-8e1a-f8fddf4e26bf",
   "metadata": {},
   "outputs": [],
   "source": [
    "lt_proba_df = pd.concat([lt_user, lt_proba], axis=1)\n",
    "lt_idx_df = pd.concat([lt_user, lt_rating_idx], axis=1)"
   ]
  },
  {
   "cell_type": "code",
   "execution_count": 30,
   "id": "8896ea46-cfee-4e49-9db7-fbf92898e195",
   "metadata": {},
   "outputs": [
    {
     "data": {
      "text/html": [
       "<div>\n",
       "<style scoped>\n",
       "    .dataframe tbody tr th:only-of-type {\n",
       "        vertical-align: middle;\n",
       "    }\n",
       "\n",
       "    .dataframe tbody tr th {\n",
       "        vertical-align: top;\n",
       "    }\n",
       "\n",
       "    .dataframe thead th {\n",
       "        text-align: right;\n",
       "    }\n",
       "</style>\n",
       "<table border=\"1\" class=\"dataframe\">\n",
       "  <thead>\n",
       "    <tr style=\"text-align: right;\">\n",
       "      <th></th>\n",
       "      <th>resume_idx</th>\n",
       "      <th>recruitment_idx</th>\n",
       "      <th>ltocf_score</th>\n",
       "    </tr>\n",
       "  </thead>\n",
       "  <tbody>\n",
       "    <tr>\n",
       "      <th>0</th>\n",
       "      <td>0</td>\n",
       "      <td>156</td>\n",
       "      <td>0.999877</td>\n",
       "    </tr>\n",
       "    <tr>\n",
       "      <th>1</th>\n",
       "      <td>0</td>\n",
       "      <td>3195</td>\n",
       "      <td>0.999227</td>\n",
       "    </tr>\n",
       "    <tr>\n",
       "      <th>2</th>\n",
       "      <td>0</td>\n",
       "      <td>1051</td>\n",
       "      <td>0.998012</td>\n",
       "    </tr>\n",
       "    <tr>\n",
       "      <th>3</th>\n",
       "      <td>0</td>\n",
       "      <td>4670</td>\n",
       "      <td>0.997515</td>\n",
       "    </tr>\n",
       "    <tr>\n",
       "      <th>4</th>\n",
       "      <td>0</td>\n",
       "      <td>2576</td>\n",
       "      <td>0.997507</td>\n",
       "    </tr>\n",
       "  </tbody>\n",
       "</table>\n",
       "</div>"
      ],
      "text/plain": [
       "   resume_idx  recruitment_idx  ltocf_score\n",
       "0           0              156     0.999877\n",
       "1           0             3195     0.999227\n",
       "2           0             1051     0.998012\n",
       "3           0             4670     0.997515\n",
       "4           0             2576     0.997507"
      ]
     },
     "execution_count": 30,
     "metadata": {},
     "output_type": "execute_result"
    }
   ],
   "source": [
    "ltocf_score = create_score_dataframe(lt_proba_df, lt_idx_df, \"ltocf\")\n",
    "ltocf_score.head()"
   ]
  },
  {
   "cell_type": "code",
   "execution_count": 31,
   "id": "1bf2888c-0d19-4c4e-b120-37e0a2fdb44b",
   "metadata": {},
   "outputs": [],
   "source": [
    "lt_idx_df.columns = range(lt_idx_df.shape[1])"
   ]
  },
  {
   "cell_type": "code",
   "execution_count": 32,
   "id": "7f8bae0b-2253-41ae-b4b3-fcc7a2c6ffd8",
   "metadata": {},
   "outputs": [],
   "source": [
    "sbm_ltocf = create_submission(lt_idx_df, resume_decode, recruitment_decode)"
   ]
  },
  {
   "cell_type": "code",
   "execution_count": 33,
   "id": "4dad4e33-2d47-470e-9e88-95195448999c",
   "metadata": {},
   "outputs": [
    {
     "data": {
      "text/html": [
       "<div>\n",
       "<style scoped>\n",
       "    .dataframe tbody tr th:only-of-type {\n",
       "        vertical-align: middle;\n",
       "    }\n",
       "\n",
       "    .dataframe tbody tr th {\n",
       "        vertical-align: top;\n",
       "    }\n",
       "\n",
       "    .dataframe thead th {\n",
       "        text-align: right;\n",
       "    }\n",
       "</style>\n",
       "<table border=\"1\" class=\"dataframe\">\n",
       "  <thead>\n",
       "    <tr style=\"text-align: right;\">\n",
       "      <th></th>\n",
       "      <th>resume_seq</th>\n",
       "      <th>recruitment_seq</th>\n",
       "    </tr>\n",
       "  </thead>\n",
       "  <tbody>\n",
       "    <tr>\n",
       "      <th>25778</th>\n",
       "      <td>U00001</td>\n",
       "      <td>R03777</td>\n",
       "    </tr>\n",
       "    <tr>\n",
       "      <th>332</th>\n",
       "      <td>U00001</td>\n",
       "      <td>R01528</td>\n",
       "    </tr>\n",
       "    <tr>\n",
       "      <th>8814</th>\n",
       "      <td>U00001</td>\n",
       "      <td>R03811</td>\n",
       "    </tr>\n",
       "    <tr>\n",
       "      <th>34260</th>\n",
       "      <td>U00001</td>\n",
       "      <td>R02064</td>\n",
       "    </tr>\n",
       "    <tr>\n",
       "      <th>17296</th>\n",
       "      <td>U00001</td>\n",
       "      <td>R02400</td>\n",
       "    </tr>\n",
       "    <tr>\n",
       "      <th>...</th>\n",
       "      <td>...</td>\n",
       "      <td>...</td>\n",
       "    </tr>\n",
       "    <tr>\n",
       "      <th>41920</th>\n",
       "      <td>U08482</td>\n",
       "      <td>R02524</td>\n",
       "    </tr>\n",
       "    <tr>\n",
       "      <th>16474</th>\n",
       "      <td>U08482</td>\n",
       "      <td>R00712</td>\n",
       "    </tr>\n",
       "    <tr>\n",
       "      <th>24956</th>\n",
       "      <td>U08482</td>\n",
       "      <td>R01186</td>\n",
       "    </tr>\n",
       "    <tr>\n",
       "      <th>7992</th>\n",
       "      <td>U08482</td>\n",
       "      <td>R04602</td>\n",
       "    </tr>\n",
       "    <tr>\n",
       "      <th>33438</th>\n",
       "      <td>U08482</td>\n",
       "      <td>R04021</td>\n",
       "    </tr>\n",
       "  </tbody>\n",
       "</table>\n",
       "<p>42410 rows × 2 columns</p>\n",
       "</div>"
      ],
      "text/plain": [
       "      resume_seq recruitment_seq\n",
       "25778     U00001          R03777\n",
       "332       U00001          R01528\n",
       "8814      U00001          R03811\n",
       "34260     U00001          R02064\n",
       "17296     U00001          R02400\n",
       "...          ...             ...\n",
       "41920     U08482          R02524\n",
       "16474     U08482          R00712\n",
       "24956     U08482          R01186\n",
       "7992      U08482          R04602\n",
       "33438     U08482          R04021\n",
       "\n",
       "[42410 rows x 2 columns]"
      ]
     },
     "execution_count": 33,
     "metadata": {},
     "output_type": "execute_result"
    }
   ],
   "source": [
    "sbm_ltocf.sort_values(\"resume_seq\")"
   ]
  },
  {
   "cell_type": "code",
   "execution_count": 34,
   "id": "003ea8bc-58e8-491a-bdd9-e99ba76dd4a4",
   "metadata": {},
   "outputs": [
    {
     "data": {
      "text/plain": [
       "0.12968639471822682"
      ]
     },
     "execution_count": 34,
     "metadata": {},
     "output_type": "execute_result"
    }
   ],
   "source": [
    "recall5_dacon(test, sbm_ltocf)"
   ]
  },
  {
   "cell_type": "markdown",
   "id": "ad245084-2ca4-4ff0-90e6-89262d64caab",
   "metadata": {},
   "source": [
    "# 모델 결과 + 인기도 가중치"
   ]
  },
  {
   "cell_type": "code",
   "execution_count": 42,
   "id": "f64a28be-62a3-4ea8-ae45-bcea217e77e7",
   "metadata": {},
   "outputs": [],
   "source": [
    "def create_weight_df(origin_df, popularity_df, target_cols, grouping_col, limit_ratio=0.005):\n",
    "    merged_df = popularity_df.copy()\n",
    "    weight_dfs = []\n",
    "    for target_col in target_cols:\n",
    "        _, ratio_df_hue_ratio = calculate_ratio_df_with_hue(origin_df, target_col, grouping_col, limit_ratio)\n",
    "\n",
    "        weight_df = ratio_df_hue_ratio.iloc[:-1, :-1].reset_index()\n",
    "        weight_df = weight_df.melt(id_vars=target_col, var_name=grouping_col, value_name=f'{target_col}_weight')\n",
    "        weight_dfs.append(weight_df)\n",
    "        \n",
    "        merged_df = merged_df.merge(weight_df, how='inner', on=[grouping_col, target_col])\n",
    "    return merged_df, weight_dfs"
   ]
  },
  {
   "cell_type": "markdown",
   "id": "d8d1fee8-61f0-47ec-a878-34b71e75b144",
   "metadata": {},
   "source": [
    "## CF 인기도 가중치 적용"
   ]
  },
  {
   "cell_type": "code",
   "execution_count": 35,
   "id": "6f177c1c-8e42-4028-870d-c90761b1c59f",
   "metadata": {},
   "outputs": [
    {
     "data": {
      "text/html": [
       "<div>\n",
       "<style scoped>\n",
       "    .dataframe tbody tr th:only-of-type {\n",
       "        vertical-align: middle;\n",
       "    }\n",
       "\n",
       "    .dataframe tbody tr th {\n",
       "        vertical-align: top;\n",
       "    }\n",
       "\n",
       "    .dataframe thead th {\n",
       "        text-align: right;\n",
       "    }\n",
       "</style>\n",
       "<table border=\"1\" class=\"dataframe\">\n",
       "  <thead>\n",
       "    <tr style=\"text-align: right;\">\n",
       "      <th></th>\n",
       "      <th>resume_idx</th>\n",
       "      <th>recruitment_idx</th>\n",
       "      <th>cf_score</th>\n",
       "      <th>resume_seq</th>\n",
       "      <th>recruitment_seq</th>\n",
       "    </tr>\n",
       "  </thead>\n",
       "  <tbody>\n",
       "    <tr>\n",
       "      <th>0</th>\n",
       "      <td>0</td>\n",
       "      <td>156</td>\n",
       "      <td>1.000000</td>\n",
       "      <td>U05833</td>\n",
       "      <td>R03943</td>\n",
       "    </tr>\n",
       "    <tr>\n",
       "      <th>1</th>\n",
       "      <td>0</td>\n",
       "      <td>4670</td>\n",
       "      <td>0.744136</td>\n",
       "      <td>U05833</td>\n",
       "      <td>R04100</td>\n",
       "    </tr>\n",
       "    <tr>\n",
       "      <th>2</th>\n",
       "      <td>0</td>\n",
       "      <td>3349</td>\n",
       "      <td>0.674452</td>\n",
       "      <td>U05833</td>\n",
       "      <td>R00353</td>\n",
       "    </tr>\n",
       "    <tr>\n",
       "      <th>3</th>\n",
       "      <td>0</td>\n",
       "      <td>2576</td>\n",
       "      <td>0.649263</td>\n",
       "      <td>U05833</td>\n",
       "      <td>R00097</td>\n",
       "    </tr>\n",
       "    <tr>\n",
       "      <th>4</th>\n",
       "      <td>0</td>\n",
       "      <td>4675</td>\n",
       "      <td>0.578998</td>\n",
       "      <td>U05833</td>\n",
       "      <td>R02806</td>\n",
       "    </tr>\n",
       "  </tbody>\n",
       "</table>\n",
       "</div>"
      ],
      "text/plain": [
       "   resume_idx  recruitment_idx  cf_score resume_seq recruitment_seq\n",
       "0           0              156  1.000000     U05833          R03943\n",
       "1           0             4670  0.744136     U05833          R04100\n",
       "2           0             3349  0.674452     U05833          R00353\n",
       "3           0             2576  0.649263     U05833          R00097\n",
       "4           0             4675  0.578998     U05833          R02806"
      ]
     },
     "execution_count": 35,
     "metadata": {},
     "output_type": "execute_result"
    }
   ],
   "source": [
    "cf_score['resume_seq'] = cf_score['resume_idx'].apply(lambda x: resume_decode[x])\n",
    "cf_score['recruitment_seq'] = cf_score['recruitment_idx'].apply(lambda x: recruitment_decode[x])\n",
    "cf_score.head()"
   ]
  },
  {
   "cell_type": "code",
   "execution_count": 36,
   "id": "ea785cd4-aedb-4c84-b64a-f88870275cf2",
   "metadata": {},
   "outputs": [
    {
     "name": "stdout",
     "output_type": "stream",
     "text": [
      "<class 'pandas.core.frame.DataFrame'>\n",
      "Int64Index: 169640 entries, 0 to 169639\n",
      "Data columns (total 7 columns):\n",
      " #   Column           Non-Null Count   Dtype   \n",
      "---  ------           --------------   -----   \n",
      " 0   resume_idx       169640 non-null  int64   \n",
      " 1   recruitment_idx  169640 non-null  int64   \n",
      " 2   cf_score         169640 non-null  float64 \n",
      " 3   resume_seq       169640 non-null  object  \n",
      " 4   recruitment_seq  169640 non-null  object  \n",
      " 5   degree           169640 non-null  category\n",
      " 6   job_code_seq1    169640 non-null  category\n",
      "dtypes: category(2), float64(1), int64(2), object(2)\n",
      "memory usage: 8.1+ MB\n"
     ]
    }
   ],
   "source": [
    "cf_score = cf_score.merge(resume, how='inner', on='resume_seq')\n",
    "cf_score.info()"
   ]
  },
  {
   "cell_type": "markdown",
   "id": "3337abf6-340a-4ff0-a13f-58c08d1f76df",
   "metadata": {},
   "source": [
    "### job_code_seq1"
   ]
  },
  {
   "cell_type": "markdown",
   "id": "3aa6c4f8-7af8-4109-bff4-64e15afc35ff",
   "metadata": {},
   "source": [
    "#### recruitment_feature : job_code_seq1 가중치"
   ]
  },
  {
   "cell_type": "code",
   "execution_count": 152,
   "id": "5d272065-d451-45d9-85dd-d7d3699a371d",
   "metadata": {},
   "outputs": [],
   "source": [
    "cf_score_weight = cf_score.merge(recruitment, how='inner', on='recruitment_seq')\n",
    "cf_job_weight, weight_dfs = create_weight_df(merged_df, cf_score_weight, ['address_seq1', 'education',\n",
    "                                                      'major_task', 'qualifications'], 'job_code_seq1', limit_ratio=0)"
   ]
  },
  {
   "cell_type": "code",
   "execution_count": 153,
   "id": "cd06a627-9aa8-4951-9780-44c08a77f691",
   "metadata": {},
   "outputs": [
    {
     "data": {
      "text/plain": [
       "Index(['address_seq1_weight', 'education_weight', 'major_task_weight',\n",
       "       'qualifications_weight'],\n",
       "      dtype='object')"
      ]
     },
     "execution_count": 153,
     "metadata": {},
     "output_type": "execute_result"
    }
   ],
   "source": [
    "weight_columns = cf_job_weight.filter(like=\"_weight\").columns\n",
    "weight_columns"
   ]
  },
  {
   "cell_type": "code",
   "execution_count": 154,
   "id": "f9bf8845-519b-4829-af7f-2756555bc465",
   "metadata": {},
   "outputs": [],
   "source": [
    "cf_job_weight['sqrt_weight_sum'] = cf_job_weight[weight_columns].apply(np.sqrt).sum(axis=1)"
   ]
  },
  {
   "cell_type": "code",
   "execution_count": 155,
   "id": "45276e21-b774-4e13-b01c-29a810cbe5e7",
   "metadata": {},
   "outputs": [],
   "source": [
    "cf_job_weight['s_sqrt_weight_sum'] = cf_job_weight.groupby('resume_idx')['sqrt_weight_sum'].transform(\n",
    "    lambda x: (mms.fit_transform(x.values.reshape(-1,1))).reshape(-1))\n",
    "cf_job_weight['scf_score'] = cf_job_weight.groupby('resume_idx')['cf_score'].transform(\n",
    "    lambda x: (mms.fit_transform(x.values.reshape(-1,1))).reshape(-1))"
   ]
  },
  {
   "cell_type": "code",
   "execution_count": 156,
   "id": "3622c1fe-83e8-42ce-9f9a-eb674612f486",
   "metadata": {},
   "outputs": [],
   "source": [
    "cf_job_weight['sws_cf_score'] = cf_job_weight[['s_sqrt_weight_sum', 'scf_score']].sum(axis=1)"
   ]
  },
  {
   "cell_type": "code",
   "execution_count": 158,
   "id": "43266609-ca4c-455c-9dde-b52af74edb76",
   "metadata": {},
   "outputs": [
    {
     "data": {
      "text/html": [
       "<div>\n",
       "<style scoped>\n",
       "    .dataframe tbody tr th:only-of-type {\n",
       "        vertical-align: middle;\n",
       "    }\n",
       "\n",
       "    .dataframe tbody tr th {\n",
       "        vertical-align: top;\n",
       "    }\n",
       "\n",
       "    .dataframe thead th {\n",
       "        text-align: right;\n",
       "    }\n",
       "</style>\n",
       "<table border=\"1\" class=\"dataframe\">\n",
       "  <thead>\n",
       "    <tr style=\"text-align: right;\">\n",
       "      <th></th>\n",
       "      <th>resume_seq</th>\n",
       "      <th>recruitment_seq</th>\n",
       "    </tr>\n",
       "  </thead>\n",
       "  <tbody>\n",
       "    <tr>\n",
       "      <th>0</th>\n",
       "      <td>U00001</td>\n",
       "      <td>R05862</td>\n",
       "    </tr>\n",
       "    <tr>\n",
       "      <th>1</th>\n",
       "      <td>U00001</td>\n",
       "      <td>R03811</td>\n",
       "    </tr>\n",
       "    <tr>\n",
       "      <th>2</th>\n",
       "      <td>U00001</td>\n",
       "      <td>R03777</td>\n",
       "    </tr>\n",
       "    <tr>\n",
       "      <th>3</th>\n",
       "      <td>U00001</td>\n",
       "      <td>R06276</td>\n",
       "    </tr>\n",
       "    <tr>\n",
       "      <th>4</th>\n",
       "      <td>U00001</td>\n",
       "      <td>R04566</td>\n",
       "    </tr>\n",
       "    <tr>\n",
       "      <th>...</th>\n",
       "      <td>...</td>\n",
       "      <td>...</td>\n",
       "    </tr>\n",
       "    <tr>\n",
       "      <th>42405</th>\n",
       "      <td>U08482</td>\n",
       "      <td>R04602</td>\n",
       "    </tr>\n",
       "    <tr>\n",
       "      <th>42406</th>\n",
       "      <td>U08482</td>\n",
       "      <td>R04021</td>\n",
       "    </tr>\n",
       "    <tr>\n",
       "      <th>42407</th>\n",
       "      <td>U08482</td>\n",
       "      <td>R05461</td>\n",
       "    </tr>\n",
       "    <tr>\n",
       "      <th>42408</th>\n",
       "      <td>U08482</td>\n",
       "      <td>R03743</td>\n",
       "    </tr>\n",
       "    <tr>\n",
       "      <th>42409</th>\n",
       "      <td>U08482</td>\n",
       "      <td>R02524</td>\n",
       "    </tr>\n",
       "  </tbody>\n",
       "</table>\n",
       "<p>42410 rows × 2 columns</p>\n",
       "</div>"
      ],
      "text/plain": [
       "      resume_seq recruitment_seq\n",
       "0         U00001          R05862\n",
       "1         U00001          R03811\n",
       "2         U00001          R03777\n",
       "3         U00001          R06276\n",
       "4         U00001          R04566\n",
       "...          ...             ...\n",
       "42405     U08482          R04602\n",
       "42406     U08482          R04021\n",
       "42407     U08482          R05461\n",
       "42408     U08482          R03743\n",
       "42409     U08482          R02524\n",
       "\n",
       "[42410 rows x 2 columns]"
      ]
     },
     "execution_count": 158,
     "metadata": {},
     "output_type": "execute_result"
    }
   ],
   "source": [
    "sbm_weight_a = cf_job_weight.groupby('resume_seq').apply(lambda g: g.nlargest(5, 'sws_cf_score'))\n",
    "sbm_weight_a = sbm_weight_a.reset_index(drop=True)\n",
    "sbm_weight_a = sbm_weight_a[['resume_seq', 'recruitment_seq']]\n",
    "sbm_weight_a"
   ]
  },
  {
   "cell_type": "code",
   "execution_count": 129,
   "id": "2e485bb0-0a02-469a-87b9-905c36dcb20e",
   "metadata": {},
   "outputs": [
    {
     "data": {
      "text/html": [
       "<div>\n",
       "<style scoped>\n",
       "    .dataframe tbody tr th:only-of-type {\n",
       "        vertical-align: middle;\n",
       "    }\n",
       "\n",
       "    .dataframe tbody tr th {\n",
       "        vertical-align: top;\n",
       "    }\n",
       "\n",
       "    .dataframe thead th {\n",
       "        text-align: right;\n",
       "    }\n",
       "</style>\n",
       "<table border=\"1\" class=\"dataframe\">\n",
       "  <thead>\n",
       "    <tr style=\"text-align: right;\">\n",
       "      <th></th>\n",
       "      <th>resume_seq</th>\n",
       "      <th>recruitment_seq</th>\n",
       "    </tr>\n",
       "  </thead>\n",
       "  <tbody>\n",
       "    <tr>\n",
       "      <th>0</th>\n",
       "      <td>U00001</td>\n",
       "      <td>R03811</td>\n",
       "    </tr>\n",
       "    <tr>\n",
       "      <th>1</th>\n",
       "      <td>U00001</td>\n",
       "      <td>R05862</td>\n",
       "    </tr>\n",
       "    <tr>\n",
       "      <th>2</th>\n",
       "      <td>U00001</td>\n",
       "      <td>R03777</td>\n",
       "    </tr>\n",
       "    <tr>\n",
       "      <th>3</th>\n",
       "      <td>U00001</td>\n",
       "      <td>R04769</td>\n",
       "    </tr>\n",
       "    <tr>\n",
       "      <th>4</th>\n",
       "      <td>U00001</td>\n",
       "      <td>R03037</td>\n",
       "    </tr>\n",
       "    <tr>\n",
       "      <th>5</th>\n",
       "      <td>U00002</td>\n",
       "      <td>R01103</td>\n",
       "    </tr>\n",
       "    <tr>\n",
       "      <th>6</th>\n",
       "      <td>U00002</td>\n",
       "      <td>R02412</td>\n",
       "    </tr>\n",
       "    <tr>\n",
       "      <th>7</th>\n",
       "      <td>U00002</td>\n",
       "      <td>R04074</td>\n",
       "    </tr>\n",
       "    <tr>\n",
       "      <th>8</th>\n",
       "      <td>U00002</td>\n",
       "      <td>R06216</td>\n",
       "    </tr>\n",
       "    <tr>\n",
       "      <th>9</th>\n",
       "      <td>U00002</td>\n",
       "      <td>R01081</td>\n",
       "    </tr>\n",
       "  </tbody>\n",
       "</table>\n",
       "</div>"
      ],
      "text/plain": [
       "  resume_seq recruitment_seq\n",
       "0     U00001          R03811\n",
       "1     U00001          R05862\n",
       "2     U00001          R03777\n",
       "3     U00001          R04769\n",
       "4     U00001          R03037\n",
       "5     U00002          R01103\n",
       "6     U00002          R02412\n",
       "7     U00002          R04074\n",
       "8     U00002          R06216\n",
       "9     U00002          R01081"
      ]
     },
     "execution_count": 129,
     "metadata": {},
     "output_type": "execute_result"
    }
   ],
   "source": [
    "sbm_cf = cf_score_weight.groupby('resume_seq').apply(lambda g: g.nlargest(5, 'cf_score'))\n",
    "sbm_cf = sbm_cf.reset_index(drop=True)\n",
    "sbm_cf = sbm_cf[['resume_seq', 'recruitment_seq']]\n",
    "sbm_cf.head(10)"
   ]
  },
  {
   "cell_type": "code",
   "execution_count": 130,
   "id": "281f3982-589e-4e81-a70e-e7f774acabb5",
   "metadata": {},
   "outputs": [],
   "source": [
    "%run ../functions/metric.py"
   ]
  },
  {
   "cell_type": "code",
   "execution_count": 160,
   "id": "7f4967c7-949e-44e9-a672-7e2a39a46cf8",
   "metadata": {},
   "outputs": [
    {
     "data": {
      "text/plain": [
       "0.12827163404857345"
      ]
     },
     "execution_count": 160,
     "metadata": {},
     "output_type": "execute_result"
    }
   ],
   "source": [
    "recall5_dacon(test, sbm_cf)"
   ]
  },
  {
   "cell_type": "markdown",
   "id": "896ca5f7-b592-4623-ac43-b363bb989712",
   "metadata": {},
   "source": [
    "#### RECALL 계산"
   ]
  },
  {
   "cell_type": "markdown",
   "id": "89dad201-761e-4fcf-a4ae-91762cd94e61",
   "metadata": {},
   "source": [
    "##### 가중치 인기도"
   ]
  },
  {
   "cell_type": "code",
   "execution_count": 161,
   "id": "ec32c35b-27d3-4461-aa40-3193630f4504",
   "metadata": {},
   "outputs": [],
   "source": [
    "recalls_2 = []"
   ]
  },
  {
   "cell_type": "code",
   "execution_count": 166,
   "id": "dd91b2ae-8f3c-4a48-aa01-c7f2b6ad3150",
   "metadata": {},
   "outputs": [
    {
     "name": "stdout",
     "output_type": "stream",
     "text": [
      "0.90 : 0.10\n",
      "0.91 : 0.09\n",
      "0.92 : 0.08\n",
      "0.93 : 0.07\n",
      "0.94 : 0.06\n",
      "0.95 : 0.05\n",
      "0.96 : 0.04\n",
      "0.97 : 0.03\n",
      "0.98 : 0.02\n",
      "0.99 : 0.01\n",
      "1.00 : 0.00\n"
     ]
    }
   ],
   "source": [
    "weight_scores = create_ensemble_submission_2col(cf_job_weight,\n",
    "                                                'scf_score', 's_sqrt_weight_sum',\n",
    "                                                start=90, end=101, step=1)"
   ]
  },
  {
   "cell_type": "code",
   "execution_count": 167,
   "id": "2fe7c008-79d5-4a30-b3b1-cb93be15e2a1",
   "metadata": {},
   "outputs": [
    {
     "name": "stderr",
     "output_type": "stream",
     "text": [
      "100%|██████████████████████████████████████████████████████████████████████████████████| 11/11 [00:12<00:00,  1.14s/it]\n"
     ]
    }
   ],
   "source": [
    "for ratio, sbm in tqdm(weight_scores.items()):\n",
    "    data = {}\n",
    "    data['ratio'] = ratio\n",
    "    data['recall'] = calculate_precision_at_k_dacon(test, sbm, 5)\n",
    "    recalls_2.append(data)"
   ]
  },
  {
   "cell_type": "code",
   "execution_count": 168,
   "id": "95e80375-2b5d-4d23-b13b-c1d4b93ba456",
   "metadata": {},
   "outputs": [
    {
     "data": {
      "text/html": [
       "<div>\n",
       "<style scoped>\n",
       "    .dataframe tbody tr th:only-of-type {\n",
       "        vertical-align: middle;\n",
       "    }\n",
       "\n",
       "    .dataframe tbody tr th {\n",
       "        vertical-align: top;\n",
       "    }\n",
       "\n",
       "    .dataframe thead th {\n",
       "        text-align: right;\n",
       "    }\n",
       "</style>\n",
       "<table border=\"1\" class=\"dataframe\">\n",
       "  <thead>\n",
       "    <tr style=\"text-align: right;\">\n",
       "      <th></th>\n",
       "      <th>ratio</th>\n",
       "      <th>recall</th>\n",
       "    </tr>\n",
       "  </thead>\n",
       "  <tbody>\n",
       "    <tr>\n",
       "      <th>13</th>\n",
       "      <td>0.92:0.08</td>\n",
       "      <td>0.129333</td>\n",
       "    </tr>\n",
       "    <tr>\n",
       "      <th>9</th>\n",
       "      <td>0.90:0.10</td>\n",
       "      <td>0.129097</td>\n",
       "    </tr>\n",
       "    <tr>\n",
       "      <th>12</th>\n",
       "      <td>0.91:0.09</td>\n",
       "      <td>0.128979</td>\n",
       "    </tr>\n",
       "    <tr>\n",
       "      <th>14</th>\n",
       "      <td>0.93:0.07</td>\n",
       "      <td>0.128861</td>\n",
       "    </tr>\n",
       "    <tr>\n",
       "      <th>16</th>\n",
       "      <td>0.95:0.05</td>\n",
       "      <td>0.128507</td>\n",
       "    </tr>\n",
       "    <tr>\n",
       "      <th>15</th>\n",
       "      <td>0.94:0.06</td>\n",
       "      <td>0.128507</td>\n",
       "    </tr>\n",
       "    <tr>\n",
       "      <th>19</th>\n",
       "      <td>0.98:0.02</td>\n",
       "      <td>0.128390</td>\n",
       "    </tr>\n",
       "    <tr>\n",
       "      <th>10</th>\n",
       "      <td>1.00:0.00</td>\n",
       "      <td>0.128272</td>\n",
       "    </tr>\n",
       "    <tr>\n",
       "      <th>17</th>\n",
       "      <td>0.96:0.04</td>\n",
       "      <td>0.128272</td>\n",
       "    </tr>\n",
       "    <tr>\n",
       "      <th>18</th>\n",
       "      <td>0.97:0.03</td>\n",
       "      <td>0.128154</td>\n",
       "    </tr>\n",
       "  </tbody>\n",
       "</table>\n",
       "</div>"
      ],
      "text/plain": [
       "        ratio    recall\n",
       "13  0.92:0.08  0.129333\n",
       "9   0.90:0.10  0.129097\n",
       "12  0.91:0.09  0.128979\n",
       "14  0.93:0.07  0.128861\n",
       "16  0.95:0.05  0.128507\n",
       "15  0.94:0.06  0.128507\n",
       "19  0.98:0.02  0.128390\n",
       "10  1.00:0.00  0.128272\n",
       "17  0.96:0.04  0.128272\n",
       "18  0.97:0.03  0.128154"
      ]
     },
     "execution_count": 168,
     "metadata": {},
     "output_type": "execute_result"
    }
   ],
   "source": [
    "recall_job_2 = pd.DataFrame(recalls_2).drop_duplicates().sort_values('recall', ascending=False)\n",
    "recall_job_2.head(10)"
   ]
  },
  {
   "cell_type": "code",
   "execution_count": 141,
   "id": "6acea23c-a94b-42de-8e49-c22fcbdf8a82",
   "metadata": {},
   "outputs": [],
   "source": [
    "recall_job_2.to_csv(f'{RECALL_PATH}/weighted_{DATA_SET}.csv', index=False)"
   ]
  },
  {
   "cell_type": "markdown",
   "id": "8dc0f5db-8c54-41da-add5-36ad40394a69",
   "metadata": {},
   "source": [
    "## LTOCF 인기도 가중치 적용"
   ]
  },
  {
   "cell_type": "code",
   "execution_count": 156,
   "id": "d44c997f-7891-4a04-9787-9ab915540302",
   "metadata": {},
   "outputs": [],
   "source": [
    "MODEL = \"LTOCF\""
   ]
  },
  {
   "cell_type": "code",
   "execution_count": 134,
   "id": "ac583486-3545-48cd-b82f-dbd5cd7c6b53",
   "metadata": {},
   "outputs": [
    {
     "data": {
      "text/html": [
       "<div>\n",
       "<style scoped>\n",
       "    .dataframe tbody tr th:only-of-type {\n",
       "        vertical-align: middle;\n",
       "    }\n",
       "\n",
       "    .dataframe tbody tr th {\n",
       "        vertical-align: top;\n",
       "    }\n",
       "\n",
       "    .dataframe thead th {\n",
       "        text-align: right;\n",
       "    }\n",
       "</style>\n",
       "<table border=\"1\" class=\"dataframe\">\n",
       "  <thead>\n",
       "    <tr style=\"text-align: right;\">\n",
       "      <th></th>\n",
       "      <th>resume_idx</th>\n",
       "      <th>recruitment_idx</th>\n",
       "      <th>ltocf_score</th>\n",
       "      <th>resume_seq</th>\n",
       "      <th>recruitment_seq</th>\n",
       "    </tr>\n",
       "  </thead>\n",
       "  <tbody>\n",
       "    <tr>\n",
       "      <th>0</th>\n",
       "      <td>0</td>\n",
       "      <td>156</td>\n",
       "      <td>0.999877</td>\n",
       "      <td>U05833</td>\n",
       "      <td>R03943</td>\n",
       "    </tr>\n",
       "    <tr>\n",
       "      <th>1</th>\n",
       "      <td>0</td>\n",
       "      <td>3195</td>\n",
       "      <td>0.999227</td>\n",
       "      <td>U05833</td>\n",
       "      <td>R05806</td>\n",
       "    </tr>\n",
       "    <tr>\n",
       "      <th>2</th>\n",
       "      <td>0</td>\n",
       "      <td>1051</td>\n",
       "      <td>0.998012</td>\n",
       "      <td>U05833</td>\n",
       "      <td>R02540</td>\n",
       "    </tr>\n",
       "    <tr>\n",
       "      <th>3</th>\n",
       "      <td>0</td>\n",
       "      <td>4670</td>\n",
       "      <td>0.997515</td>\n",
       "      <td>U05833</td>\n",
       "      <td>R04100</td>\n",
       "    </tr>\n",
       "    <tr>\n",
       "      <th>4</th>\n",
       "      <td>0</td>\n",
       "      <td>2576</td>\n",
       "      <td>0.997507</td>\n",
       "      <td>U05833</td>\n",
       "      <td>R00097</td>\n",
       "    </tr>\n",
       "  </tbody>\n",
       "</table>\n",
       "</div>"
      ],
      "text/plain": [
       "   resume_idx  recruitment_idx  ltocf_score resume_seq recruitment_seq\n",
       "0           0              156     0.999877     U05833          R03943\n",
       "1           0             3195     0.999227     U05833          R05806\n",
       "2           0             1051     0.998012     U05833          R02540\n",
       "3           0             4670     0.997515     U05833          R04100\n",
       "4           0             2576     0.997507     U05833          R00097"
      ]
     },
     "execution_count": 134,
     "metadata": {},
     "output_type": "execute_result"
    }
   ],
   "source": [
    "ltocf_score['resume_seq'] = ltocf_score['resume_idx'].apply(lambda x: resume_decode[x])\n",
    "ltocf_score['recruitment_seq'] = ltocf_score['recruitment_idx'].apply(lambda x: recruitment_decode[x])\n",
    "ltocf_score.head()"
   ]
  },
  {
   "cell_type": "code",
   "execution_count": 135,
   "id": "926d73ce-4f44-4427-b06f-cad1ab0277a6",
   "metadata": {},
   "outputs": [
    {
     "name": "stdout",
     "output_type": "stream",
     "text": [
      "<class 'pandas.core.frame.DataFrame'>\n",
      "Int64Index: 169640 entries, 0 to 169639\n",
      "Data columns (total 7 columns):\n",
      " #   Column           Non-Null Count   Dtype   \n",
      "---  ------           --------------   -----   \n",
      " 0   resume_idx       169640 non-null  int64   \n",
      " 1   recruitment_idx  169640 non-null  int64   \n",
      " 2   ltocf_score      169640 non-null  float64 \n",
      " 3   resume_seq       169640 non-null  object  \n",
      " 4   recruitment_seq  169640 non-null  object  \n",
      " 5   degree           169640 non-null  category\n",
      " 6   job_code_seq1    169640 non-null  category\n",
      "dtypes: category(2), float64(1), int64(2), object(2)\n",
      "memory usage: 8.1+ MB\n"
     ]
    }
   ],
   "source": [
    "ltocf_score = ltocf_score.merge(resume, how='inner', on='resume_seq')\n",
    "ltocf_score.info()"
   ]
  },
  {
   "cell_type": "markdown",
   "id": "e9599dd8-0b15-431d-92ca-e1123d9772d6",
   "metadata": {},
   "source": [
    "### Degree"
   ]
  },
  {
   "cell_type": "code",
   "execution_count": 136,
   "id": "33d6b238-e202-4bbf-a6ec-8199301c9ac0",
   "metadata": {},
   "outputs": [],
   "source": [
    "degree_weight_pop_view = degree_weight_pop[['degree', 'recruitment_seq',\n",
    "                                            'score', 'w_score']]"
   ]
  },
  {
   "cell_type": "code",
   "execution_count": 137,
   "id": "929cb074-45c9-44d1-9bf8-2f7be46feaa3",
   "metadata": {},
   "outputs": [
    {
     "name": "stdout",
     "output_type": "stream",
     "text": [
      "<class 'pandas.core.frame.DataFrame'>\n",
      "Int64Index: 169640 entries, 0 to 169639\n",
      "Data columns (total 9 columns):\n",
      " #   Column           Non-Null Count   Dtype   \n",
      "---  ------           --------------   -----   \n",
      " 0   resume_idx       169640 non-null  int64   \n",
      " 1   recruitment_idx  169640 non-null  int64   \n",
      " 2   ltocf_score      169640 non-null  float64 \n",
      " 3   resume_seq       169640 non-null  object  \n",
      " 4   recruitment_seq  169640 non-null  object  \n",
      " 5   degree           169640 non-null  int64   \n",
      " 6   job_code_seq1    169640 non-null  category\n",
      " 7   score            169640 non-null  float64 \n",
      " 8   w_score          169640 non-null  float64 \n",
      "dtypes: category(1), float64(3), int64(3), object(2)\n",
      "memory usage: 11.8+ MB\n"
     ]
    }
   ],
   "source": [
    "ltocf_score_pop = ltocf_score.merge(degree_weight_pop_view, how='left', on=['degree', 'recruitment_seq'])\n",
    "ltocf_score_pop[['score', 'w_score']] = ltocf_score_pop[['score', 'w_score']].fillna(0)\n",
    "ltocf_score_pop.info()"
   ]
  },
  {
   "cell_type": "markdown",
   "id": "0a99dc02-1b6b-4a49-b067-0d4e9ec13d2e",
   "metadata": {},
   "source": [
    "#### MinMax Scaling"
   ]
  },
  {
   "cell_type": "code",
   "execution_count": 138,
   "id": "dad74f5f-30fc-4b9a-b650-fff19aed74a9",
   "metadata": {},
   "outputs": [],
   "source": [
    "# ltocf_score_pop['w_score'] = mms.fit_transform(ltocf_score_pop['w_score'].values.reshape(-1,1))\n",
    "# ltocf_score_pop['ltocf_score'] = mms.fit_transform(ltocf_score_pop['ltocf_score'].values.reshape(-1,1))"
   ]
  },
  {
   "cell_type": "code",
   "execution_count": 139,
   "id": "a1a43a01-e1e0-43c6-9c2a-1dd521b7fbca",
   "metadata": {},
   "outputs": [],
   "source": [
    "ltocf_score_pop['s_score'] = ltocf_score_pop.groupby('resume_idx')['score'].transform(\n",
    "    lambda x: (mms.fit_transform(x.values.reshape(-1,1))).reshape(-1))\n",
    "ltocf_score_pop['sw_score'] = ltocf_score_pop.groupby('resume_idx')['w_score'].transform(\n",
    "    lambda x: (mms.fit_transform(x.values.reshape(-1,1))).reshape(-1))\n",
    "ltocf_score_pop['scf_score'] = ltocf_score_pop.groupby('resume_idx')['ltocf_score'].transform(\n",
    "    lambda x: (mms.fit_transform(x.values.reshape(-1,1))).reshape(-1))"
   ]
  },
  {
   "cell_type": "markdown",
   "id": "75101fdd-b43a-4b61-a43e-c823eff4e95b",
   "metadata": {},
   "source": [
    "#### RECALL 계산"
   ]
  },
  {
   "cell_type": "markdown",
   "id": "6e656421-3fe0-43ae-bbb1-cca11f2b9720",
   "metadata": {},
   "source": [
    "##### 단순인기도"
   ]
  },
  {
   "cell_type": "code",
   "execution_count": 140,
   "id": "e945aea5-346f-4e22-ad04-ffcafdb1f866",
   "metadata": {},
   "outputs": [],
   "source": [
    "recalls_1 = []"
   ]
  },
  {
   "cell_type": "code",
   "execution_count": 141,
   "id": "7f18fd58-515b-4530-93a6-3fb53aece481",
   "metadata": {},
   "outputs": [
    {
     "name": "stdout",
     "output_type": "stream",
     "text": [
      "0.00 : 1.00\n",
      "0.10 : 0.90\n",
      "0.20 : 0.80\n",
      "0.30 : 0.70\n",
      "0.40 : 0.60\n",
      "0.50 : 0.50\n",
      "0.60 : 0.40\n",
      "0.70 : 0.30\n",
      "0.80 : 0.20\n",
      "0.90 : 0.10\n",
      "1.00 : 0.00\n"
     ]
    }
   ],
   "source": [
    "pop_scores = create_ensemble_submission_2col(ltocf_score_pop, 'scf_score', 's_score', start=0, end=101, step=10)"
   ]
  },
  {
   "cell_type": "code",
   "execution_count": 142,
   "id": "16f36c7a-be1e-4d28-819e-8d57b3bdaf67",
   "metadata": {},
   "outputs": [
    {
     "name": "stderr",
     "output_type": "stream",
     "text": [
      "100%|██████████████████████████████████████████████████████████████████████████████████| 11/11 [00:13<00:00,  1.23s/it]\n"
     ]
    }
   ],
   "source": [
    "for ratio, sbm in tqdm(pop_scores.items()):\n",
    "    data = {}\n",
    "    data['ratio'] = ratio\n",
    "    data['recall'] = calculate_precision_at_k_dacon(test, sbm, 5)\n",
    "    recalls_1.append(data)"
   ]
  },
  {
   "cell_type": "code",
   "execution_count": 143,
   "id": "49c3ca79-fc6b-4a80-8aac-40c22b1e5c20",
   "metadata": {},
   "outputs": [
    {
     "data": {
      "text/html": [
       "<div>\n",
       "<style scoped>\n",
       "    .dataframe tbody tr th:only-of-type {\n",
       "        vertical-align: middle;\n",
       "    }\n",
       "\n",
       "    .dataframe tbody tr th {\n",
       "        vertical-align: top;\n",
       "    }\n",
       "\n",
       "    .dataframe thead th {\n",
       "        text-align: right;\n",
       "    }\n",
       "</style>\n",
       "<table border=\"1\" class=\"dataframe\">\n",
       "  <thead>\n",
       "    <tr style=\"text-align: right;\">\n",
       "      <th></th>\n",
       "      <th>ratio</th>\n",
       "      <th>recall</th>\n",
       "    </tr>\n",
       "  </thead>\n",
       "  <tbody>\n",
       "    <tr>\n",
       "      <th>10</th>\n",
       "      <td>1.00:0.00</td>\n",
       "      <td>0.129686</td>\n",
       "    </tr>\n",
       "    <tr>\n",
       "      <th>8</th>\n",
       "      <td>0.80:0.20</td>\n",
       "      <td>0.129215</td>\n",
       "    </tr>\n",
       "    <tr>\n",
       "      <th>9</th>\n",
       "      <td>0.90:0.10</td>\n",
       "      <td>0.128154</td>\n",
       "    </tr>\n",
       "    <tr>\n",
       "      <th>7</th>\n",
       "      <td>0.70:0.30</td>\n",
       "      <td>0.124617</td>\n",
       "    </tr>\n",
       "    <tr>\n",
       "      <th>6</th>\n",
       "      <td>0.60:0.40</td>\n",
       "      <td>0.120137</td>\n",
       "    </tr>\n",
       "    <tr>\n",
       "      <th>5</th>\n",
       "      <td>0.50:0.50</td>\n",
       "      <td>0.116482</td>\n",
       "    </tr>\n",
       "    <tr>\n",
       "      <th>4</th>\n",
       "      <td>0.40:0.60</td>\n",
       "      <td>0.113417</td>\n",
       "    </tr>\n",
       "    <tr>\n",
       "      <th>3</th>\n",
       "      <td>0.30:0.70</td>\n",
       "      <td>0.108229</td>\n",
       "    </tr>\n",
       "    <tr>\n",
       "      <th>2</th>\n",
       "      <td>0.20:0.80</td>\n",
       "      <td>0.100094</td>\n",
       "    </tr>\n",
       "    <tr>\n",
       "      <th>1</th>\n",
       "      <td>0.10:0.90</td>\n",
       "      <td>0.093964</td>\n",
       "    </tr>\n",
       "    <tr>\n",
       "      <th>0</th>\n",
       "      <td>0.00:1.00</td>\n",
       "      <td>0.091724</td>\n",
       "    </tr>\n",
       "  </tbody>\n",
       "</table>\n",
       "</div>"
      ],
      "text/plain": [
       "        ratio    recall\n",
       "10  1.00:0.00  0.129686\n",
       "8   0.80:0.20  0.129215\n",
       "9   0.90:0.10  0.128154\n",
       "7   0.70:0.30  0.124617\n",
       "6   0.60:0.40  0.120137\n",
       "5   0.50:0.50  0.116482\n",
       "4   0.40:0.60  0.113417\n",
       "3   0.30:0.70  0.108229\n",
       "2   0.20:0.80  0.100094\n",
       "1   0.10:0.90  0.093964\n",
       "0   0.00:1.00  0.091724"
      ]
     },
     "execution_count": 143,
     "metadata": {},
     "output_type": "execute_result"
    }
   ],
   "source": [
    "pd.DataFrame(recalls_1).drop_duplicates().sort_values('recall', ascending=False)"
   ]
  },
  {
   "cell_type": "markdown",
   "id": "64d7cf08-60e9-4355-9be8-567666580434",
   "metadata": {},
   "source": [
    "##### 가중치 인기도"
   ]
  },
  {
   "cell_type": "code",
   "execution_count": 144,
   "id": "7cf2430a-dc96-493e-b768-de957182490b",
   "metadata": {},
   "outputs": [],
   "source": [
    "recalls_2 = []"
   ]
  },
  {
   "cell_type": "code",
   "execution_count": 145,
   "id": "5589244b-741d-45d1-8cc2-51ad94bf5505",
   "metadata": {},
   "outputs": [
    {
     "name": "stdout",
     "output_type": "stream",
     "text": [
      "0.00 : 1.00\n",
      "0.10 : 0.90\n",
      "0.20 : 0.80\n",
      "0.30 : 0.70\n",
      "0.40 : 0.60\n",
      "0.50 : 0.50\n",
      "0.60 : 0.40\n",
      "0.70 : 0.30\n",
      "0.80 : 0.20\n",
      "0.90 : 0.10\n",
      "1.00 : 0.00\n"
     ]
    }
   ],
   "source": [
    "pop_scores = create_ensemble_submission_2col(ltocf_score_pop, 'scf_score', 'sw_score', start=0, end=101, step=10)"
   ]
  },
  {
   "cell_type": "code",
   "execution_count": 146,
   "id": "e5efbee1-bcce-46a0-8d7d-725b30a86757",
   "metadata": {},
   "outputs": [
    {
     "name": "stderr",
     "output_type": "stream",
     "text": [
      "100%|██████████████████████████████████████████████████████████████████████████████████| 11/11 [00:12<00:00,  1.16s/it]\n"
     ]
    }
   ],
   "source": [
    "for ratio, sbm in tqdm(pop_scores.items()):\n",
    "    data = {}\n",
    "    data['ratio'] = ratio\n",
    "    data['recall'] = calculate_precision_at_k_dacon(test, sbm, 5)\n",
    "    recalls_2.append(data)"
   ]
  },
  {
   "cell_type": "code",
   "execution_count": 147,
   "id": "ea00b42e-a512-4b8b-8760-c4aa642f2a9e",
   "metadata": {},
   "outputs": [
    {
     "data": {
      "text/html": [
       "<div>\n",
       "<style scoped>\n",
       "    .dataframe tbody tr th:only-of-type {\n",
       "        vertical-align: middle;\n",
       "    }\n",
       "\n",
       "    .dataframe tbody tr th {\n",
       "        vertical-align: top;\n",
       "    }\n",
       "\n",
       "    .dataframe thead th {\n",
       "        text-align: right;\n",
       "    }\n",
       "</style>\n",
       "<table border=\"1\" class=\"dataframe\">\n",
       "  <thead>\n",
       "    <tr style=\"text-align: right;\">\n",
       "      <th></th>\n",
       "      <th>ratio</th>\n",
       "      <th>recall</th>\n",
       "    </tr>\n",
       "  </thead>\n",
       "  <tbody>\n",
       "    <tr>\n",
       "      <th>10</th>\n",
       "      <td>1.00:0.00</td>\n",
       "      <td>0.129686</td>\n",
       "    </tr>\n",
       "    <tr>\n",
       "      <th>8</th>\n",
       "      <td>0.80:0.20</td>\n",
       "      <td>0.128861</td>\n",
       "    </tr>\n",
       "    <tr>\n",
       "      <th>9</th>\n",
       "      <td>0.90:0.10</td>\n",
       "      <td>0.128036</td>\n",
       "    </tr>\n",
       "    <tr>\n",
       "      <th>7</th>\n",
       "      <td>0.70:0.30</td>\n",
       "      <td>0.125442</td>\n",
       "    </tr>\n",
       "    <tr>\n",
       "      <th>6</th>\n",
       "      <td>0.60:0.40</td>\n",
       "      <td>0.121080</td>\n",
       "    </tr>\n",
       "    <tr>\n",
       "      <th>5</th>\n",
       "      <td>0.50:0.50</td>\n",
       "      <td>0.117779</td>\n",
       "    </tr>\n",
       "    <tr>\n",
       "      <th>4</th>\n",
       "      <td>0.40:0.60</td>\n",
       "      <td>0.115421</td>\n",
       "    </tr>\n",
       "    <tr>\n",
       "      <th>3</th>\n",
       "      <td>0.30:0.70</td>\n",
       "      <td>0.108819</td>\n",
       "    </tr>\n",
       "    <tr>\n",
       "      <th>2</th>\n",
       "      <td>0.20:0.80</td>\n",
       "      <td>0.101627</td>\n",
       "    </tr>\n",
       "    <tr>\n",
       "      <th>1</th>\n",
       "      <td>0.10:0.90</td>\n",
       "      <td>0.095732</td>\n",
       "    </tr>\n",
       "    <tr>\n",
       "      <th>0</th>\n",
       "      <td>0.00:1.00</td>\n",
       "      <td>0.090545</td>\n",
       "    </tr>\n",
       "  </tbody>\n",
       "</table>\n",
       "</div>"
      ],
      "text/plain": [
       "        ratio    recall\n",
       "10  1.00:0.00  0.129686\n",
       "8   0.80:0.20  0.128861\n",
       "9   0.90:0.10  0.128036\n",
       "7   0.70:0.30  0.125442\n",
       "6   0.60:0.40  0.121080\n",
       "5   0.50:0.50  0.117779\n",
       "4   0.40:0.60  0.115421\n",
       "3   0.30:0.70  0.108819\n",
       "2   0.20:0.80  0.101627\n",
       "1   0.10:0.90  0.095732\n",
       "0   0.00:1.00  0.090545"
      ]
     },
     "execution_count": 147,
     "metadata": {},
     "output_type": "execute_result"
    }
   ],
   "source": [
    "pd.DataFrame(recalls_2).drop_duplicates().sort_values('recall', ascending=False)"
   ]
  },
  {
   "cell_type": "markdown",
   "id": "152fc6b6-3ba5-46e0-9bf4-2e1a974bcd00",
   "metadata": {},
   "source": [
    "### job_code_seq1"
   ]
  },
  {
   "cell_type": "code",
   "execution_count": 175,
   "id": "66b314d7-07ed-4c12-b8e3-2b78c4971400",
   "metadata": {},
   "outputs": [],
   "source": [
    "job_code_weight_pop_view = job_code_weight_pop[['job_code_seq1', 'recruitment_seq',\n",
    "                                            'score', 'w_score']]"
   ]
  },
  {
   "cell_type": "code",
   "execution_count": 176,
   "id": "9aac084c-4600-4061-b958-2fa54d7c7b4f",
   "metadata": {},
   "outputs": [
    {
     "name": "stdout",
     "output_type": "stream",
     "text": [
      "<class 'pandas.core.frame.DataFrame'>\n",
      "Int64Index: 169640 entries, 0 to 169639\n",
      "Data columns (total 9 columns):\n",
      " #   Column           Non-Null Count   Dtype   \n",
      "---  ------           --------------   -----   \n",
      " 0   resume_idx       169640 non-null  int64   \n",
      " 1   recruitment_idx  169640 non-null  int64   \n",
      " 2   ltocf_score      169640 non-null  float64 \n",
      " 3   resume_seq       169640 non-null  object  \n",
      " 4   recruitment_seq  169640 non-null  object  \n",
      " 5   degree           169640 non-null  category\n",
      " 6   job_code_seq1    169640 non-null  object  \n",
      " 7   score            169640 non-null  float64 \n",
      " 8   w_score          169640 non-null  float64 \n",
      "dtypes: category(1), float64(3), int64(2), object(3)\n",
      "memory usage: 11.8+ MB\n"
     ]
    }
   ],
   "source": [
    "ltocf_score_pop = ltocf_score.merge(job_code_weight_pop_view, how='left', on=['job_code_seq1', 'recruitment_seq'])\n",
    "ltocf_score_pop[['score', 'w_score']] = ltocf_score_pop[['score', 'w_score']].fillna(0)\n",
    "ltocf_score_pop.info()"
   ]
  },
  {
   "cell_type": "markdown",
   "id": "61d76c9d-827a-4426-b328-d8b953a04634",
   "metadata": {},
   "source": [
    "#### MinMax Scaling"
   ]
  },
  {
   "cell_type": "code",
   "execution_count": 177,
   "id": "ea72a629-807a-4d5e-bdc5-9772f87e1700",
   "metadata": {},
   "outputs": [],
   "source": [
    "# ltocf_score_pop['sw_score'] = mms.fit_transform(ltocf_score_pop['w_score'].values.reshape(-1,1))\n",
    "# ltocf_score_pop['scf_score'] = mms.fit_transform(ltocf_score_pop['ltocf_score'].values.reshape(-1,1))"
   ]
  },
  {
   "cell_type": "code",
   "execution_count": 151,
   "id": "6dd6617c-187f-4dfd-bb96-67c8396db01b",
   "metadata": {},
   "outputs": [],
   "source": [
    "ltocf_score_pop['s_score'] = ltocf_score_pop.groupby('resume_idx')['score'].transform(\n",
    "    lambda x: (mms.fit_transform(x.values.reshape(-1,1))).reshape(-1))\n",
    "ltocf_score_pop['sw_score'] = ltocf_score_pop.groupby('resume_idx')['w_score'].transform(\n",
    "    lambda x: (mms.fit_transform(x.values.reshape(-1,1))).reshape(-1))\n",
    "ltocf_score_pop['scf_score'] = ltocf_score_pop.groupby('resume_idx')['ltocf_score'].transform(\n",
    "    lambda x: (mms.fit_transform(x.values.reshape(-1,1))).reshape(-1))"
   ]
  },
  {
   "cell_type": "code",
   "execution_count": 178,
   "id": "7d1892e1-d897-4ba7-abdc-13bafeb58f2d",
   "metadata": {},
   "outputs": [
    {
     "data": {
      "text/html": [
       "<div>\n",
       "<style scoped>\n",
       "    .dataframe tbody tr th:only-of-type {\n",
       "        vertical-align: middle;\n",
       "    }\n",
       "\n",
       "    .dataframe tbody tr th {\n",
       "        vertical-align: top;\n",
       "    }\n",
       "\n",
       "    .dataframe thead th {\n",
       "        text-align: right;\n",
       "    }\n",
       "</style>\n",
       "<table border=\"1\" class=\"dataframe\">\n",
       "  <thead>\n",
       "    <tr style=\"text-align: right;\">\n",
       "      <th></th>\n",
       "      <th>count</th>\n",
       "      <th>unique</th>\n",
       "      <th>top</th>\n",
       "      <th>freq</th>\n",
       "      <th>mean</th>\n",
       "      <th>std</th>\n",
       "      <th>min</th>\n",
       "      <th>25%</th>\n",
       "      <th>50%</th>\n",
       "      <th>75%</th>\n",
       "      <th>max</th>\n",
       "    </tr>\n",
       "  </thead>\n",
       "  <tbody>\n",
       "    <tr>\n",
       "      <th>resume_idx</th>\n",
       "      <td>169640.0</td>\n",
       "      <td>NaN</td>\n",
       "      <td>NaN</td>\n",
       "      <td>NaN</td>\n",
       "      <td>4240.5</td>\n",
       "      <td>2448.549692</td>\n",
       "      <td>0.0</td>\n",
       "      <td>2120.0</td>\n",
       "      <td>4240.5</td>\n",
       "      <td>6361.0</td>\n",
       "      <td>8481.0</td>\n",
       "    </tr>\n",
       "    <tr>\n",
       "      <th>recruitment_idx</th>\n",
       "      <td>169640.0</td>\n",
       "      <td>NaN</td>\n",
       "      <td>NaN</td>\n",
       "      <td>NaN</td>\n",
       "      <td>2801.88778</td>\n",
       "      <td>1836.516984</td>\n",
       "      <td>0.0</td>\n",
       "      <td>1186.0</td>\n",
       "      <td>2587.0</td>\n",
       "      <td>4268.0</td>\n",
       "      <td>6693.0</td>\n",
       "    </tr>\n",
       "    <tr>\n",
       "      <th>ltocf_score</th>\n",
       "      <td>169640.0</td>\n",
       "      <td>NaN</td>\n",
       "      <td>NaN</td>\n",
       "      <td>NaN</td>\n",
       "      <td>0.994335</td>\n",
       "      <td>0.009979</td>\n",
       "      <td>0.805326</td>\n",
       "      <td>0.993198</td>\n",
       "      <td>0.998103</td>\n",
       "      <td>0.999691</td>\n",
       "      <td>1.0</td>\n",
       "    </tr>\n",
       "    <tr>\n",
       "      <th>resume_seq</th>\n",
       "      <td>169640</td>\n",
       "      <td>8482</td>\n",
       "      <td>U05833</td>\n",
       "      <td>20</td>\n",
       "      <td>NaN</td>\n",
       "      <td>NaN</td>\n",
       "      <td>NaN</td>\n",
       "      <td>NaN</td>\n",
       "      <td>NaN</td>\n",
       "      <td>NaN</td>\n",
       "      <td>NaN</td>\n",
       "    </tr>\n",
       "    <tr>\n",
       "      <th>recruitment_seq</th>\n",
       "      <td>169640</td>\n",
       "      <td>6401</td>\n",
       "      <td>R00559</td>\n",
       "      <td>251</td>\n",
       "      <td>NaN</td>\n",
       "      <td>NaN</td>\n",
       "      <td>NaN</td>\n",
       "      <td>NaN</td>\n",
       "      <td>NaN</td>\n",
       "      <td>NaN</td>\n",
       "      <td>NaN</td>\n",
       "    </tr>\n",
       "    <tr>\n",
       "      <th>degree</th>\n",
       "      <td>169640.0</td>\n",
       "      <td>5.0</td>\n",
       "      <td>4.0</td>\n",
       "      <td>149060.0</td>\n",
       "      <td>NaN</td>\n",
       "      <td>NaN</td>\n",
       "      <td>NaN</td>\n",
       "      <td>NaN</td>\n",
       "      <td>NaN</td>\n",
       "      <td>NaN</td>\n",
       "      <td>NaN</td>\n",
       "    </tr>\n",
       "    <tr>\n",
       "      <th>job_code_seq1</th>\n",
       "      <td>169640</td>\n",
       "      <td>9</td>\n",
       "      <td>재료·화학·섬유·의복</td>\n",
       "      <td>145760</td>\n",
       "      <td>NaN</td>\n",
       "      <td>NaN</td>\n",
       "      <td>NaN</td>\n",
       "      <td>NaN</td>\n",
       "      <td>NaN</td>\n",
       "      <td>NaN</td>\n",
       "      <td>NaN</td>\n",
       "    </tr>\n",
       "    <tr>\n",
       "      <th>score</th>\n",
       "      <td>169640.0</td>\n",
       "      <td>NaN</td>\n",
       "      <td>NaN</td>\n",
       "      <td>NaN</td>\n",
       "      <td>0.206093</td>\n",
       "      <td>0.143475</td>\n",
       "      <td>0.0</td>\n",
       "      <td>0.116279</td>\n",
       "      <td>0.172414</td>\n",
       "      <td>0.255814</td>\n",
       "      <td>1.0</td>\n",
       "    </tr>\n",
       "    <tr>\n",
       "      <th>w_score</th>\n",
       "      <td>169640.0</td>\n",
       "      <td>NaN</td>\n",
       "      <td>NaN</td>\n",
       "      <td>NaN</td>\n",
       "      <td>0.209307</td>\n",
       "      <td>0.153171</td>\n",
       "      <td>0.0</td>\n",
       "      <td>0.118221</td>\n",
       "      <td>0.166541</td>\n",
       "      <td>0.260513</td>\n",
       "      <td>2.800227</td>\n",
       "    </tr>\n",
       "    <tr>\n",
       "      <th>sw_score</th>\n",
       "      <td>169640.0</td>\n",
       "      <td>NaN</td>\n",
       "      <td>NaN</td>\n",
       "      <td>NaN</td>\n",
       "      <td>0.074747</td>\n",
       "      <td>0.054699</td>\n",
       "      <td>0.0</td>\n",
       "      <td>0.042218</td>\n",
       "      <td>0.059474</td>\n",
       "      <td>0.093033</td>\n",
       "      <td>1.0</td>\n",
       "    </tr>\n",
       "    <tr>\n",
       "      <th>scf_score</th>\n",
       "      <td>169640.0</td>\n",
       "      <td>NaN</td>\n",
       "      <td>NaN</td>\n",
       "      <td>NaN</td>\n",
       "      <td>0.970901</td>\n",
       "      <td>0.051261</td>\n",
       "      <td>0.0</td>\n",
       "      <td>0.96506</td>\n",
       "      <td>0.990255</td>\n",
       "      <td>0.998415</td>\n",
       "      <td>1.0</td>\n",
       "    </tr>\n",
       "  </tbody>\n",
       "</table>\n",
       "</div>"
      ],
      "text/plain": [
       "                    count unique          top      freq        mean  \\\n",
       "resume_idx       169640.0    NaN          NaN       NaN      4240.5   \n",
       "recruitment_idx  169640.0    NaN          NaN       NaN  2801.88778   \n",
       "ltocf_score      169640.0    NaN          NaN       NaN    0.994335   \n",
       "resume_seq         169640   8482       U05833        20         NaN   \n",
       "recruitment_seq    169640   6401       R00559       251         NaN   \n",
       "degree           169640.0    5.0          4.0  149060.0         NaN   \n",
       "job_code_seq1      169640      9  재료·화학·섬유·의복    145760         NaN   \n",
       "score            169640.0    NaN          NaN       NaN    0.206093   \n",
       "w_score          169640.0    NaN          NaN       NaN    0.209307   \n",
       "sw_score         169640.0    NaN          NaN       NaN    0.074747   \n",
       "scf_score        169640.0    NaN          NaN       NaN    0.970901   \n",
       "\n",
       "                         std       min       25%       50%       75%       max  \n",
       "resume_idx       2448.549692       0.0    2120.0    4240.5    6361.0    8481.0  \n",
       "recruitment_idx  1836.516984       0.0    1186.0    2587.0    4268.0    6693.0  \n",
       "ltocf_score         0.009979  0.805326  0.993198  0.998103  0.999691       1.0  \n",
       "resume_seq               NaN       NaN       NaN       NaN       NaN       NaN  \n",
       "recruitment_seq          NaN       NaN       NaN       NaN       NaN       NaN  \n",
       "degree                   NaN       NaN       NaN       NaN       NaN       NaN  \n",
       "job_code_seq1            NaN       NaN       NaN       NaN       NaN       NaN  \n",
       "score               0.143475       0.0  0.116279  0.172414  0.255814       1.0  \n",
       "w_score             0.153171       0.0  0.118221  0.166541  0.260513  2.800227  \n",
       "sw_score            0.054699       0.0  0.042218  0.059474  0.093033       1.0  \n",
       "scf_score           0.051261       0.0   0.96506  0.990255  0.998415       1.0  "
      ]
     },
     "execution_count": 178,
     "metadata": {},
     "output_type": "execute_result"
    }
   ],
   "source": [
    "ltocf_score_pop.describe(include ='all').T"
   ]
  },
  {
   "cell_type": "code",
   "execution_count": 179,
   "id": "3c996b58-2c49-420e-81b0-c3e3049922ff",
   "metadata": {},
   "outputs": [
    {
     "data": {
      "text/html": [
       "<div>\n",
       "<style scoped>\n",
       "    .dataframe tbody tr th:only-of-type {\n",
       "        vertical-align: middle;\n",
       "    }\n",
       "\n",
       "    .dataframe tbody tr th {\n",
       "        vertical-align: top;\n",
       "    }\n",
       "\n",
       "    .dataframe thead th {\n",
       "        text-align: right;\n",
       "    }\n",
       "</style>\n",
       "<table border=\"1\" class=\"dataframe\">\n",
       "  <thead>\n",
       "    <tr style=\"text-align: right;\">\n",
       "      <th></th>\n",
       "      <th>resume_idx</th>\n",
       "      <th>recruitment_idx</th>\n",
       "      <th>ltocf_score</th>\n",
       "      <th>resume_seq</th>\n",
       "      <th>recruitment_seq</th>\n",
       "      <th>degree</th>\n",
       "      <th>job_code_seq1</th>\n",
       "      <th>score</th>\n",
       "      <th>w_score</th>\n",
       "      <th>sw_score</th>\n",
       "      <th>scf_score</th>\n",
       "    </tr>\n",
       "  </thead>\n",
       "  <tbody>\n",
       "    <tr>\n",
       "      <th>0</th>\n",
       "      <td>0</td>\n",
       "      <td>156</td>\n",
       "      <td>0.999877</td>\n",
       "      <td>U05833</td>\n",
       "      <td>R03943</td>\n",
       "      <td>4</td>\n",
       "      <td>재료·화학·섬유·의복</td>\n",
       "      <td>0.279070</td>\n",
       "      <td>0.284196</td>\n",
       "      <td>0.101490</td>\n",
       "      <td>0.999367</td>\n",
       "    </tr>\n",
       "    <tr>\n",
       "      <th>1</th>\n",
       "      <td>0</td>\n",
       "      <td>3195</td>\n",
       "      <td>0.999227</td>\n",
       "      <td>U05833</td>\n",
       "      <td>R05806</td>\n",
       "      <td>4</td>\n",
       "      <td>재료·화학·섬유·의복</td>\n",
       "      <td>0.209302</td>\n",
       "      <td>0.213147</td>\n",
       "      <td>0.076118</td>\n",
       "      <td>0.996029</td>\n",
       "    </tr>\n",
       "    <tr>\n",
       "      <th>2</th>\n",
       "      <td>0</td>\n",
       "      <td>1051</td>\n",
       "      <td>0.998012</td>\n",
       "      <td>U05833</td>\n",
       "      <td>R02540</td>\n",
       "      <td>4</td>\n",
       "      <td>재료·화학·섬유·의복</td>\n",
       "      <td>0.093023</td>\n",
       "      <td>0.094732</td>\n",
       "      <td>0.033830</td>\n",
       "      <td>0.989790</td>\n",
       "    </tr>\n",
       "    <tr>\n",
       "      <th>3</th>\n",
       "      <td>0</td>\n",
       "      <td>4670</td>\n",
       "      <td>0.997515</td>\n",
       "      <td>U05833</td>\n",
       "      <td>R04100</td>\n",
       "      <td>4</td>\n",
       "      <td>재료·화학·섬유·의복</td>\n",
       "      <td>0.255814</td>\n",
       "      <td>0.258899</td>\n",
       "      <td>0.092456</td>\n",
       "      <td>0.987237</td>\n",
       "    </tr>\n",
       "    <tr>\n",
       "      <th>4</th>\n",
       "      <td>0</td>\n",
       "      <td>2576</td>\n",
       "      <td>0.997507</td>\n",
       "      <td>U05833</td>\n",
       "      <td>R00097</td>\n",
       "      <td>4</td>\n",
       "      <td>재료·화학·섬유·의복</td>\n",
       "      <td>0.302326</td>\n",
       "      <td>0.305971</td>\n",
       "      <td>0.109267</td>\n",
       "      <td>0.987192</td>\n",
       "    </tr>\n",
       "    <tr>\n",
       "      <th>5</th>\n",
       "      <td>0</td>\n",
       "      <td>5279</td>\n",
       "      <td>0.997453</td>\n",
       "      <td>U05833</td>\n",
       "      <td>R05335</td>\n",
       "      <td>4</td>\n",
       "      <td>재료·화학·섬유·의복</td>\n",
       "      <td>0.162791</td>\n",
       "      <td>0.165781</td>\n",
       "      <td>0.059203</td>\n",
       "      <td>0.986918</td>\n",
       "    </tr>\n",
       "    <tr>\n",
       "      <th>6</th>\n",
       "      <td>0</td>\n",
       "      <td>4675</td>\n",
       "      <td>0.997211</td>\n",
       "      <td>U05833</td>\n",
       "      <td>R02806</td>\n",
       "      <td>4</td>\n",
       "      <td>재료·화학·섬유·의복</td>\n",
       "      <td>0.186047</td>\n",
       "      <td>0.179640</td>\n",
       "      <td>0.064152</td>\n",
       "      <td>0.985672</td>\n",
       "    </tr>\n",
       "    <tr>\n",
       "      <th>7</th>\n",
       "      <td>0</td>\n",
       "      <td>5164</td>\n",
       "      <td>0.996898</td>\n",
       "      <td>U05833</td>\n",
       "      <td>R00304</td>\n",
       "      <td>4</td>\n",
       "      <td>재료·화학·섬유·의복</td>\n",
       "      <td>0.255814</td>\n",
       "      <td>0.260513</td>\n",
       "      <td>0.093033</td>\n",
       "      <td>0.984065</td>\n",
       "    </tr>\n",
       "    <tr>\n",
       "      <th>8</th>\n",
       "      <td>0</td>\n",
       "      <td>4704</td>\n",
       "      <td>0.996446</td>\n",
       "      <td>U05833</td>\n",
       "      <td>R02097</td>\n",
       "      <td>4</td>\n",
       "      <td>재료·화학·섬유·의복</td>\n",
       "      <td>0.116279</td>\n",
       "      <td>0.117681</td>\n",
       "      <td>0.042026</td>\n",
       "      <td>0.981746</td>\n",
       "    </tr>\n",
       "    <tr>\n",
       "      <th>9</th>\n",
       "      <td>0</td>\n",
       "      <td>1030</td>\n",
       "      <td>0.996352</td>\n",
       "      <td>U05833</td>\n",
       "      <td>R05895</td>\n",
       "      <td>4</td>\n",
       "      <td>재료·화학·섬유·의복</td>\n",
       "      <td>0.325581</td>\n",
       "      <td>0.314370</td>\n",
       "      <td>0.112266</td>\n",
       "      <td>0.981259</td>\n",
       "    </tr>\n",
       "    <tr>\n",
       "      <th>10</th>\n",
       "      <td>0</td>\n",
       "      <td>6130</td>\n",
       "      <td>0.995945</td>\n",
       "      <td>U05833</td>\n",
       "      <td>R02279</td>\n",
       "      <td>4</td>\n",
       "      <td>재료·화학·섬유·의복</td>\n",
       "      <td>0.093023</td>\n",
       "      <td>0.094732</td>\n",
       "      <td>0.033830</td>\n",
       "      <td>0.979170</td>\n",
       "    </tr>\n",
       "    <tr>\n",
       "      <th>11</th>\n",
       "      <td>0</td>\n",
       "      <td>5450</td>\n",
       "      <td>0.995660</td>\n",
       "      <td>U05833</td>\n",
       "      <td>R03651</td>\n",
       "      <td>4</td>\n",
       "      <td>재료·화학·섬유·의복</td>\n",
       "      <td>0.093023</td>\n",
       "      <td>0.094576</td>\n",
       "      <td>0.033775</td>\n",
       "      <td>0.977705</td>\n",
       "    </tr>\n",
       "    <tr>\n",
       "      <th>12</th>\n",
       "      <td>0</td>\n",
       "      <td>6228</td>\n",
       "      <td>0.993249</td>\n",
       "      <td>U05833</td>\n",
       "      <td>R05618</td>\n",
       "      <td>4</td>\n",
       "      <td>재료·화학·섬유·의복</td>\n",
       "      <td>0.186047</td>\n",
       "      <td>0.179640</td>\n",
       "      <td>0.064152</td>\n",
       "      <td>0.965321</td>\n",
       "    </tr>\n",
       "    <tr>\n",
       "      <th>13</th>\n",
       "      <td>0</td>\n",
       "      <td>5358</td>\n",
       "      <td>0.992719</td>\n",
       "      <td>U05833</td>\n",
       "      <td>R03694</td>\n",
       "      <td>4</td>\n",
       "      <td>재료·화학·섬유·의복</td>\n",
       "      <td>0.186047</td>\n",
       "      <td>0.189464</td>\n",
       "      <td>0.067660</td>\n",
       "      <td>0.962600</td>\n",
       "    </tr>\n",
       "    <tr>\n",
       "      <th>14</th>\n",
       "      <td>0</td>\n",
       "      <td>357</td>\n",
       "      <td>0.992466</td>\n",
       "      <td>U05833</td>\n",
       "      <td>R00585</td>\n",
       "      <td>4</td>\n",
       "      <td>재료·화학·섬유·의복</td>\n",
       "      <td>0.232558</td>\n",
       "      <td>0.224550</td>\n",
       "      <td>0.080190</td>\n",
       "      <td>0.961297</td>\n",
       "    </tr>\n",
       "    <tr>\n",
       "      <th>15</th>\n",
       "      <td>0</td>\n",
       "      <td>2756</td>\n",
       "      <td>0.989666</td>\n",
       "      <td>U05833</td>\n",
       "      <td>R04285</td>\n",
       "      <td>4</td>\n",
       "      <td>재료·화학·섬유·의복</td>\n",
       "      <td>0.093023</td>\n",
       "      <td>0.094145</td>\n",
       "      <td>0.033620</td>\n",
       "      <td>0.946914</td>\n",
       "    </tr>\n",
       "    <tr>\n",
       "      <th>16</th>\n",
       "      <td>0</td>\n",
       "      <td>1965</td>\n",
       "      <td>0.988052</td>\n",
       "      <td>U05833</td>\n",
       "      <td>R02130</td>\n",
       "      <td>4</td>\n",
       "      <td>재료·화학·섬유·의복</td>\n",
       "      <td>0.255814</td>\n",
       "      <td>0.247005</td>\n",
       "      <td>0.088209</td>\n",
       "      <td>0.938627</td>\n",
       "    </tr>\n",
       "    <tr>\n",
       "      <th>17</th>\n",
       "      <td>0</td>\n",
       "      <td>4956</td>\n",
       "      <td>0.987157</td>\n",
       "      <td>U05833</td>\n",
       "      <td>R01671</td>\n",
       "      <td>4</td>\n",
       "      <td>재료·화학·섬유·의복</td>\n",
       "      <td>0.116279</td>\n",
       "      <td>0.118415</td>\n",
       "      <td>0.042288</td>\n",
       "      <td>0.934028</td>\n",
       "    </tr>\n",
       "    <tr>\n",
       "      <th>18</th>\n",
       "      <td>0</td>\n",
       "      <td>5642</td>\n",
       "      <td>0.985628</td>\n",
       "      <td>U05833</td>\n",
       "      <td>R02799</td>\n",
       "      <td>4</td>\n",
       "      <td>재료·화학·섬유·의복</td>\n",
       "      <td>0.093023</td>\n",
       "      <td>0.089820</td>\n",
       "      <td>0.032076</td>\n",
       "      <td>0.926172</td>\n",
       "    </tr>\n",
       "    <tr>\n",
       "      <th>19</th>\n",
       "      <td>0</td>\n",
       "      <td>6099</td>\n",
       "      <td>0.984950</td>\n",
       "      <td>U05833</td>\n",
       "      <td>R04393</td>\n",
       "      <td>4</td>\n",
       "      <td>재료·화학·섬유·의복</td>\n",
       "      <td>0.139535</td>\n",
       "      <td>0.134730</td>\n",
       "      <td>0.048114</td>\n",
       "      <td>0.922691</td>\n",
       "    </tr>\n",
       "  </tbody>\n",
       "</table>\n",
       "</div>"
      ],
      "text/plain": [
       "    resume_idx  recruitment_idx  ltocf_score resume_seq recruitment_seq  \\\n",
       "0            0              156     0.999877     U05833          R03943   \n",
       "1            0             3195     0.999227     U05833          R05806   \n",
       "2            0             1051     0.998012     U05833          R02540   \n",
       "3            0             4670     0.997515     U05833          R04100   \n",
       "4            0             2576     0.997507     U05833          R00097   \n",
       "5            0             5279     0.997453     U05833          R05335   \n",
       "6            0             4675     0.997211     U05833          R02806   \n",
       "7            0             5164     0.996898     U05833          R00304   \n",
       "8            0             4704     0.996446     U05833          R02097   \n",
       "9            0             1030     0.996352     U05833          R05895   \n",
       "10           0             6130     0.995945     U05833          R02279   \n",
       "11           0             5450     0.995660     U05833          R03651   \n",
       "12           0             6228     0.993249     U05833          R05618   \n",
       "13           0             5358     0.992719     U05833          R03694   \n",
       "14           0              357     0.992466     U05833          R00585   \n",
       "15           0             2756     0.989666     U05833          R04285   \n",
       "16           0             1965     0.988052     U05833          R02130   \n",
       "17           0             4956     0.987157     U05833          R01671   \n",
       "18           0             5642     0.985628     U05833          R02799   \n",
       "19           0             6099     0.984950     U05833          R04393   \n",
       "\n",
       "   degree job_code_seq1     score   w_score  sw_score  scf_score  \n",
       "0       4   재료·화학·섬유·의복  0.279070  0.284196  0.101490   0.999367  \n",
       "1       4   재료·화학·섬유·의복  0.209302  0.213147  0.076118   0.996029  \n",
       "2       4   재료·화학·섬유·의복  0.093023  0.094732  0.033830   0.989790  \n",
       "3       4   재료·화학·섬유·의복  0.255814  0.258899  0.092456   0.987237  \n",
       "4       4   재료·화학·섬유·의복  0.302326  0.305971  0.109267   0.987192  \n",
       "5       4   재료·화학·섬유·의복  0.162791  0.165781  0.059203   0.986918  \n",
       "6       4   재료·화학·섬유·의복  0.186047  0.179640  0.064152   0.985672  \n",
       "7       4   재료·화학·섬유·의복  0.255814  0.260513  0.093033   0.984065  \n",
       "8       4   재료·화학·섬유·의복  0.116279  0.117681  0.042026   0.981746  \n",
       "9       4   재료·화학·섬유·의복  0.325581  0.314370  0.112266   0.981259  \n",
       "10      4   재료·화학·섬유·의복  0.093023  0.094732  0.033830   0.979170  \n",
       "11      4   재료·화학·섬유·의복  0.093023  0.094576  0.033775   0.977705  \n",
       "12      4   재료·화학·섬유·의복  0.186047  0.179640  0.064152   0.965321  \n",
       "13      4   재료·화학·섬유·의복  0.186047  0.189464  0.067660   0.962600  \n",
       "14      4   재료·화학·섬유·의복  0.232558  0.224550  0.080190   0.961297  \n",
       "15      4   재료·화학·섬유·의복  0.093023  0.094145  0.033620   0.946914  \n",
       "16      4   재료·화학·섬유·의복  0.255814  0.247005  0.088209   0.938627  \n",
       "17      4   재료·화학·섬유·의복  0.116279  0.118415  0.042288   0.934028  \n",
       "18      4   재료·화학·섬유·의복  0.093023  0.089820  0.032076   0.926172  \n",
       "19      4   재료·화학·섬유·의복  0.139535  0.134730  0.048114   0.922691  "
      ]
     },
     "execution_count": 179,
     "metadata": {},
     "output_type": "execute_result"
    }
   ],
   "source": [
    "ltocf_score_pop.head(20)"
   ]
  },
  {
   "cell_type": "markdown",
   "id": "96cc2e03-7ce1-452c-ab00-20307717fff5",
   "metadata": {},
   "source": [
    "#### RECALL 계산"
   ]
  },
  {
   "cell_type": "markdown",
   "id": "db6d8e4b-844f-4c50-b386-87e3dd25c8a8",
   "metadata": {},
   "source": [
    "##### 단순인기도"
   ]
  },
  {
   "cell_type": "code",
   "execution_count": 159,
   "id": "f54986a0-c7a6-4091-bb0d-1a27c6f38cc5",
   "metadata": {},
   "outputs": [],
   "source": [
    "recalls_1 = []"
   ]
  },
  {
   "cell_type": "code",
   "execution_count": 160,
   "id": "d537d248-491e-40f9-aaf8-ad28ebe62ed7",
   "metadata": {},
   "outputs": [
    {
     "name": "stdout",
     "output_type": "stream",
     "text": [
      "0.00 : 1.00\n",
      "0.01 : 0.99\n",
      "0.02 : 0.98\n",
      "0.03 : 0.97\n",
      "0.04 : 0.96\n",
      "0.05 : 0.95\n",
      "0.06 : 0.94\n",
      "0.07 : 0.93\n",
      "0.08 : 0.92\n",
      "0.09 : 0.91\n",
      "0.10 : 0.90\n",
      "0.11 : 0.89\n",
      "0.12 : 0.88\n",
      "0.13 : 0.87\n",
      "0.14 : 0.86\n",
      "0.15 : 0.85\n",
      "0.16 : 0.84\n",
      "0.17 : 0.83\n",
      "0.18 : 0.82\n",
      "0.19 : 0.81\n",
      "0.20 : 0.80\n",
      "0.21 : 0.79\n",
      "0.22 : 0.78\n",
      "0.23 : 0.77\n",
      "0.24 : 0.76\n",
      "0.25 : 0.75\n",
      "0.26 : 0.74\n",
      "0.27 : 0.73\n",
      "0.28 : 0.72\n",
      "0.29 : 0.71\n",
      "0.30 : 0.70\n",
      "0.31 : 0.69\n",
      "0.32 : 0.68\n",
      "0.33 : 0.67\n",
      "0.34 : 0.66\n",
      "0.35 : 0.65\n",
      "0.36 : 0.64\n",
      "0.37 : 0.63\n",
      "0.38 : 0.62\n",
      "0.39 : 0.61\n",
      "0.40 : 0.60\n",
      "0.41 : 0.59\n",
      "0.42 : 0.58\n",
      "0.43 : 0.57\n",
      "0.44 : 0.56\n",
      "0.45 : 0.55\n",
      "0.46 : 0.54\n",
      "0.47 : 0.53\n",
      "0.48 : 0.52\n",
      "0.49 : 0.51\n",
      "0.50 : 0.50\n",
      "0.51 : 0.49\n",
      "0.52 : 0.48\n",
      "0.53 : 0.47\n",
      "0.54 : 0.46\n",
      "0.55 : 0.45\n",
      "0.56 : 0.44\n",
      "0.57 : 0.43\n",
      "0.58 : 0.42\n",
      "0.59 : 0.41\n",
      "0.60 : 0.40\n",
      "0.61 : 0.39\n",
      "0.62 : 0.38\n",
      "0.63 : 0.37\n",
      "0.64 : 0.36\n",
      "0.65 : 0.35\n",
      "0.66 : 0.34\n",
      "0.67 : 0.33\n",
      "0.68 : 0.32\n",
      "0.69 : 0.31\n",
      "0.70 : 0.30\n",
      "0.71 : 0.29\n",
      "0.72 : 0.28\n",
      "0.73 : 0.27\n",
      "0.74 : 0.26\n",
      "0.75 : 0.25\n",
      "0.76 : 0.24\n",
      "0.77 : 0.23\n",
      "0.78 : 0.22\n",
      "0.79 : 0.21\n",
      "0.80 : 0.20\n",
      "0.81 : 0.19\n",
      "0.82 : 0.18\n",
      "0.83 : 0.17\n",
      "0.84 : 0.16\n",
      "0.85 : 0.15\n",
      "0.86 : 0.14\n",
      "0.87 : 0.13\n",
      "0.88 : 0.12\n",
      "0.89 : 0.11\n",
      "0.90 : 0.10\n",
      "0.91 : 0.09\n",
      "0.92 : 0.08\n",
      "0.93 : 0.07\n",
      "0.94 : 0.06\n",
      "0.95 : 0.05\n",
      "0.96 : 0.04\n",
      "0.97 : 0.03\n",
      "0.98 : 0.02\n",
      "0.99 : 0.01\n",
      "1.00 : 0.00\n"
     ]
    }
   ],
   "source": [
    "pop_scores = create_ensemble_submission_2col(ltocf_score_pop, 'scf_score', 's_score', start=0, end=101, step=1)"
   ]
  },
  {
   "cell_type": "code",
   "execution_count": 161,
   "id": "411a056a-ab39-4102-92ec-560174ab68c6",
   "metadata": {},
   "outputs": [
    {
     "name": "stderr",
     "output_type": "stream",
     "text": [
      "100%|████████████████████████████████████████████████████████████████████████████████| 101/101 [01:59<00:00,  1.18s/it]\n"
     ]
    }
   ],
   "source": [
    "for ratio, sbm in tqdm(pop_scores.items()):\n",
    "    data = {}\n",
    "    data['ratio'] = ratio\n",
    "    data['recall'] = calculate_precision_at_k_dacon(test, sbm, 5)\n",
    "    recalls_1.append(data)"
   ]
  },
  {
   "cell_type": "code",
   "execution_count": 162,
   "id": "9f63523c-6571-4912-8067-627bb6547504",
   "metadata": {},
   "outputs": [
    {
     "data": {
      "text/html": [
       "<div>\n",
       "<style scoped>\n",
       "    .dataframe tbody tr th:only-of-type {\n",
       "        vertical-align: middle;\n",
       "    }\n",
       "\n",
       "    .dataframe tbody tr th {\n",
       "        vertical-align: top;\n",
       "    }\n",
       "\n",
       "    .dataframe thead th {\n",
       "        text-align: right;\n",
       "    }\n",
       "</style>\n",
       "<table border=\"1\" class=\"dataframe\">\n",
       "  <thead>\n",
       "    <tr style=\"text-align: right;\">\n",
       "      <th></th>\n",
       "      <th>ratio</th>\n",
       "      <th>recall</th>\n",
       "    </tr>\n",
       "  </thead>\n",
       "  <tbody>\n",
       "    <tr>\n",
       "      <th>86</th>\n",
       "      <td>0.86:0.14</td>\n",
       "      <td>0.131219</td>\n",
       "    </tr>\n",
       "    <tr>\n",
       "      <th>83</th>\n",
       "      <td>0.83:0.17</td>\n",
       "      <td>0.131101</td>\n",
       "    </tr>\n",
       "    <tr>\n",
       "      <th>84</th>\n",
       "      <td>0.84:0.16</td>\n",
       "      <td>0.130983</td>\n",
       "    </tr>\n",
       "    <tr>\n",
       "      <th>87</th>\n",
       "      <td>0.87:0.13</td>\n",
       "      <td>0.130983</td>\n",
       "    </tr>\n",
       "    <tr>\n",
       "      <th>85</th>\n",
       "      <td>0.85:0.15</td>\n",
       "      <td>0.130865</td>\n",
       "    </tr>\n",
       "  </tbody>\n",
       "</table>\n",
       "</div>"
      ],
      "text/plain": [
       "        ratio    recall\n",
       "86  0.86:0.14  0.131219\n",
       "83  0.83:0.17  0.131101\n",
       "84  0.84:0.16  0.130983\n",
       "87  0.87:0.13  0.130983\n",
       "85  0.85:0.15  0.130865"
      ]
     },
     "execution_count": 162,
     "metadata": {},
     "output_type": "execute_result"
    }
   ],
   "source": [
    "recall_job_1 = pd.DataFrame(recalls_1).drop_duplicates().sort_values('recall', ascending=False)\n",
    "recall_job_1.head()"
   ]
  },
  {
   "cell_type": "code",
   "execution_count": 163,
   "id": "d3d47a53-706b-4ad3-8838-e4f8840e8114",
   "metadata": {},
   "outputs": [],
   "source": [
    "recall_job_1.to_csv(f'{RECALL_PATH}/simple_{DATA_SET}_{MODEL}.csv', index=False)"
   ]
  },
  {
   "cell_type": "markdown",
   "id": "1c473e9e-a772-4e12-8e83-f4e893c29ea2",
   "metadata": {},
   "source": [
    "##### 가중치 인기도"
   ]
  },
  {
   "cell_type": "code",
   "execution_count": 164,
   "id": "4cc44263-980c-4c1e-b056-acdf72a1501e",
   "metadata": {},
   "outputs": [],
   "source": [
    "recalls_2 = []"
   ]
  },
  {
   "cell_type": "code",
   "execution_count": 165,
   "id": "1048af02-8f3d-4065-9182-112811c1131d",
   "metadata": {},
   "outputs": [
    {
     "name": "stdout",
     "output_type": "stream",
     "text": [
      "0.00 : 1.00\n",
      "0.01 : 0.99\n",
      "0.02 : 0.98\n",
      "0.03 : 0.97\n",
      "0.04 : 0.96\n",
      "0.05 : 0.95\n",
      "0.06 : 0.94\n",
      "0.07 : 0.93\n",
      "0.08 : 0.92\n",
      "0.09 : 0.91\n",
      "0.10 : 0.90\n",
      "0.11 : 0.89\n",
      "0.12 : 0.88\n",
      "0.13 : 0.87\n",
      "0.14 : 0.86\n",
      "0.15 : 0.85\n",
      "0.16 : 0.84\n",
      "0.17 : 0.83\n",
      "0.18 : 0.82\n",
      "0.19 : 0.81\n",
      "0.20 : 0.80\n",
      "0.21 : 0.79\n",
      "0.22 : 0.78\n",
      "0.23 : 0.77\n",
      "0.24 : 0.76\n",
      "0.25 : 0.75\n",
      "0.26 : 0.74\n",
      "0.27 : 0.73\n",
      "0.28 : 0.72\n",
      "0.29 : 0.71\n",
      "0.30 : 0.70\n",
      "0.31 : 0.69\n",
      "0.32 : 0.68\n",
      "0.33 : 0.67\n",
      "0.34 : 0.66\n",
      "0.35 : 0.65\n",
      "0.36 : 0.64\n",
      "0.37 : 0.63\n",
      "0.38 : 0.62\n",
      "0.39 : 0.61\n",
      "0.40 : 0.60\n",
      "0.41 : 0.59\n",
      "0.42 : 0.58\n",
      "0.43 : 0.57\n",
      "0.44 : 0.56\n",
      "0.45 : 0.55\n",
      "0.46 : 0.54\n",
      "0.47 : 0.53\n",
      "0.48 : 0.52\n",
      "0.49 : 0.51\n",
      "0.50 : 0.50\n",
      "0.51 : 0.49\n",
      "0.52 : 0.48\n",
      "0.53 : 0.47\n",
      "0.54 : 0.46\n",
      "0.55 : 0.45\n",
      "0.56 : 0.44\n",
      "0.57 : 0.43\n",
      "0.58 : 0.42\n",
      "0.59 : 0.41\n",
      "0.60 : 0.40\n",
      "0.61 : 0.39\n",
      "0.62 : 0.38\n",
      "0.63 : 0.37\n",
      "0.64 : 0.36\n",
      "0.65 : 0.35\n",
      "0.66 : 0.34\n",
      "0.67 : 0.33\n",
      "0.68 : 0.32\n",
      "0.69 : 0.31\n",
      "0.70 : 0.30\n",
      "0.71 : 0.29\n",
      "0.72 : 0.28\n",
      "0.73 : 0.27\n",
      "0.74 : 0.26\n",
      "0.75 : 0.25\n",
      "0.76 : 0.24\n",
      "0.77 : 0.23\n",
      "0.78 : 0.22\n",
      "0.79 : 0.21\n",
      "0.80 : 0.20\n",
      "0.81 : 0.19\n",
      "0.82 : 0.18\n",
      "0.83 : 0.17\n",
      "0.84 : 0.16\n",
      "0.85 : 0.15\n",
      "0.86 : 0.14\n",
      "0.87 : 0.13\n",
      "0.88 : 0.12\n",
      "0.89 : 0.11\n",
      "0.90 : 0.10\n",
      "0.91 : 0.09\n",
      "0.92 : 0.08\n",
      "0.93 : 0.07\n",
      "0.94 : 0.06\n",
      "0.95 : 0.05\n",
      "0.96 : 0.04\n",
      "0.97 : 0.03\n",
      "0.98 : 0.02\n",
      "0.99 : 0.01\n",
      "1.00 : 0.00\n"
     ]
    }
   ],
   "source": [
    "pop_scores = create_ensemble_submission_2col(ltocf_score_pop, 'scf_score', 'sw_score', start=0, end=101, step=1)"
   ]
  },
  {
   "cell_type": "code",
   "execution_count": 166,
   "id": "90b4c3f2-3c43-4853-ab76-4d13ab6c0648",
   "metadata": {},
   "outputs": [
    {
     "name": "stderr",
     "output_type": "stream",
     "text": [
      "100%|████████████████████████████████████████████████████████████████████████████████| 101/101 [01:59<00:00,  1.18s/it]\n"
     ]
    }
   ],
   "source": [
    "for ratio, sbm in tqdm(pop_scores.items()):\n",
    "    data = {}\n",
    "    data['ratio'] = ratio\n",
    "    data['recall'] = calculate_precision_at_k_dacon(test, sbm, 5)\n",
    "    recalls_2.append(data)"
   ]
  },
  {
   "cell_type": "code",
   "execution_count": 167,
   "id": "c61e9b5f-fe32-4b79-aa36-33fa7253cba6",
   "metadata": {},
   "outputs": [
    {
     "data": {
      "text/html": [
       "<div>\n",
       "<style scoped>\n",
       "    .dataframe tbody tr th:only-of-type {\n",
       "        vertical-align: middle;\n",
       "    }\n",
       "\n",
       "    .dataframe tbody tr th {\n",
       "        vertical-align: top;\n",
       "    }\n",
       "\n",
       "    .dataframe thead th {\n",
       "        text-align: right;\n",
       "    }\n",
       "</style>\n",
       "<table border=\"1\" class=\"dataframe\">\n",
       "  <thead>\n",
       "    <tr style=\"text-align: right;\">\n",
       "      <th></th>\n",
       "      <th>ratio</th>\n",
       "      <th>recall</th>\n",
       "    </tr>\n",
       "  </thead>\n",
       "  <tbody>\n",
       "    <tr>\n",
       "      <th>86</th>\n",
       "      <td>0.86:0.14</td>\n",
       "      <td>0.131337</td>\n",
       "    </tr>\n",
       "    <tr>\n",
       "      <th>85</th>\n",
       "      <td>0.85:0.15</td>\n",
       "      <td>0.130983</td>\n",
       "    </tr>\n",
       "    <tr>\n",
       "      <th>84</th>\n",
       "      <td>0.84:0.16</td>\n",
       "      <td>0.130630</td>\n",
       "    </tr>\n",
       "    <tr>\n",
       "      <th>83</th>\n",
       "      <td>0.83:0.17</td>\n",
       "      <td>0.130512</td>\n",
       "    </tr>\n",
       "    <tr>\n",
       "      <th>96</th>\n",
       "      <td>0.96:0.04</td>\n",
       "      <td>0.130276</td>\n",
       "    </tr>\n",
       "  </tbody>\n",
       "</table>\n",
       "</div>"
      ],
      "text/plain": [
       "        ratio    recall\n",
       "86  0.86:0.14  0.131337\n",
       "85  0.85:0.15  0.130983\n",
       "84  0.84:0.16  0.130630\n",
       "83  0.83:0.17  0.130512\n",
       "96  0.96:0.04  0.130276"
      ]
     },
     "execution_count": 167,
     "metadata": {},
     "output_type": "execute_result"
    }
   ],
   "source": [
    "recall_job_2 = pd.DataFrame(recalls_2).drop_duplicates().sort_values('recall', ascending=False)\n",
    "recall_job_2.head()"
   ]
  },
  {
   "cell_type": "code",
   "execution_count": 168,
   "id": "54377909-c7a2-489f-80ae-84485f9d362f",
   "metadata": {},
   "outputs": [],
   "source": [
    "recall_job_2.to_csv(f'{RECALL_PATH}/weighted_{DATA_SET}_{MODEL}.csv', index=False)"
   ]
  }
 ],
 "metadata": {
  "kernelspec": {
   "display_name": "Python 3 (ipykernel)",
   "language": "python",
   "name": "python3"
  },
  "language_info": {
   "codemirror_mode": {
    "name": "ipython",
    "version": 3
   },
   "file_extension": ".py",
   "mimetype": "text/x-python",
   "name": "python",
   "nbconvert_exporter": "python",
   "pygments_lexer": "ipython3",
   "version": "3.9.18"
  }
 },
 "nbformat": 4,
 "nbformat_minor": 5
}

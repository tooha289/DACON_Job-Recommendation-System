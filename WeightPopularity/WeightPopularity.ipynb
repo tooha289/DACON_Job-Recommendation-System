{
 "cells": [
  {
   "cell_type": "code",
   "execution_count": 1,
   "id": "4f7c7a72-8a8e-4c52-a10b-b2c581585542",
   "metadata": {
    "tags": []
   },
   "outputs": [],
   "source": [
    "# !pip install --upgrade git+https://github.com/tooha289/DataAnalysisLibrary.git"
   ]
  },
  {
   "cell_type": "code",
   "execution_count": 2,
   "id": "12f76315-8fdc-44c4-9bf2-04502cf288f8",
   "metadata": {
    "tags": []
   },
   "outputs": [],
   "source": [
    "import numpy as np\n",
    "import pandas as pd\n",
    "import matplotlib.pyplot as plt\n",
    "import seaborn as sns\n",
    "from sklearn.model_selection import train_test_split\n",
    "from sklearn.preprocessing import MinMaxScaler, StandardScaler\n",
    "from scipy.stats import chi2_contingency\n",
    "from DataAnalysis import eda\n",
    "\n",
    "from matplotlib import font_manager\n",
    "from tqdm import tqdm"
   ]
  },
  {
   "cell_type": "code",
   "execution_count": 3,
   "id": "008b04de-1d73-4224-9c7d-d65d9468f55b",
   "metadata": {},
   "outputs": [],
   "source": [
    "pd.set_option('display.max_rows', 500)"
   ]
  },
  {
   "cell_type": "code",
   "execution_count": 4,
   "id": "41e31f1d-83a4-49e0-af10-039a392cf4ff",
   "metadata": {},
   "outputs": [],
   "source": [
    "font_path = \"C:/Windows/Fonts/malgun.ttf\"\n",
    "font_family = font_manager.FontProperties(fname=font_path).get_name()\n",
    "plt.rcParams[\"font.family\"] = font_family\n",
    "plt.rcParams[\"axes.unicode_minus\"] = False"
   ]
  },
  {
   "cell_type": "markdown",
   "id": "9a30d48f-546a-4eb7-a26e-3d1e0c9d841c",
   "metadata": {},
   "source": [
    "# 데이터 load"
   ]
  },
  {
   "cell_type": "code",
   "execution_count": 5,
   "id": "d495c001-69f7-4d27-aa6b-12c8a86b2b81",
   "metadata": {},
   "outputs": [],
   "source": [
    "resume = pd.read_csv(\"../data/resume.csv\")\n",
    "recruitment = pd.read_csv(\"../data/recruitment.csv\")\n",
    "apply = pd.read_csv(\"../data/apply_train.csv\")"
   ]
  },
  {
   "cell_type": "markdown",
   "id": "283b3636-657f-49f7-9b09-0ed351e528ea",
   "metadata": {},
   "source": [
    "# 전처리"
   ]
  },
  {
   "cell_type": "code",
   "execution_count": 6,
   "id": "0f2d8e70-7353-4279-b88e-2c72439f95fd",
   "metadata": {},
   "outputs": [],
   "source": [
    "used_cols = ['resume_seq', 'degree', 'job_code_seq1']\n",
    "resume = resume[used_cols]\n",
    "\n",
    "used_cols = ['recruitment_seq', 'address_seq1', 'education', 'major_task', 'qualifications']\n",
    "recruitment = recruitment[used_cols]"
   ]
  },
  {
   "cell_type": "markdown",
   "id": "fed2c337-d8e0-4e86-aebf-a91278717b75",
   "metadata": {},
   "source": [
    "## 타입 변경"
   ]
  },
  {
   "cell_type": "code",
   "execution_count": 7,
   "id": "bee3f1be-f8ac-47ec-ad86-bc4fa424fbd0",
   "metadata": {},
   "outputs": [],
   "source": [
    "res_categorical_cols = ['degree', 'job_code_seq1']\n",
    "rec_categorical_cols = ['address_seq1', 'education', 'major_task', 'qualifications']\n",
    "resume[res_categorical_cols] = resume[res_categorical_cols].astype('category')\n",
    "recruitment[rec_categorical_cols] = recruitment[rec_categorical_cols].astype('category')"
   ]
  },
  {
   "cell_type": "code",
   "execution_count": 8,
   "id": "656b15f8-ceee-4258-b4c2-36f18f8f5ea4",
   "metadata": {},
   "outputs": [
    {
     "name": "stdout",
     "output_type": "stream",
     "text": [
      "<class 'pandas.core.frame.DataFrame'>\n",
      "RangeIndex: 6695 entries, 0 to 6694\n",
      "Data columns (total 5 columns):\n",
      " #   Column           Non-Null Count  Dtype   \n",
      "---  ------           --------------  -----   \n",
      " 0   recruitment_seq  6695 non-null   object  \n",
      " 1   address_seq1     6694 non-null   category\n",
      " 2   education        6695 non-null   category\n",
      " 3   major_task       6695 non-null   category\n",
      " 4   qualifications   6695 non-null   category\n",
      "dtypes: category(4), object(1)\n",
      "memory usage: 79.6+ KB\n"
     ]
    }
   ],
   "source": [
    "recruitment.info()"
   ]
  },
  {
   "cell_type": "markdown",
   "id": "69589259-4157-4a4d-8db5-6d28b43aac1f",
   "metadata": {},
   "source": [
    "## address_seq1의 na값을 최빈값으로 처리"
   ]
  },
  {
   "cell_type": "code",
   "execution_count": 9,
   "id": "dc697c8a-bd07-4f7d-b2b3-2a722c25712a",
   "metadata": {},
   "outputs": [
    {
     "data": {
      "text/plain": [
       "count     6694.0\n",
       "unique       8.0\n",
       "top          3.0\n",
       "freq      6490.0\n",
       "Name: address_seq1, dtype: float64"
      ]
     },
     "execution_count": 9,
     "metadata": {},
     "output_type": "execute_result"
    }
   ],
   "source": [
    "recruitment['address_seq1'].describe()"
   ]
  },
  {
   "cell_type": "code",
   "execution_count": 10,
   "id": "cbaba2e3-06f7-48af-93f1-beac91437203",
   "metadata": {},
   "outputs": [],
   "source": [
    "recruitment = recruitment.fillna({'address_seq1':3}, axis=0)"
   ]
  },
  {
   "cell_type": "markdown",
   "id": "259455fa-ef26-4fef-9845-210eb6335bac",
   "metadata": {},
   "source": [
    "## 데이터 병합"
   ]
  },
  {
   "cell_type": "code",
   "execution_count": 11,
   "id": "98de19b0-387a-43e6-859f-bdb5d27b90ed",
   "metadata": {},
   "outputs": [
    {
     "name": "stdout",
     "output_type": "stream",
     "text": [
      "<class 'pandas.core.frame.DataFrame'>\n",
      "Int64Index: 57946 entries, 0 to 57945\n",
      "Data columns (total 4 columns):\n",
      " #   Column           Non-Null Count  Dtype   \n",
      "---  ------           --------------  -----   \n",
      " 0   resume_seq       57946 non-null  object  \n",
      " 1   degree           57946 non-null  category\n",
      " 2   job_code_seq1    57946 non-null  category\n",
      " 3   recruitment_seq  57946 non-null  object  \n",
      "dtypes: category(2), object(2)\n",
      "memory usage: 1.4+ MB\n"
     ]
    }
   ],
   "source": [
    "merged_df = resume.merge(apply, how='inner', left_on = 'resume_seq', right_on ='resume_seq')\n",
    "merged_df.info()"
   ]
  },
  {
   "cell_type": "code",
   "execution_count": 12,
   "id": "ac22da81-32ad-4cd8-b20a-22a78e9c8436",
   "metadata": {},
   "outputs": [
    {
     "name": "stdout",
     "output_type": "stream",
     "text": [
      "<class 'pandas.core.frame.DataFrame'>\n",
      "Int64Index: 57946 entries, 0 to 57945\n",
      "Data columns (total 8 columns):\n",
      " #   Column           Non-Null Count  Dtype   \n",
      "---  ------           --------------  -----   \n",
      " 0   resume_seq       57946 non-null  object  \n",
      " 1   degree           57946 non-null  category\n",
      " 2   job_code_seq1    57946 non-null  category\n",
      " 3   recruitment_seq  57946 non-null  object  \n",
      " 4   address_seq1     57946 non-null  category\n",
      " 5   education        57946 non-null  category\n",
      " 6   major_task       57946 non-null  category\n",
      " 7   qualifications   57946 non-null  category\n",
      "dtypes: category(6), object(2)\n",
      "memory usage: 1.7+ MB\n"
     ]
    }
   ],
   "source": [
    "merged_df = merged_df.merge(recruitment, how='inner', left_on = 'recruitment_seq', right_on ='recruitment_seq')\n",
    "merged_df.info()"
   ]
  },
  {
   "cell_type": "markdown",
   "id": "72d0021b-d9e2-4434-8fce-0490171845e1",
   "metadata": {},
   "source": [
    "# EDA"
   ]
  },
  {
   "cell_type": "code",
   "execution_count": 13,
   "id": "0a9a854e-8272-4839-b5d9-d8ffec21ef88",
   "metadata": {},
   "outputs": [],
   "source": [
    "dav = eda.DataAnalysisVisualizer()"
   ]
  },
  {
   "cell_type": "markdown",
   "id": "929acdb9-c2da-41c9-a929-19692dd2de5c",
   "metadata": {},
   "source": [
    "## 함수 정의"
   ]
  },
  {
   "cell_type": "code",
   "execution_count": 14,
   "id": "14cec810-3d5a-43ab-9985-d2ac2d701ca8",
   "metadata": {},
   "outputs": [],
   "source": [
    "# eda function\n",
    "%run ../functions/eda.py\n",
    "# metric function\n",
    "%run ../functions/metric.py\n",
    "# submission function\n",
    "%run ../functions/submission.py"
   ]
  },
  {
   "cell_type": "markdown",
   "id": "29ac26da-c1ac-42e0-b865-5bd97ffe0b45",
   "metadata": {},
   "source": [
    "## degree 분석"
   ]
  },
  {
   "cell_type": "code",
   "execution_count": 15,
   "id": "03c1884f-e2d6-4d77-923a-16e7bde001c8",
   "metadata": {},
   "outputs": [
    {
     "data": {
      "image/png": "[encoded data removed]",
      "text/plain": [
       "<Figure size 800x400 with 1 Axes>"
      ]
     },
     "metadata": {},
     "output_type": "display_data"
    }
   ],
   "source": [
    "dav.draw_countplot(merged_df, ['degree'], figsize=(8,4))"
   ]
  },
  {
   "cell_type": "code",
   "execution_count": 16,
   "id": "df91a2dd-d73e-4c61-94d6-5fc08efcf410",
   "metadata": {},
   "outputs": [],
   "source": [
    "# 전체 공고의 0.5% = 289.73\n",
    "limit_ratio = 0.005"
   ]
  },
  {
   "cell_type": "markdown",
   "id": "cda20f09-8987-439a-bb2b-9e450197caf6",
   "metadata": {},
   "source": [
    "### degree : address_seq1"
   ]
  },
  {
   "cell_type": "code",
   "execution_count": 17,
   "id": "50bc5675-785d-456c-81fa-8fc888acacad",
   "metadata": {},
   "outputs": [],
   "source": [
    "count_df = create_count_dataframe(merged_df, 'address_seq1', 'degree')\n",
    "ratio_df_hue, ratio_df_hue_ratio = calculate_ratio_df_with_hue(merged_df, 'address_seq1', 'degree', limit_ratio)"
   ]
  },
  {
   "cell_type": "code",
   "execution_count": 18,
   "id": "6c682330-4ec9-447b-a881-5db924d3d05a",
   "metadata": {},
   "outputs": [
    {
     "data": {
      "text/html": [
       "<div>\n",
       "<style scoped>\n",
       "    .dataframe tbody tr th:only-of-type {\n",
       "        vertical-align: middle;\n",
       "    }\n",
       "\n",
       "    .dataframe tbody tr th {\n",
       "        vertical-align: top;\n",
       "    }\n",
       "\n",
       "    .dataframe thead th {\n",
       "        text-align: right;\n",
       "    }\n",
       "</style>\n",
       "<table border=\"1\" class=\"dataframe\">\n",
       "  <thead>\n",
       "    <tr style=\"text-align: right;\">\n",
       "      <th>degree</th>\n",
       "      <th>2</th>\n",
       "      <th>3</th>\n",
       "      <th>4</th>\n",
       "      <th>5</th>\n",
       "      <th>6</th>\n",
       "      <th>Total</th>\n",
       "    </tr>\n",
       "    <tr>\n",
       "      <th>address_seq1</th>\n",
       "      <th></th>\n",
       "      <th></th>\n",
       "      <th></th>\n",
       "      <th></th>\n",
       "      <th></th>\n",
       "      <th></th>\n",
       "    </tr>\n",
       "  </thead>\n",
       "  <tbody>\n",
       "    <tr>\n",
       "      <th>1.0</th>\n",
       "      <td>3</td>\n",
       "      <td>4</td>\n",
       "      <td>20</td>\n",
       "      <td>0</td>\n",
       "      <td>0</td>\n",
       "      <td>27</td>\n",
       "    </tr>\n",
       "    <tr>\n",
       "      <th>2.0</th>\n",
       "      <td>0</td>\n",
       "      <td>2</td>\n",
       "      <td>4</td>\n",
       "      <td>0</td>\n",
       "      <td>0</td>\n",
       "      <td>6</td>\n",
       "    </tr>\n",
       "    <tr>\n",
       "      <th>3.0</th>\n",
       "      <td>1642</td>\n",
       "      <td>3420</td>\n",
       "      <td>49024</td>\n",
       "      <td>2140</td>\n",
       "      <td>50</td>\n",
       "      <td>56276</td>\n",
       "    </tr>\n",
       "    <tr>\n",
       "      <th>5.0</th>\n",
       "      <td>40</td>\n",
       "      <td>97</td>\n",
       "      <td>1283</td>\n",
       "      <td>54</td>\n",
       "      <td>1</td>\n",
       "      <td>1475</td>\n",
       "    </tr>\n",
       "    <tr>\n",
       "      <th>9.0</th>\n",
       "      <td>0</td>\n",
       "      <td>0</td>\n",
       "      <td>9</td>\n",
       "      <td>1</td>\n",
       "      <td>0</td>\n",
       "      <td>10</td>\n",
       "    </tr>\n",
       "    <tr>\n",
       "      <th>11.0</th>\n",
       "      <td>0</td>\n",
       "      <td>2</td>\n",
       "      <td>26</td>\n",
       "      <td>1</td>\n",
       "      <td>0</td>\n",
       "      <td>29</td>\n",
       "    </tr>\n",
       "    <tr>\n",
       "      <th>13.0</th>\n",
       "      <td>2</td>\n",
       "      <td>2</td>\n",
       "      <td>4</td>\n",
       "      <td>0</td>\n",
       "      <td>0</td>\n",
       "      <td>8</td>\n",
       "    </tr>\n",
       "    <tr>\n",
       "      <th>20.0</th>\n",
       "      <td>1</td>\n",
       "      <td>10</td>\n",
       "      <td>98</td>\n",
       "      <td>6</td>\n",
       "      <td>0</td>\n",
       "      <td>115</td>\n",
       "    </tr>\n",
       "    <tr>\n",
       "      <th>Total</th>\n",
       "      <td>1688</td>\n",
       "      <td>3537</td>\n",
       "      <td>50468</td>\n",
       "      <td>2202</td>\n",
       "      <td>51</td>\n",
       "      <td>57946</td>\n",
       "    </tr>\n",
       "  </tbody>\n",
       "</table>\n",
       "</div>"
      ],
      "text/plain": [
       "degree           2     3      4     5   6  Total\n",
       "address_seq1                                    \n",
       "1.0              3     4     20     0   0     27\n",
       "2.0              0     2      4     0   0      6\n",
       "3.0           1642  3420  49024  2140  50  56276\n",
       "5.0             40    97   1283    54   1   1475\n",
       "9.0              0     0      9     1   0     10\n",
       "11.0             0     2     26     1   0     29\n",
       "13.0             2     2      4     0   0      8\n",
       "20.0             1    10     98     6   0    115\n",
       "Total         1688  3537  50468  2202  51  57946"
      ]
     },
     "execution_count": 18,
     "metadata": {},
     "output_type": "execute_result"
    }
   ],
   "source": [
    "count_df"
   ]
  },
  {
   "cell_type": "code",
   "execution_count": 19,
   "id": "288a5c6f-e78f-45ef-814e-eda0a7d63bd4",
   "metadata": {},
   "outputs": [
    {
     "name": "stdout",
     "output_type": "stream",
     "text": [
      "Chi-square Statistic: 46.29709478575211\n",
      "P-value: 0.016233436442202005\n",
      "Degrees of Freedom: 28\n",
      "Expected Frequencies:\n",
      "degree                  2            3             4            5          6\n",
      "address_seq1                                                                \n",
      "1.0              0.786525     1.648069     23.515618     1.026024   0.023764\n",
      "2.0              0.174783     0.366238      5.225693     0.228005   0.005281\n",
      "3.0           1639.351948  3435.063887  49013.515480  2138.538501  49.530183\n",
      "5.0             42.967591    90.033393   1284.649501    56.051324   1.298191\n",
      "9.0              0.291306     0.610396      8.709488     0.380009   0.008801\n",
      "11.0             0.844787     1.770148     25.257516     1.102026   0.025524\n",
      "13.0             0.233045     0.488317      6.967591     0.304007   0.007041\n",
      "20.0             3.350016     7.019553    100.159114     4.370103   0.101215\n"
     ]
    }
   ],
   "source": [
    "analyze_chi_square(count_df);"
   ]
  },
  {
   "cell_type": "code",
   "execution_count": 20,
   "id": "77941372-b68f-4908-93f7-4ac0acaf8057",
   "metadata": {},
   "outputs": [
    {
     "data": {
      "text/html": [
       "<div>\n",
       "<style scoped>\n",
       "    .dataframe tbody tr th:only-of-type {\n",
       "        vertical-align: middle;\n",
       "    }\n",
       "\n",
       "    .dataframe tbody tr th {\n",
       "        vertical-align: top;\n",
       "    }\n",
       "\n",
       "    .dataframe thead th {\n",
       "        text-align: right;\n",
       "    }\n",
       "</style>\n",
       "<table border=\"1\" class=\"dataframe\">\n",
       "  <thead>\n",
       "    <tr style=\"text-align: right;\">\n",
       "      <th>degree</th>\n",
       "      <th>2</th>\n",
       "      <th>3</th>\n",
       "      <th>4</th>\n",
       "      <th>5</th>\n",
       "      <th>Total</th>\n",
       "    </tr>\n",
       "    <tr>\n",
       "      <th>address_seq1</th>\n",
       "      <th></th>\n",
       "      <th></th>\n",
       "      <th></th>\n",
       "      <th></th>\n",
       "      <th></th>\n",
       "    </tr>\n",
       "  </thead>\n",
       "  <tbody>\n",
       "    <tr>\n",
       "      <th>3.0</th>\n",
       "      <td>0.972749</td>\n",
       "      <td>0.966921</td>\n",
       "      <td>0.971388</td>\n",
       "      <td>0.971844</td>\n",
       "      <td>0.971180</td>\n",
       "    </tr>\n",
       "    <tr>\n",
       "      <th>5.0</th>\n",
       "      <td>0.023697</td>\n",
       "      <td>0.027424</td>\n",
       "      <td>0.025422</td>\n",
       "      <td>0.024523</td>\n",
       "      <td>0.025455</td>\n",
       "    </tr>\n",
       "    <tr>\n",
       "      <th>Total</th>\n",
       "      <td>1688.000000</td>\n",
       "      <td>3537.000000</td>\n",
       "      <td>50468.000000</td>\n",
       "      <td>2202.000000</td>\n",
       "      <td>57946.000000</td>\n",
       "    </tr>\n",
       "  </tbody>\n",
       "</table>\n",
       "</div>"
      ],
      "text/plain": [
       "degree                  2            3             4            5  \\\n",
       "address_seq1                                                        \n",
       "3.0              0.972749     0.966921      0.971388     0.971844   \n",
       "5.0              0.023697     0.027424      0.025422     0.024523   \n",
       "Total         1688.000000  3537.000000  50468.000000  2202.000000   \n",
       "\n",
       "degree               Total  \n",
       "address_seq1                \n",
       "3.0               0.971180  \n",
       "5.0               0.025455  \n",
       "Total         57946.000000  "
      ]
     },
     "execution_count": 20,
     "metadata": {},
     "output_type": "execute_result"
    }
   ],
   "source": [
    "ratio_df_hue"
   ]
  },
  {
   "cell_type": "code",
   "execution_count": 21,
   "id": "55625af4-6cdc-431c-a0fc-5bbd5cbafbb2",
   "metadata": {},
   "outputs": [
    {
     "data": {
      "text/html": [
       "<div>\n",
       "<style scoped>\n",
       "    .dataframe tbody tr th:only-of-type {\n",
       "        vertical-align: middle;\n",
       "    }\n",
       "\n",
       "    .dataframe tbody tr th {\n",
       "        vertical-align: top;\n",
       "    }\n",
       "\n",
       "    .dataframe thead th {\n",
       "        text-align: right;\n",
       "    }\n",
       "</style>\n",
       "<table border=\"1\" class=\"dataframe\">\n",
       "  <thead>\n",
       "    <tr style=\"text-align: right;\">\n",
       "      <th>degree</th>\n",
       "      <th>2</th>\n",
       "      <th>3</th>\n",
       "      <th>4</th>\n",
       "      <th>5</th>\n",
       "      <th>Total</th>\n",
       "    </tr>\n",
       "    <tr>\n",
       "      <th>address_seq1</th>\n",
       "      <th></th>\n",
       "      <th></th>\n",
       "      <th></th>\n",
       "      <th></th>\n",
       "      <th></th>\n",
       "    </tr>\n",
       "  </thead>\n",
       "  <tbody>\n",
       "    <tr>\n",
       "      <th>3.0</th>\n",
       "      <td>1.001615</td>\n",
       "      <td>0.995615</td>\n",
       "      <td>1.000214</td>\n",
       "      <td>1.000683</td>\n",
       "      <td>0.971180</td>\n",
       "    </tr>\n",
       "    <tr>\n",
       "      <th>5.0</th>\n",
       "      <td>0.930934</td>\n",
       "      <td>1.077378</td>\n",
       "      <td>0.998716</td>\n",
       "      <td>0.963403</td>\n",
       "      <td>0.025455</td>\n",
       "    </tr>\n",
       "    <tr>\n",
       "      <th>Total</th>\n",
       "      <td>1688.000000</td>\n",
       "      <td>3537.000000</td>\n",
       "      <td>50468.000000</td>\n",
       "      <td>2202.000000</td>\n",
       "      <td>57946.000000</td>\n",
       "    </tr>\n",
       "  </tbody>\n",
       "</table>\n",
       "</div>"
      ],
      "text/plain": [
       "degree                  2            3             4            5  \\\n",
       "address_seq1                                                        \n",
       "3.0              1.001615     0.995615      1.000214     1.000683   \n",
       "5.0              0.930934     1.077378      0.998716     0.963403   \n",
       "Total         1688.000000  3537.000000  50468.000000  2202.000000   \n",
       "\n",
       "degree               Total  \n",
       "address_seq1                \n",
       "3.0               0.971180  \n",
       "5.0               0.025455  \n",
       "Total         57946.000000  "
      ]
     },
     "execution_count": 21,
     "metadata": {},
     "output_type": "execute_result"
    }
   ],
   "source": [
    "ratio_df_hue_ratio"
   ]
  },
  {
   "cell_type": "code",
   "execution_count": 22,
   "id": "9cb53ac2-92ab-460c-b1fc-e9fbf077b266",
   "metadata": {},
   "outputs": [
    {
     "data": {
      "image/png": "[encoded data removed]",
      "text/plain": [
       "<Figure size 640x480 with 2 Axes>"
      ]
     },
     "metadata": {},
     "output_type": "display_data"
    }
   ],
   "source": [
    "sns.heatmap(ratio_df_hue_ratio.iloc[:-1, :-1], cmap=\"Blues\", annot=True, fmt=\".3f\")\n",
    "plt.yticks(rotation=0)  # Adjust the rotation angle here (0 for horizontal, 90 for vertical)\n",
    "plt.show()"
   ]
  },
  {
   "cell_type": "markdown",
   "id": "00c4497b-a922-4cca-a69b-05ca3700679d",
   "metadata": {},
   "source": [
    "### degree : education"
   ]
  },
  {
   "cell_type": "code",
   "execution_count": 23,
   "id": "3ebd5c70-f60b-4eeb-a1c9-aed9a9329b9b",
   "metadata": {},
   "outputs": [],
   "source": [
    "count_df = create_count_dataframe(merged_df, 'education', 'degree')\n",
    "ratio_df_hue, ratio_df_hue_ratio = calculate_ratio_df_with_hue(merged_df, 'education', 'degree', limit_ratio)"
   ]
  },
  {
   "cell_type": "code",
   "execution_count": 24,
   "id": "cfe7b127-7486-484a-8448-0bc822d75722",
   "metadata": {},
   "outputs": [
    {
     "data": {
      "text/html": [
       "<div>\n",
       "<style scoped>\n",
       "    .dataframe tbody tr th:only-of-type {\n",
       "        vertical-align: middle;\n",
       "    }\n",
       "\n",
       "    .dataframe tbody tr th {\n",
       "        vertical-align: top;\n",
       "    }\n",
       "\n",
       "    .dataframe thead th {\n",
       "        text-align: right;\n",
       "    }\n",
       "</style>\n",
       "<table border=\"1\" class=\"dataframe\">\n",
       "  <thead>\n",
       "    <tr style=\"text-align: right;\">\n",
       "      <th>degree</th>\n",
       "      <th>2</th>\n",
       "      <th>3</th>\n",
       "      <th>4</th>\n",
       "      <th>5</th>\n",
       "      <th>6</th>\n",
       "      <th>Total</th>\n",
       "    </tr>\n",
       "    <tr>\n",
       "      <th>education</th>\n",
       "      <th></th>\n",
       "      <th></th>\n",
       "      <th></th>\n",
       "      <th></th>\n",
       "      <th></th>\n",
       "      <th></th>\n",
       "    </tr>\n",
       "  </thead>\n",
       "  <tbody>\n",
       "    <tr>\n",
       "      <th>2</th>\n",
       "      <td>516</td>\n",
       "      <td>1021</td>\n",
       "      <td>12633</td>\n",
       "      <td>525</td>\n",
       "      <td>17</td>\n",
       "      <td>14712</td>\n",
       "    </tr>\n",
       "    <tr>\n",
       "      <th>3</th>\n",
       "      <td>727</td>\n",
       "      <td>1602</td>\n",
       "      <td>20912</td>\n",
       "      <td>844</td>\n",
       "      <td>19</td>\n",
       "      <td>24104</td>\n",
       "    </tr>\n",
       "    <tr>\n",
       "      <th>4</th>\n",
       "      <td>445</td>\n",
       "      <td>913</td>\n",
       "      <td>16914</td>\n",
       "      <td>832</td>\n",
       "      <td>15</td>\n",
       "      <td>19119</td>\n",
       "    </tr>\n",
       "    <tr>\n",
       "      <th>6</th>\n",
       "      <td>0</td>\n",
       "      <td>1</td>\n",
       "      <td>9</td>\n",
       "      <td>1</td>\n",
       "      <td>0</td>\n",
       "      <td>11</td>\n",
       "    </tr>\n",
       "    <tr>\n",
       "      <th>Total</th>\n",
       "      <td>1688</td>\n",
       "      <td>3537</td>\n",
       "      <td>50468</td>\n",
       "      <td>2202</td>\n",
       "      <td>51</td>\n",
       "      <td>57946</td>\n",
       "    </tr>\n",
       "  </tbody>\n",
       "</table>\n",
       "</div>"
      ],
      "text/plain": [
       "degree        2     3      4     5   6  Total\n",
       "education                                    \n",
       "2           516  1021  12633   525  17  14712\n",
       "3           727  1602  20912   844  19  24104\n",
       "4           445   913  16914   832  15  19119\n",
       "6             0     1      9     1   0     11\n",
       "Total      1688  3537  50468  2202  51  57946"
      ]
     },
     "execution_count": 24,
     "metadata": {},
     "output_type": "execute_result"
    }
   ],
   "source": [
    "count_df"
   ]
  },
  {
   "cell_type": "code",
   "execution_count": 25,
   "id": "509f544c-cdeb-4131-bdb3-d45249772240",
   "metadata": {},
   "outputs": [
    {
     "name": "stdout",
     "output_type": "stream",
     "text": [
      "Chi-square Statistic: 158.02168472019153\n",
      "P-value: 1.3282670667903588e-27\n",
      "Degrees of Freedom: 12\n",
      "Expected Frequencies:\n",
      "degree              2            3             4           5          6\n",
      "education                                                              \n",
      "2          428.568943   898.014427  12813.398958  559.069202  12.948469\n",
      "3          702.163255  1471.298243  20993.350223  915.973631  21.214648\n",
      "4          556.947365  1167.015894  16651.670383  726.539157  16.827201\n",
      "6            0.320436     0.671435      9.580437    0.418010   0.009681\n"
     ]
    }
   ],
   "source": [
    "analyze_chi_square(count_df);"
   ]
  },
  {
   "cell_type": "code",
   "execution_count": 26,
   "id": "7c79b6bd-d3d4-4267-91cd-55713f2ae6b5",
   "metadata": {},
   "outputs": [
    {
     "data": {
      "text/html": [
       "<div>\n",
       "<style scoped>\n",
       "    .dataframe tbody tr th:only-of-type {\n",
       "        vertical-align: middle;\n",
       "    }\n",
       "\n",
       "    .dataframe tbody tr th {\n",
       "        vertical-align: top;\n",
       "    }\n",
       "\n",
       "    .dataframe thead th {\n",
       "        text-align: right;\n",
       "    }\n",
       "</style>\n",
       "<table border=\"1\" class=\"dataframe\">\n",
       "  <thead>\n",
       "    <tr style=\"text-align: right;\">\n",
       "      <th>degree</th>\n",
       "      <th>2</th>\n",
       "      <th>3</th>\n",
       "      <th>4</th>\n",
       "      <th>5</th>\n",
       "      <th>Total</th>\n",
       "    </tr>\n",
       "    <tr>\n",
       "      <th>education</th>\n",
       "      <th></th>\n",
       "      <th></th>\n",
       "      <th></th>\n",
       "      <th></th>\n",
       "      <th></th>\n",
       "    </tr>\n",
       "  </thead>\n",
       "  <tbody>\n",
       "    <tr>\n",
       "      <th>2</th>\n",
       "      <td>1.204007</td>\n",
       "      <td>1.136953</td>\n",
       "      <td>0.985921</td>\n",
       "      <td>0.939061</td>\n",
       "      <td>0.253892</td>\n",
       "    </tr>\n",
       "    <tr>\n",
       "      <th>3</th>\n",
       "      <td>1.035372</td>\n",
       "      <td>1.088834</td>\n",
       "      <td>0.996125</td>\n",
       "      <td>0.921424</td>\n",
       "      <td>0.415973</td>\n",
       "    </tr>\n",
       "    <tr>\n",
       "      <th>4</th>\n",
       "      <td>0.798998</td>\n",
       "      <td>0.782337</td>\n",
       "      <td>1.015754</td>\n",
       "      <td>1.145155</td>\n",
       "      <td>0.329945</td>\n",
       "    </tr>\n",
       "    <tr>\n",
       "      <th>Total</th>\n",
       "      <td>1688.000000</td>\n",
       "      <td>3537.000000</td>\n",
       "      <td>50468.000000</td>\n",
       "      <td>2202.000000</td>\n",
       "      <td>57946.000000</td>\n",
       "    </tr>\n",
       "  </tbody>\n",
       "</table>\n",
       "</div>"
      ],
      "text/plain": [
       "degree               2            3             4            5         Total\n",
       "education                                                                   \n",
       "2             1.204007     1.136953      0.985921     0.939061      0.253892\n",
       "3             1.035372     1.088834      0.996125     0.921424      0.415973\n",
       "4             0.798998     0.782337      1.015754     1.145155      0.329945\n",
       "Total      1688.000000  3537.000000  50468.000000  2202.000000  57946.000000"
      ]
     },
     "execution_count": 26,
     "metadata": {},
     "output_type": "execute_result"
    }
   ],
   "source": [
    "ratio_df_hue_ratio"
   ]
  },
  {
   "cell_type": "code",
   "execution_count": 27,
   "id": "cfb92a7d-9993-44a6-a6a9-e020cf60e18d",
   "metadata": {},
   "outputs": [
    {
     "data": {
      "image/png": "[encoded data removed]",
      "text/plain": [
       "<Figure size 640x480 with 2 Axes>"
      ]
     },
     "metadata": {},
     "output_type": "display_data"
    }
   ],
   "source": [
    "sns.heatmap(ratio_df_hue_ratio.iloc[:-1, :-1], cmap=\"Blues\", annot=True, fmt=\".3f\")\n",
    "plt.yticks(rotation=0)  # Adjust the rotation angle here (0 for horizontal, 90 for vertical)\n",
    "plt.show()"
   ]
  },
  {
   "cell_type": "markdown",
   "id": "2620d2ff-89da-43cc-b17e-d053d00cef5a",
   "metadata": {},
   "source": [
    "### degree : major_task"
   ]
  },
  {
   "cell_type": "code",
   "execution_count": 28,
   "id": "ff6d2949-b45a-4317-a8cf-905ab92163a6",
   "metadata": {},
   "outputs": [],
   "source": [
    "count_df = create_count_dataframe(merged_df, 'major_task', 'degree')\n",
    "ratio_df_hue, ratio_df_hue_ratio = calculate_ratio_df_with_hue(merged_df, 'major_task', 'degree', limit_ratio)"
   ]
  },
  {
   "cell_type": "code",
   "execution_count": 29,
   "id": "2f6f6b22-f3fa-4f97-9cc0-a69ba3fec388",
   "metadata": {},
   "outputs": [
    {
     "data": {
      "text/html": [
       "<div>\n",
       "<style scoped>\n",
       "    .dataframe tbody tr th:only-of-type {\n",
       "        vertical-align: middle;\n",
       "    }\n",
       "\n",
       "    .dataframe tbody tr th {\n",
       "        vertical-align: top;\n",
       "    }\n",
       "\n",
       "    .dataframe thead th {\n",
       "        text-align: right;\n",
       "    }\n",
       "</style>\n",
       "<table border=\"1\" class=\"dataframe\">\n",
       "  <thead>\n",
       "    <tr style=\"text-align: right;\">\n",
       "      <th>degree</th>\n",
       "      <th>2</th>\n",
       "      <th>3</th>\n",
       "      <th>4</th>\n",
       "      <th>5</th>\n",
       "      <th>6</th>\n",
       "      <th>Total</th>\n",
       "    </tr>\n",
       "    <tr>\n",
       "      <th>major_task</th>\n",
       "      <th></th>\n",
       "      <th></th>\n",
       "      <th></th>\n",
       "      <th></th>\n",
       "      <th></th>\n",
       "      <th></th>\n",
       "    </tr>\n",
       "  </thead>\n",
       "  <tbody>\n",
       "    <tr>\n",
       "      <th>1</th>\n",
       "      <td>7</td>\n",
       "      <td>12</td>\n",
       "      <td>223</td>\n",
       "      <td>6</td>\n",
       "      <td>0</td>\n",
       "      <td>248</td>\n",
       "    </tr>\n",
       "    <tr>\n",
       "      <th>2</th>\n",
       "      <td>1635</td>\n",
       "      <td>3381</td>\n",
       "      <td>47787</td>\n",
       "      <td>2100</td>\n",
       "      <td>51</td>\n",
       "      <td>54954</td>\n",
       "    </tr>\n",
       "    <tr>\n",
       "      <th>6</th>\n",
       "      <td>0</td>\n",
       "      <td>0</td>\n",
       "      <td>5</td>\n",
       "      <td>0</td>\n",
       "      <td>0</td>\n",
       "      <td>5</td>\n",
       "    </tr>\n",
       "    <tr>\n",
       "      <th>7</th>\n",
       "      <td>27</td>\n",
       "      <td>54</td>\n",
       "      <td>688</td>\n",
       "      <td>28</td>\n",
       "      <td>0</td>\n",
       "      <td>797</td>\n",
       "    </tr>\n",
       "    <tr>\n",
       "      <th>8</th>\n",
       "      <td>19</td>\n",
       "      <td>90</td>\n",
       "      <td>1734</td>\n",
       "      <td>63</td>\n",
       "      <td>0</td>\n",
       "      <td>1906</td>\n",
       "    </tr>\n",
       "    <tr>\n",
       "      <th>9</th>\n",
       "      <td>0</td>\n",
       "      <td>0</td>\n",
       "      <td>17</td>\n",
       "      <td>4</td>\n",
       "      <td>0</td>\n",
       "      <td>21</td>\n",
       "    </tr>\n",
       "    <tr>\n",
       "      <th>10</th>\n",
       "      <td>0</td>\n",
       "      <td>0</td>\n",
       "      <td>14</td>\n",
       "      <td>1</td>\n",
       "      <td>0</td>\n",
       "      <td>15</td>\n",
       "    </tr>\n",
       "    <tr>\n",
       "      <th>Total</th>\n",
       "      <td>1688</td>\n",
       "      <td>3537</td>\n",
       "      <td>50468</td>\n",
       "      <td>2202</td>\n",
       "      <td>51</td>\n",
       "      <td>57946</td>\n",
       "    </tr>\n",
       "  </tbody>\n",
       "</table>\n",
       "</div>"
      ],
      "text/plain": [
       "degree         2     3      4     5   6  Total\n",
       "major_task                                    \n",
       "1              7    12    223     6   0    248\n",
       "2           1635  3381  47787  2100  51  54954\n",
       "6              0     0      5     0   0      5\n",
       "7             27    54    688    28   0    797\n",
       "8             19    90   1734    63   0   1906\n",
       "9              0     0     17     4   0     21\n",
       "10             0     0     14     1   0     15\n",
       "Total       1688  3537  50468  2202  51  57946"
      ]
     },
     "execution_count": 29,
     "metadata": {},
     "output_type": "execute_result"
    }
   ],
   "source": [
    "count_df"
   ]
  },
  {
   "cell_type": "code",
   "execution_count": 30,
   "id": "8c471afc-9655-47b7-92d7-c9261a3c56b3",
   "metadata": {},
   "outputs": [
    {
     "name": "stdout",
     "output_type": "stream",
     "text": [
      "Chi-square Statistic: 59.28658314836975\n",
      "P-value: 8.049267702754641e-05\n",
      "Degrees of Freedom: 24\n",
      "Expected Frequencies:\n",
      "degree                2            3             4            5          6\n",
      "major_task                                                                \n",
      "1              7.224381    15.137818    215.995306     9.424223   0.218272\n",
      "2           1600.841335  3354.369551  47862.121147  2088.301315  48.366652\n",
      "6              0.145653     0.305198      4.354744     0.190004   0.004401\n",
      "7             23.217064    48.648552    694.146205    30.286715   0.701463\n",
      "8             55.522866   116.341456   1660.028440    72.429710   1.677527\n",
      "9              0.611742     1.281831     18.289925     0.798019   0.018483\n",
      "10             0.436959     0.915594     13.064232     0.570013   0.013202\n"
     ]
    }
   ],
   "source": [
    "analyze_chi_square(count_df);"
   ]
  },
  {
   "cell_type": "code",
   "execution_count": 31,
   "id": "b639a4a7-1445-4878-9a57-5db58cdf2690",
   "metadata": {},
   "outputs": [
    {
     "data": {
      "text/html": [
       "<div>\n",
       "<style scoped>\n",
       "    .dataframe tbody tr th:only-of-type {\n",
       "        vertical-align: middle;\n",
       "    }\n",
       "\n",
       "    .dataframe tbody tr th {\n",
       "        vertical-align: top;\n",
       "    }\n",
       "\n",
       "    .dataframe thead th {\n",
       "        text-align: right;\n",
       "    }\n",
       "</style>\n",
       "<table border=\"1\" class=\"dataframe\">\n",
       "  <thead>\n",
       "    <tr style=\"text-align: right;\">\n",
       "      <th>degree</th>\n",
       "      <th>2</th>\n",
       "      <th>3</th>\n",
       "      <th>4</th>\n",
       "      <th>5</th>\n",
       "      <th>Total</th>\n",
       "    </tr>\n",
       "    <tr>\n",
       "      <th>major_task</th>\n",
       "      <th></th>\n",
       "      <th></th>\n",
       "      <th></th>\n",
       "      <th></th>\n",
       "      <th></th>\n",
       "    </tr>\n",
       "  </thead>\n",
       "  <tbody>\n",
       "    <tr>\n",
       "      <th>2</th>\n",
       "      <td>1.021338</td>\n",
       "      <td>1.007939</td>\n",
       "      <td>0.998430</td>\n",
       "      <td>1.005602</td>\n",
       "      <td>0.948366</td>\n",
       "    </tr>\n",
       "    <tr>\n",
       "      <th>7</th>\n",
       "      <td>1.162938</td>\n",
       "      <td>1.110002</td>\n",
       "      <td>0.991146</td>\n",
       "      <td>0.924498</td>\n",
       "      <td>0.013754</td>\n",
       "    </tr>\n",
       "    <tr>\n",
       "      <th>8</th>\n",
       "      <td>0.342201</td>\n",
       "      <td>0.773585</td>\n",
       "      <td>1.044560</td>\n",
       "      <td>0.869809</td>\n",
       "      <td>0.032893</td>\n",
       "    </tr>\n",
       "    <tr>\n",
       "      <th>Total</th>\n",
       "      <td>1688.000000</td>\n",
       "      <td>3537.000000</td>\n",
       "      <td>50468.000000</td>\n",
       "      <td>2202.000000</td>\n",
       "      <td>57946.000000</td>\n",
       "    </tr>\n",
       "  </tbody>\n",
       "</table>\n",
       "</div>"
      ],
      "text/plain": [
       "degree                2            3             4            5         Total\n",
       "major_task                                                                   \n",
       "2              1.021338     1.007939      0.998430     1.005602      0.948366\n",
       "7              1.162938     1.110002      0.991146     0.924498      0.013754\n",
       "8              0.342201     0.773585      1.044560     0.869809      0.032893\n",
       "Total       1688.000000  3537.000000  50468.000000  2202.000000  57946.000000"
      ]
     },
     "execution_count": 31,
     "metadata": {},
     "output_type": "execute_result"
    }
   ],
   "source": [
    "ratio_df_hue_ratio"
   ]
  },
  {
   "cell_type": "code",
   "execution_count": 32,
   "id": "c22b3753-0ae5-4701-b012-1d81903397fc",
   "metadata": {},
   "outputs": [
    {
     "data": {
      "image/png": "[encoded data removed]",
      "text/plain": [
       "<Figure size 640x480 with 2 Axes>"
      ]
     },
     "metadata": {},
     "output_type": "display_data"
    }
   ],
   "source": [
    "sns.heatmap(ratio_df_hue_ratio.iloc[:-1, :-1], cmap=\"Blues\", annot=True, fmt=\".3f\")\n",
    "plt.yticks(rotation=0)  # Adjust the rotation angle here (0 for horizontal, 90 for vertical)\n",
    "plt.show()"
   ]
  },
  {
   "cell_type": "markdown",
   "id": "d113a2c5-3543-487f-be1d-b82416a40ede",
   "metadata": {},
   "source": [
    "### degree : qualifications"
   ]
  },
  {
   "cell_type": "code",
   "execution_count": 33,
   "id": "de42375f-74d0-4339-8f4c-7a0817bc4429",
   "metadata": {},
   "outputs": [],
   "source": [
    "count_df = create_count_dataframe(merged_df, 'qualifications', 'degree')\n",
    "ratio_df_hue, ratio_df_hue_ratio = calculate_ratio_df_with_hue(merged_df, 'qualifications', 'degree', limit_ratio)"
   ]
  },
  {
   "cell_type": "code",
   "execution_count": 34,
   "id": "9936adae-814f-4ddf-a8f5-b939f5e8629e",
   "metadata": {},
   "outputs": [
    {
     "data": {
      "text/html": [
       "<div>\n",
       "<style scoped>\n",
       "    .dataframe tbody tr th:only-of-type {\n",
       "        vertical-align: middle;\n",
       "    }\n",
       "\n",
       "    .dataframe tbody tr th {\n",
       "        vertical-align: top;\n",
       "    }\n",
       "\n",
       "    .dataframe thead th {\n",
       "        text-align: right;\n",
       "    }\n",
       "</style>\n",
       "<table border=\"1\" class=\"dataframe\">\n",
       "  <thead>\n",
       "    <tr style=\"text-align: right;\">\n",
       "      <th>degree</th>\n",
       "      <th>2</th>\n",
       "      <th>3</th>\n",
       "      <th>4</th>\n",
       "      <th>5</th>\n",
       "      <th>6</th>\n",
       "      <th>Total</th>\n",
       "    </tr>\n",
       "    <tr>\n",
       "      <th>qualifications</th>\n",
       "      <th></th>\n",
       "      <th></th>\n",
       "      <th></th>\n",
       "      <th></th>\n",
       "      <th></th>\n",
       "      <th></th>\n",
       "    </tr>\n",
       "  </thead>\n",
       "  <tbody>\n",
       "    <tr>\n",
       "      <th>0</th>\n",
       "      <td>7</td>\n",
       "      <td>27</td>\n",
       "      <td>355</td>\n",
       "      <td>21</td>\n",
       "      <td>1</td>\n",
       "      <td>411</td>\n",
       "    </tr>\n",
       "    <tr>\n",
       "      <th>1</th>\n",
       "      <td>1211</td>\n",
       "      <td>2346</td>\n",
       "      <td>32768</td>\n",
       "      <td>1450</td>\n",
       "      <td>36</td>\n",
       "      <td>37811</td>\n",
       "    </tr>\n",
       "    <tr>\n",
       "      <th>2</th>\n",
       "      <td>470</td>\n",
       "      <td>1164</td>\n",
       "      <td>17345</td>\n",
       "      <td>731</td>\n",
       "      <td>14</td>\n",
       "      <td>19724</td>\n",
       "    </tr>\n",
       "    <tr>\n",
       "      <th>Total</th>\n",
       "      <td>1688</td>\n",
       "      <td>3537</td>\n",
       "      <td>50468</td>\n",
       "      <td>2202</td>\n",
       "      <td>51</td>\n",
       "      <td>57946</td>\n",
       "    </tr>\n",
       "  </tbody>\n",
       "</table>\n",
       "</div>"
      ],
      "text/plain": [
       "degree             2     3      4     5   6  Total\n",
       "qualifications                                    \n",
       "0                  7    27    355    21   1    411\n",
       "1               1211  2346  32768  1450  36  37811\n",
       "2                470  1164  17345   731  14  19724\n",
       "Total           1688  3537  50468  2202  51  57946"
      ]
     },
     "execution_count": 34,
     "metadata": {},
     "output_type": "execute_result"
    }
   ],
   "source": [
    "count_df"
   ]
  },
  {
   "cell_type": "code",
   "execution_count": 35,
   "id": "f882dcdf-e11f-45c2-abc8-fc1e31dbf836",
   "metadata": {},
   "outputs": [
    {
     "name": "stdout",
     "output_type": "stream",
     "text": [
      "Chi-square Statistic: 40.96895741291627\n",
      "P-value: 2.112650548542249e-06\n",
      "Degrees of Freedom: 8\n",
      "Expected Frequencies:\n",
      "degree                    2            3             4            5          6\n",
      "qualifications                                                                \n",
      "0                 11.972664    25.087271    357.959963    15.618369   0.361733\n",
      "1               1101.455976  2307.967884  32931.445622  1436.851931  33.278587\n",
      "2                574.571360  1203.944845  17178.594415   749.529700  17.359680\n"
     ]
    }
   ],
   "source": [
    "analyze_chi_square(count_df);"
   ]
  },
  {
   "cell_type": "code",
   "execution_count": 36,
   "id": "15ceeff7-aa39-459f-b0c5-1ece79fdde76",
   "metadata": {},
   "outputs": [
    {
     "data": {
      "text/html": [
       "<div>\n",
       "<style scoped>\n",
       "    .dataframe tbody tr th:only-of-type {\n",
       "        vertical-align: middle;\n",
       "    }\n",
       "\n",
       "    .dataframe tbody tr th {\n",
       "        vertical-align: top;\n",
       "    }\n",
       "\n",
       "    .dataframe thead th {\n",
       "        text-align: right;\n",
       "    }\n",
       "</style>\n",
       "<table border=\"1\" class=\"dataframe\">\n",
       "  <thead>\n",
       "    <tr style=\"text-align: right;\">\n",
       "      <th>degree</th>\n",
       "      <th>2</th>\n",
       "      <th>3</th>\n",
       "      <th>4</th>\n",
       "      <th>5</th>\n",
       "      <th>Total</th>\n",
       "    </tr>\n",
       "    <tr>\n",
       "      <th>qualifications</th>\n",
       "      <th></th>\n",
       "      <th></th>\n",
       "      <th></th>\n",
       "      <th></th>\n",
       "      <th></th>\n",
       "    </tr>\n",
       "  </thead>\n",
       "  <tbody>\n",
       "    <tr>\n",
       "      <th>0</th>\n",
       "      <td>0.584665</td>\n",
       "      <td>1.076243</td>\n",
       "      <td>0.991731</td>\n",
       "      <td>1.344571</td>\n",
       "      <td>0.007093</td>\n",
       "    </tr>\n",
       "    <tr>\n",
       "      <th>1</th>\n",
       "      <td>1.099454</td>\n",
       "      <td>1.016479</td>\n",
       "      <td>0.995037</td>\n",
       "      <td>1.009151</td>\n",
       "      <td>0.652521</td>\n",
       "    </tr>\n",
       "    <tr>\n",
       "      <th>2</th>\n",
       "      <td>0.818001</td>\n",
       "      <td>0.966822</td>\n",
       "      <td>1.009687</td>\n",
       "      <td>0.975278</td>\n",
       "      <td>0.340386</td>\n",
       "    </tr>\n",
       "    <tr>\n",
       "      <th>Total</th>\n",
       "      <td>1688.000000</td>\n",
       "      <td>3537.000000</td>\n",
       "      <td>50468.000000</td>\n",
       "      <td>2202.000000</td>\n",
       "      <td>57946.000000</td>\n",
       "    </tr>\n",
       "  </tbody>\n",
       "</table>\n",
       "</div>"
      ],
      "text/plain": [
       "degree                    2            3             4            5  \\\n",
       "qualifications                                                        \n",
       "0                  0.584665     1.076243      0.991731     1.344571   \n",
       "1                  1.099454     1.016479      0.995037     1.009151   \n",
       "2                  0.818001     0.966822      1.009687     0.975278   \n",
       "Total           1688.000000  3537.000000  50468.000000  2202.000000   \n",
       "\n",
       "degree                 Total  \n",
       "qualifications                \n",
       "0                   0.007093  \n",
       "1                   0.652521  \n",
       "2                   0.340386  \n",
       "Total           57946.000000  "
      ]
     },
     "execution_count": 36,
     "metadata": {},
     "output_type": "execute_result"
    }
   ],
   "source": [
    "ratio_df_hue_ratio"
   ]
  },
  {
   "cell_type": "code",
   "execution_count": 37,
   "id": "e931af33-6d77-4fbd-9f85-33bf4b0eb548",
   "metadata": {},
   "outputs": [
    {
     "data": {
      "image/png": "[encoded data removed]",
      "text/plain": [
       "<Figure size 640x480 with 2 Axes>"
      ]
     },
     "metadata": {},
     "output_type": "display_data"
    }
   ],
   "source": [
    "sns.heatmap(ratio_df_hue_ratio.iloc[:-1, :-1], cmap=\"Blues\", annot=True, fmt=\".3f\")\n",
    "plt.yticks(rotation=0)  # Adjust the rotation angle here (0 for horizontal, 90 for vertical)\n",
    "plt.show()"
   ]
  },
  {
   "cell_type": "markdown",
   "id": "32143015-f299-4fa9-b0f9-5a9d9a2a1c08",
   "metadata": {},
   "source": [
    "## job_code_seq1 분석"
   ]
  },
  {
   "cell_type": "code",
   "execution_count": 38,
   "id": "65b3c8b7-cfe3-408f-89bd-220eee20fbae",
   "metadata": {},
   "outputs": [
    {
     "data": {
      "image/png": "[encoded data removed]",
      "text/plain": [
       "<Figure size 800x400 with 1 Axes>"
      ]
     },
     "metadata": {},
     "output_type": "display_data"
    }
   ],
   "source": [
    "dav.draw_countplot(merged_df, ['job_code_seq1'], figsize=(8,4), rotate_xticks=True)"
   ]
  },
  {
   "cell_type": "code",
   "execution_count": 39,
   "id": "a20537ff-f5ed-469f-bcfc-3583625f47e2",
   "metadata": {},
   "outputs": [],
   "source": [
    "# 전체 공고의 0.5% = 289.73\n",
    "limit_ratio = 0.005"
   ]
  },
  {
   "cell_type": "markdown",
   "id": "9e59f78c-2bb9-440e-ba38-2c9f34a4f9d8",
   "metadata": {},
   "source": [
    "### job_code_seq1 : address_seq1"
   ]
  },
  {
   "cell_type": "code",
   "execution_count": 40,
   "id": "51acbcaa-ffdb-4d87-b868-2333ef2e4386",
   "metadata": {},
   "outputs": [],
   "source": [
    "count_df = create_count_dataframe(merged_df, 'address_seq1', 'job_code_seq1')\n",
    "ratio_df_hue, ratio_df_hue_ratio = calculate_ratio_df_with_hue(merged_df, 'address_seq1', 'job_code_seq1', limit_ratio)"
   ]
  },
  {
   "cell_type": "code",
   "execution_count": 41,
   "id": "5422c3b0-82ba-4823-8e09-9c3140421b93",
   "metadata": {},
   "outputs": [
    {
     "data": {
      "text/html": [
       "<div>\n",
       "<style scoped>\n",
       "    .dataframe tbody tr th:only-of-type {\n",
       "        vertical-align: middle;\n",
       "    }\n",
       "\n",
       "    .dataframe tbody tr th {\n",
       "        vertical-align: top;\n",
       "    }\n",
       "\n",
       "    .dataframe thead th {\n",
       "        text-align: right;\n",
       "    }\n",
       "</style>\n",
       "<table border=\"1\" class=\"dataframe\">\n",
       "  <thead>\n",
       "    <tr style=\"text-align: right;\">\n",
       "      <th>job_code_seq1</th>\n",
       "      <th>IT·게임</th>\n",
       "      <th>건설·기계·전기·전자</th>\n",
       "      <th>경영·기획·회계·사무</th>\n",
       "      <th>기타 직종</th>\n",
       "      <th>디자인</th>\n",
       "      <th>문화·예술·신문·방송</th>\n",
       "      <th>영업·판매·TM</th>\n",
       "      <th>재료·화학·섬유·의복</th>\n",
       "      <th>전문·교육·자격</th>\n",
       "      <th>Total</th>\n",
       "    </tr>\n",
       "    <tr>\n",
       "      <th>address_seq1</th>\n",
       "      <th></th>\n",
       "      <th></th>\n",
       "      <th></th>\n",
       "      <th></th>\n",
       "      <th></th>\n",
       "      <th></th>\n",
       "      <th></th>\n",
       "      <th></th>\n",
       "      <th></th>\n",
       "      <th></th>\n",
       "    </tr>\n",
       "  </thead>\n",
       "  <tbody>\n",
       "    <tr>\n",
       "      <th>1.0</th>\n",
       "      <td>0</td>\n",
       "      <td>0</td>\n",
       "      <td>0</td>\n",
       "      <td>0</td>\n",
       "      <td>7</td>\n",
       "      <td>0</td>\n",
       "      <td>0</td>\n",
       "      <td>20</td>\n",
       "      <td>0</td>\n",
       "      <td>27</td>\n",
       "    </tr>\n",
       "    <tr>\n",
       "      <th>2.0</th>\n",
       "      <td>0</td>\n",
       "      <td>0</td>\n",
       "      <td>0</td>\n",
       "      <td>0</td>\n",
       "      <td>2</td>\n",
       "      <td>0</td>\n",
       "      <td>0</td>\n",
       "      <td>4</td>\n",
       "      <td>0</td>\n",
       "      <td>6</td>\n",
       "    </tr>\n",
       "    <tr>\n",
       "      <th>3.0</th>\n",
       "      <td>3</td>\n",
       "      <td>21</td>\n",
       "      <td>2507</td>\n",
       "      <td>1</td>\n",
       "      <td>3187</td>\n",
       "      <td>5</td>\n",
       "      <td>828</td>\n",
       "      <td>49713</td>\n",
       "      <td>11</td>\n",
       "      <td>56276</td>\n",
       "    </tr>\n",
       "    <tr>\n",
       "      <th>5.0</th>\n",
       "      <td>0</td>\n",
       "      <td>0</td>\n",
       "      <td>75</td>\n",
       "      <td>1</td>\n",
       "      <td>126</td>\n",
       "      <td>0</td>\n",
       "      <td>28</td>\n",
       "      <td>1245</td>\n",
       "      <td>0</td>\n",
       "      <td>1475</td>\n",
       "    </tr>\n",
       "    <tr>\n",
       "      <th>9.0</th>\n",
       "      <td>0</td>\n",
       "      <td>0</td>\n",
       "      <td>0</td>\n",
       "      <td>0</td>\n",
       "      <td>0</td>\n",
       "      <td>0</td>\n",
       "      <td>0</td>\n",
       "      <td>10</td>\n",
       "      <td>0</td>\n",
       "      <td>10</td>\n",
       "    </tr>\n",
       "    <tr>\n",
       "      <th>11.0</th>\n",
       "      <td>0</td>\n",
       "      <td>0</td>\n",
       "      <td>1</td>\n",
       "      <td>0</td>\n",
       "      <td>4</td>\n",
       "      <td>0</td>\n",
       "      <td>2</td>\n",
       "      <td>22</td>\n",
       "      <td>0</td>\n",
       "      <td>29</td>\n",
       "    </tr>\n",
       "    <tr>\n",
       "      <th>13.0</th>\n",
       "      <td>0</td>\n",
       "      <td>0</td>\n",
       "      <td>0</td>\n",
       "      <td>0</td>\n",
       "      <td>0</td>\n",
       "      <td>0</td>\n",
       "      <td>0</td>\n",
       "      <td>8</td>\n",
       "      <td>0</td>\n",
       "      <td>8</td>\n",
       "    </tr>\n",
       "    <tr>\n",
       "      <th>20.0</th>\n",
       "      <td>0</td>\n",
       "      <td>0</td>\n",
       "      <td>4</td>\n",
       "      <td>0</td>\n",
       "      <td>17</td>\n",
       "      <td>0</td>\n",
       "      <td>2</td>\n",
       "      <td>92</td>\n",
       "      <td>0</td>\n",
       "      <td>115</td>\n",
       "    </tr>\n",
       "    <tr>\n",
       "      <th>Total</th>\n",
       "      <td>3</td>\n",
       "      <td>21</td>\n",
       "      <td>2587</td>\n",
       "      <td>2</td>\n",
       "      <td>3343</td>\n",
       "      <td>5</td>\n",
       "      <td>860</td>\n",
       "      <td>51114</td>\n",
       "      <td>11</td>\n",
       "      <td>57946</td>\n",
       "    </tr>\n",
       "  </tbody>\n",
       "</table>\n",
       "</div>"
      ],
      "text/plain": [
       "job_code_seq1  IT·게임  건설·기계·전기·전자  경영·기획·회계·사무  기타 직종   디자인  문화·예술·신문·방송  \\\n",
       "address_seq1                                                               \n",
       "1.0                0            0            0      0     7            0   \n",
       "2.0                0            0            0      0     2            0   \n",
       "3.0                3           21         2507      1  3187            5   \n",
       "5.0                0            0           75      1   126            0   \n",
       "9.0                0            0            0      0     0            0   \n",
       "11.0               0            0            1      0     4            0   \n",
       "13.0               0            0            0      0     0            0   \n",
       "20.0               0            0            4      0    17            0   \n",
       "Total              3           21         2587      2  3343            5   \n",
       "\n",
       "job_code_seq1  영업·판매·TM  재료·화학·섬유·의복  전문·교육·자격  Total  \n",
       "address_seq1                                           \n",
       "1.0                   0           20         0     27  \n",
       "2.0                   0            4         0      6  \n",
       "3.0                 828        49713        11  56276  \n",
       "5.0                  28         1245         0   1475  \n",
       "9.0                   0           10         0     10  \n",
       "11.0                  2           22         0     29  \n",
       "13.0                  0            8         0      8  \n",
       "20.0                  2           92         0    115  \n",
       "Total               860        51114        11  57946  "
      ]
     },
     "execution_count": 41,
     "metadata": {},
     "output_type": "execute_result"
    }
   ],
   "source": [
    "count_df"
   ]
  },
  {
   "cell_type": "code",
   "execution_count": 42,
   "id": "e19a1edc-a20b-49b1-9216-ec0a7de94ac6",
   "metadata": {},
   "outputs": [
    {
     "name": "stdout",
     "output_type": "stream",
     "text": [
      "Chi-square Statistic: 104.7790763949802\n",
      "P-value: 8.493784675847549e-05\n",
      "Degrees of Freedom: 56\n",
      "Expected Frequencies:\n",
      "job_code_seq1     IT·게임  건설·기계·전기·전자  경영·기획·회계·사무     기타 직종          디자인  \\\n",
      "address_seq1                                                               \n",
      "1.0            0.001398     0.009785     1.205415  0.000932     1.557674   \n",
      "2.0            0.000311     0.002174     0.267870  0.000207     0.346150   \n",
      "3.0            2.913540    20.394781  2512.442826  1.942360  3246.654955   \n",
      "5.0            0.076364     0.534549    65.851396  0.050909    85.095175   \n",
      "9.0            0.000518     0.003624     0.446450  0.000345     0.576916   \n",
      "11.0           0.001501     0.010510     1.294705  0.001001     1.673058   \n",
      "13.0           0.000414     0.002899     0.357160  0.000276     0.461533   \n",
      "20.0           0.005954     0.041677     5.134177  0.003969     6.634539   \n",
      "\n",
      "job_code_seq1  문화·예술·신문·방송    영업·판매·TM   재료·화학·섬유·의복   전문·교육·자격  \n",
      "address_seq1                                                     \n",
      "1.0               0.002330    0.400718     23.816622   0.005125  \n",
      "2.0               0.000518    0.089048      5.292583   0.001139  \n",
      "3.0               4.855900  835.214855  49640.897801  10.682981  \n",
      "5.0               0.127274   21.891071   1301.093259   0.280002  \n",
      "9.0               0.000863    0.148414      8.820971   0.001898  \n",
      "11.0              0.002502    0.430401     25.580817   0.005505  \n",
      "13.0              0.000690    0.118731      7.056777   0.001519  \n",
      "20.0              0.009923    1.706761    101.441169   0.021831  \n"
     ]
    }
   ],
   "source": [
    "analyze_chi_square(count_df);"
   ]
  },
  {
   "cell_type": "code",
   "execution_count": 43,
   "id": "9371825f-dc97-4e4a-aa9d-3bf24735c07d",
   "metadata": {},
   "outputs": [
    {
     "data": {
      "text/html": [
       "<div>\n",
       "<style scoped>\n",
       "    .dataframe tbody tr th:only-of-type {\n",
       "        vertical-align: middle;\n",
       "    }\n",
       "\n",
       "    .dataframe tbody tr th {\n",
       "        vertical-align: top;\n",
       "    }\n",
       "\n",
       "    .dataframe thead th {\n",
       "        text-align: right;\n",
       "    }\n",
       "</style>\n",
       "<table border=\"1\" class=\"dataframe\">\n",
       "  <thead>\n",
       "    <tr style=\"text-align: right;\">\n",
       "      <th>job_code_seq1</th>\n",
       "      <th>경영·기획·회계·사무</th>\n",
       "      <th>디자인</th>\n",
       "      <th>영업·판매·TM</th>\n",
       "      <th>재료·화학·섬유·의복</th>\n",
       "      <th>Total</th>\n",
       "    </tr>\n",
       "    <tr>\n",
       "      <th>address_seq1</th>\n",
       "      <th></th>\n",
       "      <th></th>\n",
       "      <th></th>\n",
       "      <th></th>\n",
       "      <th></th>\n",
       "    </tr>\n",
       "  </thead>\n",
       "  <tbody>\n",
       "    <tr>\n",
       "      <th>3.0</th>\n",
       "      <td>0.969076</td>\n",
       "      <td>0.953335</td>\n",
       "      <td>0.962791</td>\n",
       "      <td>0.972591</td>\n",
       "      <td>0.971180</td>\n",
       "    </tr>\n",
       "    <tr>\n",
       "      <th>5.0</th>\n",
       "      <td>0.028991</td>\n",
       "      <td>0.037691</td>\n",
       "      <td>0.032558</td>\n",
       "      <td>0.024357</td>\n",
       "      <td>0.025455</td>\n",
       "    </tr>\n",
       "    <tr>\n",
       "      <th>Total</th>\n",
       "      <td>2587.000000</td>\n",
       "      <td>3343.000000</td>\n",
       "      <td>860.000000</td>\n",
       "      <td>51114.000000</td>\n",
       "      <td>57946.000000</td>\n",
       "    </tr>\n",
       "  </tbody>\n",
       "</table>\n",
       "</div>"
      ],
      "text/plain": [
       "job_code_seq1  경영·기획·회계·사무          디자인    영업·판매·TM   재료·화학·섬유·의복  \\\n",
       "address_seq1                                                        \n",
       "3.0               0.969076     0.953335    0.962791      0.972591   \n",
       "5.0               0.028991     0.037691    0.032558      0.024357   \n",
       "Total          2587.000000  3343.000000  860.000000  51114.000000   \n",
       "\n",
       "job_code_seq1         Total  \n",
       "address_seq1                 \n",
       "3.0                0.971180  \n",
       "5.0                0.025455  \n",
       "Total          57946.000000  "
      ]
     },
     "execution_count": 43,
     "metadata": {},
     "output_type": "execute_result"
    }
   ],
   "source": [
    "ratio_df_hue"
   ]
  },
  {
   "cell_type": "code",
   "execution_count": 44,
   "id": "77fd185f-72bd-413a-a574-2dd782549a48",
   "metadata": {},
   "outputs": [
    {
     "data": {
      "text/html": [
       "<div>\n",
       "<style scoped>\n",
       "    .dataframe tbody tr th:only-of-type {\n",
       "        vertical-align: middle;\n",
       "    }\n",
       "\n",
       "    .dataframe tbody tr th {\n",
       "        vertical-align: top;\n",
       "    }\n",
       "\n",
       "    .dataframe thead th {\n",
       "        text-align: right;\n",
       "    }\n",
       "</style>\n",
       "<table border=\"1\" class=\"dataframe\">\n",
       "  <thead>\n",
       "    <tr style=\"text-align: right;\">\n",
       "      <th>job_code_seq1</th>\n",
       "      <th>경영·기획·회계·사무</th>\n",
       "      <th>디자인</th>\n",
       "      <th>영업·판매·TM</th>\n",
       "      <th>재료·화학·섬유·의복</th>\n",
       "      <th>Total</th>\n",
       "    </tr>\n",
       "    <tr>\n",
       "      <th>address_seq1</th>\n",
       "      <th></th>\n",
       "      <th></th>\n",
       "      <th></th>\n",
       "      <th></th>\n",
       "      <th></th>\n",
       "    </tr>\n",
       "  </thead>\n",
       "  <tbody>\n",
       "    <tr>\n",
       "      <th>3.0</th>\n",
       "      <td>0.997834</td>\n",
       "      <td>0.981626</td>\n",
       "      <td>0.991362</td>\n",
       "      <td>1.001452</td>\n",
       "      <td>0.971180</td>\n",
       "    </tr>\n",
       "    <tr>\n",
       "      <th>5.0</th>\n",
       "      <td>1.138928</td>\n",
       "      <td>1.480695</td>\n",
       "      <td>1.279060</td>\n",
       "      <td>0.956888</td>\n",
       "      <td>0.025455</td>\n",
       "    </tr>\n",
       "    <tr>\n",
       "      <th>Total</th>\n",
       "      <td>2587.000000</td>\n",
       "      <td>3343.000000</td>\n",
       "      <td>860.000000</td>\n",
       "      <td>51114.000000</td>\n",
       "      <td>57946.000000</td>\n",
       "    </tr>\n",
       "  </tbody>\n",
       "</table>\n",
       "</div>"
      ],
      "text/plain": [
       "job_code_seq1  경영·기획·회계·사무          디자인    영업·판매·TM   재료·화학·섬유·의복  \\\n",
       "address_seq1                                                        \n",
       "3.0               0.997834     0.981626    0.991362      1.001452   \n",
       "5.0               1.138928     1.480695    1.279060      0.956888   \n",
       "Total          2587.000000  3343.000000  860.000000  51114.000000   \n",
       "\n",
       "job_code_seq1         Total  \n",
       "address_seq1                 \n",
       "3.0                0.971180  \n",
       "5.0                0.025455  \n",
       "Total          57946.000000  "
      ]
     },
     "execution_count": 44,
     "metadata": {},
     "output_type": "execute_result"
    }
   ],
   "source": [
    "ratio_df_hue_ratio"
   ]
  },
  {
   "cell_type": "code",
   "execution_count": 45,
   "id": "e86f93d9-7f88-4f5f-be45-50170a9e19ef",
   "metadata": {},
   "outputs": [
    {
     "data": {
      "image/png": "[encoded data removed]",
      "text/plain": [
       "<Figure size 640x480 with 2 Axes>"
      ]
     },
     "metadata": {},
     "output_type": "display_data"
    }
   ],
   "source": [
    "sns.heatmap(ratio_df_hue_ratio.iloc[:-1, :-1], cmap=\"Blues\", annot=True, fmt=\".3f\")\n",
    "plt.yticks(rotation=0)  # Adjust the rotation angle here (0 for horizontal, 90 for vertical)\n",
    "plt.show()"
   ]
  },
  {
   "cell_type": "markdown",
   "id": "35783964-bfbd-409a-8ca8-c6da4d81e778",
   "metadata": {},
   "source": [
    "### job_code_seq1 : education"
   ]
  },
  {
   "cell_type": "code",
   "execution_count": 46,
   "id": "78ea37df-9676-467f-b874-87c02d59e6b6",
   "metadata": {},
   "outputs": [],
   "source": [
    "count_df = create_count_dataframe(merged_df, 'education', 'job_code_seq1')\n",
    "ratio_df_hue, ratio_df_hue_ratio = calculate_ratio_df_with_hue(merged_df, 'education', 'job_code_seq1', limit_ratio)"
   ]
  },
  {
   "cell_type": "code",
   "execution_count": 47,
   "id": "bc97d7c0-48b2-43aa-97db-89d9967741ac",
   "metadata": {},
   "outputs": [
    {
     "data": {
      "text/html": [
       "<div>\n",
       "<style scoped>\n",
       "    .dataframe tbody tr th:only-of-type {\n",
       "        vertical-align: middle;\n",
       "    }\n",
       "\n",
       "    .dataframe tbody tr th {\n",
       "        vertical-align: top;\n",
       "    }\n",
       "\n",
       "    .dataframe thead th {\n",
       "        text-align: right;\n",
       "    }\n",
       "</style>\n",
       "<table border=\"1\" class=\"dataframe\">\n",
       "  <thead>\n",
       "    <tr style=\"text-align: right;\">\n",
       "      <th>job_code_seq1</th>\n",
       "      <th>IT·게임</th>\n",
       "      <th>건설·기계·전기·전자</th>\n",
       "      <th>경영·기획·회계·사무</th>\n",
       "      <th>기타 직종</th>\n",
       "      <th>디자인</th>\n",
       "      <th>문화·예술·신문·방송</th>\n",
       "      <th>영업·판매·TM</th>\n",
       "      <th>재료·화학·섬유·의복</th>\n",
       "      <th>전문·교육·자격</th>\n",
       "      <th>Total</th>\n",
       "    </tr>\n",
       "    <tr>\n",
       "      <th>education</th>\n",
       "      <th></th>\n",
       "      <th></th>\n",
       "      <th></th>\n",
       "      <th></th>\n",
       "      <th></th>\n",
       "      <th></th>\n",
       "      <th></th>\n",
       "      <th></th>\n",
       "      <th></th>\n",
       "      <th></th>\n",
       "    </tr>\n",
       "  </thead>\n",
       "  <tbody>\n",
       "    <tr>\n",
       "      <th>2</th>\n",
       "      <td>1</td>\n",
       "      <td>3</td>\n",
       "      <td>777</td>\n",
       "      <td>0</td>\n",
       "      <td>1167</td>\n",
       "      <td>2</td>\n",
       "      <td>284</td>\n",
       "      <td>12475</td>\n",
       "      <td>3</td>\n",
       "      <td>14712</td>\n",
       "    </tr>\n",
       "    <tr>\n",
       "      <th>3</th>\n",
       "      <td>1</td>\n",
       "      <td>6</td>\n",
       "      <td>967</td>\n",
       "      <td>1</td>\n",
       "      <td>1186</td>\n",
       "      <td>2</td>\n",
       "      <td>326</td>\n",
       "      <td>21613</td>\n",
       "      <td>2</td>\n",
       "      <td>24104</td>\n",
       "    </tr>\n",
       "    <tr>\n",
       "      <th>4</th>\n",
       "      <td>1</td>\n",
       "      <td>12</td>\n",
       "      <td>843</td>\n",
       "      <td>1</td>\n",
       "      <td>986</td>\n",
       "      <td>1</td>\n",
       "      <td>250</td>\n",
       "      <td>17019</td>\n",
       "      <td>6</td>\n",
       "      <td>19119</td>\n",
       "    </tr>\n",
       "    <tr>\n",
       "      <th>6</th>\n",
       "      <td>0</td>\n",
       "      <td>0</td>\n",
       "      <td>0</td>\n",
       "      <td>0</td>\n",
       "      <td>4</td>\n",
       "      <td>0</td>\n",
       "      <td>0</td>\n",
       "      <td>7</td>\n",
       "      <td>0</td>\n",
       "      <td>11</td>\n",
       "    </tr>\n",
       "    <tr>\n",
       "      <th>Total</th>\n",
       "      <td>3</td>\n",
       "      <td>21</td>\n",
       "      <td>2587</td>\n",
       "      <td>2</td>\n",
       "      <td>3343</td>\n",
       "      <td>5</td>\n",
       "      <td>860</td>\n",
       "      <td>51114</td>\n",
       "      <td>11</td>\n",
       "      <td>57946</td>\n",
       "    </tr>\n",
       "  </tbody>\n",
       "</table>\n",
       "</div>"
      ],
      "text/plain": [
       "job_code_seq1  IT·게임  건설·기계·전기·전자  경영·기획·회계·사무  기타 직종   디자인  문화·예술·신문·방송  \\\n",
       "education                                                                  \n",
       "2                  1            3          777      0  1167            2   \n",
       "3                  1            6          967      1  1186            2   \n",
       "4                  1           12          843      1   986            1   \n",
       "6                  0            0            0      0     4            0   \n",
       "Total              3           21         2587      2  3343            5   \n",
       "\n",
       "job_code_seq1  영업·판매·TM  재료·화학·섬유·의복  전문·교육·자격  Total  \n",
       "education                                              \n",
       "2                   284        12475         3  14712  \n",
       "3                   326        21613         2  24104  \n",
       "4                   250        17019         6  19119  \n",
       "6                     0            7         0     11  \n",
       "Total               860        51114        11  57946  "
      ]
     },
     "execution_count": 47,
     "metadata": {},
     "output_type": "execute_result"
    }
   ],
   "source": [
    "count_df"
   ]
  },
  {
   "cell_type": "code",
   "execution_count": 48,
   "id": "9c0f1537-4dea-4b29-9c70-c7f4f279ee25",
   "metadata": {},
   "outputs": [
    {
     "name": "stdout",
     "output_type": "stream",
     "text": [
      "Chi-square Statistic: 277.6334239726825\n",
      "P-value: 5.175331702355071e-45\n",
      "Degrees of Freedom: 24\n",
      "Expected Frequencies:\n",
      "job_code_seq1     IT·게임  건설·기계·전기·전자  경영·기획·회계·사무     기타 직종          디자인  \\\n",
      "education                                                                  \n",
      "2              0.761675     5.331723   656.817451  0.507783   848.759466   \n",
      "3              1.247920     8.735443  1076.123425  0.831947  1390.599386   \n",
      "4              0.989835     6.928848   853.568029  0.659890  1103.006541   \n",
      "6              0.000569     0.003986     0.491095  0.000380     0.634608   \n",
      "\n",
      "job_code_seq1  문화·예술·신문·방송    영업·판매·TM   재료·화학·섬유·의복  전문·교육·자격  \n",
      "education                                                       \n",
      "2                 1.269458  218.346737  12977.412902  2.792807  \n",
      "3                 2.079867  357.737204  21262.069099  4.575708  \n",
      "4                 1.649726  283.752804  16864.814931  3.629396  \n",
      "6                 0.000949    0.163255      9.703068  0.002088  \n"
     ]
    }
   ],
   "source": [
    "analyze_chi_square(count_df);"
   ]
  },
  {
   "cell_type": "code",
   "execution_count": 49,
   "id": "e7567a49-e6c9-4c7c-a50e-8d39fc1bff57",
   "metadata": {},
   "outputs": [
    {
     "data": {
      "text/html": [
       "<div>\n",
       "<style scoped>\n",
       "    .dataframe tbody tr th:only-of-type {\n",
       "        vertical-align: middle;\n",
       "    }\n",
       "\n",
       "    .dataframe tbody tr th {\n",
       "        vertical-align: top;\n",
       "    }\n",
       "\n",
       "    .dataframe thead th {\n",
       "        text-align: right;\n",
       "    }\n",
       "</style>\n",
       "<table border=\"1\" class=\"dataframe\">\n",
       "  <thead>\n",
       "    <tr style=\"text-align: right;\">\n",
       "      <th>job_code_seq1</th>\n",
       "      <th>경영·기획·회계·사무</th>\n",
       "      <th>디자인</th>\n",
       "      <th>영업·판매·TM</th>\n",
       "      <th>재료·화학·섬유·의복</th>\n",
       "      <th>Total</th>\n",
       "    </tr>\n",
       "    <tr>\n",
       "      <th>education</th>\n",
       "      <th></th>\n",
       "      <th></th>\n",
       "      <th></th>\n",
       "      <th></th>\n",
       "      <th></th>\n",
       "    </tr>\n",
       "  </thead>\n",
       "  <tbody>\n",
       "    <tr>\n",
       "      <th>2</th>\n",
       "      <td>0.300348</td>\n",
       "      <td>0.349088</td>\n",
       "      <td>0.330233</td>\n",
       "      <td>0.244062</td>\n",
       "      <td>0.253892</td>\n",
       "    </tr>\n",
       "    <tr>\n",
       "      <th>3</th>\n",
       "      <td>0.373792</td>\n",
       "      <td>0.354771</td>\n",
       "      <td>0.379070</td>\n",
       "      <td>0.422839</td>\n",
       "      <td>0.415973</td>\n",
       "    </tr>\n",
       "    <tr>\n",
       "      <th>4</th>\n",
       "      <td>0.325860</td>\n",
       "      <td>0.294945</td>\n",
       "      <td>0.290698</td>\n",
       "      <td>0.332962</td>\n",
       "      <td>0.329945</td>\n",
       "    </tr>\n",
       "    <tr>\n",
       "      <th>Total</th>\n",
       "      <td>2587.000000</td>\n",
       "      <td>3343.000000</td>\n",
       "      <td>860.000000</td>\n",
       "      <td>51114.000000</td>\n",
       "      <td>57946.000000</td>\n",
       "    </tr>\n",
       "  </tbody>\n",
       "</table>\n",
       "</div>"
      ],
      "text/plain": [
       "job_code_seq1  경영·기획·회계·사무          디자인    영업·판매·TM   재료·화학·섬유·의복  \\\n",
       "education                                                           \n",
       "2                 0.300348     0.349088    0.330233      0.244062   \n",
       "3                 0.373792     0.354771    0.379070      0.422839   \n",
       "4                 0.325860     0.294945    0.290698      0.332962   \n",
       "Total          2587.000000  3343.000000  860.000000  51114.000000   \n",
       "\n",
       "job_code_seq1         Total  \n",
       "education                    \n",
       "2                  0.253892  \n",
       "3                  0.415973  \n",
       "4                  0.329945  \n",
       "Total          57946.000000  "
      ]
     },
     "execution_count": 49,
     "metadata": {},
     "output_type": "execute_result"
    }
   ],
   "source": [
    "ratio_df_hue"
   ]
  },
  {
   "cell_type": "code",
   "execution_count": 50,
   "id": "e8e8a790-1b80-4bc9-b010-748dfdd0cd54",
   "metadata": {},
   "outputs": [
    {
     "data": {
      "text/html": [
       "<div>\n",
       "<style scoped>\n",
       "    .dataframe tbody tr th:only-of-type {\n",
       "        vertical-align: middle;\n",
       "    }\n",
       "\n",
       "    .dataframe tbody tr th {\n",
       "        vertical-align: top;\n",
       "    }\n",
       "\n",
       "    .dataframe thead th {\n",
       "        text-align: right;\n",
       "    }\n",
       "</style>\n",
       "<table border=\"1\" class=\"dataframe\">\n",
       "  <thead>\n",
       "    <tr style=\"text-align: right;\">\n",
       "      <th>job_code_seq1</th>\n",
       "      <th>경영·기획·회계·사무</th>\n",
       "      <th>디자인</th>\n",
       "      <th>영업·판매·TM</th>\n",
       "      <th>재료·화학·섬유·의복</th>\n",
       "      <th>Total</th>\n",
       "    </tr>\n",
       "    <tr>\n",
       "      <th>education</th>\n",
       "      <th></th>\n",
       "      <th></th>\n",
       "      <th></th>\n",
       "      <th></th>\n",
       "      <th></th>\n",
       "    </tr>\n",
       "  </thead>\n",
       "  <tbody>\n",
       "    <tr>\n",
       "      <th>2</th>\n",
       "      <td>1.182977</td>\n",
       "      <td>1.374948</td>\n",
       "      <td>1.300684</td>\n",
       "      <td>0.961286</td>\n",
       "      <td>0.253892</td>\n",
       "    </tr>\n",
       "    <tr>\n",
       "      <th>3</th>\n",
       "      <td>0.898596</td>\n",
       "      <td>0.852870</td>\n",
       "      <td>0.911283</td>\n",
       "      <td>1.016505</td>\n",
       "      <td>0.415973</td>\n",
       "    </tr>\n",
       "    <tr>\n",
       "      <th>4</th>\n",
       "      <td>0.987619</td>\n",
       "      <td>0.893920</td>\n",
       "      <td>0.881049</td>\n",
       "      <td>1.009142</td>\n",
       "      <td>0.329945</td>\n",
       "    </tr>\n",
       "    <tr>\n",
       "      <th>Total</th>\n",
       "      <td>2587.000000</td>\n",
       "      <td>3343.000000</td>\n",
       "      <td>860.000000</td>\n",
       "      <td>51114.000000</td>\n",
       "      <td>57946.000000</td>\n",
       "    </tr>\n",
       "  </tbody>\n",
       "</table>\n",
       "</div>"
      ],
      "text/plain": [
       "job_code_seq1  경영·기획·회계·사무          디자인    영업·판매·TM   재료·화학·섬유·의복  \\\n",
       "education                                                           \n",
       "2                 1.182977     1.374948    1.300684      0.961286   \n",
       "3                 0.898596     0.852870    0.911283      1.016505   \n",
       "4                 0.987619     0.893920    0.881049      1.009142   \n",
       "Total          2587.000000  3343.000000  860.000000  51114.000000   \n",
       "\n",
       "job_code_seq1         Total  \n",
       "education                    \n",
       "2                  0.253892  \n",
       "3                  0.415973  \n",
       "4                  0.329945  \n",
       "Total          57946.000000  "
      ]
     },
     "execution_count": 50,
     "metadata": {},
     "output_type": "execute_result"
    }
   ],
   "source": [
    "ratio_df_hue_ratio"
   ]
  },
  {
   "cell_type": "code",
   "execution_count": 51,
   "id": "134f26bc-94fc-4d23-b633-184cdac3cdfc",
   "metadata": {},
   "outputs": [
    {
     "data": {
      "image/png": "[encoded data removed]",
      "text/plain": [
       "<Figure size 640x480 with 2 Axes>"
      ]
     },
     "metadata": {},
     "output_type": "display_data"
    }
   ],
   "source": [
    "sns.heatmap(ratio_df_hue_ratio.iloc[:-1, :-1], cmap=\"Blues\", annot=True, fmt=\".3f\")\n",
    "plt.yticks(rotation=0)  # Adjust the rotation angle here (0 for horizontal, 90 for vertical)\n",
    "plt.show()"
   ]
  },
  {
   "cell_type": "markdown",
   "id": "7c97296b-0383-4418-a049-50b1f3cf64e4",
   "metadata": {},
   "source": [
    "### job_code_seq1 : major_task"
   ]
  },
  {
   "cell_type": "code",
   "execution_count": 52,
   "id": "847cef0d-f77b-422a-b3c5-43930037582d",
   "metadata": {},
   "outputs": [],
   "source": [
    "count_df = create_count_dataframe(merged_df, 'major_task', 'job_code_seq1')\n",
    "ratio_df_hue, ratio_df_hue_ratio = calculate_ratio_df_with_hue(merged_df, 'major_task', 'job_code_seq1', limit_ratio)"
   ]
  },
  {
   "cell_type": "code",
   "execution_count": 53,
   "id": "ebdf8393-1ceb-4e9e-a93b-640b4c8f0779",
   "metadata": {},
   "outputs": [
    {
     "data": {
      "text/html": [
       "<div>\n",
       "<style scoped>\n",
       "    .dataframe tbody tr th:only-of-type {\n",
       "        vertical-align: middle;\n",
       "    }\n",
       "\n",
       "    .dataframe tbody tr th {\n",
       "        vertical-align: top;\n",
       "    }\n",
       "\n",
       "    .dataframe thead th {\n",
       "        text-align: right;\n",
       "    }\n",
       "</style>\n",
       "<table border=\"1\" class=\"dataframe\">\n",
       "  <thead>\n",
       "    <tr style=\"text-align: right;\">\n",
       "      <th>job_code_seq1</th>\n",
       "      <th>IT·게임</th>\n",
       "      <th>건설·기계·전기·전자</th>\n",
       "      <th>경영·기획·회계·사무</th>\n",
       "      <th>기타 직종</th>\n",
       "      <th>디자인</th>\n",
       "      <th>문화·예술·신문·방송</th>\n",
       "      <th>영업·판매·TM</th>\n",
       "      <th>재료·화학·섬유·의복</th>\n",
       "      <th>전문·교육·자격</th>\n",
       "      <th>Total</th>\n",
       "    </tr>\n",
       "    <tr>\n",
       "      <th>major_task</th>\n",
       "      <th></th>\n",
       "      <th></th>\n",
       "      <th></th>\n",
       "      <th></th>\n",
       "      <th></th>\n",
       "      <th></th>\n",
       "      <th></th>\n",
       "      <th></th>\n",
       "      <th></th>\n",
       "      <th></th>\n",
       "    </tr>\n",
       "  </thead>\n",
       "  <tbody>\n",
       "    <tr>\n",
       "      <th>1</th>\n",
       "      <td>0</td>\n",
       "      <td>0</td>\n",
       "      <td>17</td>\n",
       "      <td>0</td>\n",
       "      <td>25</td>\n",
       "      <td>0</td>\n",
       "      <td>4</td>\n",
       "      <td>202</td>\n",
       "      <td>0</td>\n",
       "      <td>248</td>\n",
       "    </tr>\n",
       "    <tr>\n",
       "      <th>2</th>\n",
       "      <td>3</td>\n",
       "      <td>21</td>\n",
       "      <td>2515</td>\n",
       "      <td>2</td>\n",
       "      <td>3035</td>\n",
       "      <td>4</td>\n",
       "      <td>847</td>\n",
       "      <td>48516</td>\n",
       "      <td>11</td>\n",
       "      <td>54954</td>\n",
       "    </tr>\n",
       "    <tr>\n",
       "      <th>6</th>\n",
       "      <td>0</td>\n",
       "      <td>0</td>\n",
       "      <td>0</td>\n",
       "      <td>0</td>\n",
       "      <td>0</td>\n",
       "      <td>0</td>\n",
       "      <td>0</td>\n",
       "      <td>5</td>\n",
       "      <td>0</td>\n",
       "      <td>5</td>\n",
       "    </tr>\n",
       "    <tr>\n",
       "      <th>7</th>\n",
       "      <td>0</td>\n",
       "      <td>0</td>\n",
       "      <td>24</td>\n",
       "      <td>0</td>\n",
       "      <td>83</td>\n",
       "      <td>1</td>\n",
       "      <td>6</td>\n",
       "      <td>683</td>\n",
       "      <td>0</td>\n",
       "      <td>797</td>\n",
       "    </tr>\n",
       "    <tr>\n",
       "      <th>8</th>\n",
       "      <td>0</td>\n",
       "      <td>0</td>\n",
       "      <td>31</td>\n",
       "      <td>0</td>\n",
       "      <td>199</td>\n",
       "      <td>0</td>\n",
       "      <td>3</td>\n",
       "      <td>1673</td>\n",
       "      <td>0</td>\n",
       "      <td>1906</td>\n",
       "    </tr>\n",
       "    <tr>\n",
       "      <th>9</th>\n",
       "      <td>0</td>\n",
       "      <td>0</td>\n",
       "      <td>0</td>\n",
       "      <td>0</td>\n",
       "      <td>1</td>\n",
       "      <td>0</td>\n",
       "      <td>0</td>\n",
       "      <td>20</td>\n",
       "      <td>0</td>\n",
       "      <td>21</td>\n",
       "    </tr>\n",
       "    <tr>\n",
       "      <th>10</th>\n",
       "      <td>0</td>\n",
       "      <td>0</td>\n",
       "      <td>0</td>\n",
       "      <td>0</td>\n",
       "      <td>0</td>\n",
       "      <td>0</td>\n",
       "      <td>0</td>\n",
       "      <td>15</td>\n",
       "      <td>0</td>\n",
       "      <td>15</td>\n",
       "    </tr>\n",
       "    <tr>\n",
       "      <th>Total</th>\n",
       "      <td>3</td>\n",
       "      <td>21</td>\n",
       "      <td>2587</td>\n",
       "      <td>2</td>\n",
       "      <td>3343</td>\n",
       "      <td>5</td>\n",
       "      <td>860</td>\n",
       "      <td>51114</td>\n",
       "      <td>11</td>\n",
       "      <td>57946</td>\n",
       "    </tr>\n",
       "  </tbody>\n",
       "</table>\n",
       "</div>"
      ],
      "text/plain": [
       "job_code_seq1  IT·게임  건설·기계·전기·전자  경영·기획·회계·사무  기타 직종   디자인  문화·예술·신문·방송  \\\n",
       "major_task                                                                 \n",
       "1                  0            0           17      0    25            0   \n",
       "2                  3           21         2515      2  3035            4   \n",
       "6                  0            0            0      0     0            0   \n",
       "7                  0            0           24      0    83            1   \n",
       "8                  0            0           31      0   199            0   \n",
       "9                  0            0            0      0     1            0   \n",
       "10                 0            0            0      0     0            0   \n",
       "Total              3           21         2587      2  3343            5   \n",
       "\n",
       "job_code_seq1  영업·판매·TM  재료·화학·섬유·의복  전문·교육·자격  Total  \n",
       "major_task                                             \n",
       "1                     4          202         0    248  \n",
       "2                   847        48516        11  54954  \n",
       "6                     0            5         0      5  \n",
       "7                     6          683         0    797  \n",
       "8                     3         1673         0   1906  \n",
       "9                     0           20         0     21  \n",
       "10                    0           15         0     15  \n",
       "Total               860        51114        11  57946  "
      ]
     },
     "execution_count": 53,
     "metadata": {},
     "output_type": "execute_result"
    }
   ],
   "source": [
    "count_df"
   ]
  },
  {
   "cell_type": "code",
   "execution_count": 54,
   "id": "6c30ccf0-f3b2-4804-91f4-e77723b2fe36",
   "metadata": {},
   "outputs": [
    {
     "name": "stdout",
     "output_type": "stream",
     "text": [
      "Chi-square Statistic: 206.19135896474995\n",
      "P-value: 1.6837438038073553e-21\n",
      "Degrees of Freedom: 48\n",
      "Expected Frequencies:\n",
      "job_code_seq1     IT·게임  건설·기계·전기·전자  경영·기획·회계·사무     기타 직종          디자인  \\\n",
      "major_task                                                                 \n",
      "1              0.012840     0.089877    11.071964  0.008560    14.307528   \n",
      "2              2.845097    19.915680  2453.422117  1.896731  3170.386601   \n",
      "6              0.000259     0.001812     0.223225  0.000173     0.288458   \n",
      "7              0.041263     0.288838    35.582076  0.027508    45.980240   \n",
      "8              0.098678     0.690747    85.093397  0.065785   109.960273   \n",
      "9              0.001087     0.007611     0.937545  0.000725     1.211525   \n",
      "10             0.000777     0.005436     0.669675  0.000518     0.865375   \n",
      "\n",
      "job_code_seq1  문화·예술·신문·방송    영업·판매·TM   재료·화학·섬유·의복   전문·교육·자격  \n",
      "major_task                                                       \n",
      "1                 0.021399    3.680668    218.760087   0.047078  \n",
      "2                 4.741829  815.594519  48474.765402  10.432023  \n",
      "6                 0.000431    0.074207      4.410486   0.000949  \n",
      "7                 0.068771   11.828599    703.031409   0.151296  \n",
      "8                 0.164463   28.287716   1681.277120   0.361820  \n",
      "9                 0.001812    0.311669     18.524040   0.003986  \n",
      "10                0.001294    0.222621     13.231457   0.002847  \n"
     ]
    }
   ],
   "source": [
    "analyze_chi_square(count_df);"
   ]
  },
  {
   "cell_type": "code",
   "execution_count": 55,
   "id": "155ea5df-4ce6-4d38-b35f-f081ada419f1",
   "metadata": {},
   "outputs": [
    {
     "data": {
      "text/html": [
       "<div>\n",
       "<style scoped>\n",
       "    .dataframe tbody tr th:only-of-type {\n",
       "        vertical-align: middle;\n",
       "    }\n",
       "\n",
       "    .dataframe tbody tr th {\n",
       "        vertical-align: top;\n",
       "    }\n",
       "\n",
       "    .dataframe thead th {\n",
       "        text-align: right;\n",
       "    }\n",
       "</style>\n",
       "<table border=\"1\" class=\"dataframe\">\n",
       "  <thead>\n",
       "    <tr style=\"text-align: right;\">\n",
       "      <th>job_code_seq1</th>\n",
       "      <th>경영·기획·회계·사무</th>\n",
       "      <th>디자인</th>\n",
       "      <th>영업·판매·TM</th>\n",
       "      <th>재료·화학·섬유·의복</th>\n",
       "      <th>Total</th>\n",
       "    </tr>\n",
       "    <tr>\n",
       "      <th>major_task</th>\n",
       "      <th></th>\n",
       "      <th></th>\n",
       "      <th></th>\n",
       "      <th></th>\n",
       "      <th></th>\n",
       "    </tr>\n",
       "  </thead>\n",
       "  <tbody>\n",
       "    <tr>\n",
       "      <th>2</th>\n",
       "      <td>1.025099</td>\n",
       "      <td>0.957297</td>\n",
       "      <td>1.038506</td>\n",
       "      <td>1.000851</td>\n",
       "      <td>0.948366</td>\n",
       "    </tr>\n",
       "    <tr>\n",
       "      <th>7</th>\n",
       "      <td>0.674497</td>\n",
       "      <td>1.805123</td>\n",
       "      <td>0.507245</td>\n",
       "      <td>0.971507</td>\n",
       "      <td>0.013754</td>\n",
       "    </tr>\n",
       "    <tr>\n",
       "      <th>8</th>\n",
       "      <td>0.364306</td>\n",
       "      <td>1.809745</td>\n",
       "      <td>0.106053</td>\n",
       "      <td>0.995077</td>\n",
       "      <td>0.032893</td>\n",
       "    </tr>\n",
       "    <tr>\n",
       "      <th>Total</th>\n",
       "      <td>2587.000000</td>\n",
       "      <td>3343.000000</td>\n",
       "      <td>860.000000</td>\n",
       "      <td>51114.000000</td>\n",
       "      <td>57946.000000</td>\n",
       "    </tr>\n",
       "  </tbody>\n",
       "</table>\n",
       "</div>"
      ],
      "text/plain": [
       "job_code_seq1  경영·기획·회계·사무          디자인    영업·판매·TM   재료·화학·섬유·의복  \\\n",
       "major_task                                                          \n",
       "2                 1.025099     0.957297    1.038506      1.000851   \n",
       "7                 0.674497     1.805123    0.507245      0.971507   \n",
       "8                 0.364306     1.809745    0.106053      0.995077   \n",
       "Total          2587.000000  3343.000000  860.000000  51114.000000   \n",
       "\n",
       "job_code_seq1         Total  \n",
       "major_task                   \n",
       "2                  0.948366  \n",
       "7                  0.013754  \n",
       "8                  0.032893  \n",
       "Total          57946.000000  "
      ]
     },
     "execution_count": 55,
     "metadata": {},
     "output_type": "execute_result"
    }
   ],
   "source": [
    "ratio_df_hue_ratio"
   ]
  },
  {
   "cell_type": "code",
   "execution_count": 56,
   "id": "70cf00fa-f406-4c30-82c0-3224c67bbf0f",
   "metadata": {},
   "outputs": [
    {
     "data": {
      "image/png": "[encoded data removed]",
      "text/plain": [
       "<Figure size 640x480 with 2 Axes>"
      ]
     },
     "metadata": {},
     "output_type": "display_data"
    }
   ],
   "source": [
    "sns.heatmap(ratio_df_hue_ratio.iloc[:-1, :-1], cmap=\"Blues\", annot=True, fmt=\".3f\")\n",
    "plt.yticks(rotation=0)  # Adjust the rotation angle here (0 for horizontal, 90 for vertical)\n",
    "plt.show()"
   ]
  },
  {
   "cell_type": "markdown",
   "id": "591fc130-9abe-4292-9d9c-d6746e0ff0ab",
   "metadata": {},
   "source": [
    "### job_code_seq1 : qualifications"
   ]
  },
  {
   "cell_type": "code",
   "execution_count": 57,
   "id": "8aa0a7ab-dfb9-4866-8bd3-443eb4d9d2e7",
   "metadata": {},
   "outputs": [],
   "source": [
    "count_df = create_count_dataframe(merged_df, 'qualifications', 'job_code_seq1')\n",
    "ratio_df_hue, ratio_df_hue_ratio = calculate_ratio_df_with_hue(merged_df, 'qualifications', 'job_code_seq1', limit_ratio)"
   ]
  },
  {
   "cell_type": "code",
   "execution_count": 58,
   "id": "297bb70b-e1ff-4464-9c0b-94bb1609ef4d",
   "metadata": {},
   "outputs": [
    {
     "data": {
      "text/html": [
       "<div>\n",
       "<style scoped>\n",
       "    .dataframe tbody tr th:only-of-type {\n",
       "        vertical-align: middle;\n",
       "    }\n",
       "\n",
       "    .dataframe tbody tr th {\n",
       "        vertical-align: top;\n",
       "    }\n",
       "\n",
       "    .dataframe thead th {\n",
       "        text-align: right;\n",
       "    }\n",
       "</style>\n",
       "<table border=\"1\" class=\"dataframe\">\n",
       "  <thead>\n",
       "    <tr style=\"text-align: right;\">\n",
       "      <th>job_code_seq1</th>\n",
       "      <th>IT·게임</th>\n",
       "      <th>건설·기계·전기·전자</th>\n",
       "      <th>경영·기획·회계·사무</th>\n",
       "      <th>기타 직종</th>\n",
       "      <th>디자인</th>\n",
       "      <th>문화·예술·신문·방송</th>\n",
       "      <th>영업·판매·TM</th>\n",
       "      <th>재료·화학·섬유·의복</th>\n",
       "      <th>전문·교육·자격</th>\n",
       "      <th>Total</th>\n",
       "    </tr>\n",
       "    <tr>\n",
       "      <th>qualifications</th>\n",
       "      <th></th>\n",
       "      <th></th>\n",
       "      <th></th>\n",
       "      <th></th>\n",
       "      <th></th>\n",
       "      <th></th>\n",
       "      <th></th>\n",
       "      <th></th>\n",
       "      <th></th>\n",
       "      <th></th>\n",
       "    </tr>\n",
       "  </thead>\n",
       "  <tbody>\n",
       "    <tr>\n",
       "      <th>0</th>\n",
       "      <td>0</td>\n",
       "      <td>1</td>\n",
       "      <td>33</td>\n",
       "      <td>0</td>\n",
       "      <td>109</td>\n",
       "      <td>0</td>\n",
       "      <td>3</td>\n",
       "      <td>265</td>\n",
       "      <td>0</td>\n",
       "      <td>411</td>\n",
       "    </tr>\n",
       "    <tr>\n",
       "      <th>1</th>\n",
       "      <td>3</td>\n",
       "      <td>11</td>\n",
       "      <td>1579</td>\n",
       "      <td>1</td>\n",
       "      <td>2207</td>\n",
       "      <td>2</td>\n",
       "      <td>598</td>\n",
       "      <td>33401</td>\n",
       "      <td>9</td>\n",
       "      <td>37811</td>\n",
       "    </tr>\n",
       "    <tr>\n",
       "      <th>2</th>\n",
       "      <td>0</td>\n",
       "      <td>9</td>\n",
       "      <td>975</td>\n",
       "      <td>1</td>\n",
       "      <td>1027</td>\n",
       "      <td>3</td>\n",
       "      <td>259</td>\n",
       "      <td>17448</td>\n",
       "      <td>2</td>\n",
       "      <td>19724</td>\n",
       "    </tr>\n",
       "    <tr>\n",
       "      <th>Total</th>\n",
       "      <td>3</td>\n",
       "      <td>21</td>\n",
       "      <td>2587</td>\n",
       "      <td>2</td>\n",
       "      <td>3343</td>\n",
       "      <td>5</td>\n",
       "      <td>860</td>\n",
       "      <td>51114</td>\n",
       "      <td>11</td>\n",
       "      <td>57946</td>\n",
       "    </tr>\n",
       "  </tbody>\n",
       "</table>\n",
       "</div>"
      ],
      "text/plain": [
       "job_code_seq1   IT·게임  건설·기계·전기·전자  경영·기획·회계·사무  기타 직종   디자인  문화·예술·신문·방송  \\\n",
       "qualifications                                                              \n",
       "0                   0            1           33      0   109            0   \n",
       "1                   3           11         1579      1  2207            2   \n",
       "2                   0            9          975      1  1027            3   \n",
       "Total               3           21         2587      2  3343            5   \n",
       "\n",
       "job_code_seq1   영업·판매·TM  재료·화학·섬유·의복  전문·교육·자격  Total  \n",
       "qualifications                                          \n",
       "0                      3          265         0    411  \n",
       "1                    598        33401         9  37811  \n",
       "2                    259        17448         2  19724  \n",
       "Total                860        51114        11  57946  "
      ]
     },
     "execution_count": 58,
     "metadata": {},
     "output_type": "execute_result"
    }
   ],
   "source": [
    "count_df"
   ]
  },
  {
   "cell_type": "code",
   "execution_count": 59,
   "id": "5199b991-6774-4e13-a1ba-4c3ab0d2b84f",
   "metadata": {},
   "outputs": [
    {
     "name": "stdout",
     "output_type": "stream",
     "text": [
      "Chi-square Statistic: 391.6714684895406\n",
      "P-value: 2.0237540955873892e-73\n",
      "Degrees of Freedom: 16\n",
      "Expected Frequencies:\n",
      "job_code_seq1      IT·게임  건설·기계·전기·전자  경영·기획·회계·사무     기타 직종          디자인  \\\n",
      "qualifications                                                              \n",
      "0               0.021278     0.148949    18.349101  0.014186    23.711266   \n",
      "1               1.957564    13.702948  1688.072637  1.305043  2181.378749   \n",
      "2               1.021158     7.148103   880.578263  0.680772  1137.909985   \n",
      "\n",
      "job_code_seq1   문화·예술·신문·방송    영업·판매·TM   재료·화학·섬유·의복  전문·교육·자격  \n",
      "qualifications                                                   \n",
      "0                  0.035464    6.099817    362.541918  0.078021  \n",
      "1                  3.262607  561.168329  33352.974390  7.177734  \n",
      "2                  1.701929  292.731854  17398.483692  3.744245  \n"
     ]
    }
   ],
   "source": [
    "analyze_chi_square(count_df);"
   ]
  },
  {
   "cell_type": "code",
   "execution_count": 60,
   "id": "6eedca00-014f-4130-858f-7dc472bc12cf",
   "metadata": {},
   "outputs": [
    {
     "data": {
      "text/html": [
       "<div>\n",
       "<style scoped>\n",
       "    .dataframe tbody tr th:only-of-type {\n",
       "        vertical-align: middle;\n",
       "    }\n",
       "\n",
       "    .dataframe tbody tr th {\n",
       "        vertical-align: top;\n",
       "    }\n",
       "\n",
       "    .dataframe thead th {\n",
       "        text-align: right;\n",
       "    }\n",
       "</style>\n",
       "<table border=\"1\" class=\"dataframe\">\n",
       "  <thead>\n",
       "    <tr style=\"text-align: right;\">\n",
       "      <th>job_code_seq1</th>\n",
       "      <th>경영·기획·회계·사무</th>\n",
       "      <th>디자인</th>\n",
       "      <th>영업·판매·TM</th>\n",
       "      <th>재료·화학·섬유·의복</th>\n",
       "      <th>Total</th>\n",
       "    </tr>\n",
       "    <tr>\n",
       "      <th>qualifications</th>\n",
       "      <th></th>\n",
       "      <th></th>\n",
       "      <th></th>\n",
       "      <th></th>\n",
       "      <th></th>\n",
       "    </tr>\n",
       "  </thead>\n",
       "  <tbody>\n",
       "    <tr>\n",
       "      <th>0</th>\n",
       "      <td>1.798453</td>\n",
       "      <td>4.596971</td>\n",
       "      <td>0.491818</td>\n",
       "      <td>0.730950</td>\n",
       "      <td>0.007093</td>\n",
       "    </tr>\n",
       "    <tr>\n",
       "      <th>1</th>\n",
       "      <td>0.935386</td>\n",
       "      <td>1.011745</td>\n",
       "      <td>1.065634</td>\n",
       "      <td>1.001440</td>\n",
       "      <td>0.652521</td>\n",
       "    </tr>\n",
       "    <tr>\n",
       "      <th>2</th>\n",
       "      <td>1.107227</td>\n",
       "      <td>0.902532</td>\n",
       "      <td>0.884769</td>\n",
       "      <td>1.002846</td>\n",
       "      <td>0.340386</td>\n",
       "    </tr>\n",
       "    <tr>\n",
       "      <th>Total</th>\n",
       "      <td>2587.000000</td>\n",
       "      <td>3343.000000</td>\n",
       "      <td>860.000000</td>\n",
       "      <td>51114.000000</td>\n",
       "      <td>57946.000000</td>\n",
       "    </tr>\n",
       "  </tbody>\n",
       "</table>\n",
       "</div>"
      ],
      "text/plain": [
       "job_code_seq1   경영·기획·회계·사무          디자인    영업·판매·TM   재료·화학·섬유·의복  \\\n",
       "qualifications                                                       \n",
       "0                  1.798453     4.596971    0.491818      0.730950   \n",
       "1                  0.935386     1.011745    1.065634      1.001440   \n",
       "2                  1.107227     0.902532    0.884769      1.002846   \n",
       "Total           2587.000000  3343.000000  860.000000  51114.000000   \n",
       "\n",
       "job_code_seq1          Total  \n",
       "qualifications                \n",
       "0                   0.007093  \n",
       "1                   0.652521  \n",
       "2                   0.340386  \n",
       "Total           57946.000000  "
      ]
     },
     "execution_count": 60,
     "metadata": {},
     "output_type": "execute_result"
    }
   ],
   "source": [
    "ratio_df_hue_ratio"
   ]
  },
  {
   "cell_type": "code",
   "execution_count": 61,
   "id": "f66f4b87-f91d-467b-8f5a-72505fe7225d",
   "metadata": {},
   "outputs": [
    {
     "data": {
      "image/png": "[encoded data removed]",
      "text/plain": [
       "<Figure size 640x480 with 2 Axes>"
      ]
     },
     "metadata": {},
     "output_type": "display_data"
    }
   ],
   "source": [
    "sns.heatmap(ratio_df_hue_ratio.iloc[:-1, :-1], cmap=\"Blues\", annot=True, fmt=\".3f\")\n",
    "plt.yticks(rotation=0)  # Adjust the rotation angle here (0 for horizontal, 90 for vertical)\n",
    "plt.show()"
   ]
  },
  {
   "cell_type": "markdown",
   "id": "fbe4e9c9-471b-4994-846f-566259b0f9c7",
   "metadata": {},
   "source": [
    "# 인기도 가중치"
   ]
  },
  {
   "cell_type": "code",
   "execution_count": 62,
   "id": "6c3535b4-298b-4d87-852a-18ef4a833209",
   "metadata": {},
   "outputs": [],
   "source": [
    "def create_weight_df(origin_df, popularity_df, target_cols, grouping_col, limit_ratio=0.005):\n",
    "    merged_df = popularity_df.copy()\n",
    "    weight_dfs = []\n",
    "    for target_col in target_cols:\n",
    "        _, ratio_df_hue_ratio = calculate_ratio_df_with_hue(origin_df, target_col, grouping_col, limit_ratio)\n",
    "\n",
    "        weight_df = ratio_df_hue_ratio.iloc[:-1, :-1].reset_index()\n",
    "        weight_df = weight_df.melt(id_vars=target_col, var_name=grouping_col, value_name=f'{target_col}_weight')\n",
    "        weight_dfs.append(weight_df)\n",
    "        \n",
    "        merged_df = merged_df.merge(weight_df, how='inner', on=[grouping_col, target_col])\n",
    "    return merged_df, weight_dfs"
   ]
  },
  {
   "cell_type": "code",
   "execution_count": 63,
   "id": "4b039f03-eb4a-4ccb-b411-aeb587b959d5",
   "metadata": {},
   "outputs": [],
   "source": [
    "mms = MinMaxScaler()\n",
    "stds = StandardScaler()"
   ]
  },
  {
   "cell_type": "markdown",
   "id": "a0310cf2-c31f-47b3-a6fc-9f401b620788",
   "metadata": {},
   "source": [
    "## degree"
   ]
  },
  {
   "cell_type": "markdown",
   "id": "dc82f5ce-519a-4904-9584-03479521f46f",
   "metadata": {},
   "source": [
    "### degree별 공고 지원 수"
   ]
  },
  {
   "cell_type": "code",
   "execution_count": 64,
   "id": "06efbe7e-f717-459b-b476-4a09aee34a8e",
   "metadata": {},
   "outputs": [],
   "source": [
    "degree_pop = merged_df.groupby(['degree', 'recruitment_seq']).size().to_frame().reset_index()\n",
    "degree_pop.rename(columns={0:'count'}, inplace=True)\n",
    "degree_pop = degree_pop.sort_values(['degree', 'count'], ascending=[True,False])"
   ]
  },
  {
   "cell_type": "code",
   "execution_count": 65,
   "id": "72fb149a-2ee0-43b0-adee-117328194534",
   "metadata": {},
   "outputs": [],
   "source": [
    "degree_pop['score'] = degree_pop.groupby('degree')['count'].apply(lambda g: g/max(g))"
   ]
  },
  {
   "cell_type": "markdown",
   "id": "b0dadfe0-f539-4c39-a807-1a97dc6749c8",
   "metadata": {},
   "source": [
    "### 비율 가중치"
   ]
  },
  {
   "cell_type": "code",
   "execution_count": 66,
   "id": "191ef8dd-f295-422d-b501-14ff191400e3",
   "metadata": {},
   "outputs": [
    {
     "data": {
      "text/html": [
       "<div>\n",
       "<style scoped>\n",
       "    .dataframe tbody tr th:only-of-type {\n",
       "        vertical-align: middle;\n",
       "    }\n",
       "\n",
       "    .dataframe tbody tr th {\n",
       "        vertical-align: top;\n",
       "    }\n",
       "\n",
       "    .dataframe thead th {\n",
       "        text-align: right;\n",
       "    }\n",
       "</style>\n",
       "<table border=\"1\" class=\"dataframe\">\n",
       "  <thead>\n",
       "    <tr style=\"text-align: right;\">\n",
       "      <th></th>\n",
       "      <th>degree</th>\n",
       "      <th>recruitment_seq</th>\n",
       "      <th>count</th>\n",
       "      <th>score</th>\n",
       "      <th>address_seq1</th>\n",
       "      <th>education</th>\n",
       "      <th>major_task</th>\n",
       "      <th>qualifications</th>\n",
       "    </tr>\n",
       "  </thead>\n",
       "  <tbody>\n",
       "    <tr>\n",
       "      <th>0</th>\n",
       "      <td>2</td>\n",
       "      <td>R04150</td>\n",
       "      <td>4</td>\n",
       "      <td>1.000000</td>\n",
       "      <td>3.0</td>\n",
       "      <td>3</td>\n",
       "      <td>2</td>\n",
       "      <td>1</td>\n",
       "    </tr>\n",
       "    <tr>\n",
       "      <th>1</th>\n",
       "      <td>3</td>\n",
       "      <td>R04150</td>\n",
       "      <td>0</td>\n",
       "      <td>0.000000</td>\n",
       "      <td>3.0</td>\n",
       "      <td>3</td>\n",
       "      <td>2</td>\n",
       "      <td>1</td>\n",
       "    </tr>\n",
       "    <tr>\n",
       "      <th>2</th>\n",
       "      <td>4</td>\n",
       "      <td>R04150</td>\n",
       "      <td>8</td>\n",
       "      <td>0.121212</td>\n",
       "      <td>3.0</td>\n",
       "      <td>3</td>\n",
       "      <td>2</td>\n",
       "      <td>1</td>\n",
       "    </tr>\n",
       "    <tr>\n",
       "      <th>3</th>\n",
       "      <td>5</td>\n",
       "      <td>R04150</td>\n",
       "      <td>1</td>\n",
       "      <td>0.142857</td>\n",
       "      <td>3.0</td>\n",
       "      <td>3</td>\n",
       "      <td>2</td>\n",
       "      <td>1</td>\n",
       "    </tr>\n",
       "    <tr>\n",
       "      <th>4</th>\n",
       "      <td>6</td>\n",
       "      <td>R04150</td>\n",
       "      <td>0</td>\n",
       "      <td>0.000000</td>\n",
       "      <td>3.0</td>\n",
       "      <td>3</td>\n",
       "      <td>2</td>\n",
       "      <td>1</td>\n",
       "    </tr>\n",
       "  </tbody>\n",
       "</table>\n",
       "</div>"
      ],
      "text/plain": [
       "  degree recruitment_seq  count     score address_seq1 education major_task  \\\n",
       "0      2          R04150      4  1.000000          3.0         3          2   \n",
       "1      3          R04150      0  0.000000          3.0         3          2   \n",
       "2      4          R04150      8  0.121212          3.0         3          2   \n",
       "3      5          R04150      1  0.142857          3.0         3          2   \n",
       "4      6          R04150      0  0.000000          3.0         3          2   \n",
       "\n",
       "  qualifications  \n",
       "0              1  \n",
       "1              1  \n",
       "2              1  \n",
       "3              1  \n",
       "4              1  "
      ]
     },
     "execution_count": 66,
     "metadata": {},
     "output_type": "execute_result"
    }
   ],
   "source": [
    "degree_pop = degree_pop.merge(recruitment, how='inner', on='recruitment_seq')\n",
    "degree_pop.head()"
   ]
  },
  {
   "cell_type": "markdown",
   "id": "405309ec-4a2e-432a-a04b-6a514446b3f3",
   "metadata": {},
   "source": [
    "#### recruitment_feature : degree 가중치"
   ]
  },
  {
   "cell_type": "code",
   "execution_count": 67,
   "id": "0a81822f-5ed8-47ba-8c5e-7bc86a11adf3",
   "metadata": {},
   "outputs": [],
   "source": [
    "degree_weight_pop, weight_dfs = create_weight_df(merged_df, degree_pop, ['address_seq1', 'education',\n",
    "                                                      'major_task', 'qualifications'], 'degree')"
   ]
  },
  {
   "cell_type": "code",
   "execution_count": 68,
   "id": "8957c243-f173-4fd3-b2fa-55b024e57469",
   "metadata": {},
   "outputs": [],
   "source": [
    "degree_weight_pop_columns = degree_weight_pop.filter(like='_weight').columns\n",
    "degree_weight_pop['multiplied_weight'] = degree_weight_pop.loc[:, degree_weight_pop_columns].prod(axis=1)\n",
    "degree_weight_pop['w_score'] = degree_weight_pop.loc[:, ['score', 'multiplied_weight']].prod(axis=1)"
   ]
  },
  {
   "cell_type": "markdown",
   "id": "bbfa107b-2dd8-484f-9365-eca5db0c1ca4",
   "metadata": {},
   "source": [
    "## job_code_seq1"
   ]
  },
  {
   "cell_type": "markdown",
   "id": "3e629fb2-eeeb-4764-9800-96b7af6c8781",
   "metadata": {},
   "source": [
    "### job_code_seq1별 공고 지원 수"
   ]
  },
  {
   "cell_type": "code",
   "execution_count": 69,
   "id": "370cdb8c-c260-4c0a-bcf8-aa4e59e11281",
   "metadata": {},
   "outputs": [],
   "source": [
    "job_code_pop = merged_df.groupby(['job_code_seq1', 'recruitment_seq']).size().to_frame().reset_index()\n",
    "job_code_pop.rename(columns={0:'count'}, inplace=True)\n",
    "job_code_pop = job_code_pop.sort_values(['job_code_seq1', 'count'], ascending=[True,False])"
   ]
  },
  {
   "cell_type": "code",
   "execution_count": 70,
   "id": "1c3ef8e4-1d5a-4b11-b2a3-6cb67ba93fb7",
   "metadata": {},
   "outputs": [],
   "source": [
    "job_code_pop['score'] = job_code_pop.groupby('job_code_seq1')['count'].apply(lambda g: g/max(g))"
   ]
  },
  {
   "cell_type": "markdown",
   "id": "614f9219-5e16-4879-8976-58ffa7f1d356",
   "metadata": {},
   "source": [
    "### 비율 가중치"
   ]
  },
  {
   "cell_type": "code",
   "execution_count": 71,
   "id": "43aae3b8-46bc-4cdf-8829-3cfda3589b13",
   "metadata": {},
   "outputs": [
    {
     "data": {
      "text/html": [
       "<div>\n",
       "<style scoped>\n",
       "    .dataframe tbody tr th:only-of-type {\n",
       "        vertical-align: middle;\n",
       "    }\n",
       "\n",
       "    .dataframe tbody tr th {\n",
       "        vertical-align: top;\n",
       "    }\n",
       "\n",
       "    .dataframe thead th {\n",
       "        text-align: right;\n",
       "    }\n",
       "</style>\n",
       "<table border=\"1\" class=\"dataframe\">\n",
       "  <thead>\n",
       "    <tr style=\"text-align: right;\">\n",
       "      <th></th>\n",
       "      <th>job_code_seq1</th>\n",
       "      <th>recruitment_seq</th>\n",
       "      <th>count</th>\n",
       "      <th>score</th>\n",
       "      <th>address_seq1</th>\n",
       "      <th>education</th>\n",
       "      <th>major_task</th>\n",
       "      <th>qualifications</th>\n",
       "    </tr>\n",
       "  </thead>\n",
       "  <tbody>\n",
       "    <tr>\n",
       "      <th>0</th>\n",
       "      <td>IT·게임</td>\n",
       "      <td>R02682</td>\n",
       "      <td>1</td>\n",
       "      <td>1.0</td>\n",
       "      <td>3.0</td>\n",
       "      <td>2</td>\n",
       "      <td>2</td>\n",
       "      <td>1</td>\n",
       "    </tr>\n",
       "    <tr>\n",
       "      <th>1</th>\n",
       "      <td>건설·기계·전기·전자</td>\n",
       "      <td>R02682</td>\n",
       "      <td>0</td>\n",
       "      <td>0.0</td>\n",
       "      <td>3.0</td>\n",
       "      <td>2</td>\n",
       "      <td>2</td>\n",
       "      <td>1</td>\n",
       "    </tr>\n",
       "    <tr>\n",
       "      <th>2</th>\n",
       "      <td>경영·기획·회계·사무</td>\n",
       "      <td>R02682</td>\n",
       "      <td>0</td>\n",
       "      <td>0.0</td>\n",
       "      <td>3.0</td>\n",
       "      <td>2</td>\n",
       "      <td>2</td>\n",
       "      <td>1</td>\n",
       "    </tr>\n",
       "    <tr>\n",
       "      <th>3</th>\n",
       "      <td>기타 직종</td>\n",
       "      <td>R02682</td>\n",
       "      <td>0</td>\n",
       "      <td>0.0</td>\n",
       "      <td>3.0</td>\n",
       "      <td>2</td>\n",
       "      <td>2</td>\n",
       "      <td>1</td>\n",
       "    </tr>\n",
       "    <tr>\n",
       "      <th>4</th>\n",
       "      <td>디자인</td>\n",
       "      <td>R02682</td>\n",
       "      <td>0</td>\n",
       "      <td>0.0</td>\n",
       "      <td>3.0</td>\n",
       "      <td>2</td>\n",
       "      <td>2</td>\n",
       "      <td>1</td>\n",
       "    </tr>\n",
       "  </tbody>\n",
       "</table>\n",
       "</div>"
      ],
      "text/plain": [
       "  job_code_seq1 recruitment_seq  count  score address_seq1 education  \\\n",
       "0         IT·게임          R02682      1    1.0          3.0         2   \n",
       "1   건설·기계·전기·전자          R02682      0    0.0          3.0         2   \n",
       "2   경영·기획·회계·사무          R02682      0    0.0          3.0         2   \n",
       "3         기타 직종          R02682      0    0.0          3.0         2   \n",
       "4           디자인          R02682      0    0.0          3.0         2   \n",
       "\n",
       "  major_task qualifications  \n",
       "0          2              1  \n",
       "1          2              1  \n",
       "2          2              1  \n",
       "3          2              1  \n",
       "4          2              1  "
      ]
     },
     "execution_count": 71,
     "metadata": {},
     "output_type": "execute_result"
    }
   ],
   "source": [
    "job_code_pop = job_code_pop.merge(recruitment, how='inner', on='recruitment_seq')\n",
    "job_code_pop.head()"
   ]
  },
  {
   "cell_type": "markdown",
   "id": "e68e0f36-ee53-48b5-b4b2-f2fa53ad9e22",
   "metadata": {},
   "source": [
    "#### recruitment_feature : job_code_seq1 가중치"
   ]
  },
  {
   "cell_type": "code",
   "execution_count": 72,
   "id": "0e4d807f-6be2-456b-b34c-fece76e76c74",
   "metadata": {},
   "outputs": [],
   "source": [
    "job_code_weight_pop, weight_dfs = create_weight_df(merged_df, job_code_pop, ['address_seq1', 'education',\n",
    "                                                      'major_task', 'qualifications'], 'job_code_seq1')"
   ]
  },
  {
   "cell_type": "code",
   "execution_count": 73,
   "id": "847409e6-bbe7-4f20-8802-2f0037fdbeac",
   "metadata": {},
   "outputs": [],
   "source": [
    "job_code_weight_pop_columns = job_code_weight_pop.filter(like='_weight').columns\n",
    "job_code_weight_pop['multiplied_weight'] = job_code_weight_pop.loc[:, job_code_weight_pop_columns].prod(axis=1)\n",
    "job_code_weight_pop['w_score'] = job_code_weight_pop.loc[:, ['score', 'multiplied_weight']].prod(axis=1)"
   ]
  },
  {
   "cell_type": "markdown",
   "id": "e482a22c-91cc-4c9a-9ab5-5fedeb5052f8",
   "metadata": {},
   "source": [
    "# 모델 결과 생성"
   ]
  },
  {
   "cell_type": "markdown",
   "id": "1d1939a2-a690-4a7d-9527-014588eff482",
   "metadata": {},
   "source": [
    "## idx 디코딩"
   ]
  },
  {
   "cell_type": "markdown",
   "id": "cc6a0235-1690-4504-b996-7f10d2d13a66",
   "metadata": {},
   "source": [
    "### 디코딩 딕셔너리 로드"
   ]
  },
  {
   "cell_type": "code",
   "execution_count": 74,
   "id": "3dd41947-8a49-46d9-a69d-7da07b60ff56",
   "metadata": {
    "tags": []
   },
   "outputs": [],
   "source": [
    "DATA_PATH = '../data/'"
   ]
  },
  {
   "cell_type": "code",
   "execution_count": 75,
   "id": "693caca9-395c-4db0-a281-f4afefb680f1",
   "metadata": {
    "tags": []
   },
   "outputs": [],
   "source": [
    "resume_decode = pd.read_csv(f\"{DATA_PATH}idx_2_resume.txt\", delimiter=\" \", header=None)\n",
    "resume_decode = resume_decode.set_index(0).to_dict()[1]"
   ]
  },
  {
   "cell_type": "code",
   "execution_count": 76,
   "id": "4542bd87-d797-46e2-902a-fb50125652db",
   "metadata": {
    "tags": []
   },
   "outputs": [],
   "source": [
    "recruitment_decode = pd.read_csv(f\"{DATA_PATH}/idx_2_recruitment.txt\", delimiter=\" \", header=None)\n",
    "recruitment_decode = recruitment_decode.set_index(0).to_dict()[1]"
   ]
  },
  {
   "cell_type": "markdown",
   "id": "23b893a3-b178-4372-b747-986e289e2a05",
   "metadata": {
    "tags": []
   },
   "source": [
    "## CF 모델"
   ]
  },
  {
   "cell_type": "code",
   "execution_count": 77,
   "id": "1a2c90fe-c182-4d8d-8579-05eb4d89a9b4",
   "metadata": {},
   "outputs": [],
   "source": [
    "DATA_SET = \"JOB\""
   ]
  },
  {
   "cell_type": "code",
   "execution_count": 78,
   "id": "b867c9d9-aa23-4389-bcfe-2b805de16d07",
   "metadata": {},
   "outputs": [],
   "source": [
    "CF_FOLDER_PATH = '../CF/results/'\n",
    "cf_proba = pd.read_csv(f'{CF_FOLDER_PATH}pred_prob_{DATA_SET}.txt', delimiter=' ', header=None)\n",
    "cf_rating_idx = pd.read_csv(f'{CF_FOLDER_PATH}pred_idx_{DATA_SET}.txt', delimiter=' ', header=None)"
   ]
  },
  {
   "cell_type": "code",
   "execution_count": 79,
   "id": "62e90426-429d-481b-868d-796d47056dba",
   "metadata": {},
   "outputs": [
    {
     "data": {
      "text/html": [
       "<div>\n",
       "<style scoped>\n",
       "    .dataframe tbody tr th:only-of-type {\n",
       "        vertical-align: middle;\n",
       "    }\n",
       "\n",
       "    .dataframe tbody tr th {\n",
       "        vertical-align: top;\n",
       "    }\n",
       "\n",
       "    .dataframe thead th {\n",
       "        text-align: right;\n",
       "    }\n",
       "</style>\n",
       "<table border=\"1\" class=\"dataframe\">\n",
       "  <thead>\n",
       "    <tr style=\"text-align: right;\">\n",
       "      <th></th>\n",
       "      <th>resume_idx</th>\n",
       "      <th>recruitment_idx</th>\n",
       "      <th>cf_score</th>\n",
       "    </tr>\n",
       "  </thead>\n",
       "  <tbody>\n",
       "    <tr>\n",
       "      <th>0</th>\n",
       "      <td>0</td>\n",
       "      <td>357</td>\n",
       "      <td>1.000000</td>\n",
       "    </tr>\n",
       "    <tr>\n",
       "      <th>1</th>\n",
       "      <td>0</td>\n",
       "      <td>2832</td>\n",
       "      <td>0.838635</td>\n",
       "    </tr>\n",
       "    <tr>\n",
       "      <th>2</th>\n",
       "      <td>0</td>\n",
       "      <td>156</td>\n",
       "      <td>0.731138</td>\n",
       "    </tr>\n",
       "    <tr>\n",
       "      <th>3</th>\n",
       "      <td>0</td>\n",
       "      <td>5164</td>\n",
       "      <td>0.700984</td>\n",
       "    </tr>\n",
       "    <tr>\n",
       "      <th>4</th>\n",
       "      <td>0</td>\n",
       "      <td>4670</td>\n",
       "      <td>0.672044</td>\n",
       "    </tr>\n",
       "  </tbody>\n",
       "</table>\n",
       "</div>"
      ],
      "text/plain": [
       "   resume_idx  recruitment_idx  cf_score\n",
       "0           0              357  1.000000\n",
       "1           0             2832  0.838635\n",
       "2           0              156  0.731138\n",
       "3           0             5164  0.700984\n",
       "4           0             4670  0.672044"
      ]
     },
     "execution_count": 79,
     "metadata": {},
     "output_type": "execute_result"
    }
   ],
   "source": [
    "cf_score = create_score_dataframe(cf_proba, cf_rating_idx, \"cf\")\n",
    "cf_score.head()"
   ]
  },
  {
   "cell_type": "code",
   "execution_count": 80,
   "id": "324d1a3b-6bcb-4352-a4b8-33d57a92fdcb",
   "metadata": {},
   "outputs": [],
   "source": [
    "sbm_cf = create_submission(cf_rating_idx, resume_decode, recruitment_decode)"
   ]
  },
  {
   "cell_type": "markdown",
   "id": "83b721d9-82c7-4527-933d-2860f9fea069",
   "metadata": {
    "tags": []
   },
   "source": [
    "## LTOCF 모델"
   ]
  },
  {
   "cell_type": "code",
   "execution_count": 81,
   "id": "38993b51-a3d7-45e4-9cf1-c04b17289a11",
   "metadata": {},
   "outputs": [],
   "source": [
    "LTOCF_FOLDER_PATH = '../LT-OCF/results/'\n",
    "LTOCF_FILE_NAME = 'JOB_360_0.0030__319'"
   ]
  },
  {
   "cell_type": "code",
   "execution_count": 82,
   "id": "8cf09726-6a15-469d-b8eb-15760e5fd087",
   "metadata": {},
   "outputs": [],
   "source": [
    "lt_proba = pd.read_csv(f'{LTOCF_FOLDER_PATH}proba_{LTOCF_FILE_NAME}.txt', delimiter=' ', header=None)\n",
    "lt_rating_idx= pd.read_csv(f'{LTOCF_FOLDER_PATH}rating_{LTOCF_FILE_NAME}.txt', delimiter=' ', header=None)\n",
    "lt_user = pd.read_csv(f'{LTOCF_FOLDER_PATH}user_{LTOCF_FILE_NAME}.txt', delimiter=' ', header=None)"
   ]
  },
  {
   "cell_type": "code",
   "execution_count": 83,
   "id": "f0157650-6e98-49ca-9d54-886f534b5671",
   "metadata": {},
   "outputs": [],
   "source": [
    "lt_proba_df = pd.concat([lt_user, lt_proba], axis=1)\n",
    "lt_idx_df = pd.concat([lt_user, lt_rating_idx], axis=1)"
   ]
  },
  {
   "cell_type": "code",
   "execution_count": 84,
   "id": "b894efe2-bd9b-48d0-bf4c-3b7f013654d7",
   "metadata": {},
   "outputs": [
    {
     "data": {
      "text/html": [
       "<div>\n",
       "<style scoped>\n",
       "    .dataframe tbody tr th:only-of-type {\n",
       "        vertical-align: middle;\n",
       "    }\n",
       "\n",
       "    .dataframe tbody tr th {\n",
       "        vertical-align: top;\n",
       "    }\n",
       "\n",
       "    .dataframe thead th {\n",
       "        text-align: right;\n",
       "    }\n",
       "</style>\n",
       "<table border=\"1\" class=\"dataframe\">\n",
       "  <thead>\n",
       "    <tr style=\"text-align: right;\">\n",
       "      <th></th>\n",
       "      <th>resume_idx</th>\n",
       "      <th>recruitment_idx</th>\n",
       "      <th>ltocf_score</th>\n",
       "    </tr>\n",
       "  </thead>\n",
       "  <tbody>\n",
       "    <tr>\n",
       "      <th>0</th>\n",
       "      <td>0</td>\n",
       "      <td>357</td>\n",
       "      <td>0.999983</td>\n",
       "    </tr>\n",
       "    <tr>\n",
       "      <th>1</th>\n",
       "      <td>0</td>\n",
       "      <td>156</td>\n",
       "      <td>0.999955</td>\n",
       "    </tr>\n",
       "    <tr>\n",
       "      <th>2</th>\n",
       "      <td>0</td>\n",
       "      <td>1965</td>\n",
       "      <td>0.999934</td>\n",
       "    </tr>\n",
       "    <tr>\n",
       "      <th>3</th>\n",
       "      <td>0</td>\n",
       "      <td>1030</td>\n",
       "      <td>0.999892</td>\n",
       "    </tr>\n",
       "    <tr>\n",
       "      <th>4</th>\n",
       "      <td>0</td>\n",
       "      <td>2832</td>\n",
       "      <td>0.999884</td>\n",
       "    </tr>\n",
       "  </tbody>\n",
       "</table>\n",
       "</div>"
      ],
      "text/plain": [
       "   resume_idx  recruitment_idx  ltocf_score\n",
       "0           0              357     0.999983\n",
       "1           0              156     0.999955\n",
       "2           0             1965     0.999934\n",
       "3           0             1030     0.999892\n",
       "4           0             2832     0.999884"
      ]
     },
     "execution_count": 84,
     "metadata": {},
     "output_type": "execute_result"
    }
   ],
   "source": [
    "ltocf_score = create_score_dataframe(lt_proba_df, lt_idx_df, \"ltocf\")\n",
    "ltocf_score.head()"
   ]
  },
  {
   "cell_type": "code",
   "execution_count": 85,
   "id": "67107c52-a9bd-4b2d-a9a7-ea6e773c6c9e",
   "metadata": {},
   "outputs": [],
   "source": [
    "lt_idx_df.columns = range(lt_idx_df.shape[1])"
   ]
  },
  {
   "cell_type": "code",
   "execution_count": 112,
   "id": "5e4a9579-97cf-4c16-83c4-25c5f5980a16",
   "metadata": {},
   "outputs": [
    {
     "data": {
      "text/html": [
       "<div>\n",
       "<style scoped>\n",
       "    .dataframe tbody tr th:only-of-type {\n",
       "        vertical-align: middle;\n",
       "    }\n",
       "\n",
       "    .dataframe tbody tr th {\n",
       "        vertical-align: top;\n",
       "    }\n",
       "\n",
       "    .dataframe thead th {\n",
       "        text-align: right;\n",
       "    }\n",
       "</style>\n",
       "<table border=\"1\" class=\"dataframe\">\n",
       "  <thead>\n",
       "    <tr style=\"text-align: right;\">\n",
       "      <th></th>\n",
       "      <th>resume_seq</th>\n",
       "      <th>recruitment_seq</th>\n",
       "    </tr>\n",
       "  </thead>\n",
       "  <tbody>\n",
       "    <tr>\n",
       "      <th>0</th>\n",
       "      <td>U05833</td>\n",
       "      <td>R00585</td>\n",
       "    </tr>\n",
       "    <tr>\n",
       "      <th>8482</th>\n",
       "      <td>U05833</td>\n",
       "      <td>R03943</td>\n",
       "    </tr>\n",
       "    <tr>\n",
       "      <th>16964</th>\n",
       "      <td>U05833</td>\n",
       "      <td>R02130</td>\n",
       "    </tr>\n",
       "    <tr>\n",
       "      <th>25446</th>\n",
       "      <td>U05833</td>\n",
       "      <td>R05895</td>\n",
       "    </tr>\n",
       "    <tr>\n",
       "      <th>33928</th>\n",
       "      <td>U05833</td>\n",
       "      <td>R01455</td>\n",
       "    </tr>\n",
       "    <tr>\n",
       "      <th>...</th>\n",
       "      <td>...</td>\n",
       "      <td>...</td>\n",
       "    </tr>\n",
       "    <tr>\n",
       "      <th>8481</th>\n",
       "      <td>U05310</td>\n",
       "      <td>R05742</td>\n",
       "    </tr>\n",
       "    <tr>\n",
       "      <th>16963</th>\n",
       "      <td>U05310</td>\n",
       "      <td>R01690</td>\n",
       "    </tr>\n",
       "    <tr>\n",
       "      <th>25445</th>\n",
       "      <td>U05310</td>\n",
       "      <td>R04643</td>\n",
       "    </tr>\n",
       "    <tr>\n",
       "      <th>33927</th>\n",
       "      <td>U05310</td>\n",
       "      <td>R00780</td>\n",
       "    </tr>\n",
       "    <tr>\n",
       "      <th>42409</th>\n",
       "      <td>U05310</td>\n",
       "      <td>R06681</td>\n",
       "    </tr>\n",
       "  </tbody>\n",
       "</table>\n",
       "<p>42410 rows × 2 columns</p>\n",
       "</div>"
      ],
      "text/plain": [
       "      resume_seq recruitment_seq\n",
       "0         U05833          R00585\n",
       "8482      U05833          R03943\n",
       "16964     U05833          R02130\n",
       "25446     U05833          R05895\n",
       "33928     U05833          R01455\n",
       "...          ...             ...\n",
       "8481      U05310          R05742\n",
       "16963     U05310          R01690\n",
       "25445     U05310          R04643\n",
       "33927     U05310          R00780\n",
       "42409     U05310          R06681\n",
       "\n",
       "[42410 rows x 2 columns]"
      ]
     },
     "execution_count": 112,
     "metadata": {},
     "output_type": "execute_result"
    }
   ],
   "source": [
    "sbm_ltocf = create_submission(lt_idx_df, resume_decode, recruitment_decode)\n",
    "sbm_ltocf"
   ]
  },
  {
   "cell_type": "code",
   "execution_count": null,
   "id": "944101f7-860c-4c7e-9ff3-6f9b201cc24f",
   "metadata": {},
   "outputs": [],
   "source": []
  },
  {
   "cell_type": "markdown",
   "id": "ad245084-2ca4-4ff0-90e6-89262d64caab",
   "metadata": {},
   "source": [
    "# 모델 결과 + 인기도 가중치"
   ]
  },
  {
   "cell_type": "markdown",
   "id": "1dbd0991-c773-49e2-b983-5a397fe38c9e",
   "metadata": {},
   "source": [
    "## CF 모델 인기도 가중치 적용"
   ]
  },
  {
   "cell_type": "code",
   "execution_count": 86,
   "id": "0c2e9bce-279d-4e15-ba9c-3adb49fd7b26",
   "metadata": {},
   "outputs": [
    {
     "data": {
      "text/html": [
       "<div>\n",
       "<style scoped>\n",
       "    .dataframe tbody tr th:only-of-type {\n",
       "        vertical-align: middle;\n",
       "    }\n",
       "\n",
       "    .dataframe tbody tr th {\n",
       "        vertical-align: top;\n",
       "    }\n",
       "\n",
       "    .dataframe thead th {\n",
       "        text-align: right;\n",
       "    }\n",
       "</style>\n",
       "<table border=\"1\" class=\"dataframe\">\n",
       "  <thead>\n",
       "    <tr style=\"text-align: right;\">\n",
       "      <th></th>\n",
       "      <th>resume_idx</th>\n",
       "      <th>recruitment_idx</th>\n",
       "      <th>cf_score</th>\n",
       "      <th>resume_seq</th>\n",
       "      <th>recruitment_seq</th>\n",
       "    </tr>\n",
       "  </thead>\n",
       "  <tbody>\n",
       "    <tr>\n",
       "      <th>0</th>\n",
       "      <td>0</td>\n",
       "      <td>357</td>\n",
       "      <td>1.000000</td>\n",
       "      <td>U05833</td>\n",
       "      <td>R00585</td>\n",
       "    </tr>\n",
       "    <tr>\n",
       "      <th>1</th>\n",
       "      <td>0</td>\n",
       "      <td>2832</td>\n",
       "      <td>0.838635</td>\n",
       "      <td>U05833</td>\n",
       "      <td>R01455</td>\n",
       "    </tr>\n",
       "    <tr>\n",
       "      <th>2</th>\n",
       "      <td>0</td>\n",
       "      <td>156</td>\n",
       "      <td>0.731138</td>\n",
       "      <td>U05833</td>\n",
       "      <td>R03943</td>\n",
       "    </tr>\n",
       "    <tr>\n",
       "      <th>3</th>\n",
       "      <td>0</td>\n",
       "      <td>5164</td>\n",
       "      <td>0.700984</td>\n",
       "      <td>U05833</td>\n",
       "      <td>R00304</td>\n",
       "    </tr>\n",
       "    <tr>\n",
       "      <th>4</th>\n",
       "      <td>0</td>\n",
       "      <td>4670</td>\n",
       "      <td>0.672044</td>\n",
       "      <td>U05833</td>\n",
       "      <td>R04100</td>\n",
       "    </tr>\n",
       "  </tbody>\n",
       "</table>\n",
       "</div>"
      ],
      "text/plain": [
       "   resume_idx  recruitment_idx  cf_score resume_seq recruitment_seq\n",
       "0           0              357  1.000000     U05833          R00585\n",
       "1           0             2832  0.838635     U05833          R01455\n",
       "2           0              156  0.731138     U05833          R03943\n",
       "3           0             5164  0.700984     U05833          R00304\n",
       "4           0             4670  0.672044     U05833          R04100"
      ]
     },
     "execution_count": 86,
     "metadata": {},
     "output_type": "execute_result"
    }
   ],
   "source": [
    "cf_score['resume_seq'] = cf_score['resume_idx'].apply(lambda x: resume_decode[x])\n",
    "cf_score['recruitment_seq'] = cf_score['recruitment_idx'].apply(lambda x: recruitment_decode[x])\n",
    "cf_score.head()"
   ]
  },
  {
   "cell_type": "code",
   "execution_count": 87,
   "id": "ea785cd4-aedb-4c84-b64a-f88870275cf2",
   "metadata": {},
   "outputs": [
    {
     "name": "stdout",
     "output_type": "stream",
     "text": [
      "<class 'pandas.core.frame.DataFrame'>\n",
      "Int64Index: 169640 entries, 0 to 169639\n",
      "Data columns (total 7 columns):\n",
      " #   Column           Non-Null Count   Dtype   \n",
      "---  ------           --------------   -----   \n",
      " 0   resume_idx       169640 non-null  int64   \n",
      " 1   recruitment_idx  169640 non-null  int64   \n",
      " 2   cf_score         169640 non-null  float64 \n",
      " 3   resume_seq       169640 non-null  object  \n",
      " 4   recruitment_seq  169640 non-null  object  \n",
      " 5   degree           169640 non-null  category\n",
      " 6   job_code_seq1    169640 non-null  category\n",
      "dtypes: category(2), float64(1), int64(2), object(2)\n",
      "memory usage: 8.1+ MB\n"
     ]
    }
   ],
   "source": [
    "cf_score = cf_score.merge(resume, how='inner', on='resume_seq')\n",
    "cf_score.info()"
   ]
  },
  {
   "cell_type": "markdown",
   "id": "3337abf6-340a-4ff0-a13f-58c08d1f76df",
   "metadata": {},
   "source": [
    "### job_code_seq1"
   ]
  },
  {
   "cell_type": "code",
   "execution_count": 88,
   "id": "624f4ebe-4876-448e-9961-70b16f33017f",
   "metadata": {},
   "outputs": [],
   "source": [
    "job_code_weight_pop_view = job_code_weight_pop[['job_code_seq1', 'recruitment_seq',\n",
    "                                            'score', 'w_score']]"
   ]
  },
  {
   "cell_type": "code",
   "execution_count": 89,
   "id": "861549ac-4cef-4b20-a9ac-32a29744d786",
   "metadata": {},
   "outputs": [
    {
     "name": "stdout",
     "output_type": "stream",
     "text": [
      "<class 'pandas.core.frame.DataFrame'>\n",
      "Int64Index: 169640 entries, 0 to 169639\n",
      "Data columns (total 9 columns):\n",
      " #   Column           Non-Null Count   Dtype   \n",
      "---  ------           --------------   -----   \n",
      " 0   resume_idx       169640 non-null  int64   \n",
      " 1   recruitment_idx  169640 non-null  int64   \n",
      " 2   cf_score         169640 non-null  float64 \n",
      " 3   resume_seq       169640 non-null  object  \n",
      " 4   recruitment_seq  169640 non-null  object  \n",
      " 5   degree           169640 non-null  category\n",
      " 6   job_code_seq1    169640 non-null  object  \n",
      " 7   score            169640 non-null  float64 \n",
      " 8   w_score          169640 non-null  float64 \n",
      "dtypes: category(1), float64(3), int64(2), object(3)\n",
      "memory usage: 11.8+ MB\n"
     ]
    }
   ],
   "source": [
    "cf_score_pop = cf_score.merge(job_code_weight_pop_view, how='left', on=['job_code_seq1', 'recruitment_seq'])\n",
    "cf_score_pop[['score', 'w_score']] = cf_score_pop[['score', 'w_score']].fillna(0)\n",
    "cf_score_pop.info()"
   ]
  },
  {
   "cell_type": "code",
   "execution_count": 90,
   "id": "abef0e8b-d0ab-4136-8351-698a1160b424",
   "metadata": {},
   "outputs": [
    {
     "data": {
      "text/html": [
       "<div>\n",
       "<style scoped>\n",
       "    .dataframe tbody tr th:only-of-type {\n",
       "        vertical-align: middle;\n",
       "    }\n",
       "\n",
       "    .dataframe tbody tr th {\n",
       "        vertical-align: top;\n",
       "    }\n",
       "\n",
       "    .dataframe thead th {\n",
       "        text-align: right;\n",
       "    }\n",
       "</style>\n",
       "<table border=\"1\" class=\"dataframe\">\n",
       "  <thead>\n",
       "    <tr style=\"text-align: right;\">\n",
       "      <th></th>\n",
       "      <th>count</th>\n",
       "      <th>unique</th>\n",
       "      <th>top</th>\n",
       "      <th>freq</th>\n",
       "      <th>mean</th>\n",
       "      <th>std</th>\n",
       "      <th>min</th>\n",
       "      <th>25%</th>\n",
       "      <th>50%</th>\n",
       "      <th>75%</th>\n",
       "      <th>max</th>\n",
       "    </tr>\n",
       "  </thead>\n",
       "  <tbody>\n",
       "    <tr>\n",
       "      <th>resume_idx</th>\n",
       "      <td>169640.0</td>\n",
       "      <td>NaN</td>\n",
       "      <td>NaN</td>\n",
       "      <td>NaN</td>\n",
       "      <td>4240.5</td>\n",
       "      <td>2448.549692</td>\n",
       "      <td>0.0</td>\n",
       "      <td>2120.0</td>\n",
       "      <td>4240.5</td>\n",
       "      <td>6361.0</td>\n",
       "      <td>8481.0</td>\n",
       "    </tr>\n",
       "    <tr>\n",
       "      <th>recruitment_idx</th>\n",
       "      <td>169640.0</td>\n",
       "      <td>NaN</td>\n",
       "      <td>NaN</td>\n",
       "      <td>NaN</td>\n",
       "      <td>2850.453726</td>\n",
       "      <td>1872.30681</td>\n",
       "      <td>0.0</td>\n",
       "      <td>1199.0</td>\n",
       "      <td>2620.0</td>\n",
       "      <td>4379.0</td>\n",
       "      <td>6694.0</td>\n",
       "    </tr>\n",
       "    <tr>\n",
       "      <th>cf_score</th>\n",
       "      <td>169640.0</td>\n",
       "      <td>NaN</td>\n",
       "      <td>NaN</td>\n",
       "      <td>NaN</td>\n",
       "      <td>0.593013</td>\n",
       "      <td>0.187604</td>\n",
       "      <td>0.030609</td>\n",
       "      <td>0.455863</td>\n",
       "      <td>0.568773</td>\n",
       "      <td>0.708391</td>\n",
       "      <td>1.0</td>\n",
       "    </tr>\n",
       "    <tr>\n",
       "      <th>resume_seq</th>\n",
       "      <td>169640</td>\n",
       "      <td>8482</td>\n",
       "      <td>U05833</td>\n",
       "      <td>20</td>\n",
       "      <td>NaN</td>\n",
       "      <td>NaN</td>\n",
       "      <td>NaN</td>\n",
       "      <td>NaN</td>\n",
       "      <td>NaN</td>\n",
       "      <td>NaN</td>\n",
       "      <td>NaN</td>\n",
       "    </tr>\n",
       "    <tr>\n",
       "      <th>recruitment_seq</th>\n",
       "      <td>169640</td>\n",
       "      <td>6677</td>\n",
       "      <td>R03237</td>\n",
       "      <td>481</td>\n",
       "      <td>NaN</td>\n",
       "      <td>NaN</td>\n",
       "      <td>NaN</td>\n",
       "      <td>NaN</td>\n",
       "      <td>NaN</td>\n",
       "      <td>NaN</td>\n",
       "      <td>NaN</td>\n",
       "    </tr>\n",
       "    <tr>\n",
       "      <th>degree</th>\n",
       "      <td>169640.0</td>\n",
       "      <td>5.0</td>\n",
       "      <td>4.0</td>\n",
       "      <td>149060.0</td>\n",
       "      <td>NaN</td>\n",
       "      <td>NaN</td>\n",
       "      <td>NaN</td>\n",
       "      <td>NaN</td>\n",
       "      <td>NaN</td>\n",
       "      <td>NaN</td>\n",
       "      <td>NaN</td>\n",
       "    </tr>\n",
       "    <tr>\n",
       "      <th>job_code_seq1</th>\n",
       "      <td>169640</td>\n",
       "      <td>9</td>\n",
       "      <td>재료·화학·섬유·의복</td>\n",
       "      <td>145760</td>\n",
       "      <td>NaN</td>\n",
       "      <td>NaN</td>\n",
       "      <td>NaN</td>\n",
       "      <td>NaN</td>\n",
       "      <td>NaN</td>\n",
       "      <td>NaN</td>\n",
       "      <td>NaN</td>\n",
       "    </tr>\n",
       "    <tr>\n",
       "      <th>score</th>\n",
       "      <td>169640.0</td>\n",
       "      <td>NaN</td>\n",
       "      <td>NaN</td>\n",
       "      <td>NaN</td>\n",
       "      <td>0.203885</td>\n",
       "      <td>0.148396</td>\n",
       "      <td>0.0</td>\n",
       "      <td>0.117647</td>\n",
       "      <td>0.162162</td>\n",
       "      <td>0.254902</td>\n",
       "      <td>1.0</td>\n",
       "    </tr>\n",
       "    <tr>\n",
       "      <th>w_score</th>\n",
       "      <td>169640.0</td>\n",
       "      <td>NaN</td>\n",
       "      <td>NaN</td>\n",
       "      <td>NaN</td>\n",
       "      <td>0.206951</td>\n",
       "      <td>0.156792</td>\n",
       "      <td>0.0</td>\n",
       "      <td>0.119168</td>\n",
       "      <td>0.170274</td>\n",
       "      <td>0.259453</td>\n",
       "      <td>2.421581</td>\n",
       "    </tr>\n",
       "  </tbody>\n",
       "</table>\n",
       "</div>"
      ],
      "text/plain": [
       "                    count unique          top      freq         mean  \\\n",
       "resume_idx       169640.0    NaN          NaN       NaN       4240.5   \n",
       "recruitment_idx  169640.0    NaN          NaN       NaN  2850.453726   \n",
       "cf_score         169640.0    NaN          NaN       NaN     0.593013   \n",
       "resume_seq         169640   8482       U05833        20          NaN   \n",
       "recruitment_seq    169640   6677       R03237       481          NaN   \n",
       "degree           169640.0    5.0          4.0  149060.0          NaN   \n",
       "job_code_seq1      169640      9  재료·화학·섬유·의복    145760          NaN   \n",
       "score            169640.0    NaN          NaN       NaN     0.203885   \n",
       "w_score          169640.0    NaN          NaN       NaN     0.206951   \n",
       "\n",
       "                         std       min       25%       50%       75%       max  \n",
       "resume_idx       2448.549692       0.0    2120.0    4240.5    6361.0    8481.0  \n",
       "recruitment_idx   1872.30681       0.0    1199.0    2620.0    4379.0    6694.0  \n",
       "cf_score            0.187604  0.030609  0.455863  0.568773  0.708391       1.0  \n",
       "resume_seq               NaN       NaN       NaN       NaN       NaN       NaN  \n",
       "recruitment_seq          NaN       NaN       NaN       NaN       NaN       NaN  \n",
       "degree                   NaN       NaN       NaN       NaN       NaN       NaN  \n",
       "job_code_seq1            NaN       NaN       NaN       NaN       NaN       NaN  \n",
       "score               0.148396       0.0  0.117647  0.162162  0.254902       1.0  \n",
       "w_score             0.156792       0.0  0.119168  0.170274  0.259453  2.421581  "
      ]
     },
     "execution_count": 90,
     "metadata": {},
     "output_type": "execute_result"
    }
   ],
   "source": [
    "cf_score_pop.describe(include='all').T"
   ]
  },
  {
   "cell_type": "markdown",
   "id": "3e895077-b899-4944-8eb3-96d01b88a04c",
   "metadata": {},
   "source": [
    "#### MinMax Scaling"
   ]
  },
  {
   "cell_type": "code",
   "execution_count": 91,
   "id": "e0b892de-2c55-4bb6-97d7-90981799b6fc",
   "metadata": {},
   "outputs": [],
   "source": [
    "# cf_score_pop['w_score'] = mms.fit_transform(cf_score_pop['w_score'].values.reshape(-1,1))\n",
    "# cf_score_pop['cf_score'] = mms.fit_transform(cf_score_pop['cf_score'].values.reshape(-1,1))"
   ]
  },
  {
   "cell_type": "code",
   "execution_count": 92,
   "id": "4acc514a-f0bc-46d1-8106-03dc77af5064",
   "metadata": {},
   "outputs": [],
   "source": [
    "cf_score_pop['s_score'] = cf_score_pop.groupby('resume_idx')['score'].transform(\n",
    "    lambda x: (mms.fit_transform(x.values.reshape(-1,1))).reshape(-1))\n",
    "cf_score_pop['sw_score'] = cf_score_pop.groupby('resume_idx')['w_score'].transform(\n",
    "    lambda x: (mms.fit_transform(x.values.reshape(-1,1))).reshape(-1))\n",
    "cf_score_pop['scf_score'] = cf_score_pop.groupby('resume_idx')['cf_score'].transform(\n",
    "    lambda x: (mms.fit_transform(x.values.reshape(-1,1))).reshape(-1))"
   ]
  },
  {
   "cell_type": "markdown",
   "id": "896ca5f7-b592-4623-ac43-b363bb989712",
   "metadata": {},
   "source": [
    "#### RECALL 계산"
   ]
  },
  {
   "cell_type": "markdown",
   "id": "17832232-db36-45eb-ac16-d32787796009",
   "metadata": {},
   "source": [
    "##### 단순인기도"
   ]
  },
  {
   "cell_type": "code",
   "execution_count": 93,
   "id": "042e5494-1938-459c-9a1f-eae87d71ab25",
   "metadata": {},
   "outputs": [
    {
     "name": "stdout",
     "output_type": "stream",
     "text": [
      "0.94 : 0.06\n"
     ]
    }
   ],
   "source": [
    "pop_scores = create_ensemble_submission_2col(cf_score_pop, 'scf_score', 's_score', start=94, end=101, step=100)"
   ]
  },
  {
   "cell_type": "code",
   "execution_count": 94,
   "id": "27ef30e1-bf8e-4fa0-81f1-c06584597955",
   "metadata": {},
   "outputs": [],
   "source": [
    "pop_scores['0.94:0.06'].to_csv('./CF_JOB(0.94_0.06).csv', index=False)"
   ]
  },
  {
   "cell_type": "markdown",
   "id": "89dad201-761e-4fcf-a4ae-91762cd94e61",
   "metadata": {},
   "source": [
    "##### 가중치 인기도"
   ]
  },
  {
   "cell_type": "code",
   "execution_count": 95,
   "id": "dd91b2ae-8f3c-4a48-aa01-c7f2b6ad3150",
   "metadata": {},
   "outputs": [
    {
     "name": "stdout",
     "output_type": "stream",
     "text": [
      "0.92 : 0.08\n"
     ]
    }
   ],
   "source": [
    "pop_scores = create_ensemble_submission_2col(cf_score_pop, 'scf_score', 'sw_score', start=92, end=100, step=100)"
   ]
  },
  {
   "cell_type": "code",
   "execution_count": 96,
   "id": "f9a32049-cac5-473f-a39b-a13fc9292061",
   "metadata": {},
   "outputs": [],
   "source": [
    "pop_scores['0.92:0.08'].to_csv('./CF_JOB_W(0.92_0.08).csv', index=False)"
   ]
  },
  {
   "cell_type": "markdown",
   "id": "2f11fbe2-4999-4b3d-99e4-e0c323747eb8",
   "metadata": {},
   "source": [
    "## LTOCF 모델 인기도 가중치 적용"
   ]
  },
  {
   "cell_type": "code",
   "execution_count": 97,
   "id": "02a3a52a-4b33-4d0d-8103-610401a902db",
   "metadata": {},
   "outputs": [
    {
     "data": {
      "text/html": [
       "<div>\n",
       "<style scoped>\n",
       "    .dataframe tbody tr th:only-of-type {\n",
       "        vertical-align: middle;\n",
       "    }\n",
       "\n",
       "    .dataframe tbody tr th {\n",
       "        vertical-align: top;\n",
       "    }\n",
       "\n",
       "    .dataframe thead th {\n",
       "        text-align: right;\n",
       "    }\n",
       "</style>\n",
       "<table border=\"1\" class=\"dataframe\">\n",
       "  <thead>\n",
       "    <tr style=\"text-align: right;\">\n",
       "      <th></th>\n",
       "      <th>resume_idx</th>\n",
       "      <th>recruitment_idx</th>\n",
       "      <th>ltocf_score</th>\n",
       "      <th>resume_seq</th>\n",
       "      <th>recruitment_seq</th>\n",
       "    </tr>\n",
       "  </thead>\n",
       "  <tbody>\n",
       "    <tr>\n",
       "      <th>0</th>\n",
       "      <td>0</td>\n",
       "      <td>357</td>\n",
       "      <td>0.999983</td>\n",
       "      <td>U05833</td>\n",
       "      <td>R00585</td>\n",
       "    </tr>\n",
       "    <tr>\n",
       "      <th>1</th>\n",
       "      <td>0</td>\n",
       "      <td>156</td>\n",
       "      <td>0.999955</td>\n",
       "      <td>U05833</td>\n",
       "      <td>R03943</td>\n",
       "    </tr>\n",
       "    <tr>\n",
       "      <th>2</th>\n",
       "      <td>0</td>\n",
       "      <td>1965</td>\n",
       "      <td>0.999934</td>\n",
       "      <td>U05833</td>\n",
       "      <td>R02130</td>\n",
       "    </tr>\n",
       "    <tr>\n",
       "      <th>3</th>\n",
       "      <td>0</td>\n",
       "      <td>1030</td>\n",
       "      <td>0.999892</td>\n",
       "      <td>U05833</td>\n",
       "      <td>R05895</td>\n",
       "    </tr>\n",
       "    <tr>\n",
       "      <th>4</th>\n",
       "      <td>0</td>\n",
       "      <td>2832</td>\n",
       "      <td>0.999884</td>\n",
       "      <td>U05833</td>\n",
       "      <td>R01455</td>\n",
       "    </tr>\n",
       "  </tbody>\n",
       "</table>\n",
       "</div>"
      ],
      "text/plain": [
       "   resume_idx  recruitment_idx  ltocf_score resume_seq recruitment_seq\n",
       "0           0              357     0.999983     U05833          R00585\n",
       "1           0              156     0.999955     U05833          R03943\n",
       "2           0             1965     0.999934     U05833          R02130\n",
       "3           0             1030     0.999892     U05833          R05895\n",
       "4           0             2832     0.999884     U05833          R01455"
      ]
     },
     "execution_count": 97,
     "metadata": {},
     "output_type": "execute_result"
    }
   ],
   "source": [
    "ltocf_score['resume_seq'] = ltocf_score['resume_idx'].apply(lambda x: resume_decode[x])\n",
    "ltocf_score['recruitment_seq'] = ltocf_score['recruitment_idx'].apply(lambda x: recruitment_decode[x])\n",
    "ltocf_score.head()"
   ]
  },
  {
   "cell_type": "code",
   "execution_count": 98,
   "id": "8392bfd7-5509-400c-bda8-9ec0fcb501b4",
   "metadata": {},
   "outputs": [
    {
     "name": "stdout",
     "output_type": "stream",
     "text": [
      "<class 'pandas.core.frame.DataFrame'>\n",
      "Int64Index: 169640 entries, 0 to 169639\n",
      "Data columns (total 7 columns):\n",
      " #   Column           Non-Null Count   Dtype   \n",
      "---  ------           --------------   -----   \n",
      " 0   resume_idx       169640 non-null  int64   \n",
      " 1   recruitment_idx  169640 non-null  int64   \n",
      " 2   ltocf_score      169640 non-null  float64 \n",
      " 3   resume_seq       169640 non-null  object  \n",
      " 4   recruitment_seq  169640 non-null  object  \n",
      " 5   degree           169640 non-null  category\n",
      " 6   job_code_seq1    169640 non-null  category\n",
      "dtypes: category(2), float64(1), int64(2), object(2)\n",
      "memory usage: 8.1+ MB\n"
     ]
    }
   ],
   "source": [
    "ltocf_score = ltocf_score.merge(resume, how='inner', on='resume_seq')\n",
    "ltocf_score.info()"
   ]
  },
  {
   "cell_type": "markdown",
   "id": "8b91bc9b-84f4-47ea-af13-52b1221cc95b",
   "metadata": {},
   "source": [
    "### job_code_seq1"
   ]
  },
  {
   "cell_type": "code",
   "execution_count": 99,
   "id": "08489b8b-c235-4718-8b74-ee20a366cdb2",
   "metadata": {},
   "outputs": [],
   "source": [
    "job_code_weight_pop_view = job_code_weight_pop[['job_code_seq1', 'recruitment_seq',\n",
    "                                            'score', 'w_score']]"
   ]
  },
  {
   "cell_type": "code",
   "execution_count": 100,
   "id": "a1c0e1ce-7d44-4356-83ef-b2c11baed78e",
   "metadata": {},
   "outputs": [
    {
     "name": "stdout",
     "output_type": "stream",
     "text": [
      "<class 'pandas.core.frame.DataFrame'>\n",
      "Int64Index: 169640 entries, 0 to 169639\n",
      "Data columns (total 9 columns):\n",
      " #   Column           Non-Null Count   Dtype   \n",
      "---  ------           --------------   -----   \n",
      " 0   resume_idx       169640 non-null  int64   \n",
      " 1   recruitment_idx  169640 non-null  int64   \n",
      " 2   ltocf_score      169640 non-null  float64 \n",
      " 3   resume_seq       169640 non-null  object  \n",
      " 4   recruitment_seq  169640 non-null  object  \n",
      " 5   degree           169640 non-null  category\n",
      " 6   job_code_seq1    169640 non-null  object  \n",
      " 7   score            169640 non-null  float64 \n",
      " 8   w_score          169640 non-null  float64 \n",
      "dtypes: category(1), float64(3), int64(2), object(3)\n",
      "memory usage: 11.8+ MB\n"
     ]
    }
   ],
   "source": [
    "ltocf_score_pop = ltocf_score.merge(job_code_weight_pop_view, how='left', on=['job_code_seq1', 'recruitment_seq'])\n",
    "ltocf_score_pop[['score', 'w_score']] = ltocf_score_pop[['score', 'w_score']].fillna(0)\n",
    "ltocf_score_pop.info()"
   ]
  },
  {
   "cell_type": "code",
   "execution_count": 101,
   "id": "798cf030-bf40-4eb8-ac07-0ef205ac6565",
   "metadata": {},
   "outputs": [
    {
     "data": {
      "text/html": [
       "<div>\n",
       "<style scoped>\n",
       "    .dataframe tbody tr th:only-of-type {\n",
       "        vertical-align: middle;\n",
       "    }\n",
       "\n",
       "    .dataframe tbody tr th {\n",
       "        vertical-align: top;\n",
       "    }\n",
       "\n",
       "    .dataframe thead th {\n",
       "        text-align: right;\n",
       "    }\n",
       "</style>\n",
       "<table border=\"1\" class=\"dataframe\">\n",
       "  <thead>\n",
       "    <tr style=\"text-align: right;\">\n",
       "      <th></th>\n",
       "      <th>count</th>\n",
       "      <th>unique</th>\n",
       "      <th>top</th>\n",
       "      <th>freq</th>\n",
       "      <th>mean</th>\n",
       "      <th>std</th>\n",
       "      <th>min</th>\n",
       "      <th>25%</th>\n",
       "      <th>50%</th>\n",
       "      <th>75%</th>\n",
       "      <th>max</th>\n",
       "    </tr>\n",
       "  </thead>\n",
       "  <tbody>\n",
       "    <tr>\n",
       "      <th>resume_idx</th>\n",
       "      <td>169640.0</td>\n",
       "      <td>NaN</td>\n",
       "      <td>NaN</td>\n",
       "      <td>NaN</td>\n",
       "      <td>4240.5</td>\n",
       "      <td>2448.549692</td>\n",
       "      <td>0.0</td>\n",
       "      <td>2120.0</td>\n",
       "      <td>4240.5</td>\n",
       "      <td>6361.0</td>\n",
       "      <td>8481.0</td>\n",
       "    </tr>\n",
       "    <tr>\n",
       "      <th>recruitment_idx</th>\n",
       "      <td>169640.0</td>\n",
       "      <td>NaN</td>\n",
       "      <td>NaN</td>\n",
       "      <td>NaN</td>\n",
       "      <td>2869.061442</td>\n",
       "      <td>1864.643315</td>\n",
       "      <td>0.0</td>\n",
       "      <td>1229.0</td>\n",
       "      <td>2654.0</td>\n",
       "      <td>4390.0</td>\n",
       "      <td>6693.0</td>\n",
       "    </tr>\n",
       "    <tr>\n",
       "      <th>ltocf_score</th>\n",
       "      <td>169640.0</td>\n",
       "      <td>NaN</td>\n",
       "      <td>NaN</td>\n",
       "      <td>NaN</td>\n",
       "      <td>0.997694</td>\n",
       "      <td>0.003727</td>\n",
       "      <td>0.921966</td>\n",
       "      <td>0.997131</td>\n",
       "      <td>0.999147</td>\n",
       "      <td>0.999844</td>\n",
       "      <td>1.0</td>\n",
       "    </tr>\n",
       "    <tr>\n",
       "      <th>resume_seq</th>\n",
       "      <td>169640</td>\n",
       "      <td>8482</td>\n",
       "      <td>U05833</td>\n",
       "      <td>20</td>\n",
       "      <td>NaN</td>\n",
       "      <td>NaN</td>\n",
       "      <td>NaN</td>\n",
       "      <td>NaN</td>\n",
       "      <td>NaN</td>\n",
       "      <td>NaN</td>\n",
       "      <td>NaN</td>\n",
       "    </tr>\n",
       "    <tr>\n",
       "      <th>recruitment_seq</th>\n",
       "      <td>169640</td>\n",
       "      <td>6458</td>\n",
       "      <td>R01214</td>\n",
       "      <td>231</td>\n",
       "      <td>NaN</td>\n",
       "      <td>NaN</td>\n",
       "      <td>NaN</td>\n",
       "      <td>NaN</td>\n",
       "      <td>NaN</td>\n",
       "      <td>NaN</td>\n",
       "      <td>NaN</td>\n",
       "    </tr>\n",
       "    <tr>\n",
       "      <th>degree</th>\n",
       "      <td>169640.0</td>\n",
       "      <td>5.0</td>\n",
       "      <td>4.0</td>\n",
       "      <td>149060.0</td>\n",
       "      <td>NaN</td>\n",
       "      <td>NaN</td>\n",
       "      <td>NaN</td>\n",
       "      <td>NaN</td>\n",
       "      <td>NaN</td>\n",
       "      <td>NaN</td>\n",
       "      <td>NaN</td>\n",
       "    </tr>\n",
       "    <tr>\n",
       "      <th>job_code_seq1</th>\n",
       "      <td>169640</td>\n",
       "      <td>9</td>\n",
       "      <td>재료·화학·섬유·의복</td>\n",
       "      <td>145760</td>\n",
       "      <td>NaN</td>\n",
       "      <td>NaN</td>\n",
       "      <td>NaN</td>\n",
       "      <td>NaN</td>\n",
       "      <td>NaN</td>\n",
       "      <td>NaN</td>\n",
       "      <td>NaN</td>\n",
       "    </tr>\n",
       "    <tr>\n",
       "      <th>score</th>\n",
       "      <td>169640.0</td>\n",
       "      <td>NaN</td>\n",
       "      <td>NaN</td>\n",
       "      <td>NaN</td>\n",
       "      <td>0.200483</td>\n",
       "      <td>0.137548</td>\n",
       "      <td>0.0</td>\n",
       "      <td>0.117647</td>\n",
       "      <td>0.176471</td>\n",
       "      <td>0.254902</td>\n",
       "      <td>1.0</td>\n",
       "    </tr>\n",
       "    <tr>\n",
       "      <th>w_score</th>\n",
       "      <td>169640.0</td>\n",
       "      <td>NaN</td>\n",
       "      <td>NaN</td>\n",
       "      <td>NaN</td>\n",
       "      <td>0.203449</td>\n",
       "      <td>0.145214</td>\n",
       "      <td>0.0</td>\n",
       "      <td>0.119168</td>\n",
       "      <td>0.170274</td>\n",
       "      <td>0.258196</td>\n",
       "      <td>2.421581</td>\n",
       "    </tr>\n",
       "  </tbody>\n",
       "</table>\n",
       "</div>"
      ],
      "text/plain": [
       "                    count unique          top      freq         mean  \\\n",
       "resume_idx       169640.0    NaN          NaN       NaN       4240.5   \n",
       "recruitment_idx  169640.0    NaN          NaN       NaN  2869.061442   \n",
       "ltocf_score      169640.0    NaN          NaN       NaN     0.997694   \n",
       "resume_seq         169640   8482       U05833        20          NaN   \n",
       "recruitment_seq    169640   6458       R01214       231          NaN   \n",
       "degree           169640.0    5.0          4.0  149060.0          NaN   \n",
       "job_code_seq1      169640      9  재료·화학·섬유·의복    145760          NaN   \n",
       "score            169640.0    NaN          NaN       NaN     0.200483   \n",
       "w_score          169640.0    NaN          NaN       NaN     0.203449   \n",
       "\n",
       "                         std       min       25%       50%       75%       max  \n",
       "resume_idx       2448.549692       0.0    2120.0    4240.5    6361.0    8481.0  \n",
       "recruitment_idx  1864.643315       0.0    1229.0    2654.0    4390.0    6693.0  \n",
       "ltocf_score         0.003727  0.921966  0.997131  0.999147  0.999844       1.0  \n",
       "resume_seq               NaN       NaN       NaN       NaN       NaN       NaN  \n",
       "recruitment_seq          NaN       NaN       NaN       NaN       NaN       NaN  \n",
       "degree                   NaN       NaN       NaN       NaN       NaN       NaN  \n",
       "job_code_seq1            NaN       NaN       NaN       NaN       NaN       NaN  \n",
       "score               0.137548       0.0  0.117647  0.176471  0.254902       1.0  \n",
       "w_score             0.145214       0.0  0.119168  0.170274  0.258196  2.421581  "
      ]
     },
     "execution_count": 101,
     "metadata": {},
     "output_type": "execute_result"
    }
   ],
   "source": [
    "ltocf_score_pop.describe(include='all').T"
   ]
  },
  {
   "cell_type": "markdown",
   "id": "8a4af5d9-b99d-4ccf-999f-4d7c97a34f77",
   "metadata": {},
   "source": [
    "#### MinMax Scaling"
   ]
  },
  {
   "cell_type": "code",
   "execution_count": 102,
   "id": "ce398bcf-568b-44ca-a8dd-142e67423a67",
   "metadata": {},
   "outputs": [],
   "source": [
    "# ltocf_score_pop['w_score'] = mms.fit_transform(ltocf_score_pop['w_score'].values.reshape(-1,1))\n",
    "# ltocf_score_pop['ltocf_score'] = mms.fit_transform(ltocf_score_pop['ltocf_score'].values.reshape(-1,1))"
   ]
  },
  {
   "cell_type": "code",
   "execution_count": 103,
   "id": "d9493836-3523-4e7d-91bf-ea64511c1ef2",
   "metadata": {},
   "outputs": [],
   "source": [
    "ltocf_score_pop['s_score'] = ltocf_score_pop.groupby('resume_idx')['score'].transform(\n",
    "    lambda x: (mms.fit_transform(x.values.reshape(-1,1))).reshape(-1))\n",
    "ltocf_score_pop['sw_score'] = ltocf_score_pop.groupby('resume_idx')['w_score'].transform(\n",
    "    lambda x: (mms.fit_transform(x.values.reshape(-1,1))).reshape(-1))\n",
    "ltocf_score_pop['scf_score'] = ltocf_score_pop.groupby('resume_idx')['ltocf_score'].transform(\n",
    "    lambda x: (mms.fit_transform(x.values.reshape(-1,1))).reshape(-1))"
   ]
  },
  {
   "cell_type": "markdown",
   "id": "d96eb1e9-3784-4d2f-a9ee-94f95b6e87d6",
   "metadata": {},
   "source": [
    "#### RECALL 계산"
   ]
  },
  {
   "cell_type": "markdown",
   "id": "fa5cfb98-0f5a-4b70-a551-e7ce5c870624",
   "metadata": {},
   "source": [
    "##### 단순인기도"
   ]
  },
  {
   "cell_type": "code",
   "execution_count": 108,
   "id": "a0641bb4-e61a-40d8-a2d0-3f6072fd2e45",
   "metadata": {},
   "outputs": [
    {
     "name": "stdout",
     "output_type": "stream",
     "text": [
      "1.00 : 0.00\n"
     ]
    }
   ],
   "source": [
    "pop_scores = create_ensemble_submission_2col(ltocf_score_pop, 'scf_score', 's_score', start=100, end=101, step=100)"
   ]
  },
  {
   "cell_type": "code",
   "execution_count": 109,
   "id": "08d7ca7b-64a9-4dc7-9434-a5961a921ea3",
   "metadata": {},
   "outputs": [],
   "source": [
    "pop_scores['1.00:0.00'].to_csv('./LTOCF_JOB(1.00_0.00).csv', index=False)"
   ]
  },
  {
   "cell_type": "markdown",
   "id": "8929da95-2478-47a0-8358-f307cc5650b1",
   "metadata": {},
   "source": [
    "##### 가중치 인기도"
   ]
  },
  {
   "cell_type": "code",
   "execution_count": 106,
   "id": "20e01c12-3060-4174-8905-30f6a5ba3f77",
   "metadata": {},
   "outputs": [
    {
     "name": "stdout",
     "output_type": "stream",
     "text": [
      "0.86 : 0.14\n"
     ]
    }
   ],
   "source": [
    "pop_scores = create_ensemble_submission_2col(ltocf_score_pop, 'scf_score', 'sw_score', start=86, end=100, step=100)"
   ]
  },
  {
   "cell_type": "code",
   "execution_count": 107,
   "id": "e4895d4f-a632-4b12-89ed-001977b7b54b",
   "metadata": {},
   "outputs": [],
   "source": [
    "pop_scores['0.86:0.14'].to_csv('./LTOCF_JOB_W(0.86_0.14).csv', index=False)"
   ]
  }
 ],
 "metadata": {
  "kernelspec": {
   "display_name": "Python 3 (ipykernel)",
   "language": "python",
   "name": "python3"
  },
  "language_info": {
   "codemirror_mode": {
    "name": "ipython",
    "version": 3
   },
   "file_extension": ".py",
   "mimetype": "text/x-python",
   "name": "python",
   "nbconvert_exporter": "python",
   "pygments_lexer": "ipython3",
   "version": "3.9.18"
  }
 },
 "nbformat": 4,
 "nbformat_minor": 5
}

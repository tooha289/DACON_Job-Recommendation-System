{
 "cells": [
  {
   "cell_type": "code",
   "execution_count": 1,
   "id": "7fae88a6-9f22-4b5d-9323-c050764dd659",
   "metadata": {
    "tags": []
   },
   "outputs": [],
   "source": [
    "import os\n",
    "import numpy as np\n",
    "import pandas as pd"
   ]
  },
  {
   "cell_type": "code",
   "execution_count": 2,
   "id": "a4f71a50-4c5f-47c6-829e-aeefeec47338",
   "metadata": {
    "tags": []
   },
   "outputs": [],
   "source": [
    "FILE_PATH = './data'\n",
    "SAVE_PATH = './data'"
   ]
  },
  {
   "cell_type": "markdown",
   "id": "f8faf7d1-a504-4956-8650-af0fdccdb39e",
   "metadata": {},
   "source": [
    "# [훈련 데이터 생성]"
   ]
  },
  {
   "cell_type": "markdown",
   "id": "4d83064c",
   "metadata": {},
   "source": [
    "## apply_train 파일 로드"
   ]
  },
  {
   "cell_type": "code",
   "execution_count": 3,
   "id": "a2fa0380",
   "metadata": {
    "tags": []
   },
   "outputs": [
    {
     "data": {
      "text/html": [
       "<div>\n",
       "<style scoped>\n",
       "    .dataframe tbody tr th:only-of-type {\n",
       "        vertical-align: middle;\n",
       "    }\n",
       "\n",
       "    .dataframe tbody tr th {\n",
       "        vertical-align: top;\n",
       "    }\n",
       "\n",
       "    .dataframe thead th {\n",
       "        text-align: right;\n",
       "    }\n",
       "</style>\n",
       "<table border=\"1\" class=\"dataframe\">\n",
       "  <thead>\n",
       "    <tr style=\"text-align: right;\">\n",
       "      <th></th>\n",
       "      <th>resume_seq</th>\n",
       "      <th>recruitment_seq</th>\n",
       "    </tr>\n",
       "  </thead>\n",
       "  <tbody>\n",
       "    <tr>\n",
       "      <th>0</th>\n",
       "      <td>U05833</td>\n",
       "      <td>R03838</td>\n",
       "    </tr>\n",
       "    <tr>\n",
       "      <th>1</th>\n",
       "      <td>U06456</td>\n",
       "      <td>R02144</td>\n",
       "    </tr>\n",
       "    <tr>\n",
       "      <th>2</th>\n",
       "      <td>U07807</td>\n",
       "      <td>R01877</td>\n",
       "    </tr>\n",
       "    <tr>\n",
       "      <th>3</th>\n",
       "      <td>U04842</td>\n",
       "      <td>R02463</td>\n",
       "    </tr>\n",
       "    <tr>\n",
       "      <th>4</th>\n",
       "      <td>U08336</td>\n",
       "      <td>R00112</td>\n",
       "    </tr>\n",
       "  </tbody>\n",
       "</table>\n",
       "</div>"
      ],
      "text/plain": [
       "  resume_seq recruitment_seq\n",
       "0     U05833          R03838\n",
       "1     U06456          R02144\n",
       "2     U07807          R01877\n",
       "3     U04842          R02463\n",
       "4     U08336          R00112"
      ]
     },
     "execution_count": 3,
     "metadata": {},
     "output_type": "execute_result"
    }
   ],
   "source": [
    "apply = pd.read_csv(f'{FILE_PATH}/apply_train.csv')\n",
    "apply.head()"
   ]
  },
  {
   "cell_type": "markdown",
   "id": "0a45f277",
   "metadata": {},
   "source": [
    "## 딕셔너리 치환 (인코딩, 디코딩)"
   ]
  },
  {
   "cell_type": "markdown",
   "id": "c91fbb2a",
   "metadata": {},
   "source": [
    "### Resume 딕셔너리 생성"
   ]
  },
  {
   "cell_type": "code",
   "execution_count": 4,
   "id": "68dcefd8",
   "metadata": {
    "tags": []
   },
   "outputs": [
    {
     "data": {
      "text/plain": [
       "[('U05833', 0),\n",
       " ('U06456', 1),\n",
       " ('U07807', 2),\n",
       " ('U04842', 3),\n",
       " ('U08336', 4),\n",
       " ('U03753', 5),\n",
       " ('U01045', 6),\n",
       " ('U00825', 7),\n",
       " ('U07438', 8),\n",
       " ('U01917', 9)]"
      ]
     },
     "execution_count": 4,
     "metadata": {},
     "output_type": "execute_result"
    }
   ],
   "source": [
    "resume_2_idx = { res : i for i, res in enumerate(apply['resume_seq'].unique())}\n",
    "[(key, value) for key, value in resume_2_idx.items()][0:10]"
   ]
  },
  {
   "cell_type": "code",
   "execution_count": 5,
   "id": "6c82658d",
   "metadata": {
    "tags": []
   },
   "outputs": [
    {
     "data": {
      "text/plain": [
       "8482"
      ]
     },
     "execution_count": 5,
     "metadata": {},
     "output_type": "execute_result"
    }
   ],
   "source": [
    "resume_2_idx.__len__()"
   ]
  },
  {
   "cell_type": "code",
   "execution_count": 6,
   "id": "24cad15e",
   "metadata": {
    "tags": []
   },
   "outputs": [
    {
     "data": {
      "text/plain": [
       "[(0, 'U05833'),\n",
       " (1, 'U06456'),\n",
       " (2, 'U07807'),\n",
       " (3, 'U04842'),\n",
       " (4, 'U08336'),\n",
       " (5, 'U03753'),\n",
       " (6, 'U01045'),\n",
       " (7, 'U00825'),\n",
       " (8, 'U07438'),\n",
       " (9, 'U01917')]"
      ]
     },
     "execution_count": 6,
     "metadata": {},
     "output_type": "execute_result"
    }
   ],
   "source": [
    "idx_2_resume = { i : res for res, i in resume_2_idx.items()}\n",
    "[(key, value) for key, value in idx_2_resume.items()][0:10]"
   ]
  },
  {
   "cell_type": "code",
   "execution_count": 7,
   "id": "19b066d4",
   "metadata": {
    "tags": []
   },
   "outputs": [
    {
     "data": {
      "text/plain": [
       "8482"
      ]
     },
     "execution_count": 7,
     "metadata": {},
     "output_type": "execute_result"
    }
   ],
   "source": [
    "idx_2_resume.__len__()"
   ]
  },
  {
   "cell_type": "code",
   "execution_count": 8,
   "id": "435e4490-58d1-4e3f-94ed-eaf517b17fb5",
   "metadata": {
    "tags": []
   },
   "outputs": [],
   "source": [
    "np.savetxt(f'{SAVE_PATH}/idx_2_resume.txt', np.array(pd.DataFrame(idx_2_resume.items()).values), fmt='%s')"
   ]
  },
  {
   "cell_type": "markdown",
   "id": "40f7dee1",
   "metadata": {},
   "source": [
    "### Recruitment 딕셔너리 생성"
   ]
  },
  {
   "cell_type": "code",
   "execution_count": 9,
   "id": "d9cecfff",
   "metadata": {
    "tags": []
   },
   "outputs": [
    {
     "data": {
      "text/plain": [
       "[('R03838', 0),\n",
       " ('R02144', 1),\n",
       " ('R01877', 2),\n",
       " ('R02463', 3),\n",
       " ('R00112', 4),\n",
       " ('R05448', 5),\n",
       " ('R03428', 6),\n",
       " ('R04768', 7),\n",
       " ('R02907', 8),\n",
       " ('R01028', 9)]"
      ]
     },
     "execution_count": 9,
     "metadata": {},
     "output_type": "execute_result"
    }
   ],
   "source": [
    "recruitment_2_idx = { rec : i for i, rec in enumerate(apply['recruitment_seq'].unique())}\n",
    "[(key, value) for key, value in recruitment_2_idx.items()][0:10]"
   ]
  },
  {
   "cell_type": "code",
   "execution_count": 10,
   "id": "54c4ef9f",
   "metadata": {
    "tags": []
   },
   "outputs": [
    {
     "data": {
      "text/plain": [
       "6695"
      ]
     },
     "execution_count": 10,
     "metadata": {},
     "output_type": "execute_result"
    }
   ],
   "source": [
    "recruitment_2_idx.__len__()"
   ]
  },
  {
   "cell_type": "code",
   "execution_count": 11,
   "id": "23f48c79",
   "metadata": {
    "tags": []
   },
   "outputs": [
    {
     "data": {
      "text/plain": [
       "[(0, 'R03838'),\n",
       " (1, 'R02144'),\n",
       " (2, 'R01877'),\n",
       " (3, 'R02463'),\n",
       " (4, 'R00112'),\n",
       " (5, 'R05448'),\n",
       " (6, 'R03428'),\n",
       " (7, 'R04768'),\n",
       " (8, 'R02907'),\n",
       " (9, 'R01028')]"
      ]
     },
     "execution_count": 11,
     "metadata": {},
     "output_type": "execute_result"
    }
   ],
   "source": [
    "idx_2_recruitment = { i : rec for rec, i in recruitment_2_idx.items()}\n",
    "[(key, value) for key, value in idx_2_recruitment.items()][0:10]"
   ]
  },
  {
   "cell_type": "code",
   "execution_count": 12,
   "id": "88d0653e",
   "metadata": {
    "tags": []
   },
   "outputs": [
    {
     "data": {
      "text/plain": [
       "6695"
      ]
     },
     "execution_count": 12,
     "metadata": {},
     "output_type": "execute_result"
    }
   ],
   "source": [
    "idx_2_recruitment.__len__()"
   ]
  },
  {
   "cell_type": "code",
   "execution_count": 13,
   "id": "cabb9f52-a87b-4988-aff2-360da0a899df",
   "metadata": {
    "tags": []
   },
   "outputs": [],
   "source": [
    "np.savetxt(f'{SAVE_PATH}/idx_2_recruitment.txt', np.array(pd.DataFrame(idx_2_recruitment.items()).values), fmt='%s')"
   ]
  },
  {
   "cell_type": "markdown",
   "id": "c54ee966",
   "metadata": {},
   "source": [
    "## idx 인코딩 작업"
   ]
  },
  {
   "cell_type": "code",
   "execution_count": 14,
   "id": "3279516b",
   "metadata": {
    "tags": []
   },
   "outputs": [],
   "source": [
    "apply['resume_idx'] = apply['resume_seq'].apply(lambda x : resume_2_idx[x])\n",
    "apply['recruitment_idx'] = apply['recruitment_seq'].apply(lambda x : recruitment_2_idx[x])"
   ]
  },
  {
   "cell_type": "code",
   "execution_count": 15,
   "id": "0814dc28",
   "metadata": {
    "tags": []
   },
   "outputs": [
    {
     "data": {
      "text/html": [
       "<div>\n",
       "<style scoped>\n",
       "    .dataframe tbody tr th:only-of-type {\n",
       "        vertical-align: middle;\n",
       "    }\n",
       "\n",
       "    .dataframe tbody tr th {\n",
       "        vertical-align: top;\n",
       "    }\n",
       "\n",
       "    .dataframe thead th {\n",
       "        text-align: right;\n",
       "    }\n",
       "</style>\n",
       "<table border=\"1\" class=\"dataframe\">\n",
       "  <thead>\n",
       "    <tr style=\"text-align: right;\">\n",
       "      <th></th>\n",
       "      <th>resume_seq</th>\n",
       "      <th>recruitment_seq</th>\n",
       "      <th>resume_idx</th>\n",
       "      <th>recruitment_idx</th>\n",
       "    </tr>\n",
       "  </thead>\n",
       "  <tbody>\n",
       "    <tr>\n",
       "      <th>57941</th>\n",
       "      <td>U02270</td>\n",
       "      <td>R03430</td>\n",
       "      <td>864</td>\n",
       "      <td>3691</td>\n",
       "    </tr>\n",
       "    <tr>\n",
       "      <th>57942</th>\n",
       "      <td>U02640</td>\n",
       "      <td>R04987</td>\n",
       "      <td>4358</td>\n",
       "      <td>6176</td>\n",
       "    </tr>\n",
       "    <tr>\n",
       "      <th>57943</th>\n",
       "      <td>U08238</td>\n",
       "      <td>R01342</td>\n",
       "      <td>8370</td>\n",
       "      <td>4461</td>\n",
       "    </tr>\n",
       "    <tr>\n",
       "      <th>57944</th>\n",
       "      <td>U01296</td>\n",
       "      <td>R06363</td>\n",
       "      <td>1157</td>\n",
       "      <td>3888</td>\n",
       "    </tr>\n",
       "    <tr>\n",
       "      <th>57945</th>\n",
       "      <td>U05748</td>\n",
       "      <td>R03090</td>\n",
       "      <td>5662</td>\n",
       "      <td>896</td>\n",
       "    </tr>\n",
       "  </tbody>\n",
       "</table>\n",
       "</div>"
      ],
      "text/plain": [
       "      resume_seq recruitment_seq  resume_idx  recruitment_idx\n",
       "57941     U02270          R03430         864             3691\n",
       "57942     U02640          R04987        4358             6176\n",
       "57943     U08238          R01342        8370             4461\n",
       "57944     U01296          R06363        1157             3888\n",
       "57945     U05748          R03090        5662              896"
      ]
     },
     "execution_count": 15,
     "metadata": {},
     "output_type": "execute_result"
    }
   ],
   "source": [
    "apply.tail()"
   ]
  },
  {
   "cell_type": "markdown",
   "id": "0a07f2de-e510-4695-82ab-054b29696daf",
   "metadata": {},
   "source": [
    "## 제출용 학습 데이터(원본) 생성"
   ]
  },
  {
   "cell_type": "code",
   "execution_count": 16,
   "id": "8230d630-7ffb-43a4-91b3-bab67c6862aa",
   "metadata": {
    "tags": []
   },
   "outputs": [
    {
     "data": {
      "text/html": [
       "<div>\n",
       "<style scoped>\n",
       "    .dataframe tbody tr th:only-of-type {\n",
       "        vertical-align: middle;\n",
       "    }\n",
       "\n",
       "    .dataframe tbody tr th {\n",
       "        vertical-align: top;\n",
       "    }\n",
       "\n",
       "    .dataframe thead th {\n",
       "        text-align: right;\n",
       "    }\n",
       "</style>\n",
       "<table border=\"1\" class=\"dataframe\">\n",
       "  <thead>\n",
       "    <tr style=\"text-align: right;\">\n",
       "      <th></th>\n",
       "      <th>resume_idx</th>\n",
       "      <th>recruitment_idx</th>\n",
       "    </tr>\n",
       "  </thead>\n",
       "  <tbody>\n",
       "    <tr>\n",
       "      <th>0</th>\n",
       "      <td>0</td>\n",
       "      <td>0 996 6499 5621</td>\n",
       "    </tr>\n",
       "    <tr>\n",
       "      <th>1</th>\n",
       "      <td>1</td>\n",
       "      <td>1 1871 1507 1804 4663 5352 5607 3262 5413 2645...</td>\n",
       "    </tr>\n",
       "    <tr>\n",
       "      <th>2</th>\n",
       "      <td>2</td>\n",
       "      <td>2 4100 3926 3986 4016 6527 1019</td>\n",
       "    </tr>\n",
       "    <tr>\n",
       "      <th>3</th>\n",
       "      <td>3</td>\n",
       "      <td>3 3852 2022 5787 1029 4715</td>\n",
       "    </tr>\n",
       "    <tr>\n",
       "      <th>4</th>\n",
       "      <td>4</td>\n",
       "      <td>4 3596 3575</td>\n",
       "    </tr>\n",
       "    <tr>\n",
       "      <th>...</th>\n",
       "      <td>...</td>\n",
       "      <td>...</td>\n",
       "    </tr>\n",
       "    <tr>\n",
       "      <th>8477</th>\n",
       "      <td>8477</td>\n",
       "      <td>5820 5695</td>\n",
       "    </tr>\n",
       "    <tr>\n",
       "      <th>8478</th>\n",
       "      <td>8478</td>\n",
       "      <td>1274 3309</td>\n",
       "    </tr>\n",
       "    <tr>\n",
       "      <th>8479</th>\n",
       "      <td>8479</td>\n",
       "      <td>4012 2584</td>\n",
       "    </tr>\n",
       "    <tr>\n",
       "      <th>8480</th>\n",
       "      <td>8480</td>\n",
       "      <td>425 4397</td>\n",
       "    </tr>\n",
       "    <tr>\n",
       "      <th>8481</th>\n",
       "      <td>8481</td>\n",
       "      <td>4884 3565</td>\n",
       "    </tr>\n",
       "  </tbody>\n",
       "</table>\n",
       "<p>8482 rows × 2 columns</p>\n",
       "</div>"
      ],
      "text/plain": [
       "      resume_idx                                    recruitment_idx\n",
       "0              0                                    0 996 6499 5621\n",
       "1              1  1 1871 1507 1804 4663 5352 5607 3262 5413 2645...\n",
       "2              2                    2 4100 3926 3986 4016 6527 1019\n",
       "3              3                         3 3852 2022 5787 1029 4715\n",
       "4              4                                        4 3596 3575\n",
       "...          ...                                                ...\n",
       "8477        8477                                          5820 5695\n",
       "8478        8478                                          1274 3309\n",
       "8479        8479                                          4012 2584\n",
       "8480        8480                                           425 4397\n",
       "8481        8481                                          4884 3565\n",
       "\n",
       "[8482 rows x 2 columns]"
      ]
     },
     "execution_count": 16,
     "metadata": {},
     "output_type": "execute_result"
    }
   ],
   "source": [
    "origin = apply.groupby('resume_idx')['recruitment_idx'].agg(list).reset_index()\n",
    "origin = origin['recruitment_idx'].apply(lambda x: ' '.join(map(str,x))).to_frame().reset_index()\n",
    "origin = origin.rename(columns={'index': 'resume_idx'})\n",
    "origin"
   ]
  },
  {
   "cell_type": "markdown",
   "id": "cf27d16a-3e6e-4a1a-aeef-21b0b547a6fe",
   "metadata": {},
   "source": [
    "* 제출 파일을 만들기 위한 train, test는 같은 파일을 사용합니다."
   ]
  },
  {
   "cell_type": "markdown",
   "id": "d84d390f-80e1-421a-9c25-1cdda6acef29",
   "metadata": {},
   "source": [
    "## 모델 별 훈련데이터 저장"
   ]
  },
  {
   "cell_type": "code",
   "execution_count": 17,
   "id": "2213326a",
   "metadata": {
    "tags": []
   },
   "outputs": [],
   "source": [
    "BSPM_SAVE_PATH = \"./BSPM/data/JOB/\"\n",
    "LTOCF_SAVE_PATH = \"./LT-OCF/data/JOB/\"\n",
    "CF_SAVE_PATH = \"./CF/data/JOB/\"\n",
    "\n",
    "np.savetxt(f'{BSPM_SAVE_PATH}train.txt', origin.values, fmt='%s')\n",
    "np.savetxt(f'{BSPM_SAVE_PATH}test.txt', origin.values, fmt='%s')\n",
    "\n",
    "np.savetxt(f'{LTOCF_SAVE_PATH}train.txt', origin.values, fmt='%s')\n",
    "np.savetxt(f'{LTOCF_SAVE_PATH}test.txt', origin.values, fmt='%s')\n",
    "\n",
    "np.savetxt(f'{CF_SAVE_PATH}train.txt', origin.values, fmt='%s')\n",
    "np.savetxt(f'{CF_SAVE_PATH}test.txt', origin.values, fmt='%s')"
   ]
  },
  {
   "cell_type": "markdown",
   "id": "8075d1cf-80ff-4bcd-a084-2ad6f4ba47a2",
   "metadata": {
    "tags": []
   },
   "source": [
    "# [모델별 학습]"
   ]
  },
  {
   "cell_type": "markdown",
   "id": "b58192d6-0e96-4d9f-a7d0-094c9b634191",
   "metadata": {},
   "source": [
    "* 각 모델 실행 시 마다 커널을 재시작 해줍니다."
   ]
  },
  {
   "cell_type": "markdown",
   "id": "a609c574-345b-47f8-a761-5c37e66f6e85",
   "metadata": {
    "tags": []
   },
   "source": [
    "## BSPM"
   ]
  },
  {
   "cell_type": "code",
   "execution_count": 1,
   "id": "9871acb9-e3dc-40a1-9ff6-513e6b78c339",
   "metadata": {
    "tags": []
   },
   "outputs": [],
   "source": [
    "import os\n",
    "ROOT_PATH = os.getcwd()\n",
    "RELATIVE_BSPM_PATH = \"./BSPM/bspm\""
   ]
  },
  {
   "cell_type": "code",
   "execution_count": 2,
   "id": "77507b7f-82a0-48d3-94fc-8a669cd0a24c",
   "metadata": {
    "tags": []
   },
   "outputs": [
    {
     "name": "stdout",
     "output_type": "stream",
     "text": [
      "현재 작업 경로: C:\\Users\\medici\\DACON_Job-Recommendation-System-1\n",
      "변경된 작업 경로: C:\\Users\\medici\\DACON_Job-Recommendation-System-1\\BSPM\\bspm\n"
     ]
    }
   ],
   "source": [
    "# Root 작업 경로로 변경\n",
    "os.chdir(ROOT_PATH)\n",
    "\n",
    "# 현재 작업 경로 출력\n",
    "print(\"현재 작업 경로:\", os.getcwd())\n",
    "\n",
    "# 상대 경로를 절대 경로로 변환\n",
    "absolute_path = os.path.abspath(RELATIVE_BSPM_PATH)\n",
    "\n",
    "# 작업 경로 변경\n",
    "os.chdir(absolute_path)\n",
    "\n",
    "# 변경된 작업 경로 출력\n",
    "print(\"변경된 작업 경로:\", os.getcwd())"
   ]
  },
  {
   "cell_type": "markdown",
   "id": "0a453202-0c15-49f7-9539-386db8e2dbe4",
   "metadata": {
    "tags": []
   },
   "source": [
    "* seed(default: 2020)"
   ]
  },
  {
   "cell_type": "code",
   "execution_count": null,
   "id": "d115355b-8404-4edb-b739-2cfa31017bd3",
   "metadata": {
    "tags": []
   },
   "outputs": [
    {
     "name": "stdout",
     "output_type": "stream",
     "text": [
      "\n",
      "██████╗ ███████╗██████╗ ███╗   ███╗\n",
      "██╔══██╗██╔════╝██╔══██╗████╗ ████║\n",
      "██████╔╝███████╗██████╔╝██╔████╔██║\n",
      "██╔══██╗╚════██║██╔═══╝ ██║╚██╔╝██║\n",
      "██████╔╝███████║██║     ██║ ╚═╝ ██║\n",
      "╚═════╝ ╚══════╝╚═╝     ╚═╝     ╚═╝\n",
      "\n",
      "\u001b[0;30;43mCpp extension not loaded\u001b[0m\n",
      ">>SEED: 2020\n",
      "\u001b[0;30;43mloading [../data/JOB]\u001b[0m\n",
      "# of user: 8482\n",
      "# of item: 6695\n",
      "57946 interactions for training\n",
      "57946 interactions for testing\n",
      "JOB Sparsity : 0.0020408195609592974\n",
      "JOB is ready to go\n",
      "===========config================\n",
      "{'A_n_fold': 100,\n",
      " 'A_split': False,\n",
      " 'K_b': 1,\n",
      " 'K_idl': 1,\n",
      " 'K_s': 1,\n",
      " 'T_b': 1,\n",
      " 'T_idl': 1,\n",
      " 'T_s': 3.5,\n",
      " 'bigdata': False,\n",
      " 'bpr_batch_size': 2048,\n",
      " 'dataset': 'JOB',\n",
      " 'decay': 0.0001,\n",
      " 'device': device(type='cuda', index=0),\n",
      " 'dropout': 0,\n",
      " 'factor_dim': 960,\n",
      " 'final_sharpening': True,\n",
      " 'idl_beta': 0.3,\n",
      " 'keep_prob': 0.6,\n",
      " 'latent_dim_rec': 64,\n",
      " 'lightGCN_n_layers': 3,\n",
      " 'lr': 0.001,\n",
      " 'multicore': 0,\n",
      " 'pretrain': 0,\n",
      " 'sharpening_off': False,\n",
      " 'solver_blr': 'euler',\n",
      " 'solver_idl': 'euler',\n",
      " 'solver_shr': 'rk4',\n",
      " 't_point_combination': False,\n",
      " 'test_u_batch_size': 100}\n",
      "cores for test: 6\n",
      "comment: lgn\n",
      "tensorboard: 1\n",
      "LOAD: 0\n",
      "Weight path: ./checkpoints\n",
      "Test Topks: [20]\n",
      "using bpr loss\n",
      "===========end===================\n",
      "\u001b[0;30;43muse NORMAL distribution initilizer\u001b[0m\n",
      "loading adjacency matrix\n",
      "successfully loaded...\n"
     ]
    }
   ],
   "source": [
    "%run main.py --dataset=\"JOB\" --topks=\"[20]\" --simple_model=\"bspm\" --solver_shr=\"rk4\" \\\n",
    "--K_s=1 --T_s=3.5 --final_sharpening=True --idl_beta=0.3 --factor_dim=960"
   ]
  },
  {
   "cell_type": "markdown",
   "id": "e52b3990-ee23-4227-a054-3fb612524106",
   "metadata": {
    "tags": []
   },
   "source": [
    "## LT-OCF"
   ]
  },
  {
   "cell_type": "code",
   "execution_count": null,
   "id": "d440a0bc-3471-4604-b1d8-e8f940767a1e",
   "metadata": {
    "tags": []
   },
   "outputs": [],
   "source": [
    "os._exit(00)"
   ]
  },
  {
   "cell_type": "code",
   "execution_count": 1,
   "id": "e2a613aa-40d3-4746-bef6-34a6b9ec181b",
   "metadata": {
    "tags": []
   },
   "outputs": [],
   "source": [
    "import os\n",
    "ROOT_PATH = os.getcwd()\n",
    "RELATIVE_LTOCF_PATH = \"./LT-OCF/code\""
   ]
  },
  {
   "cell_type": "code",
   "execution_count": 2,
   "id": "b5cb7eb3-6a00-434b-8281-78205d0360de",
   "metadata": {
    "tags": []
   },
   "outputs": [
    {
     "name": "stdout",
     "output_type": "stream",
     "text": [
      "현재 작업 경로: C:\\Users\\medici\\DACON_Job-Recommendation-System-1\n",
      "변경된 작업 경로: C:\\Users\\medici\\DACON_Job-Recommendation-System-1\\LT-OCF\\code\n"
     ]
    }
   ],
   "source": [
    "# Root 작업 경로로 변경\n",
    "os.chdir(ROOT_PATH)\n",
    "\n",
    "# 현재 작업 경로 출력\n",
    "print(\"현재 작업 경로:\", os.getcwd())\n",
    "\n",
    "# 상대 경로를 절대 경로로 변환\n",
    "absolute_path = os.path.abspath(RELATIVE_LTOCF_PATH)\n",
    "\n",
    "# 작업 경로 변경\n",
    "os.chdir(absolute_path)\n",
    "\n",
    "# 변경된 작업 경로 출력\n",
    "print(\"변경된 작업 경로:\", os.getcwd())"
   ]
  },
  {
   "cell_type": "markdown",
   "id": "465b8c0d-ab2a-4446-9ed2-05c1ab6d2d56",
   "metadata": {
    "tags": []
   },
   "source": [
    "* seed(default: 2020)"
   ]
  },
  {
   "cell_type": "code",
   "execution_count": 3,
   "id": "4dc7f194-c451-4ab1-bed1-6b1d9a2710b7",
   "metadata": {
    "tags": []
   },
   "outputs": [
    {
     "name": "stdout",
     "output_type": "stream",
     "text": [
      "현재 사용 중인 GPU 디바이스: NVIDIA GeForce RTX 2070\n",
      "\n",
      "██╗  ████████╗    ██████╗  ██████╗███████╗\n",
      "██║  ╚══██╔══╝   ██╔═══██╗██╔════╝██╔════╝\n",
      "██║     ██║█████╗██║   ██║██║     █████╗  \n",
      "██║     ██║╚════╝██║   ██║██║     ██╔══╝  \n",
      "███████╗██║      ╚██████╔╝╚██████╗██║     \n",
      "╚══════╝╚═╝       ╚═════╝  ╚═════╝╚═╝     \n",
      "\n",
      "Current cuda device  0\n",
      ">>SEED: 2020\n",
      "\u001b[0;30;43mloading [../data/JOB]\u001b[0m\n",
      "57946 interactions for training\n",
      "57946 interactions for testing\n",
      "JOB Sparsity : 0.0020408195609592974\n",
      "JOB is ready to go\n",
      "===========config================\n",
      "{'A_n_fold': 100,\n",
      " 'A_split': False,\n",
      " 'K': 4.0,\n",
      " 'bigdata': False,\n",
      " 'bpr_batch_size': 2048,\n",
      " 'decay': 0.0001,\n",
      " 'dropout': 0,\n",
      " 'dual_res': False,\n",
      " 'keep_prob': 0.6,\n",
      " 'latent_dim_rec': 360,\n",
      " 'learnable_time': False,\n",
      " 'lightGCN_n_layers': 2,\n",
      " 'lr': 0.001,\n",
      " 'lr_time': 0.001,\n",
      " 'multicore': 0,\n",
      " 'pretrain': 0,\n",
      " 'pretrained_file_name': 'ltocf',\n",
      " 'solver': 'rk4',\n",
      " 'test_u_batch_size': 512,\n",
      " 'time_split': 4}\n",
      "cores for test: 6\n",
      "comment: lt-ncf\n",
      "tensorboard: 1\n",
      "LOAD: 0\n",
      "Weight path: ./checkpoints\n",
      "Test Topks: [20]\n",
      "using bpr loss\n",
      "adjoint method: False\n",
      "===========end===================\n",
      "\u001b[0;30;43muse NORMAL distribution initilizer\u001b[0m\n",
      "loading adjacency matrix\n",
      "successfully loaded...\n",
      "don't split the matrix\n",
      "lgn is already to go(dropout:0)\n",
      "load and save to C:\\Users\\medici\\DACON_Job-Recommendation-System-1\\LT-OCF\\code\\pretrain\\ltocf\n",
      "Train time: 2.4268s\n",
      "EPOCH[1/320] loss0.48436-|Sample:0.00|\n",
      "Train time: 2.2472s\n",
      "EPOCH[2/320] loss0.21276-|Sample:0.00|\n",
      "Train time: 2.2476s\n",
      "EPOCH[3/320] loss0.12019-|Sample:0.02|\n",
      "Train time: 2.2451s\n",
      "EPOCH[4/320] loss0.08870-|Sample:0.00|\n",
      "Train time: 2.2613s\n",
      "EPOCH[5/320] loss0.07577-|Sample:0.00|\n",
      "Train time: 2.2531s\n",
      "EPOCH[6/320] loss0.06049-|Sample:0.00|\n",
      "Train time: 2.2524s\n",
      "EPOCH[7/320] loss0.05630-|Sample:0.00|\n",
      "Train time: 2.2619s\n",
      "EPOCH[8/320] loss0.05059-|Sample:0.00|\n",
      "Train time: 2.2623s\n",
      "EPOCH[9/320] loss0.04506-|Sample:0.02|\n",
      "Train time: 2.2693s\n",
      "EPOCH[10/320] loss0.04100-|Sample:0.00|\n",
      "Train time: 2.2717s\n",
      "EPOCH[11/320] loss0.03979-|Sample:0.00|\n",
      "Train time: 2.2638s\n",
      "EPOCH[12/320] loss0.03786-|Sample:0.00|\n",
      "Train time: 2.2747s\n",
      "EPOCH[13/320] loss0.03568-|Sample:0.02|\n",
      "Train time: 2.2629s\n",
      "EPOCH[14/320] loss0.03213-|Sample:0.00|\n",
      "Train time: 2.2700s\n",
      "EPOCH[15/320] loss0.03039-|Sample:0.02|\n",
      "Train time: 2.2730s\n",
      "EPOCH[16/320] loss0.02917-|Sample:0.00|\n",
      "Train time: 2.2717s\n",
      "EPOCH[17/320] loss0.02764-|Sample:0.00|\n",
      "Train time: 2.2757s\n",
      "EPOCH[18/320] loss0.02734-|Sample:0.00|\n",
      "Train time: 2.2748s\n",
      "EPOCH[19/320] loss0.02599-|Sample:0.00|\n",
      "Train time: 2.2708s\n",
      "EPOCH[20/320] loss0.02401-|Sample:0.00|\n",
      "Train time: 2.2750s\n",
      "EPOCH[21/320] loss0.02414-|Sample:0.02|\n",
      "Train time: 2.2748s\n",
      "EPOCH[22/320] loss0.02211-|Sample:0.00|\n",
      "Train time: 2.2798s\n",
      "EPOCH[23/320] loss0.02170-|Sample:0.00|\n",
      "Train time: 2.2759s\n",
      "EPOCH[24/320] loss0.02178-|Sample:0.00|\n",
      "Train time: 2.2721s\n",
      "EPOCH[25/320] loss0.02096-|Sample:0.00|\n",
      "Train time: 2.2747s\n",
      "EPOCH[26/320] loss0.01938-|Sample:0.00|\n",
      "Train time: 2.2751s\n",
      "EPOCH[27/320] loss0.01985-|Sample:0.01|\n",
      "Train time: 2.2762s\n",
      "EPOCH[28/320] loss0.01927-|Sample:0.00|\n",
      "Train time: 2.2784s\n",
      "EPOCH[29/320] loss0.01762-|Sample:0.00|\n",
      "Train time: 2.2789s\n",
      "EPOCH[30/320] loss0.01781-|Sample:0.00|\n"
     ]
    },
    {
     "ename": "KeyboardInterrupt",
     "evalue": "",
     "output_type": "error",
     "traceback": [
      "\u001b[1;31m---------------------------------------------------------------------------\u001b[0m",
      "\u001b[1;31mKeyboardInterrupt\u001b[0m                         Traceback (most recent call last)",
      "\u001b[1;32m~\\DACON_Job-Recommendation-System-1\\LT-OCF\\code\\main.py\u001b[0m in \u001b[0;36m<module>\u001b[1;34m\u001b[0m\n\u001b[0;32m     56\u001b[0m         \u001b[1;32mif\u001b[0m \u001b[0mworld\u001b[0m\u001b[1;33m.\u001b[0m\u001b[0mmodel_name\u001b[0m \u001b[1;33m==\u001b[0m \u001b[1;34m'ltocf'\u001b[0m\u001b[1;33m:\u001b[0m\u001b[1;33m\u001b[0m\u001b[1;33m\u001b[0m\u001b[0m\n\u001b[0;32m     57\u001b[0m             \u001b[1;32mif\u001b[0m \u001b[0mworld\u001b[0m\u001b[1;33m.\u001b[0m\u001b[0mconfig\u001b[0m\u001b[1;33m[\u001b[0m\u001b[1;34m'learnable_time'\u001b[0m\u001b[1;33m]\u001b[0m \u001b[1;33m==\u001b[0m \u001b[1;32mFalse\u001b[0m\u001b[1;33m:\u001b[0m\u001b[1;33m\u001b[0m\u001b[1;33m\u001b[0m\u001b[0m\n\u001b[1;32m---> 58\u001b[1;33m                 \u001b[0moutput_information\u001b[0m\u001b[1;33m,\u001b[0m \u001b[0mavg_loss\u001b[0m \u001b[1;33m=\u001b[0m \u001b[0mProcedure\u001b[0m\u001b[1;33m.\u001b[0m\u001b[0mBPR_train_original\u001b[0m\u001b[1;33m(\u001b[0m\u001b[0mdataset\u001b[0m\u001b[1;33m,\u001b[0m \u001b[0mRecmodel\u001b[0m\u001b[1;33m,\u001b[0m \u001b[0mbpr\u001b[0m\u001b[1;33m,\u001b[0m \u001b[0mepoch\u001b[0m\u001b[1;33m,\u001b[0m \u001b[0mneg_k\u001b[0m\u001b[1;33m=\u001b[0m\u001b[0mNeg_k\u001b[0m\u001b[1;33m,\u001b[0m\u001b[0mw\u001b[0m\u001b[1;33m=\u001b[0m\u001b[0mw\u001b[0m\u001b[1;33m)\u001b[0m\u001b[1;33m\u001b[0m\u001b[1;33m\u001b[0m\u001b[0m\n\u001b[0m\u001b[0;32m     59\u001b[0m                 \u001b[0mprint\u001b[0m\u001b[1;33m(\u001b[0m\u001b[1;34mf'EPOCH[{epoch+1}/{world.TRAIN_epochs}] {output_information}'\u001b[0m\u001b[1;33m)\u001b[0m\u001b[1;33m\u001b[0m\u001b[1;33m\u001b[0m\u001b[0m\n\u001b[0;32m     60\u001b[0m             \u001b[1;32melse\u001b[0m\u001b[1;33m:\u001b[0m\u001b[1;33m\u001b[0m\u001b[1;33m\u001b[0m\u001b[0m\n",
      "\u001b[1;32m~\\DACON_Job-Recommendation-System-1\\LT-OCF\\code\\Procedure.py\u001b[0m in \u001b[0;36mBPR_train_original\u001b[1;34m(dataset, recommend_model, loss_class, epoch, neg_k, w)\u001b[0m\n\u001b[0;32m     39\u001b[0m                                                    \u001b[0mnegItems\u001b[0m\u001b[1;33m,\u001b[0m\u001b[1;33m\u001b[0m\u001b[1;33m\u001b[0m\u001b[0m\n\u001b[0;32m     40\u001b[0m                                                    batch_size=world.config['bpr_batch_size'])):\n\u001b[1;32m---> 41\u001b[1;33m         \u001b[0mcri\u001b[0m \u001b[1;33m=\u001b[0m \u001b[0mbpr\u001b[0m\u001b[1;33m.\u001b[0m\u001b[0mstageOne\u001b[0m\u001b[1;33m(\u001b[0m\u001b[0mbatch_users\u001b[0m\u001b[1;33m,\u001b[0m \u001b[0mbatch_pos\u001b[0m\u001b[1;33m,\u001b[0m \u001b[0mbatch_neg\u001b[0m\u001b[1;33m)\u001b[0m\u001b[1;33m\u001b[0m\u001b[1;33m\u001b[0m\u001b[0m\n\u001b[0m\u001b[0;32m     42\u001b[0m         \u001b[0maver_loss\u001b[0m \u001b[1;33m+=\u001b[0m \u001b[0mcri\u001b[0m\u001b[1;33m\u001b[0m\u001b[1;33m\u001b[0m\u001b[0m\n\u001b[0;32m     43\u001b[0m         \u001b[1;32mif\u001b[0m \u001b[0mworld\u001b[0m\u001b[1;33m.\u001b[0m\u001b[0mtensorboard\u001b[0m\u001b[1;33m:\u001b[0m\u001b[1;33m\u001b[0m\u001b[1;33m\u001b[0m\u001b[0m\n",
      "\u001b[1;32m~\\DACON_Job-Recommendation-System-1\\LT-OCF\\code\\utils.py\u001b[0m in \u001b[0;36mstageOne\u001b[1;34m(self, users, pos, neg)\u001b[0m\n\u001b[0;32m     38\u001b[0m \u001b[1;33m\u001b[0m\u001b[0m\n\u001b[0;32m     39\u001b[0m         \u001b[0mself\u001b[0m\u001b[1;33m.\u001b[0m\u001b[0mopt\u001b[0m\u001b[1;33m.\u001b[0m\u001b[0mzero_grad\u001b[0m\u001b[1;33m(\u001b[0m\u001b[1;33m)\u001b[0m\u001b[1;33m\u001b[0m\u001b[1;33m\u001b[0m\u001b[0m\n\u001b[1;32m---> 40\u001b[1;33m         \u001b[0mloss\u001b[0m\u001b[1;33m.\u001b[0m\u001b[0mbackward\u001b[0m\u001b[1;33m(\u001b[0m\u001b[1;33m)\u001b[0m\u001b[1;33m\u001b[0m\u001b[1;33m\u001b[0m\u001b[0m\n\u001b[0m\u001b[0;32m     41\u001b[0m         \u001b[0mself\u001b[0m\u001b[1;33m.\u001b[0m\u001b[0mopt\u001b[0m\u001b[1;33m.\u001b[0m\u001b[0mstep\u001b[0m\u001b[1;33m(\u001b[0m\u001b[1;33m)\u001b[0m\u001b[1;33m\u001b[0m\u001b[1;33m\u001b[0m\u001b[0m\n\u001b[0;32m     42\u001b[0m \u001b[1;33m\u001b[0m\u001b[0m\n",
      "\u001b[1;32mC:\\ProgramData\\miniconda3\\envs\\job_TEST\\lib\\site-packages\\torch\\tensor.py\u001b[0m in \u001b[0;36mbackward\u001b[1;34m(self, gradient, retain_graph, create_graph)\u001b[0m\n\u001b[0;32m    219\u001b[0m                 \u001b[0mretain_graph\u001b[0m\u001b[1;33m=\u001b[0m\u001b[0mretain_graph\u001b[0m\u001b[1;33m,\u001b[0m\u001b[1;33m\u001b[0m\u001b[1;33m\u001b[0m\u001b[0m\n\u001b[0;32m    220\u001b[0m                 create_graph=create_graph)\n\u001b[1;32m--> 221\u001b[1;33m         \u001b[0mtorch\u001b[0m\u001b[1;33m.\u001b[0m\u001b[0mautograd\u001b[0m\u001b[1;33m.\u001b[0m\u001b[0mbackward\u001b[0m\u001b[1;33m(\u001b[0m\u001b[0mself\u001b[0m\u001b[1;33m,\u001b[0m \u001b[0mgradient\u001b[0m\u001b[1;33m,\u001b[0m \u001b[0mretain_graph\u001b[0m\u001b[1;33m,\u001b[0m \u001b[0mcreate_graph\u001b[0m\u001b[1;33m)\u001b[0m\u001b[1;33m\u001b[0m\u001b[1;33m\u001b[0m\u001b[0m\n\u001b[0m\u001b[0;32m    222\u001b[0m \u001b[1;33m\u001b[0m\u001b[0m\n\u001b[0;32m    223\u001b[0m     \u001b[1;32mdef\u001b[0m \u001b[0mregister_hook\u001b[0m\u001b[1;33m(\u001b[0m\u001b[0mself\u001b[0m\u001b[1;33m,\u001b[0m \u001b[0mhook\u001b[0m\u001b[1;33m)\u001b[0m\u001b[1;33m:\u001b[0m\u001b[1;33m\u001b[0m\u001b[1;33m\u001b[0m\u001b[0m\n",
      "\u001b[1;32mC:\\ProgramData\\miniconda3\\envs\\job_TEST\\lib\\site-packages\\torch\\autograd\\__init__.py\u001b[0m in \u001b[0;36mbackward\u001b[1;34m(tensors, grad_tensors, retain_graph, create_graph, grad_variables)\u001b[0m\n\u001b[0;32m    130\u001b[0m     Variable._execution_engine.run_backward(\n\u001b[0;32m    131\u001b[0m         \u001b[0mtensors\u001b[0m\u001b[1;33m,\u001b[0m \u001b[0mgrad_tensors_\u001b[0m\u001b[1;33m,\u001b[0m \u001b[0mretain_graph\u001b[0m\u001b[1;33m,\u001b[0m \u001b[0mcreate_graph\u001b[0m\u001b[1;33m,\u001b[0m\u001b[1;33m\u001b[0m\u001b[1;33m\u001b[0m\u001b[0m\n\u001b[1;32m--> 132\u001b[1;33m         allow_unreachable=True)  # allow_unreachable flag\n\u001b[0m\u001b[0;32m    133\u001b[0m \u001b[1;33m\u001b[0m\u001b[0m\n\u001b[0;32m    134\u001b[0m \u001b[1;33m\u001b[0m\u001b[0m\n",
      "\u001b[1;31mKeyboardInterrupt\u001b[0m: "
     ]
    }
   ],
   "source": [
    "%run main.py --dataset=\"JOB\" --model=\"ltocf\" --solver=\"rk4\" --adjoint=False \\\n",
    "--K=4 --learnable_time=False --dual_res=False --lr=1e-3 --lr_time=1e-3 \\\n",
    "--decay=1e-4 --topks=\"[20]\" --tensorboard=1 --gpuid=0 \\\n",
    "--epochs=320 --layer=2 --recdim=360 --bpr_batch=2048 --pretrain=0"
   ]
  },
  {
   "cell_type": "markdown",
   "id": "609e9509-65b5-481b-b38f-4426ba5431af",
   "metadata": {
    "tags": []
   },
   "source": [
    "## CF"
   ]
  },
  {
   "cell_type": "code",
   "execution_count": null,
   "id": "43093282-d226-4186-a0e2-b0d2578f7c1b",
   "metadata": {
    "tags": []
   },
   "outputs": [],
   "source": [
    "os._exit(0)"
   ]
  },
  {
   "cell_type": "code",
   "execution_count": 1,
   "id": "b8012063-de2e-4eed-8cb4-63bcf5bfe298",
   "metadata": {
    "tags": []
   },
   "outputs": [],
   "source": [
    "import os\n",
    "ROOT_PATH = os.getcwd()\n",
    "RELATIVE_CF_PATH = \"./CF/cf\""
   ]
  },
  {
   "cell_type": "code",
   "execution_count": 2,
   "id": "1ab00b68-4169-42bb-af62-c0f31537d618",
   "metadata": {
    "tags": []
   },
   "outputs": [
    {
     "name": "stdout",
     "output_type": "stream",
     "text": [
      "현재 작업 경로: C:\\Users\\medici\\DACON_Job-Recommendation-System-1\n",
      "변경된 작업 경로: C:\\Users\\medici\\DACON_Job-Recommendation-System-1\\CF\\cf\n"
     ]
    }
   ],
   "source": [
    "# Root 작업 경로로 변경\n",
    "os.chdir(ROOT_PATH)\n",
    "\n",
    "# 현재 작업 경로 출력\n",
    "print(\"현재 작업 경로:\", os.getcwd())\n",
    "\n",
    "# 상대 경로를 절대 경로로 변환\n",
    "absolute_path = os.path.abspath(RELATIVE_CF_PATH)\n",
    "\n",
    "# 작업 경로 변경\n",
    "os.chdir(absolute_path)\n",
    "\n",
    "# 변경된 작업 경로 출력\n",
    "print(\"변경된 작업 경로:\", os.getcwd())"
   ]
  },
  {
   "cell_type": "code",
   "execution_count": 3,
   "id": "4f5ca14f-7870-4e78-af78-5875d57d450b",
   "metadata": {
    "tags": []
   },
   "outputs": [
    {
     "name": "stdout",
     "output_type": "stream",
     "text": [
      "\n",
      "[gamma] '0.2', [similarity] 'pearson'\n",
      "\n",
      "reading data...\n",
      "measuring similarity of users...\n",
      "measuring user-based recommendations...\n",
      "measuring similarity of items...\n",
      "measuring item-based recommendations...\n",
      "measuring final model recommendations...\n",
      "measuring performance of final model...\n",
      "\n",
      "[final model]\n",
      "recall@20: 0.00112\n",
      "\n",
      "--------------------------------------------------------------------------------\n",
      "Total Time: 19.40 seconds\n"
     ]
    }
   ],
   "source": [
    "%run main.py --dataset=\"JOB\" --test=\"test\" --gamma=0.2 --similarity=\"pearson\""
   ]
  },
  {
   "cell_type": "markdown",
   "id": "a8d25b14-82c6-4fec-9bcd-92f673e82ce9",
   "metadata": {},
   "source": [
    "# [앙상블]"
   ]
  },
  {
   "cell_type": "code",
   "execution_count": null,
   "id": "fd8f56f7-16ff-4fa6-be4c-826572abf9b2",
   "metadata": {
    "tags": []
   },
   "outputs": [],
   "source": [
    "import os\n",
    "os._exit(0)"
   ]
  },
  {
   "cell_type": "code",
   "execution_count": 1,
   "id": "f2aee35b-afd9-4a92-9d8d-ddfdba4ee886",
   "metadata": {
    "tags": []
   },
   "outputs": [],
   "source": [
    "import pandas as pd\n",
    "import numpy as np\n",
    "\n",
    "from sklearn.preprocessing import MinMaxScaler, StandardScaler"
   ]
  },
  {
   "cell_type": "markdown",
   "id": "46ea00d9-c387-4694-b156-7b6111764189",
   "metadata": {},
   "source": [
    "## File load"
   ]
  },
  {
   "cell_type": "code",
   "execution_count": 2,
   "id": "d6e4d7d7-672d-44fc-a780-4e512102afb7",
   "metadata": {
    "tags": []
   },
   "outputs": [],
   "source": [
    "LTOCF_FOLDER_PATH = './LT-OCF/results/'\n",
    "BSPM_FOLDER_PATH = './BSPM/results/'\n",
    "CF_FOLDER_PATH = './CF/results/'"
   ]
  },
  {
   "cell_type": "code",
   "execution_count": 3,
   "id": "6488897f-d550-4fe2-b84f-75d26b1ee6a1",
   "metadata": {
    "tags": []
   },
   "outputs": [],
   "source": [
    "LTOCF_FILE_NAME = 'JOB_360_0.0030__319'\n",
    "BSPM_FILE_NAME = 'JOB_960'"
   ]
  },
  {
   "cell_type": "markdown",
   "id": "6a0407e3-40ae-42d5-b629-1220c4c4cad6",
   "metadata": {
    "tags": []
   },
   "source": [
    "### LT-OCF"
   ]
  },
  {
   "cell_type": "code",
   "execution_count": 4,
   "id": "4dfa5a6f-d9e9-4087-a921-d0a1270448d4",
   "metadata": {
    "tags": []
   },
   "outputs": [],
   "source": [
    "lt_proba = pd.read_csv(f'{LTOCF_FOLDER_PATH}proba_{LTOCF_FILE_NAME}.txt', delimiter=' ', header=None)\n",
    "lt_rating_idx= pd.read_csv(f'{LTOCF_FOLDER_PATH}rating_{LTOCF_FILE_NAME}.txt', delimiter=' ', header=None)\n",
    "lt_user = pd.read_csv(f'{LTOCF_FOLDER_PATH}user_{LTOCF_FILE_NAME}.txt', delimiter=' ', header=None)"
   ]
  },
  {
   "cell_type": "markdown",
   "id": "5525e10c-b49f-40f9-8371-c756dca8fbec",
   "metadata": {
    "tags": []
   },
   "source": [
    "### BSPM"
   ]
  },
  {
   "cell_type": "code",
   "execution_count": 5,
   "id": "e5c42992-4caf-4a15-b27e-89a53ef9bdc1",
   "metadata": {
    "tags": []
   },
   "outputs": [],
   "source": [
    "bspm_proba = pd.read_csv(f'{BSPM_FOLDER_PATH}proba_{BSPM_FILE_NAME}.txt', delimiter=' ', header=None)\n",
    "bspm_rating_idx= pd.read_csv(f'{BSPM_FOLDER_PATH}rating_{BSPM_FILE_NAME}.txt', delimiter=' ', header=None)\n",
    "bspm_user = pd.read_csv(f'{BSPM_FOLDER_PATH}user_{BSPM_FILE_NAME}.txt', delimiter=' ', header=None)"
   ]
  },
  {
   "cell_type": "markdown",
   "id": "519e0b2a-cc35-40b6-bfa3-a0abfe1502dc",
   "metadata": {},
   "source": [
    "### CF"
   ]
  },
  {
   "cell_type": "code",
   "execution_count": 6,
   "id": "39500aa2-db07-4e3a-939e-926bc2b519f9",
   "metadata": {
    "tags": []
   },
   "outputs": [],
   "source": [
    "cf_proba = pd.read_csv(f'{CF_FOLDER_PATH}pred_prob_list_20.txt', delimiter=' ', header=None)\n",
    "cf_rating_idx= pd.read_csv(f'{CF_FOLDER_PATH}pred_idx_list_20.txt', delimiter=' ', header=None)"
   ]
  },
  {
   "cell_type": "markdown",
   "id": "88b37906-a5ae-4668-891e-b7cc5b434598",
   "metadata": {},
   "source": [
    "## LT-OCF DF 생성"
   ]
  },
  {
   "cell_type": "code",
   "execution_count": 7,
   "id": "a5fa47b0-77e2-4b52-bfa6-afd1cee02e01",
   "metadata": {
    "tags": []
   },
   "outputs": [
    {
     "data": {
      "text/html": [
       "<div>\n",
       "<style scoped>\n",
       "    .dataframe tbody tr th:only-of-type {\n",
       "        vertical-align: middle;\n",
       "    }\n",
       "\n",
       "    .dataframe tbody tr th {\n",
       "        vertical-align: top;\n",
       "    }\n",
       "\n",
       "    .dataframe thead th {\n",
       "        text-align: right;\n",
       "    }\n",
       "</style>\n",
       "<table border=\"1\" class=\"dataframe\">\n",
       "  <thead>\n",
       "    <tr style=\"text-align: right;\">\n",
       "      <th></th>\n",
       "      <th>0</th>\n",
       "      <th>0</th>\n",
       "      <th>1</th>\n",
       "      <th>2</th>\n",
       "      <th>3</th>\n",
       "      <th>4</th>\n",
       "      <th>5</th>\n",
       "      <th>6</th>\n",
       "      <th>7</th>\n",
       "      <th>8</th>\n",
       "      <th>...</th>\n",
       "      <th>10</th>\n",
       "      <th>11</th>\n",
       "      <th>12</th>\n",
       "      <th>13</th>\n",
       "      <th>14</th>\n",
       "      <th>15</th>\n",
       "      <th>16</th>\n",
       "      <th>17</th>\n",
       "      <th>18</th>\n",
       "      <th>19</th>\n",
       "    </tr>\n",
       "  </thead>\n",
       "  <tbody>\n",
       "    <tr>\n",
       "      <th>0</th>\n",
       "      <td>0</td>\n",
       "      <td>0.999983</td>\n",
       "      <td>0.999955</td>\n",
       "      <td>0.999934</td>\n",
       "      <td>0.999892</td>\n",
       "      <td>0.999884</td>\n",
       "      <td>0.999884</td>\n",
       "      <td>0.999808</td>\n",
       "      <td>0.999793</td>\n",
       "      <td>0.999778</td>\n",
       "      <td>...</td>\n",
       "      <td>0.999753</td>\n",
       "      <td>0.999709</td>\n",
       "      <td>0.999684</td>\n",
       "      <td>0.999586</td>\n",
       "      <td>0.999557</td>\n",
       "      <td>0.999508</td>\n",
       "      <td>0.999494</td>\n",
       "      <td>0.999261</td>\n",
       "      <td>0.999212</td>\n",
       "      <td>0.999158</td>\n",
       "    </tr>\n",
       "    <tr>\n",
       "      <th>1</th>\n",
       "      <td>1</td>\n",
       "      <td>0.999989</td>\n",
       "      <td>0.999978</td>\n",
       "      <td>0.999975</td>\n",
       "      <td>0.999970</td>\n",
       "      <td>0.999968</td>\n",
       "      <td>0.999954</td>\n",
       "      <td>0.999950</td>\n",
       "      <td>0.999945</td>\n",
       "      <td>0.999937</td>\n",
       "      <td>...</td>\n",
       "      <td>0.999923</td>\n",
       "      <td>0.999913</td>\n",
       "      <td>0.999910</td>\n",
       "      <td>0.999898</td>\n",
       "      <td>0.999894</td>\n",
       "      <td>0.999893</td>\n",
       "      <td>0.999893</td>\n",
       "      <td>0.999891</td>\n",
       "      <td>0.999888</td>\n",
       "      <td>0.999884</td>\n",
       "    </tr>\n",
       "    <tr>\n",
       "      <th>2</th>\n",
       "      <td>2</td>\n",
       "      <td>0.999956</td>\n",
       "      <td>0.999931</td>\n",
       "      <td>0.999911</td>\n",
       "      <td>0.999906</td>\n",
       "      <td>0.999897</td>\n",
       "      <td>0.999860</td>\n",
       "      <td>0.999852</td>\n",
       "      <td>0.999849</td>\n",
       "      <td>0.999827</td>\n",
       "      <td>...</td>\n",
       "      <td>0.999756</td>\n",
       "      <td>0.999740</td>\n",
       "      <td>0.999729</td>\n",
       "      <td>0.999714</td>\n",
       "      <td>0.999699</td>\n",
       "      <td>0.999670</td>\n",
       "      <td>0.999640</td>\n",
       "      <td>0.999637</td>\n",
       "      <td>0.999632</td>\n",
       "      <td>0.999625</td>\n",
       "    </tr>\n",
       "    <tr>\n",
       "      <th>3</th>\n",
       "      <td>3</td>\n",
       "      <td>0.999982</td>\n",
       "      <td>0.999981</td>\n",
       "      <td>0.999965</td>\n",
       "      <td>0.999957</td>\n",
       "      <td>0.999927</td>\n",
       "      <td>0.999923</td>\n",
       "      <td>0.999915</td>\n",
       "      <td>0.999915</td>\n",
       "      <td>0.999885</td>\n",
       "      <td>...</td>\n",
       "      <td>0.999841</td>\n",
       "      <td>0.999830</td>\n",
       "      <td>0.999816</td>\n",
       "      <td>0.999768</td>\n",
       "      <td>0.999749</td>\n",
       "      <td>0.999735</td>\n",
       "      <td>0.999728</td>\n",
       "      <td>0.999710</td>\n",
       "      <td>0.999682</td>\n",
       "      <td>0.999668</td>\n",
       "    </tr>\n",
       "    <tr>\n",
       "      <th>4</th>\n",
       "      <td>4</td>\n",
       "      <td>0.999793</td>\n",
       "      <td>0.999759</td>\n",
       "      <td>0.999745</td>\n",
       "      <td>0.999717</td>\n",
       "      <td>0.999625</td>\n",
       "      <td>0.999623</td>\n",
       "      <td>0.999466</td>\n",
       "      <td>0.999358</td>\n",
       "      <td>0.999341</td>\n",
       "      <td>...</td>\n",
       "      <td>0.999190</td>\n",
       "      <td>0.999189</td>\n",
       "      <td>0.999020</td>\n",
       "      <td>0.998515</td>\n",
       "      <td>0.998202</td>\n",
       "      <td>0.998198</td>\n",
       "      <td>0.998030</td>\n",
       "      <td>0.998006</td>\n",
       "      <td>0.997997</td>\n",
       "      <td>0.997950</td>\n",
       "    </tr>\n",
       "  </tbody>\n",
       "</table>\n",
       "<p>5 rows × 21 columns</p>\n",
       "</div>"
      ],
      "text/plain": [
       "   0         0         1         2         3         4         5         6   \\\n",
       "0   0  0.999983  0.999955  0.999934  0.999892  0.999884  0.999884  0.999808   \n",
       "1   1  0.999989  0.999978  0.999975  0.999970  0.999968  0.999954  0.999950   \n",
       "2   2  0.999956  0.999931  0.999911  0.999906  0.999897  0.999860  0.999852   \n",
       "3   3  0.999982  0.999981  0.999965  0.999957  0.999927  0.999923  0.999915   \n",
       "4   4  0.999793  0.999759  0.999745  0.999717  0.999625  0.999623  0.999466   \n",
       "\n",
       "         7         8   ...        10        11        12        13        14  \\\n",
       "0  0.999793  0.999778  ...  0.999753  0.999709  0.999684  0.999586  0.999557   \n",
       "1  0.999945  0.999937  ...  0.999923  0.999913  0.999910  0.999898  0.999894   \n",
       "2  0.999849  0.999827  ...  0.999756  0.999740  0.999729  0.999714  0.999699   \n",
       "3  0.999915  0.999885  ...  0.999841  0.999830  0.999816  0.999768  0.999749   \n",
       "4  0.999358  0.999341  ...  0.999190  0.999189  0.999020  0.998515  0.998202   \n",
       "\n",
       "         15        16        17        18        19  \n",
       "0  0.999508  0.999494  0.999261  0.999212  0.999158  \n",
       "1  0.999893  0.999893  0.999891  0.999888  0.999884  \n",
       "2  0.999670  0.999640  0.999637  0.999632  0.999625  \n",
       "3  0.999735  0.999728  0.999710  0.999682  0.999668  \n",
       "4  0.998198  0.998030  0.998006  0.997997  0.997950  \n",
       "\n",
       "[5 rows x 21 columns]"
      ]
     },
     "execution_count": 7,
     "metadata": {},
     "output_type": "execute_result"
    }
   ],
   "source": [
    "lt_proba_df = pd.concat([lt_user, lt_proba], axis=1)\n",
    "lt_proba_df.head()"
   ]
  },
  {
   "cell_type": "code",
   "execution_count": 8,
   "id": "a8734ebe-81b2-45dc-83df-ea6370aadfb4",
   "metadata": {
    "tags": []
   },
   "outputs": [
    {
     "data": {
      "text/html": [
       "<div>\n",
       "<style scoped>\n",
       "    .dataframe tbody tr th:only-of-type {\n",
       "        vertical-align: middle;\n",
       "    }\n",
       "\n",
       "    .dataframe tbody tr th {\n",
       "        vertical-align: top;\n",
       "    }\n",
       "\n",
       "    .dataframe thead th {\n",
       "        text-align: right;\n",
       "    }\n",
       "</style>\n",
       "<table border=\"1\" class=\"dataframe\">\n",
       "  <thead>\n",
       "    <tr style=\"text-align: right;\">\n",
       "      <th></th>\n",
       "      <th>0</th>\n",
       "      <th>0</th>\n",
       "      <th>1</th>\n",
       "      <th>2</th>\n",
       "      <th>3</th>\n",
       "      <th>4</th>\n",
       "      <th>5</th>\n",
       "      <th>6</th>\n",
       "      <th>7</th>\n",
       "      <th>8</th>\n",
       "      <th>...</th>\n",
       "      <th>10</th>\n",
       "      <th>11</th>\n",
       "      <th>12</th>\n",
       "      <th>13</th>\n",
       "      <th>14</th>\n",
       "      <th>15</th>\n",
       "      <th>16</th>\n",
       "      <th>17</th>\n",
       "      <th>18</th>\n",
       "      <th>19</th>\n",
       "    </tr>\n",
       "  </thead>\n",
       "  <tbody>\n",
       "    <tr>\n",
       "      <th>0</th>\n",
       "      <td>0</td>\n",
       "      <td>357</td>\n",
       "      <td>156</td>\n",
       "      <td>1965</td>\n",
       "      <td>1030</td>\n",
       "      <td>2832</td>\n",
       "      <td>5164</td>\n",
       "      <td>4675</td>\n",
       "      <td>4670</td>\n",
       "      <td>6228</td>\n",
       "      <td>...</td>\n",
       "      <td>3195</td>\n",
       "      <td>4050</td>\n",
       "      <td>1051</td>\n",
       "      <td>5279</td>\n",
       "      <td>5358</td>\n",
       "      <td>161</td>\n",
       "      <td>2502</td>\n",
       "      <td>3641</td>\n",
       "      <td>5598</td>\n",
       "      <td>5450</td>\n",
       "    </tr>\n",
       "    <tr>\n",
       "      <th>1</th>\n",
       "      <td>1</td>\n",
       "      <td>419</td>\n",
       "      <td>3275</td>\n",
       "      <td>1747</td>\n",
       "      <td>2688</td>\n",
       "      <td>961</td>\n",
       "      <td>2924</td>\n",
       "      <td>5060</td>\n",
       "      <td>1660</td>\n",
       "      <td>3370</td>\n",
       "      <td>...</td>\n",
       "      <td>2574</td>\n",
       "      <td>1746</td>\n",
       "      <td>4350</td>\n",
       "      <td>2881</td>\n",
       "      <td>5096</td>\n",
       "      <td>6250</td>\n",
       "      <td>1749</td>\n",
       "      <td>2650</td>\n",
       "      <td>2554</td>\n",
       "      <td>643</td>\n",
       "    </tr>\n",
       "    <tr>\n",
       "      <th>2</th>\n",
       "      <td>2</td>\n",
       "      <td>480</td>\n",
       "      <td>5791</td>\n",
       "      <td>1454</td>\n",
       "      <td>6060</td>\n",
       "      <td>716</td>\n",
       "      <td>3543</td>\n",
       "      <td>4932</td>\n",
       "      <td>4726</td>\n",
       "      <td>5093</td>\n",
       "      <td>...</td>\n",
       "      <td>6213</td>\n",
       "      <td>5851</td>\n",
       "      <td>1790</td>\n",
       "      <td>4745</td>\n",
       "      <td>2895</td>\n",
       "      <td>5260</td>\n",
       "      <td>5226</td>\n",
       "      <td>4475</td>\n",
       "      <td>1672</td>\n",
       "      <td>4244</td>\n",
       "    </tr>\n",
       "    <tr>\n",
       "      <th>3</th>\n",
       "      <td>3</td>\n",
       "      <td>3575</td>\n",
       "      <td>534</td>\n",
       "      <td>2219</td>\n",
       "      <td>870</td>\n",
       "      <td>800</td>\n",
       "      <td>1188</td>\n",
       "      <td>5210</td>\n",
       "      <td>2739</td>\n",
       "      <td>3364</td>\n",
       "      <td>...</td>\n",
       "      <td>2390</td>\n",
       "      <td>6163</td>\n",
       "      <td>2264</td>\n",
       "      <td>434</td>\n",
       "      <td>1919</td>\n",
       "      <td>2072</td>\n",
       "      <td>1946</td>\n",
       "      <td>2475</td>\n",
       "      <td>841</td>\n",
       "      <td>913</td>\n",
       "    </tr>\n",
       "    <tr>\n",
       "      <th>4</th>\n",
       "      <td>4</td>\n",
       "      <td>5085</td>\n",
       "      <td>5229</td>\n",
       "      <td>3691</td>\n",
       "      <td>3637</td>\n",
       "      <td>1188</td>\n",
       "      <td>2428</td>\n",
       "      <td>4782</td>\n",
       "      <td>1094</td>\n",
       "      <td>1986</td>\n",
       "      <td>...</td>\n",
       "      <td>2893</td>\n",
       "      <td>825</td>\n",
       "      <td>1001</td>\n",
       "      <td>800</td>\n",
       "      <td>5329</td>\n",
       "      <td>2857</td>\n",
       "      <td>3074</td>\n",
       "      <td>594</td>\n",
       "      <td>2934</td>\n",
       "      <td>1385</td>\n",
       "    </tr>\n",
       "  </tbody>\n",
       "</table>\n",
       "<p>5 rows × 21 columns</p>\n",
       "</div>"
      ],
      "text/plain": [
       "   0     0     1     2     3     4     5     6     7     8   ...    10    11  \\\n",
       "0   0   357   156  1965  1030  2832  5164  4675  4670  6228  ...  3195  4050   \n",
       "1   1   419  3275  1747  2688   961  2924  5060  1660  3370  ...  2574  1746   \n",
       "2   2   480  5791  1454  6060   716  3543  4932  4726  5093  ...  6213  5851   \n",
       "3   3  3575   534  2219   870   800  1188  5210  2739  3364  ...  2390  6163   \n",
       "4   4  5085  5229  3691  3637  1188  2428  4782  1094  1986  ...  2893   825   \n",
       "\n",
       "     12    13    14    15    16    17    18    19  \n",
       "0  1051  5279  5358   161  2502  3641  5598  5450  \n",
       "1  4350  2881  5096  6250  1749  2650  2554   643  \n",
       "2  1790  4745  2895  5260  5226  4475  1672  4244  \n",
       "3  2264   434  1919  2072  1946  2475   841   913  \n",
       "4  1001   800  5329  2857  3074   594  2934  1385  \n",
       "\n",
       "[5 rows x 21 columns]"
      ]
     },
     "execution_count": 8,
     "metadata": {},
     "output_type": "execute_result"
    }
   ],
   "source": [
    "lt_idx_df = pd.concat([lt_user, lt_rating_idx], axis=1)\n",
    "lt_idx_df.head()"
   ]
  },
  {
   "cell_type": "markdown",
   "id": "a5263d13-a9d9-4dc8-962f-762ddf5060af",
   "metadata": {},
   "source": [
    "## BSPM DF 생성"
   ]
  },
  {
   "cell_type": "code",
   "execution_count": 9,
   "id": "fe38468d-6bff-4db0-8147-4d9ceae299a2",
   "metadata": {
    "tags": []
   },
   "outputs": [
    {
     "data": {
      "text/html": [
       "<div>\n",
       "<style scoped>\n",
       "    .dataframe tbody tr th:only-of-type {\n",
       "        vertical-align: middle;\n",
       "    }\n",
       "\n",
       "    .dataframe tbody tr th {\n",
       "        vertical-align: top;\n",
       "    }\n",
       "\n",
       "    .dataframe thead th {\n",
       "        text-align: right;\n",
       "    }\n",
       "</style>\n",
       "<table border=\"1\" class=\"dataframe\">\n",
       "  <thead>\n",
       "    <tr style=\"text-align: right;\">\n",
       "      <th></th>\n",
       "      <th>0</th>\n",
       "      <th>0</th>\n",
       "      <th>1</th>\n",
       "      <th>2</th>\n",
       "      <th>3</th>\n",
       "      <th>4</th>\n",
       "      <th>5</th>\n",
       "      <th>6</th>\n",
       "      <th>7</th>\n",
       "      <th>8</th>\n",
       "      <th>...</th>\n",
       "      <th>10</th>\n",
       "      <th>11</th>\n",
       "      <th>12</th>\n",
       "      <th>13</th>\n",
       "      <th>14</th>\n",
       "      <th>15</th>\n",
       "      <th>16</th>\n",
       "      <th>17</th>\n",
       "      <th>18</th>\n",
       "      <th>19</th>\n",
       "    </tr>\n",
       "  </thead>\n",
       "  <tbody>\n",
       "    <tr>\n",
       "      <th>0</th>\n",
       "      <td>0</td>\n",
       "      <td>0.064493</td>\n",
       "      <td>0.051239</td>\n",
       "      <td>0.050869</td>\n",
       "      <td>0.046182</td>\n",
       "      <td>0.040701</td>\n",
       "      <td>0.036274</td>\n",
       "      <td>0.034129</td>\n",
       "      <td>0.033497</td>\n",
       "      <td>0.032029</td>\n",
       "      <td>...</td>\n",
       "      <td>0.030471</td>\n",
       "      <td>0.030239</td>\n",
       "      <td>0.029476</td>\n",
       "      <td>0.029303</td>\n",
       "      <td>0.027880</td>\n",
       "      <td>0.027160</td>\n",
       "      <td>0.025285</td>\n",
       "      <td>0.024519</td>\n",
       "      <td>0.024484</td>\n",
       "      <td>0.023947</td>\n",
       "    </tr>\n",
       "    <tr>\n",
       "      <th>1</th>\n",
       "      <td>1</td>\n",
       "      <td>0.080086</td>\n",
       "      <td>0.075567</td>\n",
       "      <td>0.073841</td>\n",
       "      <td>0.072431</td>\n",
       "      <td>0.070084</td>\n",
       "      <td>0.065038</td>\n",
       "      <td>0.063998</td>\n",
       "      <td>0.063467</td>\n",
       "      <td>0.062092</td>\n",
       "      <td>...</td>\n",
       "      <td>0.060555</td>\n",
       "      <td>0.059121</td>\n",
       "      <td>0.058809</td>\n",
       "      <td>0.058299</td>\n",
       "      <td>0.057959</td>\n",
       "      <td>0.057243</td>\n",
       "      <td>0.055875</td>\n",
       "      <td>0.055593</td>\n",
       "      <td>0.053641</td>\n",
       "      <td>0.052832</td>\n",
       "    </tr>\n",
       "    <tr>\n",
       "      <th>2</th>\n",
       "      <td>2</td>\n",
       "      <td>0.063191</td>\n",
       "      <td>0.047769</td>\n",
       "      <td>0.041074</td>\n",
       "      <td>0.040986</td>\n",
       "      <td>0.038470</td>\n",
       "      <td>0.038455</td>\n",
       "      <td>0.037921</td>\n",
       "      <td>0.036122</td>\n",
       "      <td>0.035649</td>\n",
       "      <td>...</td>\n",
       "      <td>0.033184</td>\n",
       "      <td>0.031998</td>\n",
       "      <td>0.031256</td>\n",
       "      <td>0.030993</td>\n",
       "      <td>0.030105</td>\n",
       "      <td>0.029818</td>\n",
       "      <td>0.029745</td>\n",
       "      <td>0.029692</td>\n",
       "      <td>0.029385</td>\n",
       "      <td>0.029359</td>\n",
       "    </tr>\n",
       "    <tr>\n",
       "      <th>3</th>\n",
       "      <td>3</td>\n",
       "      <td>0.162731</td>\n",
       "      <td>0.153145</td>\n",
       "      <td>0.101066</td>\n",
       "      <td>0.094658</td>\n",
       "      <td>0.093844</td>\n",
       "      <td>0.079816</td>\n",
       "      <td>0.076262</td>\n",
       "      <td>0.076080</td>\n",
       "      <td>0.066872</td>\n",
       "      <td>...</td>\n",
       "      <td>0.063550</td>\n",
       "      <td>0.063116</td>\n",
       "      <td>0.061223</td>\n",
       "      <td>0.058880</td>\n",
       "      <td>0.057382</td>\n",
       "      <td>0.057093</td>\n",
       "      <td>0.056032</td>\n",
       "      <td>0.054265</td>\n",
       "      <td>0.054000</td>\n",
       "      <td>0.052819</td>\n",
       "    </tr>\n",
       "    <tr>\n",
       "      <th>4</th>\n",
       "      <td>4</td>\n",
       "      <td>0.041308</td>\n",
       "      <td>0.039246</td>\n",
       "      <td>0.037293</td>\n",
       "      <td>0.034734</td>\n",
       "      <td>0.034231</td>\n",
       "      <td>0.029262</td>\n",
       "      <td>0.029196</td>\n",
       "      <td>0.029115</td>\n",
       "      <td>0.029075</td>\n",
       "      <td>...</td>\n",
       "      <td>0.027709</td>\n",
       "      <td>0.027645</td>\n",
       "      <td>0.027118</td>\n",
       "      <td>0.026612</td>\n",
       "      <td>0.025969</td>\n",
       "      <td>0.025766</td>\n",
       "      <td>0.025761</td>\n",
       "      <td>0.025566</td>\n",
       "      <td>0.025356</td>\n",
       "      <td>0.023943</td>\n",
       "    </tr>\n",
       "  </tbody>\n",
       "</table>\n",
       "<p>5 rows × 21 columns</p>\n",
       "</div>"
      ],
      "text/plain": [
       "   0         0         1         2         3         4         5         6   \\\n",
       "0   0  0.064493  0.051239  0.050869  0.046182  0.040701  0.036274  0.034129   \n",
       "1   1  0.080086  0.075567  0.073841  0.072431  0.070084  0.065038  0.063998   \n",
       "2   2  0.063191  0.047769  0.041074  0.040986  0.038470  0.038455  0.037921   \n",
       "3   3  0.162731  0.153145  0.101066  0.094658  0.093844  0.079816  0.076262   \n",
       "4   4  0.041308  0.039246  0.037293  0.034734  0.034231  0.029262  0.029196   \n",
       "\n",
       "         7         8   ...        10        11        12        13        14  \\\n",
       "0  0.033497  0.032029  ...  0.030471  0.030239  0.029476  0.029303  0.027880   \n",
       "1  0.063467  0.062092  ...  0.060555  0.059121  0.058809  0.058299  0.057959   \n",
       "2  0.036122  0.035649  ...  0.033184  0.031998  0.031256  0.030993  0.030105   \n",
       "3  0.076080  0.066872  ...  0.063550  0.063116  0.061223  0.058880  0.057382   \n",
       "4  0.029115  0.029075  ...  0.027709  0.027645  0.027118  0.026612  0.025969   \n",
       "\n",
       "         15        16        17        18        19  \n",
       "0  0.027160  0.025285  0.024519  0.024484  0.023947  \n",
       "1  0.057243  0.055875  0.055593  0.053641  0.052832  \n",
       "2  0.029818  0.029745  0.029692  0.029385  0.029359  \n",
       "3  0.057093  0.056032  0.054265  0.054000  0.052819  \n",
       "4  0.025766  0.025761  0.025566  0.025356  0.023943  \n",
       "\n",
       "[5 rows x 21 columns]"
      ]
     },
     "execution_count": 9,
     "metadata": {},
     "output_type": "execute_result"
    }
   ],
   "source": [
    "bspm_proba_df = pd.concat([bspm_user, bspm_proba], axis=1)\n",
    "bspm_proba_df.head()"
   ]
  },
  {
   "cell_type": "code",
   "execution_count": 10,
   "id": "f999c80b-1439-4109-ad75-edfb6909d800",
   "metadata": {
    "tags": []
   },
   "outputs": [
    {
     "data": {
      "text/html": [
       "<div>\n",
       "<style scoped>\n",
       "    .dataframe tbody tr th:only-of-type {\n",
       "        vertical-align: middle;\n",
       "    }\n",
       "\n",
       "    .dataframe tbody tr th {\n",
       "        vertical-align: top;\n",
       "    }\n",
       "\n",
       "    .dataframe thead th {\n",
       "        text-align: right;\n",
       "    }\n",
       "</style>\n",
       "<table border=\"1\" class=\"dataframe\">\n",
       "  <thead>\n",
       "    <tr style=\"text-align: right;\">\n",
       "      <th></th>\n",
       "      <th>0</th>\n",
       "      <th>0</th>\n",
       "      <th>1</th>\n",
       "      <th>2</th>\n",
       "      <th>3</th>\n",
       "      <th>4</th>\n",
       "      <th>5</th>\n",
       "      <th>6</th>\n",
       "      <th>7</th>\n",
       "      <th>8</th>\n",
       "      <th>...</th>\n",
       "      <th>10</th>\n",
       "      <th>11</th>\n",
       "      <th>12</th>\n",
       "      <th>13</th>\n",
       "      <th>14</th>\n",
       "      <th>15</th>\n",
       "      <th>16</th>\n",
       "      <th>17</th>\n",
       "      <th>18</th>\n",
       "      <th>19</th>\n",
       "    </tr>\n",
       "  </thead>\n",
       "  <tbody>\n",
       "    <tr>\n",
       "      <th>0</th>\n",
       "      <td>0</td>\n",
       "      <td>357</td>\n",
       "      <td>2832</td>\n",
       "      <td>1407</td>\n",
       "      <td>156</td>\n",
       "      <td>1403</td>\n",
       "      <td>5164</td>\n",
       "      <td>2576</td>\n",
       "      <td>4704</td>\n",
       "      <td>3349</td>\n",
       "      <td>...</td>\n",
       "      <td>161</td>\n",
       "      <td>1965</td>\n",
       "      <td>3641</td>\n",
       "      <td>4670</td>\n",
       "      <td>6226</td>\n",
       "      <td>5279</td>\n",
       "      <td>1653</td>\n",
       "      <td>2502</td>\n",
       "      <td>6228</td>\n",
       "      <td>3374</td>\n",
       "    </tr>\n",
       "    <tr>\n",
       "      <th>1</th>\n",
       "      <td>1</td>\n",
       "      <td>3275</td>\n",
       "      <td>1709</td>\n",
       "      <td>2396</td>\n",
       "      <td>419</td>\n",
       "      <td>643</td>\n",
       "      <td>2688</td>\n",
       "      <td>3739</td>\n",
       "      <td>3230</td>\n",
       "      <td>2138</td>\n",
       "      <td>...</td>\n",
       "      <td>961</td>\n",
       "      <td>1747</td>\n",
       "      <td>1725</td>\n",
       "      <td>1660</td>\n",
       "      <td>3097</td>\n",
       "      <td>5060</td>\n",
       "      <td>3015</td>\n",
       "      <td>1068</td>\n",
       "      <td>1508</td>\n",
       "      <td>3779</td>\n",
       "    </tr>\n",
       "    <tr>\n",
       "      <th>2</th>\n",
       "      <td>2</td>\n",
       "      <td>1454</td>\n",
       "      <td>1790</td>\n",
       "      <td>5791</td>\n",
       "      <td>5260</td>\n",
       "      <td>4726</td>\n",
       "      <td>2147</td>\n",
       "      <td>5246</td>\n",
       "      <td>716</td>\n",
       "      <td>3543</td>\n",
       "      <td>...</td>\n",
       "      <td>5377</td>\n",
       "      <td>1447</td>\n",
       "      <td>5239</td>\n",
       "      <td>6398</td>\n",
       "      <td>5093</td>\n",
       "      <td>2512</td>\n",
       "      <td>4244</td>\n",
       "      <td>2834</td>\n",
       "      <td>1000</td>\n",
       "      <td>4855</td>\n",
       "    </tr>\n",
       "    <tr>\n",
       "      <th>3</th>\n",
       "      <td>3</td>\n",
       "      <td>2219</td>\n",
       "      <td>2739</td>\n",
       "      <td>3575</td>\n",
       "      <td>4258</td>\n",
       "      <td>3364</td>\n",
       "      <td>6276</td>\n",
       "      <td>1188</td>\n",
       "      <td>434</td>\n",
       "      <td>6163</td>\n",
       "      <td>...</td>\n",
       "      <td>5308</td>\n",
       "      <td>870</td>\n",
       "      <td>1094</td>\n",
       "      <td>3691</td>\n",
       "      <td>4434</td>\n",
       "      <td>800</td>\n",
       "      <td>5210</td>\n",
       "      <td>5137</td>\n",
       "      <td>2072</td>\n",
       "      <td>2475</td>\n",
       "    </tr>\n",
       "    <tr>\n",
       "      <th>4</th>\n",
       "      <td>4</td>\n",
       "      <td>1029</td>\n",
       "      <td>5085</td>\n",
       "      <td>3691</td>\n",
       "      <td>5229</td>\n",
       "      <td>3637</td>\n",
       "      <td>4782</td>\n",
       "      <td>5787</td>\n",
       "      <td>5329</td>\n",
       "      <td>1188</td>\n",
       "      <td>...</td>\n",
       "      <td>2739</td>\n",
       "      <td>3852</td>\n",
       "      <td>783</td>\n",
       "      <td>4652</td>\n",
       "      <td>870</td>\n",
       "      <td>825</td>\n",
       "      <td>1094</td>\n",
       "      <td>2264</td>\n",
       "      <td>594</td>\n",
       "      <td>2893</td>\n",
       "    </tr>\n",
       "  </tbody>\n",
       "</table>\n",
       "<p>5 rows × 21 columns</p>\n",
       "</div>"
      ],
      "text/plain": [
       "   0     0     1     2     3     4     5     6     7     8   ...    10    11  \\\n",
       "0   0   357  2832  1407   156  1403  5164  2576  4704  3349  ...   161  1965   \n",
       "1   1  3275  1709  2396   419   643  2688  3739  3230  2138  ...   961  1747   \n",
       "2   2  1454  1790  5791  5260  4726  2147  5246   716  3543  ...  5377  1447   \n",
       "3   3  2219  2739  3575  4258  3364  6276  1188   434  6163  ...  5308   870   \n",
       "4   4  1029  5085  3691  5229  3637  4782  5787  5329  1188  ...  2739  3852   \n",
       "\n",
       "     12    13    14    15    16    17    18    19  \n",
       "0  3641  4670  6226  5279  1653  2502  6228  3374  \n",
       "1  1725  1660  3097  5060  3015  1068  1508  3779  \n",
       "2  5239  6398  5093  2512  4244  2834  1000  4855  \n",
       "3  1094  3691  4434   800  5210  5137  2072  2475  \n",
       "4   783  4652   870   825  1094  2264   594  2893  \n",
       "\n",
       "[5 rows x 21 columns]"
      ]
     },
     "execution_count": 10,
     "metadata": {},
     "output_type": "execute_result"
    }
   ],
   "source": [
    "bspm_idx_df = pd.concat([bspm_user, bspm_rating_idx], axis=1)\n",
    "bspm_idx_df.head()"
   ]
  },
  {
   "cell_type": "markdown",
   "id": "16bad585-c77a-4521-9278-40deab2dd61e",
   "metadata": {},
   "source": [
    "## LT-OCF, CF, BSPM 중복 비교"
   ]
  },
  {
   "cell_type": "code",
   "execution_count": 11,
   "id": "c08da8e5-1a3c-426c-a0b0-808ddf269260",
   "metadata": {
    "tags": []
   },
   "outputs": [],
   "source": [
    "# 각 행별로 컬럼의 원소를 set에 저장\n",
    "lt_row_sets = [set(row) for _, row in lt_rating_idx.iloc[:, 1:].iterrows()]\n",
    "cf_row_sets = [set(row) for _, row in cf_rating_idx.iloc[:, 1:].iterrows()]\n",
    "bspm_row_sets = [set(row) for _, row in bspm_rating_idx.iloc[:, 1:].iterrows()]"
   ]
  },
  {
   "cell_type": "markdown",
   "id": "5b9760ef-1779-445b-b6d3-0be31dd890c8",
   "metadata": {
    "tags": []
   },
   "source": [
    "### LT-OCF / CF"
   ]
  },
  {
   "cell_type": "code",
   "execution_count": 12,
   "id": "3b6cbc69-b77f-4dfc-8d76-39ae471b3170",
   "metadata": {
    "tags": []
   },
   "outputs": [
    {
     "data": {
      "text/html": [
       "<div>\n",
       "<style scoped>\n",
       "    .dataframe tbody tr th:only-of-type {\n",
       "        vertical-align: middle;\n",
       "    }\n",
       "\n",
       "    .dataframe tbody tr th {\n",
       "        vertical-align: top;\n",
       "    }\n",
       "\n",
       "    .dataframe thead th {\n",
       "        text-align: right;\n",
       "    }\n",
       "</style>\n",
       "<table border=\"1\" class=\"dataframe\">\n",
       "  <thead>\n",
       "    <tr style=\"text-align: right;\">\n",
       "      <th></th>\n",
       "      <th>count</th>\n",
       "      <th>unique</th>\n",
       "      <th>top</th>\n",
       "      <th>freq</th>\n",
       "      <th>mean</th>\n",
       "      <th>std</th>\n",
       "      <th>min</th>\n",
       "      <th>25%</th>\n",
       "      <th>50%</th>\n",
       "      <th>75%</th>\n",
       "      <th>max</th>\n",
       "    </tr>\n",
       "  </thead>\n",
       "  <tbody>\n",
       "    <tr>\n",
       "      <th>count</th>\n",
       "      <td>8482.0</td>\n",
       "      <td>NaN</td>\n",
       "      <td>NaN</td>\n",
       "      <td>NaN</td>\n",
       "      <td>10.537963</td>\n",
       "      <td>2.531031</td>\n",
       "      <td>1.0</td>\n",
       "      <td>9.0</td>\n",
       "      <td>11.0</td>\n",
       "      <td>12.0</td>\n",
       "      <td>18.0</td>\n",
       "    </tr>\n",
       "    <tr>\n",
       "      <th>intersection</th>\n",
       "      <td>8482</td>\n",
       "      <td>8465</td>\n",
       "      <td>{929, 2595, 323, 4101, 646, 88, 10, 3187, 54, ...</td>\n",
       "      <td>2</td>\n",
       "      <td>NaN</td>\n",
       "      <td>NaN</td>\n",
       "      <td>NaN</td>\n",
       "      <td>NaN</td>\n",
       "      <td>NaN</td>\n",
       "      <td>NaN</td>\n",
       "      <td>NaN</td>\n",
       "    </tr>\n",
       "  </tbody>\n",
       "</table>\n",
       "</div>"
      ],
      "text/plain": [
       "               count unique  \\\n",
       "count         8482.0    NaN   \n",
       "intersection    8482   8465   \n",
       "\n",
       "                                                            top freq  \\\n",
       "count                                                       NaN  NaN   \n",
       "intersection  {929, 2595, 323, 4101, 646, 88, 10, 3187, 54, ...    2   \n",
       "\n",
       "                   mean       std  min  25%   50%   75%   max  \n",
       "count         10.537963  2.531031  1.0  9.0  11.0  12.0  18.0  \n",
       "intersection        NaN       NaN  NaN  NaN   NaN   NaN   NaN  "
      ]
     },
     "execution_count": 12,
     "metadata": {},
     "output_type": "execute_result"
    }
   ],
   "source": [
    "data = []\n",
    "for i in range(len(lt_row_sets)):\n",
    "    inter = lt_row_sets[i].intersection(cf_row_sets[i])\n",
    "    # print(\"inter:\", f\"count:{len(inter)}\", inter)\n",
    "    row = {}\n",
    "    row['count'] = len(inter)\n",
    "    row['intersection'] = inter\n",
    "    data.append(row)\n",
    "intersections = pd.DataFrame(data)\n",
    "intersections.describe(include='all').T"
   ]
  },
  {
   "cell_type": "markdown",
   "id": "91b56cf0-1cc4-46e5-9bd2-976dbad00ff8",
   "metadata": {
    "tags": []
   },
   "source": [
    "### LT-OCF / BSPM"
   ]
  },
  {
   "cell_type": "code",
   "execution_count": 13,
   "id": "5039e987-09ea-4ae4-b9f9-2fa16f4d67f2",
   "metadata": {
    "tags": []
   },
   "outputs": [
    {
     "data": {
      "text/html": [
       "<div>\n",
       "<style scoped>\n",
       "    .dataframe tbody tr th:only-of-type {\n",
       "        vertical-align: middle;\n",
       "    }\n",
       "\n",
       "    .dataframe tbody tr th {\n",
       "        vertical-align: top;\n",
       "    }\n",
       "\n",
       "    .dataframe thead th {\n",
       "        text-align: right;\n",
       "    }\n",
       "</style>\n",
       "<table border=\"1\" class=\"dataframe\">\n",
       "  <thead>\n",
       "    <tr style=\"text-align: right;\">\n",
       "      <th></th>\n",
       "      <th>count</th>\n",
       "      <th>unique</th>\n",
       "      <th>top</th>\n",
       "      <th>freq</th>\n",
       "      <th>mean</th>\n",
       "      <th>std</th>\n",
       "      <th>min</th>\n",
       "      <th>25%</th>\n",
       "      <th>50%</th>\n",
       "      <th>75%</th>\n",
       "      <th>max</th>\n",
       "    </tr>\n",
       "  </thead>\n",
       "  <tbody>\n",
       "    <tr>\n",
       "      <th>count</th>\n",
       "      <td>8482.0</td>\n",
       "      <td>NaN</td>\n",
       "      <td>NaN</td>\n",
       "      <td>NaN</td>\n",
       "      <td>9.885169</td>\n",
       "      <td>2.524217</td>\n",
       "      <td>0.0</td>\n",
       "      <td>8.0</td>\n",
       "      <td>10.0</td>\n",
       "      <td>12.0</td>\n",
       "      <td>18.0</td>\n",
       "    </tr>\n",
       "    <tr>\n",
       "      <th>intersection</th>\n",
       "      <td>8482</td>\n",
       "      <td>8465</td>\n",
       "      <td>{3269, 4473, 3179, 5932, 1771, 2606, 3566, 691...</td>\n",
       "      <td>2</td>\n",
       "      <td>NaN</td>\n",
       "      <td>NaN</td>\n",
       "      <td>NaN</td>\n",
       "      <td>NaN</td>\n",
       "      <td>NaN</td>\n",
       "      <td>NaN</td>\n",
       "      <td>NaN</td>\n",
       "    </tr>\n",
       "  </tbody>\n",
       "</table>\n",
       "</div>"
      ],
      "text/plain": [
       "               count unique  \\\n",
       "count         8482.0    NaN   \n",
       "intersection    8482   8465   \n",
       "\n",
       "                                                            top freq  \\\n",
       "count                                                       NaN  NaN   \n",
       "intersection  {3269, 4473, 3179, 5932, 1771, 2606, 3566, 691...    2   \n",
       "\n",
       "                  mean       std  min  25%   50%   75%   max  \n",
       "count         9.885169  2.524217  0.0  8.0  10.0  12.0  18.0  \n",
       "intersection       NaN       NaN  NaN  NaN   NaN   NaN   NaN  "
      ]
     },
     "execution_count": 13,
     "metadata": {},
     "output_type": "execute_result"
    }
   ],
   "source": [
    "data = []\n",
    "for i in range(len(lt_row_sets)):\n",
    "    inter = lt_row_sets[i].intersection(bspm_row_sets[i])\n",
    "    # print(\"inter:\", f\"count:{len(inter)}\", inter)\n",
    "    row = {}\n",
    "    row['count'] = len(inter)\n",
    "    row['intersection'] = inter\n",
    "    data.append(row)\n",
    "intersections = pd.DataFrame(data)\n",
    "intersections.describe(include='all').T"
   ]
  },
  {
   "cell_type": "markdown",
   "id": "c4dfe8f8-29fa-47e7-b10d-5fdc7bbac532",
   "metadata": {
    "tags": []
   },
   "source": [
    "### CF / BSPM"
   ]
  },
  {
   "cell_type": "code",
   "execution_count": 14,
   "id": "20ade706-b7d4-424a-9b43-ec1367aa786b",
   "metadata": {
    "tags": []
   },
   "outputs": [
    {
     "data": {
      "text/html": [
       "<div>\n",
       "<style scoped>\n",
       "    .dataframe tbody tr th:only-of-type {\n",
       "        vertical-align: middle;\n",
       "    }\n",
       "\n",
       "    .dataframe tbody tr th {\n",
       "        vertical-align: top;\n",
       "    }\n",
       "\n",
       "    .dataframe thead th {\n",
       "        text-align: right;\n",
       "    }\n",
       "</style>\n",
       "<table border=\"1\" class=\"dataframe\">\n",
       "  <thead>\n",
       "    <tr style=\"text-align: right;\">\n",
       "      <th></th>\n",
       "      <th>count</th>\n",
       "      <th>unique</th>\n",
       "      <th>top</th>\n",
       "      <th>freq</th>\n",
       "      <th>mean</th>\n",
       "      <th>std</th>\n",
       "      <th>min</th>\n",
       "      <th>25%</th>\n",
       "      <th>50%</th>\n",
       "      <th>75%</th>\n",
       "      <th>max</th>\n",
       "    </tr>\n",
       "  </thead>\n",
       "  <tbody>\n",
       "    <tr>\n",
       "      <th>count</th>\n",
       "      <td>8482.0</td>\n",
       "      <td>NaN</td>\n",
       "      <td>NaN</td>\n",
       "      <td>NaN</td>\n",
       "      <td>12.272459</td>\n",
       "      <td>2.503702</td>\n",
       "      <td>1.0</td>\n",
       "      <td>11.0</td>\n",
       "      <td>12.0</td>\n",
       "      <td>14.0</td>\n",
       "      <td>19.0</td>\n",
       "    </tr>\n",
       "    <tr>\n",
       "      <th>intersection</th>\n",
       "      <td>8482</td>\n",
       "      <td>8461</td>\n",
       "      <td>{5152, 1600, 5768, 5211, 2507, 4748, 3884, 571...</td>\n",
       "      <td>2</td>\n",
       "      <td>NaN</td>\n",
       "      <td>NaN</td>\n",
       "      <td>NaN</td>\n",
       "      <td>NaN</td>\n",
       "      <td>NaN</td>\n",
       "      <td>NaN</td>\n",
       "      <td>NaN</td>\n",
       "    </tr>\n",
       "  </tbody>\n",
       "</table>\n",
       "</div>"
      ],
      "text/plain": [
       "               count unique  \\\n",
       "count         8482.0    NaN   \n",
       "intersection    8482   8461   \n",
       "\n",
       "                                                            top freq  \\\n",
       "count                                                       NaN  NaN   \n",
       "intersection  {5152, 1600, 5768, 5211, 2507, 4748, 3884, 571...    2   \n",
       "\n",
       "                   mean       std  min   25%   50%   75%   max  \n",
       "count         12.272459  2.503702  1.0  11.0  12.0  14.0  19.0  \n",
       "intersection        NaN       NaN  NaN   NaN   NaN   NaN   NaN  "
      ]
     },
     "execution_count": 14,
     "metadata": {},
     "output_type": "execute_result"
    }
   ],
   "source": [
    "data = []\n",
    "for i in range(len(cf_row_sets)):\n",
    "    inter = cf_row_sets[i].intersection(bspm_row_sets[i])\n",
    "    # print(\"inter:\", f\"count:{len(inter)}\", inter)\n",
    "    row = {}\n",
    "    row['count'] = len(inter)\n",
    "    row['intersection'] = inter\n",
    "    data.append(row)\n",
    "intersections = pd.DataFrame(data)\n",
    "intersections.describe(include='all').T"
   ]
  },
  {
   "cell_type": "markdown",
   "id": "4c0c69cc-5eb3-430d-855f-d27dc0d83aac",
   "metadata": {},
   "source": [
    "## Score DF 생성"
   ]
  },
  {
   "cell_type": "markdown",
   "id": "8d4044dc-63ea-4c80-bdaa-a620bb34869f",
   "metadata": {},
   "source": [
    "### LT-OCF"
   ]
  },
  {
   "cell_type": "code",
   "execution_count": 15,
   "id": "42d479ce-389e-4fb8-83bd-63de4d4020e5",
   "metadata": {
    "tags": []
   },
   "outputs": [
    {
     "data": {
      "text/html": [
       "<div>\n",
       "<style scoped>\n",
       "    .dataframe tbody tr th:only-of-type {\n",
       "        vertical-align: middle;\n",
       "    }\n",
       "\n",
       "    .dataframe tbody tr th {\n",
       "        vertical-align: top;\n",
       "    }\n",
       "\n",
       "    .dataframe thead th {\n",
       "        text-align: right;\n",
       "    }\n",
       "</style>\n",
       "<table border=\"1\" class=\"dataframe\">\n",
       "  <thead>\n",
       "    <tr style=\"text-align: right;\">\n",
       "      <th></th>\n",
       "      <th>resume_idx</th>\n",
       "      <th>recruitment_idx</th>\n",
       "      <th>lt_score</th>\n",
       "    </tr>\n",
       "  </thead>\n",
       "  <tbody>\n",
       "    <tr>\n",
       "      <th>0</th>\n",
       "      <td>0</td>\n",
       "      <td>357</td>\n",
       "      <td>0.999983</td>\n",
       "    </tr>\n",
       "    <tr>\n",
       "      <th>1</th>\n",
       "      <td>0</td>\n",
       "      <td>156</td>\n",
       "      <td>0.999955</td>\n",
       "    </tr>\n",
       "    <tr>\n",
       "      <th>2</th>\n",
       "      <td>0</td>\n",
       "      <td>1965</td>\n",
       "      <td>0.999934</td>\n",
       "    </tr>\n",
       "    <tr>\n",
       "      <th>3</th>\n",
       "      <td>0</td>\n",
       "      <td>1030</td>\n",
       "      <td>0.999892</td>\n",
       "    </tr>\n",
       "    <tr>\n",
       "      <th>4</th>\n",
       "      <td>0</td>\n",
       "      <td>2832</td>\n",
       "      <td>0.999884</td>\n",
       "    </tr>\n",
       "  </tbody>\n",
       "</table>\n",
       "</div>"
      ],
      "text/plain": [
       "   resume_idx  recruitment_idx  lt_score\n",
       "0           0              357  0.999983\n",
       "1           0              156  0.999955\n",
       "2           0             1965  0.999934\n",
       "3           0             1030  0.999892\n",
       "4           0             2832  0.999884"
      ]
     },
     "execution_count": 15,
     "metadata": {},
     "output_type": "execute_result"
    }
   ],
   "source": [
    "num_rows, num_cols = lt_proba_df.shape\n",
    "data = []\n",
    "for r in range(num_rows):\n",
    "    row = {}\n",
    "    for c in range(num_cols):\n",
    "        if c==0:\n",
    "            row['resume_idx'] = lt_proba_df.iloc[r,c]\n",
    "        else:\n",
    "            row['recruitment_idx'] = lt_idx_df.iloc[r,c]        \n",
    "            row['lt_score'] = lt_proba_df.iloc[r,c]\n",
    "            data.append(row.copy())\n",
    "lt_score = pd.DataFrame(data)\n",
    "lt_score.head()"
   ]
  },
  {
   "cell_type": "code",
   "execution_count": 16,
   "id": "0c654595-7ea7-4c48-bc48-746b223985d8",
   "metadata": {
    "tags": []
   },
   "outputs": [
    {
     "name": "stdout",
     "output_type": "stream",
     "text": [
      "<class 'pandas.core.frame.DataFrame'>\n",
      "RangeIndex: 169640 entries, 0 to 169639\n",
      "Data columns (total 3 columns):\n",
      " #   Column           Non-Null Count   Dtype  \n",
      "---  ------           --------------   -----  \n",
      " 0   resume_idx       169640 non-null  int64  \n",
      " 1   recruitment_idx  169640 non-null  int64  \n",
      " 2   lt_score         169640 non-null  float64\n",
      "dtypes: float64(1), int64(2)\n",
      "memory usage: 3.9 MB\n"
     ]
    }
   ],
   "source": [
    "lt_score.info()"
   ]
  },
  {
   "cell_type": "markdown",
   "id": "f8fec1e1-cc2d-44ad-a9d0-877e584fbbfd",
   "metadata": {},
   "source": [
    "### BSPM"
   ]
  },
  {
   "cell_type": "code",
   "execution_count": 17,
   "id": "8070e800-4279-4c80-bc49-5214a19779ba",
   "metadata": {
    "tags": []
   },
   "outputs": [
    {
     "data": {
      "text/html": [
       "<div>\n",
       "<style scoped>\n",
       "    .dataframe tbody tr th:only-of-type {\n",
       "        vertical-align: middle;\n",
       "    }\n",
       "\n",
       "    .dataframe tbody tr th {\n",
       "        vertical-align: top;\n",
       "    }\n",
       "\n",
       "    .dataframe thead th {\n",
       "        text-align: right;\n",
       "    }\n",
       "</style>\n",
       "<table border=\"1\" class=\"dataframe\">\n",
       "  <thead>\n",
       "    <tr style=\"text-align: right;\">\n",
       "      <th></th>\n",
       "      <th>resume_idx</th>\n",
       "      <th>recruitment_idx</th>\n",
       "      <th>bspm_score</th>\n",
       "    </tr>\n",
       "  </thead>\n",
       "  <tbody>\n",
       "    <tr>\n",
       "      <th>0</th>\n",
       "      <td>0</td>\n",
       "      <td>357</td>\n",
       "      <td>0.064493</td>\n",
       "    </tr>\n",
       "    <tr>\n",
       "      <th>1</th>\n",
       "      <td>0</td>\n",
       "      <td>2832</td>\n",
       "      <td>0.051239</td>\n",
       "    </tr>\n",
       "    <tr>\n",
       "      <th>2</th>\n",
       "      <td>0</td>\n",
       "      <td>1407</td>\n",
       "      <td>0.050869</td>\n",
       "    </tr>\n",
       "    <tr>\n",
       "      <th>3</th>\n",
       "      <td>0</td>\n",
       "      <td>156</td>\n",
       "      <td>0.046182</td>\n",
       "    </tr>\n",
       "    <tr>\n",
       "      <th>4</th>\n",
       "      <td>0</td>\n",
       "      <td>1403</td>\n",
       "      <td>0.040701</td>\n",
       "    </tr>\n",
       "  </tbody>\n",
       "</table>\n",
       "</div>"
      ],
      "text/plain": [
       "   resume_idx  recruitment_idx  bspm_score\n",
       "0           0              357    0.064493\n",
       "1           0             2832    0.051239\n",
       "2           0             1407    0.050869\n",
       "3           0              156    0.046182\n",
       "4           0             1403    0.040701"
      ]
     },
     "execution_count": 17,
     "metadata": {},
     "output_type": "execute_result"
    }
   ],
   "source": [
    "num_rows, num_cols = bspm_proba_df.shape\n",
    "data = []\n",
    "for r in range(num_rows):\n",
    "    row = {}\n",
    "    for c in range(num_cols):\n",
    "        if c==0:\n",
    "            row['resume_idx'] = bspm_proba_df.iloc[r,c]\n",
    "        else:\n",
    "            row['recruitment_idx'] = bspm_idx_df.iloc[r,c]        \n",
    "            row['bspm_score'] = bspm_proba_df.iloc[r,c]\n",
    "            data.append(row.copy())\n",
    "bspm_score = pd.DataFrame(data)\n",
    "bspm_score.head()"
   ]
  },
  {
   "cell_type": "code",
   "execution_count": 18,
   "id": "6ec05c9f-a821-4a70-adc2-7645b2425651",
   "metadata": {
    "tags": []
   },
   "outputs": [
    {
     "name": "stdout",
     "output_type": "stream",
     "text": [
      "<class 'pandas.core.frame.DataFrame'>\n",
      "RangeIndex: 169640 entries, 0 to 169639\n",
      "Data columns (total 3 columns):\n",
      " #   Column           Non-Null Count   Dtype  \n",
      "---  ------           --------------   -----  \n",
      " 0   resume_idx       169640 non-null  int64  \n",
      " 1   recruitment_idx  169640 non-null  int64  \n",
      " 2   bspm_score       169640 non-null  float64\n",
      "dtypes: float64(1), int64(2)\n",
      "memory usage: 3.9 MB\n"
     ]
    }
   ],
   "source": [
    "bspm_score.info()"
   ]
  },
  {
   "cell_type": "markdown",
   "id": "aadc3f6f-2042-4a68-943f-ee2b92c53c5f",
   "metadata": {},
   "source": [
    "### CF"
   ]
  },
  {
   "cell_type": "code",
   "execution_count": null,
   "id": "fdcba3a1-f58e-49eb-b8ce-0a82bd4f1b7d",
   "metadata": {
    "tags": []
   },
   "outputs": [],
   "source": [
    "num_rows, num_cols = cf_proba.shape\n",
    "data = []\n",
    "for r in range(num_rows):\n",
    "    row = {}\n",
    "    for c in range(num_cols):\n",
    "        if c==0:\n",
    "            row['resume_idx'] = cf_proba.iloc[r,c]\n",
    "        else:\n",
    "            row['recruitment_idx'] = cf_rating_idx.iloc[r,c]        \n",
    "            row['cf_score'] = cf_proba.iloc[r,c]\n",
    "            data.append(row.copy())\n",
    "cf_score = pd.DataFrame(data)\n",
    "cf_score.head()"
   ]
  },
  {
   "cell_type": "code",
   "execution_count": null,
   "id": "a6dac1df-a2df-45e9-b52a-f574bd93542e",
   "metadata": {
    "tags": []
   },
   "outputs": [],
   "source": [
    "cf_score.info()"
   ]
  },
  {
   "cell_type": "markdown",
   "id": "548e3c99-6467-4c8f-8f75-62e0bb23a9bf",
   "metadata": {},
   "source": [
    "## 점수 스케일링(MinMax)"
   ]
  },
  {
   "cell_type": "markdown",
   "id": "dccc5e15-71b1-499e-8705-a7557685be23",
   "metadata": {},
   "source": [
    "### LT-OCF"
   ]
  },
  {
   "cell_type": "code",
   "execution_count": null,
   "id": "06036f03-e4fb-44b0-8ccb-975bdc260e60",
   "metadata": {
    "tags": []
   },
   "outputs": [],
   "source": [
    "mms = MinMaxScaler()"
   ]
  },
  {
   "cell_type": "code",
   "execution_count": null,
   "id": "4257eb0e-f739-40cd-a308-f832fe6196ff",
   "metadata": {
    "tags": []
   },
   "outputs": [],
   "source": [
    "lt_score['scaled_lt_score'] = lt_score.groupby('resume_idx')['lt_score'].transform(\n",
    "    lambda x: (mms.fit_transform(x.values.reshape(-1,1))).reshape(-1))"
   ]
  },
  {
   "cell_type": "code",
   "execution_count": null,
   "id": "5b5ea86d-a366-43c0-b5f4-432bcf80bed1",
   "metadata": {
    "tags": []
   },
   "outputs": [],
   "source": [
    "lt_score.head(20)"
   ]
  },
  {
   "cell_type": "markdown",
   "id": "30274cce-18d6-4d46-b9ee-d233e27d7272",
   "metadata": {},
   "source": [
    "### BSPM"
   ]
  },
  {
   "cell_type": "code",
   "execution_count": null,
   "id": "4609f9ab-b2a0-417c-ad21-4b31507ebb01",
   "metadata": {
    "tags": []
   },
   "outputs": [],
   "source": [
    "bspm_score['scaled_bspm_score'] = bspm_score.groupby('resume_idx')['bspm_score'].transform(\n",
    "    lambda x: (mms.fit_transform(x.values.reshape(-1,1))).reshape(-1))"
   ]
  },
  {
   "cell_type": "code",
   "execution_count": null,
   "id": "b5203ae7-f4bb-4c3e-9900-a5f3d6c84e86",
   "metadata": {
    "tags": []
   },
   "outputs": [],
   "source": [
    "bspm_score.head(20)"
   ]
  },
  {
   "cell_type": "markdown",
   "id": "1650b81e-7b52-408d-8818-25b50a1f44b4",
   "metadata": {},
   "source": [
    "### CF"
   ]
  },
  {
   "cell_type": "code",
   "execution_count": null,
   "id": "b306071f-4057-44c2-9bf4-8c8b7c306757",
   "metadata": {
    "tags": []
   },
   "outputs": [],
   "source": [
    "cf_score['scaled_cf_score'] = cf_score.groupby('resume_idx')['cf_score'].transform(\n",
    "    lambda x: (mms.fit_transform(x.values.reshape(-1,1))).reshape(-1))"
   ]
  },
  {
   "cell_type": "code",
   "execution_count": null,
   "id": "46babdbf-3364-495c-8de5-d4be03a3bc1a",
   "metadata": {
    "tags": []
   },
   "outputs": [],
   "source": [
    "cf_score.head(20)"
   ]
  },
  {
   "cell_type": "markdown",
   "id": "a2bc063c-a145-456a-8ac5-a18467ad271c",
   "metadata": {
    "tags": []
   },
   "source": [
    "## merged_score"
   ]
  },
  {
   "cell_type": "code",
   "execution_count": null,
   "id": "0eb7897d-0291-4fef-a105-cc0b89cadc44",
   "metadata": {
    "tags": []
   },
   "outputs": [],
   "source": [
    "merged_score = pd.merge(lt_score, cf_score, on=[\"resume_idx\", \"recruitment_idx\"], how=\"outer\")\n",
    "merged_score = pd.merge(merged_score, bspm_score, on=[\"resume_idx\", \"recruitment_idx\"], how=\"outer\")\n",
    "merged_score = merged_score.fillna(0)\n",
    "merged_score = merged_score.sort_values('resume_idx').reset_index(drop=True)\n",
    "merged_score.head(40)"
   ]
  },
  {
   "cell_type": "code",
   "execution_count": null,
   "id": "d03c648f-22fe-45e6-b269-190c74764031",
   "metadata": {
    "tags": []
   },
   "outputs": [],
   "source": [
    "merged_score[merged_score['resume_idx']==0].shape"
   ]
  },
  {
   "cell_type": "markdown",
   "id": "9abd4520-6819-4d51-8363-47351f20e29e",
   "metadata": {},
   "source": [
    "## idx 디코딩"
   ]
  },
  {
   "cell_type": "markdown",
   "id": "31b2eefc-8df3-4fc0-af17-f8d065c0612d",
   "metadata": {},
   "source": [
    "### 디코딩 딕셔너리 로드"
   ]
  },
  {
   "cell_type": "code",
   "execution_count": null,
   "id": "d58bf92b-1fca-417b-aae9-7e3334b9336b",
   "metadata": {
    "tags": []
   },
   "outputs": [],
   "source": [
    "DATA_PATH = './data/'"
   ]
  },
  {
   "cell_type": "code",
   "execution_count": null,
   "id": "bc607985-6d47-41ec-a7f6-6e5d76f44bdb",
   "metadata": {
    "tags": []
   },
   "outputs": [],
   "source": [
    "resume_decode = pd.read_csv(f\"{DATA_PATH}idx_2_resume.txt\", delimiter=\" \", header=None)\n",
    "resume_decode.head()"
   ]
  },
  {
   "cell_type": "code",
   "execution_count": null,
   "id": "e3548fa2-e51c-47aa-ae68-fa316450386b",
   "metadata": {
    "tags": []
   },
   "outputs": [],
   "source": [
    "resume_decode = resume_decode.set_index(0).to_dict()[1]"
   ]
  },
  {
   "cell_type": "code",
   "execution_count": null,
   "id": "e136b23d-db53-483e-9346-b7726a2e51df",
   "metadata": {
    "tags": []
   },
   "outputs": [],
   "source": [
    "recruitment_decode = pd.read_csv(f\"{DATA_PATH}/idx_2_recruitment.txt\", delimiter=\" \", header=None)\n",
    "recruitment_decode.head()"
   ]
  },
  {
   "cell_type": "code",
   "execution_count": null,
   "id": "bb2bef51-a8bf-438b-9bee-48ba226591fd",
   "metadata": {
    "tags": []
   },
   "outputs": [],
   "source": [
    "recruitment_decode = recruitment_decode.set_index(0).to_dict()[1]"
   ]
  },
  {
   "cell_type": "markdown",
   "id": "0b85bc65-5ccc-495d-8503-d5c44525704e",
   "metadata": {
    "tags": []
   },
   "source": [
    "### 모델스코어 디코딩"
   ]
  },
  {
   "cell_type": "code",
   "execution_count": null,
   "id": "50f49efd-48eb-48e3-8aea-349c20cefeed",
   "metadata": {
    "tags": []
   },
   "outputs": [],
   "source": [
    "merged_score['resume_seq'] = merged_score['resume_idx'].apply(lambda x : resume_decode[x])\n",
    "merged_score.head()"
   ]
  },
  {
   "cell_type": "code",
   "execution_count": null,
   "id": "0a3d5744-d8d2-4777-813c-4a2980c391f0",
   "metadata": {
    "tags": []
   },
   "outputs": [],
   "source": [
    "merged_score['recruitment_seq'] = merged_score['recruitment_idx'].apply(lambda x : recruitment_decode[x])\n",
    "merged_score.head()"
   ]
  },
  {
   "cell_type": "markdown",
   "id": "cc2e006d-8438-488a-a7cf-7b38a1c109bc",
   "metadata": {
    "tags": []
   },
   "source": [
    "## 비율별 Ensemble 및 저장"
   ]
  },
  {
   "cell_type": "markdown",
   "id": "6445ee05-4665-43cb-bb44-c6b1151753d7",
   "metadata": {},
   "source": [
    "### 비율 탐색"
   ]
  },
  {
   "cell_type": "code",
   "execution_count": null,
   "id": "f01aabf0-dd37-4eea-8333-717e860f8d90",
   "metadata": {
    "collapsed": true,
    "jupyter": {
     "outputs_hidden": true
    },
    "tags": []
   },
   "outputs": [],
   "source": [
    "for i in range(0,100,10):\n",
    "    for j in range(0, 101-i, 10):\n",
    "        left = i / 100\n",
    "        mid = j / 100\n",
    "        right = (100 - i - j) / 100\n",
    "        print(f\"{left:.2f}, {mid:.2f}, {right:.2f}\")"
   ]
  },
  {
   "cell_type": "markdown",
   "id": "d4b5d1b4-10c8-4a68-8f1e-cc817854361a",
   "metadata": {},
   "source": [
    "### 최적의 비율(LTOCF:CF:BSPM=61:36:3)"
   ]
  },
  {
   "cell_type": "code",
   "execution_count": null,
   "id": "92159197-3f25-4710-a4d7-8aba93f39505",
   "metadata": {
    "tags": []
   },
   "outputs": [],
   "source": [
    "SAVE_PATH = './results/'"
   ]
  },
  {
   "cell_type": "code",
   "execution_count": null,
   "id": "ae4ea738-011c-48b1-8443-9fc79720be2a",
   "metadata": {
    "tags": []
   },
   "outputs": [],
   "source": [
    "left = 0.61\n",
    "mid = 0.36\n",
    "right = 0.03\n",
    "\n",
    "submission_dfs = []\n",
    "\n",
    "submission_score = merged_score.copy()\n",
    "submission_score['sum'] = submission_score['scaled_lt_score']*left +\\\n",
    "                        submission_score['scaled_cf_score']*mid +\\\n",
    "                        submission_score['scaled_bspm_score']*right\n",
    "submission_score = submission_score[['resume_seq', 'recruitment_seq', 'sum']]\n",
    "submission_score_5 = submission_score.groupby(['resume_seq']).apply(lambda group: group.nlargest(5, 'sum'))\n",
    "submission_score_5[['resume_seq', 'recruitment_seq']].to_csv(\n",
    "    f\"{SAVE_PATH}[Ensemble]L{left:.2f}_S{mid:.2f}_B{right:.2f}.csv\", index=False)\n",
    "submission_dfs.append(submission_score_5)"
   ]
  },
  {
   "cell_type": "code",
   "execution_count": null,
   "id": "efeea9ad-8ebb-4412-b41c-b8793675a910",
   "metadata": {},
   "outputs": [],
   "source": []
  }
 ],
 "metadata": {
  "kernelspec": {
   "display_name": "Python 3 (ipykernel)",
   "language": "python",
   "name": "python3"
  },
  "language_info": {
   "codemirror_mode": {
    "name": "ipython",
    "version": 3
   },
   "file_extension": ".py",
   "mimetype": "text/x-python",
   "name": "python",
   "nbconvert_exporter": "python",
   "pygments_lexer": "ipython3",
   "version": "3.7.16"
  }
 },
 "nbformat": 4,
 "nbformat_minor": 5
}
